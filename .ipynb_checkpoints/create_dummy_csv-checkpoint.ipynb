{
 "cells": [
  {
   "cell_type": "code",
   "execution_count": 1,
   "metadata": {},
   "outputs": [],
   "source": [
    "import random"
   ]
  },
  {
   "cell_type": "code",
   "execution_count": 5,
   "metadata": {},
   "outputs": [
    {
     "name": "stdout",
     "output_type": "stream",
     "text": [
      "[3, 13, 5, 14, 5, 9, 4, 3, 4, 10]\n"
     ]
    }
   ],
   "source": [
    "col_count = 10\n",
    "row_count = 20\n",
    "\n",
    "# discretized = [random.randint(0, 1) for _ in range(col_count)]\n",
    "discretized = [1 for _ in range(col_count)]\n",
    "\n",
    "with open(\"dummy_discretization_flags.csv\", \"w\") as file:\n",
    "    file.write('\\t'.join(str(flag) for flag in discretized) + '\\n')\n",
    "\n",
    "dofs = []\n",
    "for flag in discretized:\n",
    "    if flag:\n",
    "        dof = random.randint(2,20)\n",
    "    else:\n",
    "        dof = 0\n",
    "    dofs.append(dof)\n",
    "    \n",
    "print(dofs)\n",
    "        \n",
    "with open(\"dummy_X.csv\", \"w\") as file:\n",
    "    for _ in range(row_count):\n",
    "        row = []\n",
    "        for flag, dof in zip(discretized, dofs):\n",
    "            if flag:\n",
    "                row.append(random.randint(0, dof - 1))\n",
    "            else:\n",
    "                row.append(random.random())\n",
    "        file.write('\\t'.join(str(num) for num in row) + '\\n')\n",
    "        \n",
    "with open(\"dummy_y.csv\", \"w\") as file:\n",
    "    for _ in range(row_count):\n",
    "        file.write(str(random.randint(0,2)) + '\\n')"
   ]
  },
  {
   "cell_type": "markdown",
   "metadata": {},
   "source": [
    "---"
   ]
  },
  {
   "cell_type": "code",
   "execution_count": 4,
   "metadata": {},
   "outputs": [],
   "source": [
    "import random\n",
    "import numpy as np"
   ]
  },
  {
   "cell_type": "code",
   "execution_count": 5,
   "metadata": {},
   "outputs": [],
   "source": [
    "total_col_count = 1245\n",
    "total_row_count = 100\n",
    "\n",
    "fat_dof = 5\n",
    "lean_A_dof = 6\n",
    "lean_B_dof = 7\n",
    "lean_C_dof = 8\n",
    "\n",
    "fat_discretized = False\n",
    "lean_A_discretized = True\n",
    "lean_B_discretized = True\n",
    "lean_C_discretized = True\n",
    "\n",
    "reg_fat_count = 222\n",
    "reg_lean_A_count = 13\n",
    "reg_lean_B_count = 12\n",
    "reg_lean_C_count = 11\n",
    "\n",
    "heur_fat_count = 542\n",
    "heur_lean_A_count = 42\n",
    "heur_lean_B_count = 34\n",
    "heur_lean_C_count = 0\n",
    "\n",
    "contr_fat_count = 200\n",
    "contr_lean_A_count = 124\n",
    "contr_lean_B_count = 0\n",
    "contr_lean_C_count = 45\n",
    "\n",
    "assert reg_fat_count + heur_fat_count + contr_fat_count +\\\n",
    "reg_lean_A_count + heur_lean_A_count + contr_lean_A_count +\\\n",
    "reg_lean_B_count + heur_lean_B_count + contr_lean_B_count +\\\n",
    "reg_lean_C_count + heur_lean_C_count + contr_lean_C_count \\\n",
    "== total_col_count"
   ]
  },
  {
   "cell_type": "code",
   "execution_count": 6,
   "metadata": {},
   "outputs": [
    {
     "data": {
      "text/plain": [
       "[222, 235, 247, 258, 800, 842, 876, 876, 1076, 1200, 1200, 1245]"
      ]
     },
     "execution_count": 6,
     "metadata": {},
     "output_type": "execute_result"
    }
   ],
   "source": [
    "column_range_counts = \\\n",
    "[reg_fat_count,\n",
    " reg_lean_A_count,\n",
    " reg_lean_B_count,\n",
    " reg_lean_C_count,\n",
    " heur_fat_count,\n",
    " heur_lean_A_count,\n",
    " heur_lean_B_count,\n",
    " heur_lean_C_count,\n",
    " contr_fat_count,\n",
    " contr_lean_A_count,\n",
    " contr_lean_B_count,\n",
    " contr_lean_C_count\n",
    "]\n",
    "\n",
    "range_discretized = \\\n",
    "[fat_discretized,\n",
    " lean_A_discretized,\n",
    " lean_B_discretized,\n",
    " lean_C_discretized\n",
    "] * 3\n",
    "\n",
    "range_dofs = \\\n",
    "[fat_dof,\n",
    " lean_A_dof,\n",
    " lean_B_dof,\n",
    " lean_C_dof    \n",
    "] * 3\n",
    "\n",
    "range_bounds = np.cumsum(column_range_counts).tolist()\n",
    "range_bounds"
   ]
  },
  {
   "cell_type": "code",
   "execution_count": 7,
   "metadata": {},
   "outputs": [
    {
     "name": "stdout",
     "output_type": "stream",
     "text": [
      "0 222 5 False\n",
      "222 235 6 True\n",
      "235 247 7 True\n",
      "247 258 8 True\n",
      "258 800 5 False\n",
      "800 842 6 True\n",
      "842 876 7 True\n",
      "876 876 8 True\n",
      "876 1076 5 False\n",
      "1076 1200 6 True\n",
      "1200 1200 7 True\n",
      "1200 1245 8 True\n"
     ]
    }
   ],
   "source": [
    "for range_bound_1, range_bound_2, range_dof, range_dicretized_status\\\n",
    "in zip([0] + range_bounds[:-1], range_bounds, range_dofs, range_discretized):\n",
    "    print(range_bound_1, range_bound_2, range_dof, range_dicretized_status)"
   ]
  },
  {
   "cell_type": "code",
   "execution_count": 8,
   "metadata": {},
   "outputs": [],
   "source": [
    "fat_tile_width = 100\n",
    "\n",
    "tile_bounds = [0]\n",
    "tile_group_bounds = [0]\n",
    "tile_discretized = []\n",
    "tile_dofs = []\n",
    "in_fat_tile_group = True\n",
    "\n",
    "for range_bound_1, range_bound_2, range_dof, range_dicretized_status\\\n",
    "in zip([0] + range_bounds[:-1], range_bounds, range_dofs, range_discretized):\n",
    "    \n",
    "    if not range_dicretized_status:\n",
    "        if not in_fat_tile_group:\n",
    "            tile_group_bounds.append(len(tile_bounds) - 1)\n",
    "        in_fat_tile_group = True\n",
    "        number_of_tiles = (range_bound_2 - range_bound_1) // fat_tile_width\n",
    "        for _ in range(number_of_tiles):\n",
    "            tile_bounds.append(tile_bounds[-1] + fat_tile_width)\n",
    "            tile_discretized.append(False)\n",
    "            tile_dofs.append(range_dof)\n",
    "        tile_group_bounds.append(len(tile_bounds) - 1)\n",
    "        width_of_leftover_margin = (range_bound_2 - range_bound_1) % fat_tile_width\n",
    "        if width_of_leftover_margin:\n",
    "            tile_bounds.append(tile_bounds[-1] + width_of_leftover_margin)\n",
    "            tile_discretized.append(False)\n",
    "            tile_dofs.append(range_dof)\n",
    "    else:\n",
    "        in_fat_tile_group = False\n",
    "        tile_bounds.append(tile_bounds[-1] + (range_bound_2 - range_bound_1))\n",
    "        tile_discretized.append(True)\n",
    "        tile_dofs.append(range_dof)\n",
    "\n",
    "if not in_fat_tile_group:\n",
    "    tile_group_bounds.append(len(tile_bounds) - 1)"
   ]
  },
  {
   "cell_type": "code",
   "execution_count": 9,
   "metadata": {},
   "outputs": [
    {
     "data": {
      "text/plain": [
       "[0, 2, 6, 11, 15, 17, 20]"
      ]
     },
     "execution_count": 9,
     "metadata": {},
     "output_type": "execute_result"
    }
   ],
   "source": [
    "tile_group_bounds"
   ]
  },
  {
   "cell_type": "code",
   "execution_count": 12,
   "metadata": {},
   "outputs": [
    {
     "name": "stdout",
     "output_type": "stream",
     "text": [
      "*  0    0  100 False 5\n",
      "   1  100  200 False 5\n",
      "*  2  200  222 False 5\n",
      "   3  222  235 True 6\n",
      "   4  235  247 True 7\n",
      "   5  247  258 True 8\n",
      "*  6  258  358 False 5\n",
      "   7  358  458 False 5\n",
      "   8  458  558 False 5\n",
      "   9  558  658 False 5\n",
      "  10  658  758 False 5\n",
      "* 11  758  800 False 5\n",
      "  12  800  842 True 6\n",
      "  13  842  876 True 7\n",
      "  14  876  876 True 8\n",
      "* 15  876  976 False 5\n",
      "  16  976 1076 False 5\n",
      "* 17 1076 1200 True 6\n",
      "  18 1200 1200 True 7\n",
      "  19 1200 1245 True 8\n"
     ]
    }
   ],
   "source": [
    "X = np.zeros((total_row_count, total_col_count))\n",
    "\n",
    "for region_index, (tile_bound_1, tile_bound_2, tile_discretized_status, dof)\\\n",
    "in enumerate(zip(tile_bounds[:-1],tile_bounds[1:], tile_discretized, tile_dofs)):\n",
    "    if region_index in tile_group_bounds:\n",
    "        str_ = \"* \"\n",
    "    else:\n",
    "        str_ = \"  \"\n",
    "    str_ += f\"{region_index:>2} {tile_bound_1:>4} {tile_bound_2:>4} {tile_discretized_status} {dof}\"\n",
    "    print(str_)\n",
    "    for column_index in range(tile_bound_1, tile_bound_2):\n",
    "        if not tile_discretized_status:\n",
    "            for row_index in range(total_row_count):\n",
    "                X[row_index, column_index] = random.gauss(0, 1)\n",
    "        else:\n",
    "            for row_index in range(total_row_count):\n",
    "                X[row_index, column_index] = random.randint(0, dof - 1)"
   ]
  },
  {
   "cell_type": "code",
   "execution_count": 13,
   "metadata": {},
   "outputs": [
    {
     "data": {
      "text/plain": [
       "[0,\n",
       " 100,\n",
       " 200,\n",
       " 222,\n",
       " 235,\n",
       " 247,\n",
       " 258,\n",
       " 358,\n",
       " 458,\n",
       " 558,\n",
       " 658,\n",
       " 758,\n",
       " 800,\n",
       " 842,\n",
       " 876,\n",
       " 876,\n",
       " 976,\n",
       " 1076,\n",
       " 1200,\n",
       " 1200,\n",
       " 1245]"
      ]
     },
     "execution_count": 13,
     "metadata": {},
     "output_type": "execute_result"
    }
   ],
   "source": [
    "tile_bounds"
   ]
  },
  {
   "cell_type": "code",
   "execution_count": 14,
   "metadata": {},
   "outputs": [
    {
     "data": {
      "text/plain": [
       "[False,\n",
       " False,\n",
       " False,\n",
       " True,\n",
       " True,\n",
       " True,\n",
       " False,\n",
       " False,\n",
       " False,\n",
       " False,\n",
       " False,\n",
       " False,\n",
       " True,\n",
       " True,\n",
       " True,\n",
       " False,\n",
       " False,\n",
       " True,\n",
       " True,\n",
       " True]"
      ]
     },
     "execution_count": 14,
     "metadata": {},
     "output_type": "execute_result"
    }
   ],
   "source": [
    "tile_discretized"
   ]
  },
  {
   "cell_type": "code",
   "execution_count": 15,
   "metadata": {},
   "outputs": [
    {
     "data": {
      "text/plain": [
       "[0, 2, 6, 11, 15, 17, 20]"
      ]
     },
     "execution_count": 15,
     "metadata": {},
     "output_type": "execute_result"
    }
   ],
   "source": [
    "tile_group_bounds"
   ]
  },
  {
   "cell_type": "code",
   "execution_count": 16,
   "metadata": {},
   "outputs": [],
   "source": [
    "np.savetxt(\"dummy_X.csv\", X, delimiter=\"\\t\")"
   ]
  },
  {
   "cell_type": "code",
   "execution_count": 17,
   "metadata": {},
   "outputs": [],
   "source": [
    "np.savetxt(\"dummy_bounds.csv\", np.array(tile_bounds, dtype='int'), fmt=\"%i\", delimiter=\"\\t\")"
   ]
  },
  {
   "cell_type": "code",
   "execution_count": 22,
   "metadata": {},
   "outputs": [],
   "source": [
    "np.savetxt(\"dummy_groups.csv\", np.array(tile_group_bounds, dtype='int'), fmt=\"%i\", delimiter=\"\\t\")"
   ]
  },
  {
   "cell_type": "code",
   "execution_count": 18,
   "metadata": {},
   "outputs": [],
   "source": [
    "np.savetxt(\"dummy_discretized.csv\", np.array(tile_discretized, dtype='int'), fmt=\"%i\", delimiter=\"\\t\")"
   ]
  },
  {
   "cell_type": "code",
   "execution_count": 19,
   "metadata": {},
   "outputs": [],
   "source": [
    "np.savetxt(\"dummy_y.csv\", np.random.randint(0, 3, total_row_count), fmt=\"%i\", delimiter=\"\\t\")"
   ]
  },
  {
   "cell_type": "code",
   "execution_count": null,
   "metadata": {},
   "outputs": [],
   "source": []
  },
  {
   "cell_type": "code",
   "execution_count": null,
   "metadata": {},
   "outputs": [],
   "source": []
  },
  {
   "cell_type": "code",
   "execution_count": null,
   "metadata": {},
   "outputs": [],
   "source": []
  },
  {
   "cell_type": "code",
   "execution_count": null,
   "metadata": {},
   "outputs": [],
   "source": []
  }
 ],
 "metadata": {
  "kernelspec": {
   "display_name": "Python 3",
   "language": "python",
   "name": "python3"
  },
  "language_info": {
   "codemirror_mode": {
    "name": "ipython",
    "version": 3
   },
   "file_extension": ".py",
   "mimetype": "text/x-python",
   "name": "python",
   "nbconvert_exporter": "python",
   "pygments_lexer": "ipython3",
   "version": "3.6.7"
  }
 },
 "nbformat": 4,
 "nbformat_minor": 2
}
