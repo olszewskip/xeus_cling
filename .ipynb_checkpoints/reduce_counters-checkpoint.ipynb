{
 "cells": [
  {
   "cell_type": "code",
   "execution_count": 1,
   "metadata": {},
   "outputs": [],
   "source": [
    "#include <assert.h>\n",
    "#include <iostream>\n",
    "#include <chrono>"
   ]
  },
  {
   "cell_type": "code",
   "execution_count": 2,
   "metadata": {},
   "outputs": [],
   "source": [
    "const size_t n_classes = 10;\n",
    "const size_t rstride = 20;\n",
    "const size_t n_cubes = 30 * n_classes * rstride;\n",
    "float in[n_cubes];\n",
    "float out_1[n_cubes / n_classes];\n",
    "float out_2[n_cubes / n_classes];\n",
    "for (int i = 0; i < n_cubes; ++i)\n",
    "    in[i] = (float) (rand() % 100) / 100;"
   ]
  },
  {
   "cell_type": "code",
   "execution_count": 3,
   "metadata": {},
   "outputs": [],
   "source": [
    "inline void reduce_counters_readable(size_t n_classes, size_t n_cubes, float *in, float *out, size_t rstride) {\n",
    "    // Equivalent and hopefully more readable but also presumably\n",
    "    // less efficient version of the `reduce_counters` function.\n",
    "    //\n",
    "    // Explanation:\n",
    "    // Take a 3D `in` matrix of shape (`n` x `n_classes` x `rstride`),\n",
    "    // where `n` = `n_cubes` / (`rstride` * `n_classes`),\n",
    "    // and reduce it to a 2D `out` matrix of shape (`n` x `rstride`)\n",
    "    // by summing along the second dimension.\n",
    "\n",
    "    size_t i, j, k;\n",
    "    \n",
    "    size_t K = rstride;\n",
    "    size_t J = n_classes;\n",
    "    size_t I = n_cubes / J / K;\n",
    "\n",
    "    size_t JK = J * K;\n",
    "    \n",
    "    for (i = 0; i < I; ++i)\n",
    "        for (j = 0; j < J; ++j)\n",
    "            for (k = 0; k < K; ++k)\n",
    "                out[i * K + k] += in[i * JK + j * K + k];\n",
    "}\n",
    "        "
   ]
  },
  {
   "cell_type": "code",
   "execution_count": 4,
   "metadata": {},
   "outputs": [],
   "source": [
    "inline void reduce_counters(size_t n_classes, size_t n_cubes, float *in, float *out, size_t rstride) {\n",
    "    for (size_t c = 0, v = 0; c < n_cubes; c += rstride * n_classes) {\n",
    "        for (size_t s = 0; s < rstride; ++s, ++v) {\n",
    "            for (size_t d = 0; d < n_classes; ++d) {\n",
    "                out[v] += in[c + s + (d * rstride)];\n",
    "            }\n",
    "        }\n",
    "    }\n",
    "}"
   ]
  },
  {
   "cell_type": "code",
   "execution_count": 5,
   "metadata": {},
   "outputs": [],
   "source": [
    "auto start = std::chrono::high_resolution_clock::now();\n",
    "auto finish = std::chrono::high_resolution_clock::now();\n",
    "std::chrono::duration<double> elapsed;"
   ]
  },
  {
   "cell_type": "code",
   "execution_count": 6,
   "metadata": {},
   "outputs": [
    {
     "name": "stdout",
     "output_type": "stream",
     "text": [
      "Elapsed time: 1.65867 s\n"
     ]
    }
   ],
   "source": [
    "start = std::chrono::high_resolution_clock::now();\n",
    "for (int i = 0; i < 100000; ++i) {\n",
    "    reduce_counters(n_classes, n_cubes, in, out_1, rstride);\n",
    "}\n",
    "finish = std::chrono::high_resolution_clock::now();\n",
    "elapsed = finish - start;\n",
    "std::cout << \"Elapsed time: \" << elapsed.count() << \" s\\n\";"
   ]
  },
  {
   "cell_type": "code",
   "execution_count": 7,
   "metadata": {},
   "outputs": [
    {
     "name": "stdout",
     "output_type": "stream",
     "text": [
      "Elapsed time: 1.73905 s\n"
     ]
    }
   ],
   "source": [
    "start = std::chrono::high_resolution_clock::now();\n",
    "for (int i = 0; i < 100000; ++i) {\n",
    "    reduce_counters_readable(n_classes, n_cubes, in, out_2, rstride);\n",
    "}\n",
    "finish = std::chrono::high_resolution_clock::now();\n",
    "elapsed = finish - start;\n",
    "std::cout << \"Elapsed time: \" << elapsed.count() << \" s\\n\";"
   ]
  },
  {
   "cell_type": "code",
   "execution_count": 8,
   "metadata": {},
   "outputs": [
    {
     "data": {
      "text/plain": [
       "0.0481928"
      ]
     },
     "execution_count": 8,
     "metadata": {},
     "output_type": "execute_result"
    }
   ],
   "source": [
    "(1.74 - 1.66) / 1.66"
   ]
  },
  {
   "cell_type": "code",
   "execution_count": 8,
   "metadata": {},
   "outputs": [],
   "source": [
    "for (int i = 0; i < n_cubes / n_classes; ++i)\n",
    "    if (out_1[i] != out_2[i]) {\n",
    "        std::cout << i << \" \";\n",
    "    }"
   ]
  },
  {
   "cell_type": "code",
   "execution_count": null,
   "metadata": {},
   "outputs": [],
   "source": []
  }
 ],
 "metadata": {
  "@webio": {
   "lastCommId": null,
   "lastKernelId": null
  },
  "kernelspec": {
   "display_name": "C++11",
   "language": "C++11",
   "name": "xeus-cling-cpp11"
  },
  "language_info": {
   "codemirror_mode": "text/x-c++src",
   "file_extension": ".cpp",
   "mimetype": "text/x-c++src",
   "name": "c++",
   "version": "-std=c++11"
  }
 },
 "nbformat": 4,
 "nbformat_minor": 2
}
