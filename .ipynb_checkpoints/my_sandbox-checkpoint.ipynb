{
 "cells": [
  {
   "cell_type": "code",
   "execution_count": 5,
   "metadata": {},
   "outputs": [],
   "source": [
    "#include <iostream>\n",
    "#include <algorithm>\n",
    "#include <numeric>\n",
    "#include <vector>\n",
    "#include <math.h> "
   ]
  },
  {
   "cell_type": "code",
   "execution_count": 3,
   "metadata": {},
   "outputs": [],
   "source": [
    "int arr[3] {1, 2, 3};"
   ]
  },
  {
   "cell_type": "code",
   "execution_count": 12,
   "metadata": {},
   "outputs": [
    {
     "data": {
      "text/plain": [
       "6"
      ]
     },
     "execution_count": 12,
     "metadata": {},
     "output_type": "execute_result"
    }
   ],
   "source": [
    "std::accumulate(arr, arr+3, 0, std::plus<int>())"
   ]
  },
  {
   "cell_type": "code",
   "execution_count": 4,
   "metadata": {},
   "outputs": [
    {
     "data": {
      "text/plain": [
       "6"
      ]
     },
     "execution_count": 4,
     "metadata": {},
     "output_type": "execute_result"
    }
   ],
   "source": [
    "std::accumulate(arr, arr+3, 1, std::multiplies<int>())"
   ]
  },
  {
   "cell_type": "code",
   "execution_count": 5,
   "metadata": {},
   "outputs": [],
   "source": [
    "double result = 0.0;\n",
    "for(int i = 0; i < 3; i++) {\n",
    "    result += arr[i] * log2(arr[i]);\n",
    "}"
   ]
  },
  {
   "cell_type": "code",
   "execution_count": 6,
   "metadata": {},
   "outputs": [
    {
     "data": {
      "text/plain": [
       "6.75489"
      ]
     },
     "execution_count": 6,
     "metadata": {},
     "output_type": "execute_result"
    }
   ],
   "source": [
    "result"
   ]
  },
  {
   "cell_type": "code",
   "execution_count": 8,
   "metadata": {},
   "outputs": [],
   "source": [
    "double xlogx(double result_so_far, double x) {\n",
    "    return result_so_far + x * log2(x);\n",
    "}"
   ]
  },
  {
   "cell_type": "code",
   "execution_count": 11,
   "metadata": {},
   "outputs": [
    {
     "data": {
      "text/plain": [
       "6.75489"
      ]
     },
     "execution_count": 11,
     "metadata": {},
     "output_type": "execute_result"
    }
   ],
   "source": [
    "std::accumulate(arr, arr+3, 0., xlogx)"
   ]
  },
  {
   "cell_type": "code",
   "execution_count": null,
   "metadata": {},
   "outputs": [],
   "source": []
  },
  {
   "cell_type": "code",
   "execution_count": null,
   "metadata": {},
   "outputs": [],
   "source": []
  },
  {
   "cell_type": "code",
   "execution_count": 6,
   "metadata": {},
   "outputs": [
    {
     "name": "stderr",
     "output_type": "stream",
     "text": [
      "\u001b[1minput_line_12:2:2: \u001b[0m\u001b[0;1;31merror: \u001b[0m\u001b[1mno matching function for call to 'accumulate'\u001b[0m\n",
      " std::accumulate(arr, 3, std::multiplies<int>())\n",
      "\u001b[0;1;32m ^~~~~~~~~~~~~~~\n",
      "\u001b[0m\u001b[1m/home/olszewskip/miniconda3/envs/xeus_cling/bin/../lib/gcc/x86_64-conda_cos6-linux-gnu/7.3.0/../../../../x86_64-conda_cos6-linux-gnu/include/c++/7.3.0/bits/stl_numeric.h:120:5: \u001b[0m\u001b[0;1;30mnote: \u001b[0mcandidate template ignored: deduced conflicting types for parameter\n",
      "      '_InputIterator' ('int *' vs. 'int')\u001b[0m\n",
      "    accumulate(_InputIterator __first, _InputIterator __last, _Tp __init)\n",
      "\u001b[0;1;32m    ^\n",
      "\u001b[0m\u001b[1m/home/olszewskip/miniconda3/envs/xeus_cling/bin/../lib/gcc/x86_64-conda_cos6-linux-gnu/7.3.0/../../../../x86_64-conda_cos6-linux-gnu/include/c++/7.3.0/bits/stl_numeric.h:146:5: \u001b[0m\u001b[0;1;30mnote: \u001b[0mcandidate function template not viable: requires 4 arguments, but 3 were\n",
      "      provided\u001b[0m\n",
      "    accumulate(_InputIterator __first, _InputIterator __last, _Tp __init,\n",
      "\u001b[0;1;32m    ^\n",
      "\u001b[0m"
     ]
    },
    {
     "ename": "Interpreter Error",
     "evalue": "",
     "output_type": "error",
     "traceback": [
      "Interpreter Error: "
     ]
    }
   ],
   "source": [
    "std::accumulate(arr, 3, std::multiplies<int>())"
   ]
  },
  {
   "cell_type": "code",
   "execution_count": 1,
   "metadata": {},
   "outputs": [],
   "source": [
    "template<typename T>\n",
    "struct Matrix {\n",
    "    T* data = NULL;\n",
    "    ~Matrix() {\n",
    "        delete[] data;\n",
    "    }\n",
    "};"
   ]
  },
  {
   "cell_type": "code",
   "execution_count": 6,
   "metadata": {},
   "outputs": [
    {
     "name": "stdout",
     "output_type": "stream",
     "text": [
      "0\n"
     ]
    }
   ],
   "source": [
    "{\n",
    "Matrix<double> matdoub;\n",
    "std::cout << matdoub.data << std::endl;\n",
    "}"
   ]
  },
  {
   "cell_type": "code",
   "execution_count": 35,
   "metadata": {},
   "outputs": [
    {
     "name": "stdout",
     "output_type": "stream",
     "text": [
      "0\n",
      "1\n",
      "2\n"
     ]
    }
   ],
   "source": [
    "for (auto& it : arr_)\n",
    "    std::cout << it << std::endl;"
   ]
  },
  {
   "cell_type": "code",
   "execution_count": 33,
   "metadata": {},
   "outputs": [
    {
     "data": {
      "text/plain": [
       "@0x7ffd0ebb4f48"
      ]
     },
     "execution_count": 33,
     "metadata": {},
     "output_type": "execute_result"
    }
   ],
   "source": [
    "std::copy_n(arr_, 3, arr)"
   ]
  },
  {
   "cell_type": "code",
   "execution_count": 29,
   "metadata": {},
   "outputs": [
    {
     "data": {
      "text/plain": [
       "0"
      ]
     },
     "execution_count": 29,
     "metadata": {},
     "output_type": "execute_result"
    }
   ],
   "source": [
    "*arr_"
   ]
  },
  {
   "cell_type": "code",
   "execution_count": 5,
   "metadata": {},
   "outputs": [
    {
     "data": {
      "text/plain": [
       "1"
      ]
     },
     "execution_count": 5,
     "metadata": {},
     "output_type": "execute_result"
    }
   ],
   "source": [
    "*arr"
   ]
  },
  {
   "cell_type": "code",
   "execution_count": 7,
   "metadata": {},
   "outputs": [],
   "source": [
    "int* ptr = arr;"
   ]
  },
  {
   "cell_type": "code",
   "execution_count": 9,
   "metadata": {},
   "outputs": [
    {
     "data": {
      "text/plain": [
       "1"
      ]
     },
     "execution_count": 9,
     "metadata": {},
     "output_type": "execute_result"
    }
   ],
   "source": [
    "*ptr"
   ]
  },
  {
   "cell_type": "code",
   "execution_count": 1,
   "metadata": {},
   "outputs": [],
   "source": [
    "template<typename T>\n",
    "struct dupa {\n",
    "    T var;\n",
    "};"
   ]
  },
  {
   "cell_type": "code",
   "execution_count": 2,
   "metadata": {},
   "outputs": [],
   "source": [
    "dupa<int> moja_dupa;"
   ]
  },
  {
   "cell_type": "code",
   "execution_count": 3,
   "metadata": {},
   "outputs": [],
   "source": [
    "template<unsigned int dim, typename T>\n",
    "struct pupa : dupa<T>{\n",
    "    double var2 = dim;\n",
    "};"
   ]
  },
  {
   "cell_type": "code",
   "execution_count": null,
   "metadata": {},
   "outputs": [],
   "source": []
  },
  {
   "cell_type": "code",
   "execution_count": 3,
   "metadata": {},
   "outputs": [
    {
     "name": "stderr",
     "output_type": "stream",
     "text": [
      "\u001b[1minput_line_9:2:8: \u001b[0m\u001b[0;1;31merror: \u001b[0m\u001b[1mexplicit specialization of non-template struct 'test'\u001b[0m\n",
      "struct test<dim, T> : dupa<T>{\n",
      "\u001b[0;1;32m       ^   ~~~~~~~~\n",
      "\u001b[0m\u001b[1m<<< cling interactive line includer >>>:1:1: \u001b[0m\u001b[0;1;31merror: \u001b[0m\u001b[1mexpected ',' or '>' in template-parameter-list\u001b[0m\n",
      "\u001b[1m<<< cling interactive line includer >>>:1:1: \u001b[0m\u001b[0;1;31merror: \u001b[0m\u001b[1mexpected unqualified-id\u001b[0m\n"
     ]
    },
    {
     "ename": "Interpreter Error",
     "evalue": "",
     "output_type": "error",
     "traceback": [
      "Interpreter Error: "
     ]
    }
   ],
   "source": [
    "template<unsigned int dim, typename T>\n",
    "struct test<dim, T> : dupa<T>{\n",
    "    unsigned int shape[dim];\n",
    "    test(unsigned int shape_) {\n",
    "        std::copy_n(shape_, dim, shape);\n",
    "    }\n",
    "};\n",
    "\n",
    "template<unsigned"
   ]
  },
  {
   "cell_type": "code",
   "execution_count": null,
   "metadata": {},
   "outputs": [],
   "source": [
    "int a[3] = {2, 4, 6};\n",
    "int b[3];\n",
    "for (int* ptr = a; )"
   ]
  },
  {
   "cell_type": "code",
   "execution_count": 6,
   "metadata": {},
   "outputs": [],
   "source": [
    "int arr[3] = {2,3,4};"
   ]
  },
  {
   "cell_type": "code",
   "execution_count": 7,
   "metadata": {},
   "outputs": [],
   "source": [
    "#include <numeric>"
   ]
  },
  {
   "cell_type": "code",
   "execution_count": 8,
   "metadata": {},
   "outputs": [
    {
     "data": {
      "text/plain": [
       "1"
      ]
     },
     "execution_count": 8,
     "metadata": {},
     "output_type": "execute_result"
    }
   ],
   "source": [
    "std::accumulate(arr, arr, 1, std::multiplies<int>())"
   ]
  },
  {
   "cell_type": "code",
   "execution_count": 1,
   "metadata": {},
   "outputs": [],
   "source": [
    "#include <iostream>\n",
    "#include <math.h>\n",
    "\n",
    "template<unsigned int dim, typename T>\n",
    "struct Matrix {\n",
    "    unsigned int size = 1;\n",
    "    unsigned int shape[dim];\n",
    "    T* data = NULL;\n",
    "    Matrix() {};\n",
    "    Matrix(unsigned int (&shape_)[dim], T initial_value);\n",
    "    ~Matrix() { delete[] data; }\n",
    "    T& elem(unsigned int (&index)[dim]);\n",
    "    T& elem(unsigned int (&&index)[dim]) { return elem(index); }\n",
    "    void initialize_margins(Matrix<dim - 1, T> (&margins)[dim],\n",
    "                            T initial_value);\n",
    "    void compute_margins(Matrix<dim - 1, T> (&margins)[dim]);\n",
    "    double linlog();\n",
    "    void print();\n",
    "};\n",
    "\n",
    "\n",
    "// unsigned int shape[2] = {3,4};\n",
    "// Matrix<2, double> my_matrix(shape);\n",
    "template<unsigned int dim, typename T>\n",
    "Matrix<dim, T>::Matrix(unsigned int (&shape_)[dim], T initial_value) {\n",
    "    for(int dim_idx = 0; dim_idx < dim; ++dim_idx) {\n",
    "        shape[dim_idx] = shape_[dim_idx];\n",
    "        size *= shape_[dim_idx];\n",
    "    }\n",
    "    data = new T[size];\n",
    "    for(T* ptr = data; ptr != data + size; ++ptr)\n",
    "        *ptr = initial_value;\n",
    "}\n",
    "\n",
    "// my_matrix.elem({1,2}) = rand() % 10;\n",
    "// get reference to the matrix' element\n",
    "// of the given multidimensional index\n",
    "template<unsigned int dim, typename T>\n",
    "T& Matrix<dim, T>::elem(unsigned int (&index)[dim]) {\n",
    "    unsigned int offset = 0;\n",
    "    unsigned int stride = 1;\n",
    "    for(int dim_idx = dim - 1; dim_idx >= 0; --dim_idx) {\n",
    "        offset += stride * index[dim_idx];\n",
    "        stride *= shape[dim_idx];\n",
    "    }\n",
    "    return data[offset];\n",
    "}\n",
    "\n",
    "// multidim_index: {0, 2}, shape: {2, 3} => multidim_index: {1, 0}\n",
    "template<unsigned int dim>\n",
    "void increment_multidim_index(unsigned int (&multidim_index)[dim],\n",
    "                              unsigned int (&shape)[dim]) {\n",
    "    bool increment = true;\n",
    "    for(int dim_index = dim - 1; dim_index >= 0; --dim_index) {\n",
    "        multidim_index[dim_index] += increment;\n",
    "        increment = multidim_index[dim_index] / shape[dim_index];\n",
    "        if(!increment) { break; }\n",
    "        multidim_index[dim_index] = 0;\n",
    "    }\n",
    "}\n",
    "\n",
    "// // flat_index: 3, shape: {2, 3} => multidim_index: {1, 0}\n",
    "// template<unsigned int dim>\n",
    "// void compute_multidim_index(unsigned int flat_index,\n",
    "//                             unsigned int (&multidim_index)[dim],\n",
    "//                             unsigned int (&shape)[dim]\n",
    "//                      ) {\n",
    "//     for(int dim_index = dim - 1; dim_index >= 0; --dim_index) {\n",
    "//         multidim_index[dim_index] = flat_index % shape[dim_index];\n",
    "//         flat_index /= shape[dim_index];\n",
    "//     }    \n",
    "// }\n",
    "\n",
    "// from: [3, 5, 8], skip_index = 1 => to: [3, 8]\n",
    "template<unsigned int size>\n",
    "void copy_skipping(unsigned int (&from)[size],\n",
    "                   unsigned int (&to)[size - 1],\n",
    "                   unsigned int skip_index) {\n",
    "    bool skipped = false;\n",
    "    for(unsigned int index = 0; index < size; ++index) {\n",
    "        if(index == skip_index) { skipped = true; continue; }\n",
    "        to[index - skipped] = from[index];\n",
    "    }\n",
    "}\n",
    "\n",
    "// \n",
    "template<unsigned int dim, typename T>\n",
    "void Matrix<dim, T>::initialize_margins(Matrix<dim - 1, T> (&margins)[dim],\n",
    "                                        T initial_value) {\n",
    "    unsigned int margin_shape[dim - 1];\n",
    "    for(unsigned int dim_index = 0; dim_index < dim; ++dim_index) {\n",
    "        copy_skipping(shape, margin_shape, dim_index);\n",
    "        margins[dim_index] = Matrix<dim - 1, T> {margin_shape, initial_value};\n",
    "    }\n",
    "}\n",
    "\n",
    "// \n",
    "template<unsigned int dim, typename T>\n",
    "void Matrix<dim, T>::compute_margins(Matrix<dim - 1, T> (&margins)[dim]) {\n",
    "    unsigned int multidim_index[dim] = {0};\n",
    "    unsigned int in_margin_index[dim - 1];\n",
    "    for(unsigned int flat_index = 0;flat_index < size;\n",
    "        increment_multidim_index(multidim_index, shape), ++flat_index) {\n",
    "        for(unsigned int dim_index = 0; dim_index < dim; ++dim_index) {\n",
    "            copy_skipping(multidim_index, in_margin_index, dim_index);\n",
    "            margins[dim_index].elem(in_margin_index) += data[flat_index];\n",
    "        }\n",
    "    }  \n",
    "}\n",
    "\n",
    "template<unsigned int dim, typename T>\n",
    "double Matrix<dim, T>::linlog() {\n",
    "    double result = 0.;\n",
    "    for(int i = 0; i < size; ++i)\n",
    "        result += data[i] * log2(data[i]);\n",
    "    return result;\n",
    "}\n",
    "\n",
    "// my_matrix.print();\n",
    "template<unsigned int dim, typename T>\n",
    "void Matrix<dim, T>::print() {\n",
    "    // size\n",
    "    std::cout << \"size: \" << size << std::endl;\n",
    "    // shape\n",
    "    std::cout << \"shape: {\";\n",
    "    for(int dim_index = 0; dim_index < dim - 1; ++dim_index)\n",
    "        std::cout << shape[dim_index] << \", \";\n",
    "    std::cout << shape[dim - 1] << \"}\" << std::endl;\n",
    "    // elements\n",
    "    std::cout << \"elements:\" << std::endl;\n",
    "    unsigned int multidim_index[dim] = {0};\n",
    "    for(unsigned int flat_index = 0; flat_index < size;\n",
    "        increment_multidim_index(multidim_index, shape), ++flat_index){\n",
    "        std::cout << flat_index << \" [\";\n",
    "        for(unsigned int dim_index = 0; dim_index < dim - 1; ++dim_index)\n",
    "            std::cout << multidim_index[dim_index] << \", \";\n",
    "        std::cout << multidim_index[dim - 1] << \"] \" << data[flat_index] << std::endl;\n",
    "    }\n",
    "    std::cout << std::endl;\n",
    "}"
   ]
  },
  {
   "cell_type": "markdown",
   "metadata": {},
   "source": [
    "---\n",
    "---"
   ]
  },
  {
   "cell_type": "code",
   "execution_count": 1,
   "metadata": {},
   "outputs": [],
   "source": [
    "// #include <cassert>\n",
    "// #include <iostream>"
   ]
  },
  {
   "cell_type": "code",
   "execution_count": 1,
   "metadata": {},
   "outputs": [],
   "source": [
    "#include <cassert>\n",
    "#include <iostream>\n",
    "\n",
    "class Indices {\n",
    "   // Abstraction for a finite sequence of indices,\n",
    "   // where each 'index' is a multi-index i.e. it \n",
    "   // is itself a fixed-sized sequence of integers,\n",
    "   // say e.g. ( (0,0), (0,1), (0,2), (1,1), ...).\n",
    "   // The integers of a current multi-index are\n",
    "   // held in a buffer. This class serves to modify\n",
    "   // the buffer to simulate sequence traversal.\n",
    "   public:\n",
    "      // By the sequence being exhausted we mean\n",
    "      // that it has been taken beyond its last element.\n",
    "      // The flag is not yet set when the indices\n",
    "      // represent the last element of the sequence.\n",
    "      virtual bool is_exhausted() = 0;\n",
    "      virtual void set_exhausted(bool) = 0;\n",
    "      // pointer to a buffer with actual integers\n",
    "      unsigned int* index = NULL;\n",
    "      // connect pointer to indices\n",
    "      virtual void use_buff(unsigned int* const) = 0;\n",
    "      // number of indices (lenght of buffer)\n",
    "      unsigned int k;\n",
    "      // move the index one step forward in the sequence\n",
    "      virtual void next() = 0; \n",
    "      // change the index back to the first element of the sequence\n",
    "      virtual void reset() = 0;\n",
    "      virtual std::string to_str() = 0;\n",
    "      void print(unsigned limit = -1) {\n",
    "         assert(index);\n",
    "         unsigned count = 0;\n",
    "         while(!is_exhausted()) {\n",
    "            if (count == limit)\n",
    "               break;\n",
    "            std::cout << to_str() << std::endl;\n",
    "            next();\n",
    "            ++count;\n",
    "         }\n",
    "         reset();\n",
    "      }\n",
    "};\n",
    "\n",
    "class Indices_triangle : public Indices {\n",
    "   // Each index in the sequence is an increasing sequence,\n",
    "   // e.g. (0, 1, 2, 3) for k = 4.\n",
    "   // With k = 0, the object behaves\n",
    "   // like multiplication identity (if !is_exhausted)\n",
    "   // summation identity (if is_exhausted)\n",
    "   protected:\n",
    "      // lower bound (inclusive) of values of all indices\n",
    "      unsigned int lower;\n",
    "      // upper bound (noninclusive) of values of all indices\n",
    "      unsigned int upper;\n",
    "      // is the index-sequence not strictly increasing;\n",
    "      // i.e. is e.g. (0, 1, 1, 2) in the sequence\n",
    "      bool with_diag;\n",
    "      // is the whole sequence exhausted\n",
    "      bool exhausted = false;\n",
    "   public:\n",
    "      // constructor\n",
    "      Indices_triangle (unsigned int k_,\n",
    "                        unsigned int lower_ = 0,\n",
    "                        unsigned int upper_ = 0,\n",
    "                        bool with_diag_ = true) :\n",
    "         lower(lower_),\n",
    "         upper(upper_),\n",
    "         with_diag(with_diag_) {\n",
    "         assert(upper >= lower);\n",
    "         if( !with_diag & ((upper - lower) < k) ) {\n",
    "            k = 0;\n",
    "         }\n",
    "         else {\n",
    "            k = k_;\n",
    "         }\n",
    "      }\n",
    "      void use_buff(unsigned int* const buff) {\n",
    "         index = buff;\n",
    "         reset();\n",
    "      }\n",
    "      bool is_exhausted() { return exhausted; }\n",
    "      void set_exhausted(bool exhausted_) { exhausted = exhausted_; }\n",
    "      void next() {\n",
    "         // F-style traversal\n",
    "         if (k > 0) {\n",
    "            bool increment = 1;\n",
    "            for(unsigned int i = 0; i < k - 1; i++) {\n",
    "               div_t division = div(index[i] + increment, index[i+1] + with_diag);\n",
    "               increment = division.quot;\n",
    "               index[i] = division.rem + increment * (lower + !with_diag * i);\n",
    "            }\n",
    "            index[k - 1] += increment;\n",
    "            exhausted = index[k - 1] / upper;\n",
    "         }\n",
    "         else {\n",
    "            exhausted = true;\n",
    "         }\n",
    "      }\n",
    "      void next_() {\n",
    "         // C-style traversal\n",
    "         if (k > 0) {\n",
    "            unsigned int position = k - 1;\n",
    "            bool shift_left = (index[position] + 1) / upper;\n",
    "            while (shift_left) {\n",
    "               if (!position) {\n",
    "                  exhausted = true;\n",
    "                  return;\n",
    "               }\n",
    "               --position;\n",
    "               shift_left = (index[position] + !with_diag) / index[position + 1];\n",
    "            }\n",
    "            ++index[position];\n",
    "            for (int i = position + 1; i < k; ++i) {\n",
    "               index[i] = index[i - 1] + !with_diag;\n",
    "            }  \n",
    "         }\n",
    "         else {\n",
    "            exhausted = true;\n",
    "         }\n",
    "      }\n",
    "      void reset() {\n",
    "         for(unsigned int i = 0; i < k; ++i)\n",
    "            index[i] = lower + !with_diag * i;\n",
    "         exhausted = false;\n",
    "      }\n",
    "      std::string to_str() {\n",
    "         std::stringstream ss;\n",
    "         if (k > 0) {\n",
    "            ss << \"(\";\n",
    "            for (unsigned int i = 0; i < k - 1; ++i)\n",
    "                ss << index[i] << \", \";\n",
    "            ss << index[k - 1] << \")\";\n",
    "         }\n",
    "         else {\n",
    "            ss << \"\";\n",
    "         }\n",
    "         return ss.str();\n",
    "      }\n",
    "};\n"
   ]
  },
  {
   "cell_type": "code",
   "execution_count": 9,
   "metadata": {},
   "outputs": [],
   "source": [
    "const unsigned int k = 0;\n",
    "Indices_triangle my_indices_(k, 0, 0, false);\n",
    "unsigned int tile_index_[3];\n",
    "my_indices_.use_buff(tile_index_);"
   ]
  },
  {
   "cell_type": "code",
   "execution_count": 14,
   "metadata": {},
   "outputs": [
    {
     "data": {
      "text/plain": [
       "false"
      ]
     },
     "execution_count": 14,
     "metadata": {},
     "output_type": "execute_result"
    }
   ],
   "source": [
    "my_indices_.is_exhausted()"
   ]
  },
  {
   "cell_type": "code",
   "execution_count": 16,
   "metadata": {},
   "outputs": [],
   "source": [
    "my_indices_.next_();"
   ]
  },
  {
   "cell_type": "code",
   "execution_count": 17,
   "metadata": {},
   "outputs": [
    {
     "data": {
      "text/plain": [
       "true"
      ]
     },
     "execution_count": 17,
     "metadata": {},
     "output_type": "execute_result"
    }
   ],
   "source": [
    "my_indices_.is_exhausted()"
   ]
  },
  {
   "cell_type": "code",
   "execution_count": 13,
   "metadata": {},
   "outputs": [
    {
     "name": "stdout",
     "output_type": "stream",
     "text": [
      "\n"
     ]
    }
   ],
   "source": [
    "my_indices_.print()"
   ]
  },
  {
   "cell_type": "code",
   "execution_count": 12,
   "metadata": {},
   "outputs": [],
   "source": [
    "my_indices_.reset()"
   ]
  },
  {
   "cell_type": "code",
   "execution_count": 7,
   "metadata": {},
   "outputs": [],
   "source": [
    "my_indices.next_();\n",
    "my_indices.next_()"
   ]
  },
  {
   "cell_type": "code",
   "execution_count": 8,
   "metadata": {},
   "outputs": [
    {
     "data": {
      "text/plain": [
       "\"(0, 2)\""
      ]
     },
     "execution_count": 8,
     "metadata": {},
     "output_type": "execute_result"
    }
   ],
   "source": [
    "my_indices.to_str()"
   ]
  },
  {
   "cell_type": "code",
   "execution_count": 2,
   "metadata": {},
   "outputs": [],
   "source": [
    "class Indices_product : public Indices {   \n",
    "   // Cartesian product of two sequences.\n",
    "   // Again results in a sequence (the order\n",
    "   // is \"row-wise\", i.e. second index changes\n",
    "   // faster).\n",
    "   protected:\n",
    "      Indices& ind_L;\n",
    "      Indices& ind_R;\n",
    "   public:\n",
    "      unsigned int boundary_index;\n",
    "      Indices_product(Indices& ind_L_arg, Indices& ind_R_arg) :\n",
    "         ind_L(ind_L_arg),\n",
    "         ind_R(ind_R_arg),\n",
    "         boundary_index(ind_L_arg.k) {\n",
    "            k = ind_L_arg.k + ind_R_arg.k;\n",
    "      }\n",
    "      void use_buff(unsigned int* const buff) {\n",
    "         index = buff;\n",
    "         ind_L.use_buff(buff);\n",
    "         ind_R.use_buff(buff + boundary_index);\n",
    "      }\n",
    "      bool is_exhausted() {\n",
    "         return ind_L.is_exhausted();\n",
    "      }\n",
    "      void set_exhausted(bool exhausted_) {\n",
    "         ind_L.set_exhausted(exhausted_);\n",
    "      }\n",
    "    \n",
    "      void next() {\n",
    "         ind_R.next();\n",
    "         if (ind_R.is_exhausted()) {\n",
    "            ind_R.reset();\n",
    "            ind_L.next();\n",
    "         }\n",
    "      }\n",
    "      void reset() {\n",
    "         ind_L.reset();\n",
    "         ind_R.reset();\n",
    "      }\n",
    "      std::string to_str() {\n",
    "         std::stringstream ss;\n",
    "         ss << ind_L.to_str() << ind_R.to_str();\n",
    "         return ss.str();\n",
    "      }\n",
    "};\n"
   ]
  },
  {
   "cell_type": "code",
   "execution_count": 4,
   "metadata": {},
   "outputs": [],
   "source": [
    "const unsigned int k_1 = 2;\n",
    "const unsigned int k_2 = 3; \n",
    "unsigned int tile_index[k_1 + k_2];"
   ]
  },
  {
   "cell_type": "code",
   "execution_count": 5,
   "metadata": {},
   "outputs": [],
   "source": [
    "Indices_triangle my_indices_1(k_1, 0, 4, true);\n",
    "Indices_triangle my_indices_2(k_2, 6, 10, false);\n",
    "Indices_product my_product(my_indices_1, my_indices_2);\n",
    "my_product.use_buff(tile_index);"
   ]
  },
  {
   "cell_type": "code",
   "execution_count": 6,
   "metadata": {},
   "outputs": [
    {
     "name": "stdout",
     "output_type": "stream",
     "text": [
      "(0, 1)(6, 7, 8)\n",
      "(0, 1)(6, 7, 9)\n",
      "(0, 1)(6, 8, 9)\n",
      "(0, 1)(7, 8, 9)\n",
      "(0, 2)(6, 7, 8)\n",
      "(0, 2)(6, 7, 9)\n",
      "(0, 2)(6, 8, 9)\n",
      "(0, 2)(7, 8, 9)\n",
      "(1, 2)(6, 7, 8)\n",
      "(1, 2)(6, 7, 9)\n",
      "(1, 2)(6, 8, 9)\n",
      "(1, 2)(7, 8, 9)\n",
      "(0, 3)(6, 7, 8)\n",
      "(0, 3)(6, 7, 9)\n",
      "(0, 3)(6, 8, 9)\n",
      "(0, 3)(7, 8, 9)\n",
      "(1, 3)(6, 7, 8)\n",
      "(1, 3)(6, 7, 9)\n",
      "(1, 3)(6, 8, 9)\n",
      "(1, 3)(7, 8, 9)\n",
      "(2, 3)(6, 7, 8)\n",
      "(2, 3)(6, 7, 9)\n",
      "(2, 3)(6, 8, 9)\n",
      "(2, 3)(7, 8, 9)\n"
     ]
    }
   ],
   "source": [
    "my_product.print()"
   ]
  },
  {
   "cell_type": "code",
   "execution_count": 3,
   "metadata": {},
   "outputs": [],
   "source": [
    "class Indices_sum : public Indices {\n",
    "   // Concatenation of two sequences.\n",
    "   // (Assumes that both represent multi-indices\n",
    "   // of the same lenght k.)\n",
    "   // Meaning that, when we step over the sum,\n",
    "   // we first exhaust the first component sequence,\n",
    "   // and then step through the second one.\n",
    "   protected:\n",
    "      Indices& ind_L;\n",
    "      Indices& ind_R;\n",
    "      bool using_L;\n",
    "   public:\n",
    "      Indices_sum(Indices &ind_L_arg, Indices &ind_R_arg) :\n",
    "         ind_L(ind_L_arg),\n",
    "         ind_R(ind_R_arg),\n",
    "         using_L(true) {\n",
    "            assert(ind_L_arg.k == ind_R_arg.k);\n",
    "            k = ind_L_arg.k;\n",
    "      }\n",
    "      void use_buff(unsigned int* const buff) {\n",
    "         index = buff;\n",
    "         if (ind_L.is_exhausted()) {\n",
    "            using_L = false;\n",
    "            ind_R.use_buff(index);\n",
    "         }\n",
    "         else {\n",
    "            ind_L.use_buff(buff);\n",
    "         }\n",
    "      }\n",
    "      bool is_exhausted() {\n",
    "         return ind_L.is_exhausted() &\n",
    "                ind_R.is_exhausted();\n",
    "      }\n",
    "      void set_exhausted(bool exhausted_) {\n",
    "         ind_L.set_exhausted(exhausted_);\n",
    "         ind_R.set_exhausted(exhausted_);\n",
    "      }\n",
    "      void next() {\n",
    "         if (using_L) {\n",
    "            ind_L.next();\n",
    "            if(ind_L.is_exhausted()) {\n",
    "               using_L = false;\n",
    "               ind_R.use_buff(index);\n",
    "            }\n",
    "         }\n",
    "         else {\n",
    "            ind_R.next();\n",
    "         }\n",
    "      }\n",
    "      void reset() {\n",
    "         ind_L.use_buff(index);\n",
    "         using_L = true;\n",
    "         set_exhausted(false);\n",
    "      }\n",
    "      std::string to_str() {\n",
    "         std::stringstream ss;\n",
    "         ss << (using_L ? ind_L.to_str() : ind_R.to_str());\n",
    "         return ss.str();\n",
    "      }\n",
    "};"
   ]
  },
  {
   "cell_type": "code",
   "execution_count": 4,
   "metadata": {},
   "outputs": [],
   "source": [
    "const unsigned int k = 3; \n",
    "unsigned int tile_index[k];\n",
    "Indices_triangle my_indices_1(k, 0, 4, true);\n",
    "Indices_triangle my_indices_2(k, 6, 10, false);\n",
    "Indices_sum my_sum(my_indices_1, my_indices_2);\n",
    "my_sum.use_buff(tile_index);"
   ]
  },
  {
   "cell_type": "code",
   "execution_count": 5,
   "metadata": {},
   "outputs": [
    {
     "name": "stdout",
     "output_type": "stream",
     "text": [
      "(0, 0, 0)\n",
      "(0, 0, 1)\n",
      "(0, 1, 1)\n",
      "(1, 1, 1)\n",
      "(0, 0, 2)\n",
      "(0, 1, 2)\n",
      "(1, 1, 2)\n",
      "(0, 2, 2)\n",
      "(1, 2, 2)\n",
      "(2, 2, 2)\n",
      "(0, 0, 3)\n",
      "(0, 1, 3)\n",
      "(1, 1, 3)\n",
      "(0, 2, 3)\n",
      "(1, 2, 3)\n",
      "(2, 2, 3)\n",
      "(0, 3, 3)\n",
      "(1, 3, 3)\n",
      "(2, 3, 3)\n",
      "(3, 3, 3)\n",
      "(6, 7, 8)\n",
      "(6, 7, 9)\n",
      "(6, 8, 9)\n",
      "(7, 8, 9)\n"
     ]
    }
   ],
   "source": [
    "my_sum.print()"
   ]
  },
  {
   "cell_type": "code",
   "execution_count": null,
   "metadata": {},
   "outputs": [],
   "source": []
  },
  {
   "cell_type": "code",
   "execution_count": null,
   "metadata": {},
   "outputs": [],
   "source": [
    "Indices_sum& fold(std::vector<Indices_triangle>& triangle_vect_1,\n",
    "                  std::vector<Indices_triangle>& triangle_vect_2,\n",
    "                  std::vector<Indices_product>& triangle_1_x_2,\n",
    "                  std::vector<Indices_sum>& triangle_1_x_2_sum,\n",
    "                  Indices& zero,\n",
    "                  int index_1_L, int index_1_R,\n",
    "                  int index_2_L, int index_2_R,\n",
    "                  int lower_limit,\n",
    "                  int upper_limit) {\n",
    "   // \\sum_{i = lower_limit}^{upper_limit}\n",
    "   //    (index_1_L : index_1_R)^(upper_limit - i)\n",
    "   //     \\times\n",
    "   //    (index_2_L : index_2_R)^i\n",
    "   assert(upper_limit >= lower_limit);\n",
    "   int component_count = upper_limit - lower_limit + 1;\n",
    "    \n",
    "   static std::vector<Indices_triangle> triangle_vect_1(component_count);\n",
    "   static std::vector<Indices_triangle> triangle_vect_2(component_count);\n",
    "   static std::vector<Indices_product> triangle_1_x_2(component_count);\n",
    "   static std::vector<Indices_sum> signif_fat_x_lean_3_sum;\n",
    "   static Indices_sum_id zero_3(kDim);\n",
    "    \n",
    "   \n",
    "   triangle_vect_1.clear();\n",
    "   triangle_vect_2.clear();\n",
    "   triangle_1_x_2.clear();\n",
    "   triangle_1_x_2_sum.clear();\n",
    "   triangle_vect_1.reserve(component_count);\n",
    "   triangle_vect_2.reserve(component_count);\n",
    "   triangle_1_x_2.reserve(component_count);\n",
    "   triangle_1_x_2_sum.reserve(component_count);\n",
    "   //\n",
    "   for (int i = lower_limit; i <= upper_limit; ++i) {\n",
    "      triangle_vect_1.emplace_back(upper_limit - i,\n",
    "                                   index_1_L,\n",
    "                                   index_1_R,\n",
    "                                   true);\n",
    "      triangle_vect_2.emplace_back(i,\n",
    "                                   index_2_L,\n",
    "                                   index_2_R,\n",
    "                                   true);\n",
    "      triangle_1_x_2.emplace_back(triangle_vect_1.back(),\n",
    "                                  triangle_vect_2.back());\n",
    "   }\n",
    "   triangle_1_x_2_sum.emplace_back(zero, triangle_1_x_2[0]);\n",
    "   for (int i = 1; i < component_count; ++i) {\n",
    "      triangle_1_x_2_sum.emplace_back(\n",
    "            triangle_1_x_2_sum.back(),\n",
    "            triangle_1_x_2[i]);\n",
    "   }\n",
    "   return triangle_1_x_2_sum.back();\n",
    "}\n"
   ]
  },
  {
   "cell_type": "markdown",
   "metadata": {},
   "source": [
    "---\n",
    "---"
   ]
  },
  {
   "cell_type": "code",
   "execution_count": 2,
   "metadata": {},
   "outputs": [],
   "source": [
    "// #include <iostream>\n",
    "// std::cout.precision(10);\n",
    "// #include <math.h>\n",
    "// #include <stdlib.h>\n",
    "// #include <string>\n",
    "// #include <fstream>"
   ]
  },
  {
   "cell_type": "code",
   "execution_count": 1,
   "metadata": {},
   "outputs": [],
   "source": [
    "#include <iostream>\n",
    "std::cout.precision(10);\n",
    "#include <math.h>\n",
    "#include <stdlib.h>\n",
    "#include <string>\n",
    "#include <fstream>\n",
    "\n",
    "\n",
    "template<unsigned int dim, typename T>\n",
    "struct Matrix {\n",
    "    // pointer to a dynamic array,\n",
    "    // size and shape information\n",
    "    // and methods to use multidimensional indices\n",
    "    unsigned int size = 1;\n",
    "    unsigned int shape[dim];\n",
    "    T* data = NULL;\n",
    "    ~Matrix() { delete[] data; }\n",
    "    void initialize(unsigned int (&shape_)[dim], T initial_value);\n",
    "    void initialize(unsigned int (&&shape_)[dim], T initial_value) {\n",
    "        initialize(shape_, initial_value);\n",
    "    }\n",
    "    T& elem(unsigned int (&index)[dim]);\n",
    "    T& elem(unsigned int (&&index)[dim]) { return elem(index); }\n",
    "    void increment_multidim_index(unsigned int (&multidim_index)[dim]);\n",
    "    void print(); // cout size, shape and data\n",
    "};\n",
    "\n",
    "template<unsigned int dim, typename T>\n",
    "void Matrix<dim, T>::initialize(unsigned int (&shape_)[dim], T initial_value) {\n",
    "    if(data) { throw; }\n",
    "    for(unsigned int dim_index = 0; dim_index < dim; ++dim_index) {\n",
    "        shape[dim_index] = shape_[dim_index];\n",
    "        size *= shape_[dim_index];\n",
    "    }\n",
    "    data = new T[size];\n",
    "    for(unsigned int flat_index = 0; flat_index < size; ++flat_index)\n",
    "        data[flat_index] = initial_value;\n",
    "}\n",
    "\n",
    "template<unsigned int dim, typename T>\n",
    "T& Matrix<dim, T>::elem(unsigned int (&multidim_index)[dim]) {\n",
    "    unsigned int offset = 0;\n",
    "    unsigned int stride = 1;\n",
    "    for(int dim_index = dim - 1; dim_index >= 0; --dim_index) {\n",
    "        offset += stride * multidim_index[dim_index];\n",
    "        stride *= shape[dim_index];\n",
    "    }\n",
    "    return data[offset];\n",
    "}\n",
    "\n",
    "template<unsigned int dim, typename T>\n",
    "void Matrix<dim, T>::increment_multidim_index(unsigned int (&multidim_index)[dim]) {\n",
    "    bool increment = true;\n",
    "    for(int dim_index = dim - 1; dim_index >= 0; --dim_index) {\n",
    "        multidim_index[dim_index] += increment;\n",
    "        increment = multidim_index[dim_index] / shape[dim_index];\n",
    "        if(!increment) { break; }\n",
    "        multidim_index[dim_index] = 0;\n",
    "    }\n",
    "}\n",
    "\n",
    "template<unsigned int dim, typename T>\n",
    "void Matrix<dim, T>::print() {\n",
    "    std::cout << \"size: \" << size << std::endl;\n",
    "    std::cout << \"shape: {\";\n",
    "    for(unsigned int dim_index = 0; dim_index < dim - 1; ++dim_index)\n",
    "        std::cout << shape[dim_index] << \", \";\n",
    "    std::cout << shape[dim - 1] << \"}\" << std::endl;\n",
    "    if(data) {\n",
    "        std::cout << \"elements:\" << std::endl;\n",
    "        unsigned int multidim_index[dim] = {0};\n",
    "        for(unsigned int flat_index = 0; flat_index < size;\n",
    "            increment_multidim_index(multidim_index), ++flat_index){\n",
    "            std::cout << flat_index << \" [\";\n",
    "            for(unsigned int dim_index = 0; dim_index < dim - 1; ++dim_index)\n",
    "                std::cout << multidim_index[dim_index] << \", \";\n",
    "            std::cout << multidim_index[dim - 1] << \"] \" << data[flat_index] << std::endl;\n",
    "        }\n",
    "        std::cout << std::endl;\n",
    "    }\n",
    "}\n",
    "\n",
    "\n",
    "template<unsigned int dim>\n",
    "struct Contingency : Matrix<dim, double> {\n",
    "    // matrix class with a method to compute the IGs\n",
    "    void initialize_margins(Contingency<dim - 1> (&margins)[dim],\n",
    "                            double initial_value);\n",
    "    void compute_margins(Contingency<dim - 1> (&margins)[dim]);\n",
    "    double linlog();\n",
    "    void compute_IGs(double (&IGs)[dim - 1]);\n",
    "};\n",
    "\n",
    "template<unsigned int size>\n",
    "void copy_skipping(unsigned int (&from)[size],\n",
    "                   unsigned int (&to)[size - 1],\n",
    "                   unsigned int skip_index) {\n",
    "    bool skipped = false;\n",
    "    for(unsigned int index = 0; index < size; ++index) {\n",
    "        if(index == skip_index) { skipped = true; continue; }\n",
    "        to[index - skipped] = from[index];\n",
    "    }\n",
    "}\n",
    "\n",
    "template<unsigned int dim>\n",
    "void Contingency<dim>::initialize_margins(Contingency<dim - 1> (&margins)[dim],\n",
    "                                          double initial_value) {\n",
    "    unsigned int margin_shape[dim - 1];\n",
    "    for(unsigned int dim_index = 0; dim_index < dim; ++dim_index) {\n",
    "        copy_skipping(this->shape, margin_shape, dim_index);\n",
    "        margins[dim_index].initialize(margin_shape, initial_value);\n",
    "    }\n",
    "}\n",
    " \n",
    "template<unsigned int dim>\n",
    "void Contingency<dim>::compute_margins(Contingency<dim - 1> (&margins)[dim]) {\n",
    "    unsigned int multidim_index[dim] = {0};\n",
    "    unsigned int in_margin_index[dim - 1];\n",
    "    for(unsigned int flat_index = 0; flat_index < this->size;\n",
    "        this->increment_multidim_index(multidim_index), ++flat_index) {\n",
    "        for(unsigned int dim_index = 0; dim_index < dim; ++dim_index) {\n",
    "            copy_skipping(multidim_index, in_margin_index, dim_index);\n",
    "            margins[dim_index].elem(in_margin_index) += this->data[flat_index];\n",
    "        }\n",
    "    }  \n",
    "}\n",
    "\n",
    "template<unsigned int dim>\n",
    "double Contingency<dim>::linlog() {\n",
    "    double result = 0.;\n",
    "    for(int flat_index = 0; flat_index < this->size; ++flat_index)\n",
    "        result += this->data[flat_index] * log2(this->data[flat_index]);\n",
    "    return result;\n",
    "}\n",
    "\n",
    "template<unsigned int dim>\n",
    "void Contingency<dim>::compute_IGs(double (&IGs)[dim - 1]) {\n",
    "    double linlog_global = linlog();\n",
    "    for(unsigned int dim_index = 0; dim_index < dim - 1; ++dim_index)\n",
    "        IGs[dim_index] = linlog_global;\n",
    "    Contingency<dim - 1> margins_1[dim];\n",
    "    initialize_margins(margins_1, 0.);\n",
    "    compute_margins(margins_1);\n",
    "    double linlog_y = margins_1[dim - 1].linlog();\n",
    "    for(unsigned int dim_index = 0; dim_index < dim - 1; ++dim_index) {\n",
    "        double linlog_X = margins_1[dim_index].linlog();\n",
    "        IGs[dim_index] -= linlog_X + linlog_y;\n",
    "    }\n",
    "    Contingency<dim - 2> margins_2[dim - 1];\n",
    "    margins_1[dim - 1].initialize_margins(margins_2, 0.);\n",
    "    margins_1[dim - 1].compute_margins(margins_2);\n",
    "    for(unsigned int dim_index = 0; dim_index < dim - 1; ++dim_index) {\n",
    "        double linlog_yX = margins_2[dim_index].linlog();\n",
    "        IGs[dim_index] += linlog_yX;\n",
    "    }\n",
    "}"
   ]
  },
  {
   "cell_type": "code",
   "execution_count": 2,
   "metadata": {},
   "outputs": [],
   "source": [
    "// const unsigned int dim = 3;\n",
    "// Contingency<dim> my_contingency;\n",
    "// unsigned int shape[dim] = {3, 4, 5};\n",
    "// my_contingency.initialize(shape, 1e-3);\n",
    "// for(unsigned int i = 0; i < my_contingency.size; ++i)\n",
    "//     my_contingency.data[i] += rand() % 10;\n",
    "// my_contingency.print()"
   ]
  },
  {
   "cell_type": "code",
   "execution_count": 3,
   "metadata": {},
   "outputs": [],
   "source": [
    "// double IGs[dim - 1];\n",
    "// my_contingency.compute_IGs(IGs);"
   ]
  },
  {
   "cell_type": "code",
   "execution_count": 4,
   "metadata": {},
   "outputs": [],
   "source": [
    "// IGs"
   ]
  },
  {
   "cell_type": "markdown",
   "metadata": {},
   "source": [
    "---"
   ]
  },
  {
   "cell_type": "code",
   "execution_count": 5,
   "metadata": {},
   "outputs": [
    {
     "name": "stdout",
     "output_type": "stream",
     "text": [
      "check_dummy.ipynb\n",
      "cpp_playground.ipynb\n",
      "create_dummy_csv.ipynb\n",
      "dummy_discretized.csv\n",
      "dummy_range_groups.csv\n",
      "dummy_tile_bounds.csv\n",
      "dummy_X.csv\n",
      "dummy_y.csv\n",
      "failed_openmp.ipynb\n",
      "my_sandbox.ipynb\n"
     ]
    }
   ],
   "source": [
    "!ls"
   ]
  },
  {
   "cell_type": "code",
   "execution_count": 6,
   "metadata": {},
   "outputs": [],
   "source": [
    "#include <algorithm>\n",
    "\n",
    "struct Data2DFromFile : Matrix<2, double> {\n",
    "    const std::string file_name;\n",
    "    const char separator;\n",
    "    Data2DFromFile(std::string &&file_name_,\n",
    "                   char &&separator_):\n",
    "        file_name(file_name_),\n",
    "        separator(separator_) {\n",
    "    }\n",
    "    void initialize() {\n",
    "        // check dimensions of the csv data\n",
    "        // and use it to initialize the matrix\n",
    "        unsigned int row_count = 0;\n",
    "        unsigned int column_count = 0;\n",
    "        std::ifstream input_file(file_name);\n",
    "        std::string text_line, text_placeholder;\n",
    "        std::getline(input_file, text_line); ++row_count;\n",
    "        std::stringstream text_nums(text_line);\n",
    "        while(std::getline(text_nums, text_placeholder, separator))\n",
    "            ++column_count;\n",
    "        while(std::getline(input_file, text_line))\n",
    "            ++row_count;\n",
    "        input_file.close();\n",
    "        Matrix<2, double>::initialize({column_count, row_count}, 0);\n",
    "    }\n",
    "    void read_data() {\n",
    "        // populate the matrix with data from the file\n",
    "        if(!this->data) { throw; }\n",
    "        std::ifstream input_file(file_name);\n",
    "        std::string text_line, text_num;\n",
    "        for(unsigned int j = 0; j < this->shape[1]; ++j) {\n",
    "            std::getline(input_file, text_line);\n",
    "            std::stringstream text_nums(text_line);\n",
    "            for(unsigned i = 0; i < this->shape[0]; ++i) {\n",
    "                std::getline(text_nums, text_num, separator);\n",
    "                this->elem({i, j}) = std::stod(text_num);\n",
    "            }\n",
    "        }\n",
    "        input_file.close();\n",
    "    }\n",
    "    void print() {\n",
    "        std::cout << \"data from: \" << file_name << std::endl;\n",
    "        std::cout << \"sep: \" << separator << std::endl;\n",
    "        Matrix<2, double>::print();\n",
    "    }\n",
    "};\n",
    "\n",
    "\n",
    "struct NumbersFromFile {\n",
    "    const std::string file_name;\n",
    "    unsigned int* data = NULL;\n",
    "    unsigned int size = 0;\n",
    "    NumbersFromFile(std::string &file_name_):\n",
    "        file_name(file_name_) {\n",
    "    }\n",
    "    NumbersFromFile(std::string &&file_name_) {\n",
    "        return NumbersFromFile(file_name_);\n",
    "    }\n",
    "    ~NumbersFromFile() { delete data; }\n",
    "    void initialize() {\n",
    "        std::ifstream input_file(file_name);\n",
    "        std::string text_line;\n",
    "        while(std::getline(input_file, text_line))\n",
    "            ++size;\n",
    "        input_file.close();\n",
    "        data = new unsigned int[size];\n",
    "        for(unsigned i = 0; i < size; ++i) {\n",
    "            data[i] = 0;\n",
    "        }\n",
    "    }\n",
    "    void read_data() {\n",
    "        if(!data) { throw; }\n",
    "        std::ifstream input_file(file_name);\n",
    "        std::string text_line;\n",
    "        for(unsigned i = 0; i < size; ++i) {\n",
    "            std::getline(input_file, text_line);\n",
    "            data[i] = static_cast<unsigned int>(std::stoi(text_line));\n",
    "        }\n",
    "        input_file.close();\n",
    "    }\n",
    "    void print() {\n",
    "        std::cout << \"data from: \" << file_name << std::endl;\n",
    "        if(data) {\n",
    "            std::cout << \"elements: \" << std::endl;\n",
    "            for(int i = 0; i < size - 1; ++i)\n",
    "                std::cout << data[i] << \" \";\n",
    "            std::cout << data[size - 1] << std::endl;\n",
    "        }\n",
    "    }\n",
    "};\n",
    "\n",
    "struct data_y : NumbersFromFile {\n",
    "    unsigned int dof = 0;\n",
    "    data_y(std::string &&file_name_):\n",
    "        NumbersFromFile{ file_name_ } {\n",
    "    }\n",
    "    void read_data() {\n",
    "        NumbersFromFile::read_data();\n",
    "        dof = *std::max_element(this->data, this->data + this->size) + 1;\n",
    "    }\n",
    "    void print() {\n",
    "        std::cout << \"dof: \" << dof << std::endl;\n",
    "        NumbersFromFile::print();\n",
    "    }\n",
    "};\n",
    "\n",
    "struct ColumnRangeInfo {\n",
    "    NumbersFromFile bounds;\n",
    "    NumbersFromFile discretized;\n",
    "    NumbersFromFile groups;\n",
    "    unsigned int count = 0;\n",
    "    unsigned int max_range_width = 0;\n",
    "    unsigned int* dofs = NULL;\n",
    "    ColumnRangeInfo(std::string &&file_name_bounds,\n",
    "                    std::string &&file_name_discretized,\n",
    "                    std::string &&file_name_groups,\n",
    "                    unsigned int dof) :\n",
    "        bounds(file_name_bounds),\n",
    "        discretized(file_name_discretized),\n",
    "        groups(file_name_groups) {\n",
    "        bounds.initialize(); bounds.read_data();\n",
    "        discretized.initialize(); discretized.read_data();\n",
    "        groups.initialize(); groups.read_data();\n",
    "        count = bounds.size - 1;\n",
    "        if(count != discretized.size) { throw; }\n",
    "        for(unsigned int range_index = 0; range_index < count; ++range_index)\n",
    "            max_range_width = std::max(max_range_width, bounds.data[range_index + 1] - bounds.data[range_index]);\n",
    "        dofs = new unsigned int[count];\n",
    "        for(unsigned int i = 0; i < count; ++i)\n",
    "            dofs[i] = dof;\n",
    "    }\n",
    "    ~ColumnRangeInfo() { delete dofs; }\n",
    "    void compute_dofs(Data2DFromFile& Xt, bool check_all = false) {\n",
    "        for(unsigned int range_index = 0; range_index < count; ++range_index) {\n",
    "            if((bounds.data[range_index] == bounds.data[range_index + 1])\n",
    "               | !discretized.data[range_index]) { continue; }\n",
    "            unsigned int flat_index_0, flat_index_1, dof;\n",
    "            flat_index_0 = Xt.shape[1] * bounds.data[range_index];\n",
    "            flat_index_1 = flat_index_0 + Xt.shape[1];\n",
    "            dof = static_cast<unsigned int>\n",
    "                (*std::max_element(Xt.data + flat_index_0, Xt.data + flat_index_1)) + 1;\n",
    "            if(check_all) {\n",
    "                unsigned int dof_;\n",
    "                for(unsigned int column_index = bounds.data[range_index] + 1;\n",
    "                    column_index < bounds.data[range_index + 1]; ++column_index) {\n",
    "                    flat_index_0 = Xt.shape[1] * column_index;\n",
    "                    flat_index_1 = flat_index_0 + Xt.shape[1];\n",
    "                    dof_ = static_cast<unsigned int>\n",
    "                        (*std::max_element(Xt.data + flat_index_0, Xt.data + flat_index_1)) + 1;\n",
    "                    if(dof_ != dof) { throw; }\n",
    "                }\n",
    "            }\n",
    "            dofs[range_index] = dof;\n",
    "        }\n",
    "    }\n",
    "};"
   ]
  },
  {
   "cell_type": "code",
   "execution_count": 7,
   "metadata": {},
   "outputs": [],
   "source": [
    "Data2DFromFile Xt(\"dummy_X.csv\", '\\t');\n",
    "Xt.initialize();\n",
    "Xt.read_data();"
   ]
  },
  {
   "cell_type": "code",
   "execution_count": 8,
   "metadata": {},
   "outputs": [],
   "source": [
    "ColumnRangeInfo column_range_info(\"dummy_tile_bounds.csv\", \"dummy_discretized.csv\", \"dummy_range_groups.csv\", 5)"
   ]
  },
  {
   "cell_type": "code",
   "execution_count": 9,
   "metadata": {},
   "outputs": [],
   "source": [
    "column_range_info.compute_dofs(Xt, true);"
   ]
  },
  {
   "cell_type": "code",
   "execution_count": 10,
   "metadata": {},
   "outputs": [
    {
     "data": {
      "text/plain": [
       "124"
      ]
     },
     "execution_count": 10,
     "metadata": {},
     "output_type": "execute_result"
    }
   ],
   "source": [
    "column_range_info.max_range_width"
   ]
  },
  {
   "cell_type": "code",
   "execution_count": 12,
   "metadata": {},
   "outputs": [
    {
     "name": "stdout",
     "output_type": "stream",
     "text": [
      "data from: dummy_range_groups.csv\n",
      "elements: \n",
      "0 2 6 11 15 17 20\n"
     ]
    }
   ],
   "source": [
    "column_range_info.groups.print()"
   ]
  },
  {
   "cell_type": "code",
   "execution_count": 11,
   "metadata": {},
   "outputs": [
    {
     "name": "stdout",
     "output_type": "stream",
     "text": [
      "data from: dummy_tile_bounds.csv\n",
      "elements: \n",
      "0 100 200 222 235 247 258 358 458 558 658 758 800 842 876 876 976 1076 1200 1200 1245\n"
     ]
    }
   ],
   "source": [
    "column_range_info.bounds.print()"
   ]
  },
  {
   "cell_type": "code",
   "execution_count": 14,
   "metadata": {},
   "outputs": [
    {
     "name": "stdout",
     "output_type": "stream",
     "text": [
      "5\n",
      "5\n",
      "5\n",
      "6\n",
      "7\n",
      "8\n",
      "5\n",
      "5\n",
      "5\n",
      "5\n",
      "5\n",
      "5\n",
      "6\n",
      "7\n",
      "5\n",
      "5\n",
      "5\n",
      "6\n",
      "5\n",
      "8\n"
     ]
    }
   ],
   "source": [
    "for(int range_index = 0; range_index < column_range_info.count; ++range_index){\n",
    "    std::cout << column_range_info.dofs[range_index] << std::endl;\n",
    "}"
   ]
  },
  {
   "cell_type": "code",
   "execution_count": null,
   "metadata": {},
   "outputs": [],
   "source": [
    "template<unsigned int dim>\n",
    "struct TileData : Matrix<2, unsigned int> {\n",
    "    TileData(unsigned int (&tile_index)[dim],\n",
    "                    ColumnRangeInfo& column_range_info,\n",
    "                    Data2DFromFile& Xt) {\n",
    "        Matrix<2, unsigned int>::initialize({Xt.shape[1], column_range_info.max_range_width * dim}, -1);\n",
    "    }\n",
    "}"
   ]
  },
  {
   "cell_type": "code",
   "execution_count": null,
   "metadata": {},
   "outputs": [],
   "source": []
  }
 ],
 "metadata": {
  "@webio": {
   "lastCommId": null,
   "lastKernelId": null
  },
  "kernelspec": {
   "display_name": "C++11",
   "language": "C++11",
   "name": "xeus-cling-cpp11"
  },
  "language_info": {
   "codemirror_mode": "text/x-c++src",
   "file_extension": ".cpp",
   "mimetype": "text/x-c++src",
   "name": "c++",
   "version": "-std=c++11"
  }
 },
 "nbformat": 4,
 "nbformat_minor": 2
}
