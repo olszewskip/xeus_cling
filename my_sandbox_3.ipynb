{
 "cells": [
  {
   "cell_type": "code",
   "execution_count": 1,
   "metadata": {},
   "outputs": [],
   "source": [
    "#include <assert.h>\n",
    "#include <iostream>\n",
    "#include <string>\n",
    "#include <fstream>"
   ]
  },
  {
   "cell_type": "code",
   "execution_count": 2,
   "metadata": {},
   "outputs": [],
   "source": [
    "template<unsigned int dim, typename T>\n",
    "struct Matrix {\n",
    "    unsigned int size;\n",
    "    unsigned int shape[dim];\n",
    "    T* data = NULL;\n",
    "    ~Matrix() { delete[] data; }\n",
    "    void allocate(const unsigned int (&shape_)[dim]);\n",
    "    //void allocate(unsigned int (&&shape_)[dim]) { allocate(shape_); };\n",
    "    T& elem(const unsigned int (&multidim_index)[dim]) const;\n",
    "    //T& elem(unsigned int (&&index)[dim]) const { return elem(index); };\n",
    "    unsigned int multidim2flat_index(const unsigned int (&multidim_index)[dim]) const;\n",
    "    void flat2multidim_index(unsigned int flat_index, unsigned int (&multidim_index)[dim]) const;\n",
    "    void print_elem(unsigned int flat_index) const;\n",
    "    void print(unsigned int limit = -1) const;\n",
    "};\n",
    "\n",
    "template<unsigned int dim, typename T>\n",
    "void Matrix<dim, T>::allocate(const unsigned int (&shape_)[dim]) {\n",
    "    size = 1;\n",
    "    for(unsigned int dim_index = 0; dim_index < dim; ++dim_index) {\n",
    "        shape[dim_index] = shape_[dim_index];\n",
    "        size *= shape_[dim_index];\n",
    "    }\n",
    "    if(data) { delete[] data; }\n",
    "    data = new T[size] {0};\n",
    "}\n",
    "\n",
    "template<unsigned int dim, typename T>\n",
    "T& Matrix<dim, T>::elem(const unsigned int (&multidim_index)[dim]) const {\n",
    "    unsigned int flat_index = multidim2flat_index(multidim_index);\n",
    "    return data[flat_index];\n",
    "}\n",
    "\n",
    "template<unsigned int dim, typename T>\n",
    "unsigned int Matrix<dim, T>::multidim2flat_index(const unsigned int (&multidim_index)[dim]) const {\n",
    "    for (unsigned int dim_index; dim_index < dim; ++dim_index)\n",
    "        assert(multidim_index[dim_index] < shape[dim_index]);\n",
    "    unsigned int flat_index = 0;\n",
    "    unsigned int stride = 1;\n",
    "    for(int dim_index = dim - 1; dim_index >= 0; --dim_index) {\n",
    "        flat_index += stride * multidim_index[dim_index];\n",
    "        stride *= shape[dim_index];\n",
    "    }\n",
    "    return flat_index;\n",
    "}\n",
    "\n",
    "template<unsigned int dim, typename T>\n",
    "void Matrix<dim, T>::flat2multidim_index(unsigned int flat_index, unsigned int (&multidim_index)[dim]) const {\n",
    "    for(int dim_index = dim - 1; dim_index >= 0; --dim_index) {\n",
    "        multidim_index[dim_index] = flat_index % shape[dim_index];\n",
    "        flat_index /= shape[dim_index];\n",
    "    }\n",
    "}\n",
    "\n",
    "template<unsigned int dim, typename T>\n",
    "void Matrix<dim, T>::print(unsigned int limit) const {\n",
    "    // print size, shape and (some) elements of the matrix\n",
    "    std::cout << \"size: \" << size << std::endl;\n",
    "    std::cout << \"shape: {\";\n",
    "    for(unsigned int dim_index = 0; dim_index < dim - 1; ++dim_index)\n",
    "        std::cout << shape[dim_index] << \", \";\n",
    "    std::cout << shape[dim - 1] << \"}\" << std::endl;\n",
    "    if(data) {\n",
    "        std::cout << \"elements:\" << std::endl;\n",
    "        if (size <= limit) {\n",
    "            if (dim == 2) {\n",
    "                for (unsigned int i = 0; i < shape[0]; ++i) {\n",
    "                    for (unsigned int j = 0; j < shape[1]; ++j) {\n",
    "                        std::cout << elem({i, j}) << \"\\t\";\n",
    "                    }\n",
    "                    std::cout << std::endl;\n",
    "                }\n",
    "            } else {\n",
    "                for(unsigned int flat_index = 0; flat_index < size; ++flat_index)\n",
    "                    print_elem(flat_index);\n",
    "            }\n",
    "        }\n",
    "        else {\n",
    "            for(unsigned int flat_index = 0; flat_index < (limit + 1) / 2; ++flat_index)\n",
    "                print_elem(flat_index);\n",
    "            std::cout << \"...\" << std::endl;\n",
    "            for(unsigned int flat_index = size - limit / 2; flat_index < size; ++flat_index)\n",
    "                print_elem(flat_index);\n",
    "        }\n",
    "    }\n",
    "}\n",
    "                \n",
    "template<unsigned int dim, typename T>\n",
    "void Matrix<dim, T>::print_elem(unsigned int flat_index) const {\n",
    "    // print multidimensional index and the value\n",
    "    unsigned int multidim_index[dim];\n",
    "    flat2multidim_index(flat_index, multidim_index);\n",
    "    std::cout << flat_index << \" [\";\n",
    "    for(unsigned int dim_index = 0; dim_index < dim - 1; ++dim_index)\n",
    "        std::cout << multidim_index[dim_index] << \", \";\n",
    "    std::cout << multidim_index[dim - 1] << \"] \" << +data[flat_index] << std::endl;\n",
    "}"
   ]
  },
  {
   "cell_type": "code",
   "execution_count": null,
   "metadata": {},
   "outputs": [],
   "source": []
  },
  {
   "cell_type": "code",
   "execution_count": 3,
   "metadata": {},
   "outputs": [],
   "source": [
    "// Definitions\n",
    "// strictly for the sake of IO\n",
    "\n",
    "template<typename T>\n",
    "struct Data : Matrix<2, T> {\n",
    "    void read_transposing(std::string &&file_name, char separator = ',');\n",
    "    void allocate(std::string &file_name, char separator);\n",
    "    T* row(unsigned int row_index) const;\n",
    "};\n",
    "\n",
    "template<typename T>\n",
    "void Data<T>::read_transposing(std::string &&file_name, char separator) {\n",
    "    allocate(file_name, separator);\n",
    "    // populate the matrix with \n",
    "    // transposed data from the file\n",
    "    std::ifstream file(file_name);\n",
    "    std::string text_line, text_placeholder;\n",
    "    for(unsigned int j = 0; j < this->shape[1]; ++j) {\n",
    "        std::getline(file, text_line);\n",
    "        std::stringstream text_line_stream(text_line);\n",
    "        for(unsigned i = 0; i < this->shape[0]; ++i) {\n",
    "            std::getline(text_line_stream, text_placeholder, separator);\n",
    "            this->elem({i, j}) = std::stod(text_placeholder);\n",
    "        }\n",
    "    }\n",
    "    file.close();\n",
    "}\n",
    "\n",
    "template<typename T>\n",
    "void Data<T>::allocate(std::string &file_name, char separator) {\n",
    "    // probe dimensions of the csv data\n",
    "    unsigned int row_count = 0;\n",
    "    unsigned int column_count = 0;\n",
    "    std::ifstream file(file_name);\n",
    "    std::string text_line, text_placeholder;\n",
    "    std::getline(file, text_line); ++row_count;\n",
    "    std::stringstream text_line_stream(text_line);\n",
    "    while(std::getline(text_line_stream, text_placeholder, separator))\n",
    "        ++column_count;\n",
    "    while(std::getline(file, text_line))\n",
    "        ++row_count;\n",
    "    file.close();\n",
    "    // use the dimensions to allocate\n",
    "    // space for the data (with transposition)\n",
    "    Matrix<2, T>::allocate({column_count, row_count});\n",
    "}\n",
    "\n",
    "template<typename T>\n",
    "T* Data<T>::row(unsigned int row_index) const {\n",
    "    return this->data + row_index * this->shape[1];\n",
    "}\n",
    "\n",
    "\n",
    "unsigned read_single_uint(std::string &&file_name) {\n",
    "    std::ifstream file(file_name);\n",
    "    std::string text_line;\n",
    "    std::getline(file, text_line);\n",
    "    file.close();\n",
    "    return static_cast<unsigned int>(std::stoi(text_line));\n",
    "};"
   ]
  },
  {
   "cell_type": "code",
   "execution_count": 4,
   "metadata": {},
   "outputs": [
    {
     "name": "stdout",
     "output_type": "stream",
     "text": [
      "data_tr:\n",
      "size: 10300000\n",
      "shape: {10300, 1000}\n",
      "elements:\n",
      "0 [0, 0] 3\n",
      "1 [0, 1] 3\n",
      "2 [0, 2] 2\n",
      "...\n",
      "10299998 [10299, 998] 0\n",
      "10299999 [10299, 999] 0\n"
     ]
    }
   ],
   "source": [
    "// discrete data\n",
    "Data<unsigned int> discrete_data_tr;\n",
    "discrete_data_tr.read_transposing(\"dummy_discrete_data.csv\");\n",
    "std::cout << \"data_tr:\" << std::endl;\n",
    "discrete_data_tr.print(5);"
   ]
  },
  {
   "cell_type": "code",
   "execution_count": 5,
   "metadata": {},
   "outputs": [
    {
     "name": "stdout",
     "output_type": "stream",
     "text": [
      "column_and_bucket_counts_tr:\n",
      "size: 18\n",
      "shape: {2, 9}\n",
      "elements:\n",
      "4\t2\t1\t117\t9886\t30\t30\t30\t200\t\n",
      "4\t5\t6\t2\t2\t4\t5\t6\t2\t\n"
     ]
    }
   ],
   "source": [
    "// get column_and_bucket_counts \n",
    "Data<unsigned int> column_and_bucket_counts_tr;\n",
    "column_and_bucket_counts_tr.read_transposing(\"dummy_column_and_bucket_counts.csv\");\n",
    "std::cout << \"column_and_bucket_counts_tr:\" << std::endl;\n",
    "column_and_bucket_counts_tr.print()"
   ]
  },
  {
   "cell_type": "code",
   "execution_count": 6,
   "metadata": {},
   "outputs": [
    {
     "name": "stdout",
     "output_type": "stream",
     "text": [
      "cpu_tile_width: 13"
     ]
    }
   ],
   "source": [
    "// get a tile-width for the cpu workers\n",
    "unsigned int cpu_tile_width = read_single_uint(\"dummy_cpu_tile_width.txt\");\n",
    "std::cout << \"cpu_tile_width: \" << cpu_tile_width;"
   ]
  },
  {
   "cell_type": "code",
   "execution_count": 7,
   "metadata": {},
   "outputs": [],
   "source": [
    "// Information about contigous regions of columns of (the actual) data are collected in one table.\n",
    "// We call this table `column_regions`.\n",
    "// The list of consequtive regions may include only :\n",
    "//   A) lean interesting columns of a particular dof,\n",
    "//   B) fat interesting columns\n",
    "//   C) fat noninteresting (non-contrast) columns\n",
    "//   D) lean contrast columns of a particular dof (corresponding to A)\n",
    "//   E) fat contrast columns\n",
    "// Individual columns of `column_regions` correspond to the regions.\n",
    "// Rows of `column_regions` are:\n",
    "//   0. number of columns in the region,\n",
    "//   1. dof, the number of discrete classes in the data that each column in the region encodes,\n",
    "//   2. index of the first column in the region,\n",
    "//   3. one plus index of the last columns in the region,\n",
    "//   4. number of cpu-tile-widths that fit in the region (possibly including a margin)\n",
    "\n",
    "// Create the table.\n",
    "Matrix<2, unsigned int> column_regions;\n",
    "\n",
    "// Write to rows 0 and 1. by simply copying from the data read earlier from file.\n",
    "column_regions.allocate({5, column_and_bucket_counts_tr.shape[1]});\n",
    "for (unsigned int flat_index = 0; flat_index < column_and_bucket_counts_tr.size; ++flat_index) {\n",
    "    column_regions.data[flat_index] = column_and_bucket_counts_tr.data[flat_index];\n",
    "}\n",
    "// Write to rows 2 and 3.\n",
    "column_regions.elem({3,0}) = column_regions.elem({0,0});\n",
    "for (unsigned int region_index = 1; region_index < column_regions.shape[1]; ++region_index) {\n",
    "    column_regions.elem({2, region_index}) = column_regions.elem({3, region_index - 1});\n",
    "    column_regions.elem({3, region_index}) = column_regions.elem({2, region_index}) + column_regions.elem({0, region_index});\n",
    "}\n",
    "// Write to row 4.\n",
    "for (unsigned int region_index = 0; region_index < column_regions.shape[1]; ++region_index) {\n",
    "    column_regions.elem({4, region_index}) = (column_regions.elem({0, region_index}) - 1) / cpu_tile_width + 1;\n",
    "}"
   ]
  },
  {
   "cell_type": "code",
   "execution_count": 8,
   "metadata": {},
   "outputs": [
    {
     "name": "stdout",
     "output_type": "stream",
     "text": [
      "column_regions: size: 45\n",
      "shape: {5, 9}\n",
      "elements:\n",
      "4\t2\t1\t117\t9886\t30\t30\t30\t200\t\n",
      "4\t5\t6\t2\t2\t4\t5\t6\t2\t\n",
      "0\t4\t6\t7\t124\t10010\t10040\t10070\t10100\t\n",
      "4\t6\t7\t124\t10010\t10040\t10070\t10100\t10300\t\n",
      "1\t1\t1\t9\t761\t3\t3\t3\t16\t\n"
     ]
    }
   ],
   "source": [
    "std::cout << \"column_regions: \";\n",
    "column_regions.print()"
   ]
  },
  {
   "cell_type": "code",
   "execution_count": 9,
   "metadata": {},
   "outputs": [
    {
     "name": "stdout",
     "output_type": "stream",
     "text": [
      "is_fat_interesting_region_present: true\n"
     ]
    }
   ],
   "source": [
    "// is_fat_interesting_region_present\n",
    "bool I_fat_int = read_single_uint(\"dummy_is_fat_interesting_region_present.txt\");\n",
    "std::cout << \"is_fat_interesting_region_present: \";\n",
    "if (I_fat_int) {\n",
    "    std::cout << \"true\";\n",
    "} else {\n",
    "    std::cout << \"false\";\n",
    "}\n",
    "std::cout << std::endl;"
   ]
  },
  {
   "cell_type": "code",
   "execution_count": 10,
   "metadata": {},
   "outputs": [
    {
     "name": "stdout",
     "output_type": "stream",
     "text": [
      "number_of_lean_regions: 3\n"
     ]
    }
   ],
   "source": [
    "// the number of lean regions\n",
    "unsigned int lean_count = read_single_uint(\"dummy_number_of_lean_regions.txt\");\n",
    "std::cout << \"number_of_lean_regions: \" << lean_count << std::endl;"
   ]
  },
  {
   "cell_type": "code",
   "execution_count": 11,
   "metadata": {},
   "outputs": [],
   "source": [
    "assert (column_regions.shape[1] == 2 * lean_count + 2 + I_fat_int);"
   ]
  },
  {
   "cell_type": "code",
   "execution_count": 12,
   "metadata": {},
   "outputs": [],
   "source": [
    "class Indices {\n",
    "   // Abstraction for a finite sequence of indices,\n",
    "   // where each 'index' is a multi-index i.e. it \n",
    "   // is itself a `dim`-sized sequence of integers,\n",
    "   // say e.g. ((0,0), (0,1), (0,2), (1,1), ... ),\n",
    "   // for `dim=2`. The integers of a current\n",
    "   // multi-index are held in a buffer. This class\n",
    "   // serves to modify the buffer with its `next`\n",
    "   // method to simulate sequence traversal,\n",
    "   // i.e. it is a generator.\n",
    "   public:\n",
    "      // By the sequence being exhausted we mean\n",
    "      // that it has been taken beyond its last element.\n",
    "      // When the index represents the last element of\n",
    "      // the sequence, the returned value is still false.\n",
    "      virtual bool is_exhausted() const = 0;\n",
    "      // Connect some internal pointer to the buffer with indices.\n",
    "      virtual void use_buff(unsigned int*) = 0;\n",
    "      // Number of indices (lenght of buffer)\n",
    "      unsigned int dim;\n",
    "      // Move the index one step forward in the sequence.\n",
    "      virtual void next() = 0; \n",
    "      // Change the index back to the first element of the sequence.\n",
    "      virtual void reset() = 0;\n",
    "      // Return a printable representation of the current index.\n",
    "      virtual std::string to_str() const = 0;\n",
    "      // Traverse the sequence, printing subsequent indices.\n",
    "      void print(unsigned limit = -1) {\n",
    "         assert(index);\n",
    "         unsigned count = 0;\n",
    "         while(!is_exhausted()) {\n",
    "            if (count == limit)\n",
    "               break;\n",
    "            std::cout << to_str() << std::endl;\n",
    "            next();\n",
    "            ++count;\n",
    "         }\n",
    "         reset();\n",
    "      }\n",
    "};"
   ]
  },
  {
   "cell_type": "code",
   "execution_count": 13,
   "metadata": {},
   "outputs": [],
   "source": [
    "class IndicesTriangle : public Indices {\n",
    "   // Each index in the sequence is an increasing sequence.\n",
    "   // Notice that this subclass also implements the\n",
    "   // degenerated cases of zero- and one-element sequences,\n",
    "   // as well as the zero-dimensional sequence.\n",
    "   protected:\n",
    "      // Pointer to a buffer with actual integers.\n",
    "      unsigned int* index = NULL;\n",
    "      // Lower bound (inclusive) of all values of all indices.\n",
    "      unsigned int lower;\n",
    "      // Upper bound (noninclusive) of all values of all indices.\n",
    "      unsigned int upper;\n",
    "      // Is the index-sequence not strictly increasing;\n",
    "      // i.e. is e.g. (0, 1, 1, 2) in the sequence?\n",
    "      bool with_diag;\n",
    "      // Was the whole sequence exhausted?\n",
    "      bool exhausted;\n",
    "   public:\n",
    "      IndicesTriangle (unsigned int lower_ ,\n",
    "                       unsigned int upper_,\n",
    "                       unsigned int dim_,\n",
    "                       bool with_diag_ = true) :\n",
    "         lower(lower_),\n",
    "         upper(upper_),\n",
    "         with_diag(with_diag_),\n",
    "         exhausted(lower == upper) {\n",
    "         dim = dim_;\n",
    "         assert(upper >= lower);\n",
    "         assert(with_diag | (upper - lower >= dim));\n",
    "      }\n",
    "      bool is_exhausted() const {\n",
    "         return exhausted;\n",
    "      }\n",
    "      void use_buff(unsigned int* const buff) {\n",
    "         index = buff;\n",
    "      }\n",
    "      void next() {\n",
    "         if (upper == lower) { return ;}\n",
    "         // F-style traversal\n",
    "         else if (dim > 0) {\n",
    "            bool shift_right = 1;\n",
    "            for(unsigned int position = 0; position < dim - 1; ++position) {\n",
    "               shift_right = (index[position] + 1) / (index[position + 1] + with_diag);\n",
    "               if (shift_right) {\n",
    "                  index[position] = lower + !with_diag * position;\n",
    "               } else {\n",
    "                  ++index[position];\n",
    "                  break;\n",
    "               }\n",
    "            }\n",
    "            if (shift_right) {\n",
    "               ++index[dim - 1];\n",
    "               exhausted = index[dim - 1] / upper;\n",
    "            }\n",
    "         }\n",
    "         else {\n",
    "            exhausted = true;\n",
    "         }\n",
    "      }\n",
    "      void next_() {\n",
    "         if (upper == lower) { return ;}\n",
    "         // C-style traversal\n",
    "         else if (dim > 0) {\n",
    "            unsigned int position = dim - 1;\n",
    "            bool shift_left = (index[position] + 1) / upper;\n",
    "            while (shift_left) {\n",
    "               if (position == 0) {\n",
    "                  exhausted = true;\n",
    "                  return;\n",
    "               }\n",
    "               --position;\n",
    "               shift_left = (index[position] + !with_diag) / index[position + 1];\n",
    "            }\n",
    "            ++index[position];\n",
    "            for (unsigned int i = position + 1; i < dim; ++i) {\n",
    "               index[i] = index[i - 1] + !with_diag;\n",
    "            }  \n",
    "         }\n",
    "         else {\n",
    "            exhausted = true;\n",
    "         }\n",
    "      }\n",
    "      void reset() {\n",
    "         if (upper > lower) {\n",
    "            for(unsigned int position = 0; position < dim; ++position)\n",
    "               index[position] = lower + !with_diag * position;\n",
    "            exhausted = false;\n",
    "         }\n",
    "      }\n",
    "      std::string to_str() const {\n",
    "         std::stringstream ss;\n",
    "         if (dim > 0 & upper > lower) {\n",
    "            ss << \"(\";\n",
    "            for (unsigned int i = 0; i < dim - 1; ++i)\n",
    "                ss << index[i] << \", \";\n",
    "            ss << index[dim - 1] << \")\";\n",
    "         }\n",
    "         else {\n",
    "            ss << \"\";\n",
    "         }\n",
    "         return ss.str();\n",
    "      }\n",
    "};"
   ]
  },
  {
   "cell_type": "code",
   "execution_count": 14,
   "metadata": {},
   "outputs": [],
   "source": [
    "class IndicesProduct : public Indices {   \n",
    "   // Cartesian product of two sequences.\n",
    "   // Again results in a sequence (the order\n",
    "   // is \"row-wise\", i.e. second index changes\n",
    "   // faster).\n",
    "   protected:\n",
    "      Indices& ind_L;\n",
    "      Indices& ind_R;\n",
    "      unsigned int boundary_index;\n",
    "   public:\n",
    "      IndicesProduct(Indices& ind_L_arg, Indices& ind_R_arg) :\n",
    "         ind_L(ind_L_arg),\n",
    "         ind_R(ind_R_arg),\n",
    "         boundary_index(ind_L_arg.dim) {\n",
    "            dim = ind_L_arg.dim + ind_R_arg.dim;\n",
    "      }\n",
    "      void use_buff(unsigned int* const buff) {\n",
    "         ind_L.use_buff(buff);\n",
    "         ind_R.use_buff(buff + boundary_index);\n",
    "      }\n",
    "      bool is_exhausted() const {\n",
    "         return ind_L.is_exhausted();\n",
    "      }\n",
    "      void next() {\n",
    "         ind_R.next();\n",
    "         if (ind_R.is_exhausted()) {\n",
    "            ind_R.reset();\n",
    "            ind_L.next();\n",
    "         }\n",
    "      }\n",
    "      void reset() {\n",
    "         ind_L.reset();\n",
    "         ind_R.reset();\n",
    "      }\n",
    "      std::string to_str() const {\n",
    "         std::stringstream ss;\n",
    "         ss << ind_L.to_str() << ind_R.to_str();\n",
    "         return ss.str();\n",
    "      }\n",
    "};\n",
    "\n",
    "\n",
    "class IndicesSum : public Indices {\n",
    "   // Concatenation of two sequences.\n",
    "   // (Assumes that both represent multi-indices\n",
    "   // of the same length `dim`.)\n",
    "   // Meaning that, when we step over the sum,\n",
    "   // we first exhaust the first component sequence,\n",
    "   // and then step through the second one.\n",
    "   protected:\n",
    "      Indices& ind_L;\n",
    "      Indices& ind_R;\n",
    "      bool using_L;\n",
    "   public:\n",
    "      IndicesSum(Indices &ind_L_arg, Indices &ind_R_arg) :\n",
    "         ind_L(ind_L_arg),\n",
    "         ind_R(ind_R_arg),\n",
    "         using_L(true) {\n",
    "         assert(ind_L_arg.dim == ind_R_arg.dim);\n",
    "         dim = ind_L_arg.dim;\n",
    "      }\n",
    "      void use_buff(unsigned int* const buff) {\n",
    "         ind_L.use_buff(buff);\n",
    "         ind_R.use_buff(buff);\n",
    "      }\n",
    "      bool is_exhausted() const {\n",
    "         return ind_L.is_exhausted() & \n",
    "                ind_R.is_exhausted();\n",
    "      }\n",
    "      void next() {\n",
    "         if (using_L) {\n",
    "            ind_L.next();\n",
    "            if(ind_L.is_exhausted()) {\n",
    "               using_L = false;\n",
    "               ind_R.reset();\n",
    "            }\n",
    "         }\n",
    "         else {\n",
    "            ind_R.next();\n",
    "         }\n",
    "      }\n",
    "      void reset() {\n",
    "         using_L = true;\n",
    "         ind_L.reset();\n",
    "         if(ind_L.is_exhausted()) {\n",
    "              using_L = false;\n",
    "              ind_R.reset();\n",
    "         }\n",
    "      }\n",
    "      std::string to_str() const {\n",
    "         std::stringstream ss;\n",
    "         ss << (using_L ? ind_L.to_str() : ind_R.to_str());\n",
    "         return ss.str();\n",
    "      }\n",
    "};"
   ]
  },
  {
   "cell_type": "code",
   "execution_count": 15,
   "metadata": {},
   "outputs": [],
   "source": [
    "template<typename T_in, typename T_cumulation>\n",
    "T_cumulation& cumulate(std::vector<T_in>& vect,\n",
    "                       std::vector<T_cumulation>& vect_cum,\n",
    "                       IndicesTriangle& identity) {\n",
    "    // Return e.g.\n",
    "    // \\sum_{i = 0}^{n-1} vect[i],\n",
    "    // where vect is a vector of size n.\n",
    "    \n",
    "    assert(vect.size > 0);\n",
    "    vect_cum.reserve(vect.size());\n",
    "    vect_cum.emplace_back(identity, vect[0]);\n",
    "    for(unsigned int i = 1; i < vect.size(); ++i)\n",
    "        vect_cum.emplace_back(vect_cum.back(), vect[i]);\n",
    "    \n",
    "    return vect_cum.back();\n",
    "}"
   ]
  },
  {
   "cell_type": "code",
   "execution_count": 16,
   "metadata": {},
   "outputs": [],
   "source": [
    "template<typename T_1, typename T_2>\n",
    "IndicesSum& dot(std::vector<T_1>& vect_1,\n",
    "                std::vector<T_2>& vect_2,\n",
    "                std::vector<IndicesProduct>& vect_1x2,\n",
    "                std::vector<IndicesSum>& vect_1x2_sum,\n",
    "                IndicesTriangle& zero) {\n",
    "    \n",
    "    // Return\n",
    "    // \\sum_{i = 0}^{n-1} vect_1[i] \\times vect_2[i],\n",
    "    // where vect_1 and vect_2 are vectors of size n.\n",
    "    \n",
    "    assert(vect_1.size() == vect_2.size());\n",
    "    vect_1x2.reserve(vect_1.size());\n",
    "    \n",
    "    for(unsigned int i = 0; i < vect_1.size(); ++i)\n",
    "        vect_1x2.emplace_back(vect_1[i], vect_2[i]);\n",
    "    \n",
    "    return cumulate(vect_1x2, vect_1x2_sum, zero);\n",
    "}"
   ]
  },
  {
   "cell_type": "code",
   "execution_count": 17,
   "metadata": {},
   "outputs": [],
   "source": [
    "const unsigned int dim = 5;\n",
    "unsigned int dummy_index[dim];"
   ]
  },
  {
   "cell_type": "code",
   "execution_count": 18,
   "metadata": {},
   "outputs": [],
   "source": [
    "// \\sum_{i=1}^{dim} (0:L)^i \\times (L:L+I)^{dim-i}\n",
    "// where L <- number_of_lean_regions\n",
    "//       I <- indicator of whether the fat interesting region is present\n",
    "\n",
    "std::vector<IndicesTriangle> lean;\n",
    "std::vector<IndicesTriangle> fat_int;\n",
    "lean.reserve(dim - 1);\n",
    "fat_int.reserve(dim - 1);\n",
    "for (unsigned int i = 1; i < dim; ++i) {\n",
    "    lean.emplace_back(0, lean_count, i);\n",
    "    fat_int.emplace_back(lean_count, lean_count + I_fat_int, dim - i);\n",
    "}\n",
    "std::vector<IndicesProduct> lean_x_fat_int;\n",
    "std::vector<IndicesSum> lean_x_fat_int_fold;\n",
    "IndicesTriangle zero(0, 0, dim);\n",
    "IndicesSum& lean_x_fat_int_sum = dot(lean, fat_int, lean_x_fat_int, lean_x_fat_int_fold, zero); "
   ]
  },
  {
   "cell_type": "code",
   "execution_count": 19,
   "metadata": {},
   "outputs": [],
   "source": [
    "// \\sum_{i=1}^{dim-1} (0:L)^i \\times (L:L+I)^{dim-1-i}\n",
    "// + (L+I):(2L+2+I)\n",
    "// where L <- number_of_lean_regions\n",
    "//       I <- indicator of whether the fat interesting region is present\n",
    "\n",
    "std::vector<IndicesTriangle> lean_;\n",
    "std::vector<IndicesTriangle> fat_int_;\n",
    "lean_.reserve(dim - 2);\n",
    "fat_int_.reserve(dim - 2);\n",
    "for (unsigned int i = 1; i < dim - 1; ++i) {\n",
    "    lean_.emplace_back(0, lean_count, i);\n",
    "    fat_int_.emplace_back(lean_count, lean_count + I_fat_int, dim - 1 - i);\n",
    "}\n",
    "std::vector<IndicesProduct> lean_x_fat_int_;\n",
    "std::vector<IndicesSum> lean_x_fat_int_fold_;\n",
    "IndicesTriangle zero_(0, 0, dim - 1);\n",
    "IndicesSum& lean_x_fat_int_sum_ = dot(lean_, fat_int_, lean_x_fat_int_, lean_x_fat_int_fold_, zero_); \n",
    "IndicesTriangle nonint(lean_count + I_fat_int, 2 * lean_count + 2 + I_fat_int, 1);\n",
    "IndicesProduct lean_x_fat_int_sum_x_nonint(lean_x_fat_int_sum_, nonint);"
   ]
  },
  {
   "cell_type": "code",
   "execution_count": 20,
   "metadata": {},
   "outputs": [],
   "source": [
    "// (L:L+I)^{dim-1} \\times (L+I+1):(2L+I+1)\n",
    "// where L <- number_of_lean_regions\n",
    "//       I <- indicator of whether the fat interesting region is present\n",
    "\n",
    "IndicesTriangle fat_int__(lean_count, lean_count + I_fat_int, dim - 1);\n",
    "IndicesTriangle lean_contrast(lean_count + I_fat_int + 1,\n",
    "                              2 * lean_count + I_fat_int + 1, 1);\n",
    "IndicesProduct fat_int_x_lean_contrast(fat_int__, lean_contrast);"
   ]
  },
  {
   "cell_type": "code",
   "execution_count": 21,
   "metadata": {},
   "outputs": [],
   "source": [
    "// the not-accelerated task-groups\n",
    "IndicesSum not_acc_tasks_(lean_x_fat_int_sum, lean_x_fat_int_sum_x_nonint);\n",
    "IndicesSum not_acc_tasks(not_acc_tasks_, fat_int_x_lean_contrast);"
   ]
  },
  {
   "cell_type": "code",
   "execution_count": 22,
   "metadata": {},
   "outputs": [],
   "source": [
    "// (L:L+I)^dim\n",
    "// where L <- number_of_lean_regions\n",
    "//       I <- indicator of whether the fat interesting region is present\n",
    "\n",
    "IndicesTriangle fat_int___(lean_count, lean_count + I_fat_int, dim);\n",
    "\n",
    "// (L:L+I)^{dim-1} \\times [(L+I):(L+I+1) + (2L+I+1):(2L+I+2)]\n",
    "// where L <- number_of_lean_regions\n",
    "//       I <- indicator of whether the fat interesting region is present\n",
    "\n",
    "IndicesTriangle fat_nonint_noncontrast(lean_count + I_fat_int, lean_count + I_fat_int + 1, 1);\n",
    "IndicesTriangle fat_contrast(2 * lean_count + I_fat_int + 1, 2 * lean_count + I_fat_int + 2, 1);\n",
    "IndicesSum fat_nonint(fat_nonint_noncontrast, fat_contrast);\n",
    "IndicesProduct fat_int_x_nonint(fat_int[0], fat_nonint);\n",
    "\n",
    "// the accelerated task-groups\n",
    "IndicesSum acc_tasks(fat_int___, fat_int_x_nonint);"
   ]
  },
  {
   "cell_type": "code",
   "execution_count": 23,
   "metadata": {
    "scrolled": true
   },
   "outputs": [
    {
     "name": "stdout",
     "output_type": "stream",
     "text": [
      "(0)(3, 3, 3, 3)\n",
      "(1)(3, 3, 3, 3)\n",
      "(2)(3, 3, 3, 3)\n",
      "(0, 0)(3, 3, 3)\n",
      "(0, 1)(3, 3, 3)\n",
      "(1, 1)(3, 3, 3)\n",
      "(0, 2)(3, 3, 3)\n",
      "(1, 2)(3, 3, 3)\n",
      "(2, 2)(3, 3, 3)\n",
      "(0, 0, 0)(3, 3)\n",
      "(0, 0, 1)(3, 3)\n",
      "(0, 1, 1)(3, 3)\n",
      "(1, 1, 1)(3, 3)\n",
      "(0, 0, 2)(3, 3)\n",
      "(0, 1, 2)(3, 3)\n",
      "(1, 1, 2)(3, 3)\n",
      "(0, 2, 2)(3, 3)\n",
      "(1, 2, 2)(3, 3)\n",
      "(2, 2, 2)(3, 3)\n",
      "(0, 0, 0, 0)(3)\n",
      "(0, 0, 0, 1)(3)\n",
      "(0, 0, 1, 1)(3)\n",
      "(0, 1, 1, 1)(3)\n",
      "(1, 1, 1, 1)(3)\n",
      "(0, 0, 0, 2)(3)\n",
      "(0, 0, 1, 2)(3)\n",
      "(0, 1, 1, 2)(3)\n",
      "(1, 1, 1, 2)(3)\n",
      "(0, 0, 2, 2)(3)\n",
      "(0, 1, 2, 2)(3)\n",
      "(1, 1, 2, 2)(3)\n",
      "(0, 2, 2, 2)(3)\n",
      "(1, 2, 2, 2)(3)\n",
      "(2, 2, 2, 2)(3)\n",
      "(0)(3, 3, 3)(4)\n",
      "(0)(3, 3, 3)(5)\n",
      "(0)(3, 3, 3)(6)\n",
      "(0)(3, 3, 3)(7)\n",
      "(0)(3, 3, 3)(8)\n",
      "(1)(3, 3, 3)(4)\n",
      "(1)(3, 3, 3)(5)\n",
      "(1)(3, 3, 3)(6)\n",
      "(1)(3, 3, 3)(7)\n",
      "(1)(3, 3, 3)(8)\n",
      "(2)(3, 3, 3)(4)\n",
      "(2)(3, 3, 3)(5)\n",
      "(2)(3, 3, 3)(6)\n",
      "(2)(3, 3, 3)(7)\n",
      "(2)(3, 3, 3)(8)\n",
      "(0, 0)(3, 3)(4)\n",
      "(0, 0)(3, 3)(5)\n",
      "(0, 0)(3, 3)(6)\n",
      "(0, 0)(3, 3)(7)\n",
      "(0, 0)(3, 3)(8)\n",
      "(0, 1)(3, 3)(4)\n",
      "(0, 1)(3, 3)(5)\n",
      "(0, 1)(3, 3)(6)\n",
      "(0, 1)(3, 3)(7)\n",
      "(0, 1)(3, 3)(8)\n",
      "(1, 1)(3, 3)(4)\n",
      "(1, 1)(3, 3)(5)\n",
      "(1, 1)(3, 3)(6)\n",
      "(1, 1)(3, 3)(7)\n",
      "(1, 1)(3, 3)(8)\n",
      "(0, 2)(3, 3)(4)\n",
      "(0, 2)(3, 3)(5)\n",
      "(0, 2)(3, 3)(6)\n",
      "(0, 2)(3, 3)(7)\n",
      "(0, 2)(3, 3)(8)\n",
      "(1, 2)(3, 3)(4)\n",
      "(1, 2)(3, 3)(5)\n",
      "(1, 2)(3, 3)(6)\n",
      "(1, 2)(3, 3)(7)\n",
      "(1, 2)(3, 3)(8)\n",
      "(2, 2)(3, 3)(4)\n",
      "(2, 2)(3, 3)(5)\n",
      "(2, 2)(3, 3)(6)\n",
      "(2, 2)(3, 3)(7)\n",
      "(2, 2)(3, 3)(8)\n",
      "(0, 0, 0)(3)(4)\n",
      "(0, 0, 0)(3)(5)\n",
      "(0, 0, 0)(3)(6)\n",
      "(0, 0, 0)(3)(7)\n",
      "(0, 0, 0)(3)(8)\n",
      "(0, 0, 1)(3)(4)\n",
      "(0, 0, 1)(3)(5)\n",
      "(0, 0, 1)(3)(6)\n",
      "(0, 0, 1)(3)(7)\n",
      "(0, 0, 1)(3)(8)\n",
      "(0, 1, 1)(3)(4)\n",
      "(0, 1, 1)(3)(5)\n",
      "(0, 1, 1)(3)(6)\n",
      "(0, 1, 1)(3)(7)\n",
      "(0, 1, 1)(3)(8)\n",
      "(1, 1, 1)(3)(4)\n",
      "(1, 1, 1)(3)(5)\n",
      "(1, 1, 1)(3)(6)\n",
      "(1, 1, 1)(3)(7)\n",
      "(1, 1, 1)(3)(8)\n",
      "(0, 0, 2)(3)(4)\n",
      "(0, 0, 2)(3)(5)\n",
      "(0, 0, 2)(3)(6)\n",
      "(0, 0, 2)(3)(7)\n",
      "(0, 0, 2)(3)(8)\n",
      "(0, 1, 2)(3)(4)\n",
      "(0, 1, 2)(3)(5)\n",
      "(0, 1, 2)(3)(6)\n",
      "(0, 1, 2)(3)(7)\n",
      "(0, 1, 2)(3)(8)\n",
      "(1, 1, 2)(3)(4)\n",
      "(1, 1, 2)(3)(5)\n",
      "(1, 1, 2)(3)(6)\n",
      "(1, 1, 2)(3)(7)\n",
      "(1, 1, 2)(3)(8)\n",
      "(0, 2, 2)(3)(4)\n",
      "(0, 2, 2)(3)(5)\n",
      "(0, 2, 2)(3)(6)\n",
      "(0, 2, 2)(3)(7)\n",
      "(0, 2, 2)(3)(8)\n",
      "(1, 2, 2)(3)(4)\n",
      "(1, 2, 2)(3)(5)\n",
      "(1, 2, 2)(3)(6)\n",
      "(1, 2, 2)(3)(7)\n",
      "(1, 2, 2)(3)(8)\n",
      "(2, 2, 2)(3)(4)\n",
      "(2, 2, 2)(3)(5)\n",
      "(2, 2, 2)(3)(6)\n",
      "(2, 2, 2)(3)(7)\n",
      "(2, 2, 2)(3)(8)\n",
      "(3, 3, 3, 3)(5)\n",
      "(3, 3, 3, 3)(6)\n",
      "(3, 3, 3, 3)(7)\n"
     ]
    }
   ],
   "source": [
    "unsigned int not_acc_task_index[dim];\n",
    "not_acc_tasks.use_buff(not_acc_task_index);\n",
    "not_acc_tasks.reset();\n",
    "not_acc_tasks.print();"
   ]
  },
  {
   "cell_type": "code",
   "execution_count": 24,
   "metadata": {},
   "outputs": [
    {
     "name": "stdout",
     "output_type": "stream",
     "text": [
      "(3, 3, 3, 3, 3)\n",
      "(3, 3, 3, 3)(4)\n",
      "(3, 3, 3, 3)(8)\n"
     ]
    }
   ],
   "source": [
    "unsigned int acc_task_index[dim];\n",
    "acc_tasks.use_buff(acc_task_index);\n",
    "acc_tasks.reset();\n",
    "acc_tasks.print();"
   ]
  },
  {
   "cell_type": "code",
   "execution_count": 25,
   "metadata": {},
   "outputs": [],
   "source": [
    "template<unsigned int dim>\n",
    "unsigned task_dof(unsigned (&task_index)[dim],\n",
    "                  const Matrix<2, unsigned> &column_regions) {\n",
    "    // Map a task-index into product of dofs associated\n",
    "    // with column-regions encoded by consequtive values\n",
    "    // in the index. These factor dofs are stored in row 1\n",
    "    // of the `column_regions` matrix.\n",
    "    unsigned int dof = 1;\n",
    "    for (unsigned int dim_index = 0; dim_index < dim; ++dim_index)\n",
    "        dof *= column_regions.elem({1, task_index[dim_index]});\n",
    "    return dof;    \n",
    "}"
   ]
  },
  {
   "cell_type": "code",
   "execution_count": 26,
   "metadata": {},
   "outputs": [],
   "source": [
    "template<unsigned int dim>\n",
    "void index_logarithm(const unsigned int (&index)[dim], std::vector<unsigned> &exponents) {\n",
    "    // Count each succesive integer present in the array.\n",
    "    // Record this counts in the vector.\n",
    "    // E.g, map {0,0,2,2,3} into {2,0,2,1,...}.\n",
    "    // (Elements of the first array have the interpratation of factors in a product:\n",
    "    // e.g. 0 x 0 x 2 x 2 x 3 = 0^2 x 1^0 x 2^2 x 3^1, hence the name of this function.)\n",
    "    //\n",
    "    std::fill(exponents.begin(), exponents.end(), 0);\n",
    "    for (unsigned int position = 0; position < dim; ++position)\n",
    "        ++exponents[index[position]];\n",
    "}"
   ]
  },
  {
   "cell_type": "code",
   "execution_count": 27,
   "metadata": {},
   "outputs": [],
   "source": [
    "template<unsigned int dim>\n",
    "void update_column_ranges(Matrix<2, unsigned> &column_ranges,\n",
    "                          const Matrix<2, unsigned> &column_regions,\n",
    "                          const unsigned (&task_index)[dim],\n",
    "                          const unsigned (&subtask_index)[dim],\n",
    "                          const unsigned tile_width) {\n",
    "    // Mutate `column-ranges` in-place filling it with starting\n",
    "    // and ending column-indices which define an atomic query for\n",
    "    // a worker. These indices are initially encoded by two arrays:\n",
    "    // the `task_index` and `subtask_index`. The `tile_width`\n",
    "    // value is used to parcel each column-region (encoded by\n",
    "    // a single element of the `task_index` array) into column-\n",
    "    // -ranges of that width. Such parcels are then indexed by\n",
    "    // elements of the `subtask_index` array.\n",
    "    //\n",
    "    for (unsigned int dim_index = 0; dim_index < dim; ++dim_index) {\n",
    "        unsigned int region_index = task_index[dim_index];\n",
    "        unsigned int column_index_offset = tile_width * subtask_index[dim_index];\n",
    "        unsigned int column_index = column_regions.elem({2, region_index}) + column_index_offset;\n",
    "        column_ranges.elem({dim_index, 0}) = column_index;\n",
    "        column_ranges.elem({dim_index, 1}) = std::min(column_index + tile_width,\n",
    "                                                      column_regions.elem({3, region_index}));\n",
    "    }\n",
    "}"
   ]
  },
  {
   "cell_type": "markdown",
   "metadata": {},
   "source": [
    "---"
   ]
  },
  {
   "cell_type": "code",
   "execution_count": 29,
   "metadata": {},
   "outputs": [],
   "source": [
    "// std::vector<unsigned> not_acc_task_exponents(column_regions.shape[1]);\n",
    "\n",
    "// std::vector<IndicesTriangle> not_acc_subtask_factors;\n",
    "// not_acc_subtask_factors.reserve(column_regions.shape[1]);\n",
    "\n",
    "// std::vector<IndicesProduct> not_acc_subtasks_partial_products;\n",
    "// IndicesTriangle one(0, 1, 0);\n",
    "\n",
    "// unsigned int not_acc_subtask_index[dim];\n",
    "\n",
    "// Matrix<2, unsigned> column_ranges;\n",
    "// column_ranges.allocate({dim, 2});\n",
    "\n",
    "// while (!not_acc_tasks.is_exhausted()) {\n",
    "//     index_logarithm(not_acc_task_index, not_acc_task_exponents);\n",
    "//     not_acc_subtask_factors = {};\n",
    "//     for (unsigned int region_index = 0; region_index < column_regions.shape[1]; ++region_index) {\n",
    "//         not_acc_subtask_factors.emplace_back(0,\n",
    "//                                              column_regions.elem({4, region_index}),\n",
    "//                                              not_acc_task_exponents[region_index] );\n",
    "//     }\n",
    "//     IndicesProduct& not_acc_subtasks = cumulate(not_acc_subtask_factors,\n",
    "//                                                 not_acc_subtasks_partial_products,\n",
    "//                                                 one);\n",
    "//     not_acc_subtasks.use_buff(not_acc_subtask_index);\n",
    "//     not_acc_subtasks.reset();\n",
    "//     while (!not_acc_subtasks.is_exhausted()) {\n",
    "//         update_column_ranges(column_ranges,\n",
    "//                              column_regions,\n",
    "//                              not_acc_task_index,\n",
    "//                              not_acc_subtask_index,\n",
    "//                              cpu_tile_width);\n",
    "//         not_acc_subtasks.next();\n",
    "//     }    \n",
    "//     //\n",
    "//     not_acc_tasks.next();\n",
    "// }"
   ]
  },
  {
   "cell_type": "markdown",
   "metadata": {},
   "source": [
    "---"
   ]
  },
  {
   "cell_type": "code",
   "execution_count": 30,
   "metadata": {},
   "outputs": [],
   "source": [
    "std::vector<unsigned> not_acc_task_exponents(column_regions.shape[1]);"
   ]
  },
  {
   "cell_type": "code",
   "execution_count": 31,
   "metadata": {},
   "outputs": [
    {
     "data": {
      "text/plain": [
       "{ 0, 3, 3, 3, 3 }"
      ]
     },
     "execution_count": 31,
     "metadata": {},
     "output_type": "execute_result"
    }
   ],
   "source": [
    "not_acc_task_index"
   ]
  },
  {
   "cell_type": "code",
   "execution_count": 32,
   "metadata": {},
   "outputs": [],
   "source": [
    "index_logarithm(not_acc_task_index, not_acc_task_exponents)"
   ]
  },
  {
   "cell_type": "code",
   "execution_count": 33,
   "metadata": {},
   "outputs": [
    {
     "data": {
      "text/plain": [
       "{ 1, 0, 0, 4, 0, 0, 0, 0, 0 }"
      ]
     },
     "execution_count": 33,
     "metadata": {},
     "output_type": "execute_result"
    }
   ],
   "source": [
    "not_acc_task_exponents"
   ]
  },
  {
   "cell_type": "code",
   "execution_count": 34,
   "metadata": {},
   "outputs": [],
   "source": [
    "std::vector<IndicesTriangle> not_acc_subtask_factors;\n",
    "not_acc_subtask_factors.reserve(column_regions.shape[1]);"
   ]
  },
  {
   "cell_type": "code",
   "execution_count": 35,
   "metadata": {},
   "outputs": [],
   "source": [
    "not_acc_subtask_factors = {};\n",
    "for (unsigned int region_index = 0; region_index < column_regions.shape[1]; ++region_index)\n",
    "    not_acc_subtask_factors.emplace_back(0, column_regions.elem({4, region_index}), not_acc_task_exponents[region_index]);"
   ]
  },
  {
   "cell_type": "code",
   "execution_count": 36,
   "metadata": {},
   "outputs": [],
   "source": [
    "std::vector<IndicesProduct> not_acc_subtasks_partial_products;\n",
    "IndicesTriangle one(0, 1, 0);\n",
    "IndicesProduct& not_acc_subtasks = cumulate(not_acc_subtask_factors, not_acc_subtasks_partial_products, one);"
   ]
  },
  {
   "cell_type": "code",
   "execution_count": 37,
   "metadata": {},
   "outputs": [],
   "source": [
    "unsigned int not_acc_subtask_index[dim];\n",
    "not_acc_subtasks.use_buff(not_acc_subtask_index);"
   ]
  },
  {
   "cell_type": "code",
   "execution_count": 38,
   "metadata": {},
   "outputs": [
    {
     "data": {
      "text/plain": [
       "{ 0, 0, 0, 0, 0 }"
      ]
     },
     "execution_count": 38,
     "metadata": {},
     "output_type": "execute_result"
    }
   ],
   "source": [
    "not_acc_subtask_index"
   ]
  },
  {
   "cell_type": "code",
   "execution_count": 39,
   "metadata": {},
   "outputs": [],
   "source": [
    "Matrix<2, unsigned> column_ranges;\n",
    "column_ranges.allocate({dim, 2});"
   ]
  },
  {
   "cell_type": "code",
   "execution_count": 40,
   "metadata": {},
   "outputs": [],
   "source": [
    "update_column_ranges(column_ranges,\n",
    "                     column_regions,\n",
    "                     not_acc_task_index,\n",
    "                     not_acc_subtask_index,\n",
    "                     cpu_tile_width);"
   ]
  },
  {
   "cell_type": "code",
   "execution_count": 41,
   "metadata": {},
   "outputs": [
    {
     "name": "stdout",
     "output_type": "stream",
     "text": [
      "size: 10\n",
      "shape: {5, 2}\n",
      "elements:\n",
      "0\t4\t\n",
      "7\t20\t\n",
      "7\t20\t\n",
      "7\t20\t\n",
      "7\t20\t\n"
     ]
    }
   ],
   "source": [
    "column_ranges.print();"
   ]
  },
  {
   "cell_type": "code",
   "execution_count": 42,
   "metadata": {},
   "outputs": [],
   "source": [
    "// template<typename T>\n",
    "// float rho(T *X, T* Y, unsigned int size) {\n",
    "//     // Pearson's correlation\n",
    "//     unsigned int Sum_X = 0, Sum_Y = 0;\n",
    "//     unsigned int Sum_XX = 0, Sum_YY= 0, Sum_XY=0;\n",
    "//     for (unsigned int index = 0; index < size; ++index) {\n",
    "//         Sum_X += X[index];\n",
    "//         Sum_Y += Y[index];\n",
    "//         Sum_XX += X[index] * X[index];\n",
    "//         Sum_YY += Y[index] * Y[index];\n",
    "//         Sum_XY += X[index] * Y[index];\n",
    "//     }\n",
    "//     return (float)(size * Sum_XY - Sum_X * Sum_Y) /\n",
    "//             std::sqrt( (size * Sum_XX - Sum_X * Sum_X) *\n",
    "//                        (size * Sum_YY - Sum_Y * Sum_Y) );\n",
    "// }"
   ]
  },
  {
   "cell_type": "code",
   "execution_count": 3,
   "metadata": {},
   "outputs": [],
   "source": [
    "template<unsigned int dim, typename T>\n",
    "void marginalize(Matrix<dim, T> &in, Matrix<dim - 1, T> &out, unsigned int reduced_index) {\n",
    "    // Take `dim`-dimensional matrix `in` and marginalize\n",
    "    // it along the `reduced_index`'th dimension.\n",
    "    // Write the result to the `out` matrix.\n",
    "    //\n",
    "    assert(reduced_index < dim);\n",
    "    //\n",
    "    unsigned int out_shape[dim - 1];\n",
    "    unsigned int in_dim_index = 0, out_dim_index = 0;\n",
    "    for (; in_dim_index < dim; ++in_dim_index) {\n",
    "        if (in_dim_index == reduced_index) { continue; }\n",
    "        out_shape[out_dim_index++] = in.shape[in_dim_index];\n",
    "    }\n",
    "    out.allocate(out_shape);\n",
    "    //\n",
    "    unsigned int I = 1;\n",
    "    for (unsigned int dim_index = 0; dim_index < reduced_index; ++dim_index)\n",
    "         I *= in.shape[dim_index];\n",
    "    unsigned int J = in.shape[reduced_index];\n",
    "    unsigned int K = 1;\n",
    "    for (unsigned int dim_index = reduced_index + 1; dim_index < dim; ++dim_index)\n",
    "        K *= in.shape[dim_index];\n",
    "    unsigned int JK = J * K;\n",
    "    unsigned int i, j, k;\n",
    "    for (i = 0; i < I; ++i)\n",
    "        for (j = 0; j < J; ++j)\n",
    "            for (k = 0; k < K; ++k)\n",
    "                out.data[i * K + k] += in.data[i * JK + j * K + k];\n",
    "}"
   ]
  },
  {
   "cell_type": "code",
   "execution_count": 4,
   "metadata": {},
   "outputs": [],
   "source": [
    "Matrix<3, int> M;\n",
    "M.allocate({2, 3, 2});\n",
    "M.elem({0, 2, 1}) = 13;\n",
    "M.elem({1, 1, 0}) = 42;\n",
    "Matrix<2, int> M_1;"
   ]
  },
  {
   "cell_type": "code",
   "execution_count": 5,
   "metadata": {},
   "outputs": [
    {
     "name": "stdout",
     "output_type": "stream",
     "text": [
      "size: 12\n",
      "shape: {2, 3, 2}\n",
      "elements:\n",
      "0 [0, 0, 0] 0\n",
      "1 [0, 0, 1] 0\n",
      "2 [0, 1, 0] 0\n",
      "3 [0, 1, 1] 0\n",
      "4 [0, 2, 0] 0\n",
      "5 [0, 2, 1] 13\n",
      "6 [1, 0, 0] 0\n",
      "7 [1, 0, 1] 0\n",
      "8 [1, 1, 0] 42\n",
      "9 [1, 1, 1] 0\n",
      "10 [1, 2, 0] 0\n",
      "11 [1, 2, 1] 0\n"
     ]
    }
   ],
   "source": [
    "M.print()"
   ]
  },
  {
   "cell_type": "code",
   "execution_count": 6,
   "metadata": {},
   "outputs": [],
   "source": [
    "marginalize(M, M_1, 1)"
   ]
  },
  {
   "cell_type": "code",
   "execution_count": 8,
   "metadata": {},
   "outputs": [
    {
     "name": "stdout",
     "output_type": "stream",
     "text": [
      "size: 4\n",
      "shape: {2, 2}\n",
      "elements:\n",
      "0\t13\t\n",
      "42\t0\t\n"
     ]
    }
   ],
   "source": [
    "M_1.print()"
   ]
  }
 ],
 "metadata": {
  "@webio": {
   "lastCommId": null,
   "lastKernelId": null
  },
  "kernelspec": {
   "display_name": "C++11",
   "language": "C++11",
   "name": "xeus-cling-cpp11"
  },
  "language_info": {
   "codemirror_mode": "text/x-c++src",
   "file_extension": ".cpp",
   "mimetype": "text/x-c++src",
   "name": "c++",
   "version": "-std=c++11"
  }
 },
 "nbformat": 4,
 "nbformat_minor": 2
}
