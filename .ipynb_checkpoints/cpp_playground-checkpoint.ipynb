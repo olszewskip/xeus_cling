{
 "cells": [
  {
   "cell_type": "code",
   "execution_count": 2,
   "metadata": {},
   "outputs": [],
   "source": [
    "#include <iostream>"
   ]
  },
  {
   "cell_type": "code",
   "execution_count": 2,
   "metadata": {},
   "outputs": [
    {
     "name": "stdout",
     "output_type": "stream",
     "text": [
      "Hello world\n"
     ]
    }
   ],
   "source": [
    "std::cout << \"Hello world\" << std::endl;"
   ]
  },
  {
   "cell_type": "code",
   "execution_count": 5,
   "metadata": {},
   "outputs": [
    {
     "name": "stderr",
     "output_type": "stream",
     "text": [
      "Hello underworld\n"
     ]
    }
   ],
   "source": [
    "std::cerr << \"Hello underworld\" << std::endl;"
   ]
  },
  {
   "cell_type": "code",
   "execution_count": 6,
   "metadata": {},
   "outputs": [],
   "source": [
    "int j = 5;"
   ]
  },
  {
   "cell_type": "code",
   "execution_count": 7,
   "metadata": {},
   "outputs": [
    {
     "data": {
      "text/plain": [
       "5"
      ]
     },
     "execution_count": 7,
     "metadata": {},
     "output_type": "execute_result"
    }
   ],
   "source": [
    "j"
   ]
  },
  {
   "cell_type": "code",
   "execution_count": 8,
   "metadata": {},
   "outputs": [],
   "source": [
    "#include <map>"
   ]
  },
  {
   "cell_type": "code",
   "execution_count": 9,
   "metadata": {},
   "outputs": [
    {
     "data": {
      "text/plain": [
       "{ \"something\" => 12, \"something_else\" => 23, \"whateva\" => 34 }"
      ]
     },
     "execution_count": 9,
     "metadata": {},
     "output_type": "execute_result"
    }
   ],
   "source": [
    "std::map <std::string, int> map1;\n",
    "\n",
    "map1[\"something\"] = 12;\n",
    "map1[\"something_else\"] = 23;\n",
    "map1[\"whateva\"] = 34;\n",
    "\n",
    "map1"
   ]
  },
  {
   "cell_type": "code",
   "execution_count": 14,
   "metadata": {},
   "outputs": [],
   "source": [
    "double sqr(double a) {\n",
    "    return a * a;\n",
    "}"
   ]
  },
  {
   "cell_type": "code",
   "execution_count": 15,
   "metadata": {},
   "outputs": [],
   "source": [
    "double a = 2.5;"
   ]
  },
  {
   "cell_type": "code",
   "execution_count": 17,
   "metadata": {},
   "outputs": [
    {
     "data": {
      "text/plain": [
       "6.25"
      ]
     },
     "execution_count": 17,
     "metadata": {},
     "output_type": "execute_result"
    }
   ],
   "source": [
    "sqr(a)"
   ]
  },
  {
   "cell_type": "code",
   "execution_count": 1,
   "metadata": {},
   "outputs": [],
   "source": [
    "#include <xtensor/xtensor.hpp>\n",
    "#include <xtensor/xarray.hpp>\n",
    "#include <xtensor/xmath.hpp>\n",
    "#include <xtensor/xview.hpp>\n",
    "#include <xtensor/xio.hpp>"
   ]
  },
  {
   "cell_type": "code",
   "execution_count": 2,
   "metadata": {},
   "outputs": [],
   "source": [
    "xt::xarray<double> a;"
   ]
  },
  {
   "cell_type": "code",
   "execution_count": 3,
   "metadata": {},
   "outputs": [],
   "source": [
    "a = xt::arange<double>(0., 22.5, 2.5);"
   ]
  },
  {
   "cell_type": "code",
   "execution_count": 4,
   "metadata": {},
   "outputs": [
    {
     "data": {
      "text/html": [
       "<table style='border-style:solid;border-width:1px;'><tbody><tr><td style='font-family:monospace;' title='0'><pre>  0. </pre></td></tr><tr><td style='font-family:monospace;' title='1'><pre>  2.5</pre></td></tr><tr><td style='font-family:monospace;' title='2'><pre>  5. </pre></td></tr><tr><td style='font-family:monospace;' title='3'><pre>  7.5</pre></td></tr><tr><td style='font-family:monospace;' title='4'><pre> 10. </pre></td></tr><tr><td style='font-family:monospace;' title='5'><pre> 12.5</pre></td></tr><tr><td style='font-family:monospace;' title='6'><pre> 15. </pre></td></tr><tr><td style='font-family:monospace;' title='7'><pre> 17.5</pre></td></tr><tr><td style='font-family:monospace;' title='8'><pre> 20. </pre></td></tr></tbody></table>"
      ]
     },
     "execution_count": 4,
     "metadata": {},
     "output_type": "execute_result"
    }
   ],
   "source": [
    "a"
   ]
  },
  {
   "cell_type": "code",
   "execution_count": 5,
   "metadata": {},
   "outputs": [],
   "source": [
    "a.reshape({3,3});"
   ]
  },
  {
   "cell_type": "code",
   "execution_count": 6,
   "metadata": {},
   "outputs": [
    {
     "data": {
      "text/html": [
       "<table style='border-style:solid;border-width:1px;'><tbody><tr><td style='font-family:monospace;' title='(0, 0)'><pre>  0. </pre></td><td style='font-family:monospace;' title='(0, 1)'><pre>  2.5</pre></td><td style='font-family:monospace;' title='(0, 2)'><pre>  5. </pre></td></tr><tr><td style='font-family:monospace;' title='(1, 0)'><pre>  7.5</pre></td><td style='font-family:monospace;' title='(1, 1)'><pre> 10. </pre></td><td style='font-family:monospace;' title='(1, 2)'><pre> 12.5</pre></td></tr><tr><td style='font-family:monospace;' title='(2, 0)'><pre> 15. </pre></td><td style='font-family:monospace;' title='(2, 1)'><pre> 17.5</pre></td><td style='font-family:monospace;' title='(2, 2)'><pre> 20. </pre></td></tr></tbody></table>"
      ]
     },
     "execution_count": 6,
     "metadata": {},
     "output_type": "execute_result"
    }
   ],
   "source": [
    "a"
   ]
  },
  {
   "cell_type": "code",
   "execution_count": 7,
   "metadata": {},
   "outputs": [
    {
     "data": {
      "text/html": [
       "<table style='border-style:solid;border-width:1px;'><tbody><tr><td style='font-family:monospace;' title='(0, 0)'><pre> 0.      </pre></td><td style='font-family:monospace;' title='(0, 1)'><pre>-0.958924</pre></td><td style='font-family:monospace;' title='(0, 2)'><pre>-0.544021</pre></td></tr><tr><td style='font-family:monospace;' title='(1, 0)'><pre> 0.650288</pre></td><td style='font-family:monospace;' title='(1, 1)'><pre> 0.912945</pre></td><td style='font-family:monospace;' title='(1, 2)'><pre>-0.132352</pre></td></tr><tr><td style='font-family:monospace;' title='(2, 0)'><pre>-0.988032</pre></td><td style='font-family:monospace;' title='(2, 1)'><pre>-0.428183</pre></td><td style='font-family:monospace;' title='(2, 2)'><pre> 0.745113</pre></td></tr></tbody></table>"
      ]
     },
     "execution_count": 7,
     "metadata": {},
     "output_type": "execute_result"
    }
   ],
   "source": [
    "xt::sin(a * 2)"
   ]
  },
  {
   "cell_type": "code",
   "execution_count": 8,
   "metadata": {},
   "outputs": [
    {
     "data": {
      "text/html": [
       "<table style='border-style:solid;border-width:1px;'><tbody><tr><td style='font-family:monospace;' title='(0, 0)'><pre>     -inf</pre></td><td style='font-family:monospace;' title='(0, 1)'><pre> 1.321928</pre></td><td style='font-family:monospace;' title='(0, 2)'><pre> 2.321928</pre></td></tr><tr><td style='font-family:monospace;' title='(1, 0)'><pre> 2.906891</pre></td><td style='font-family:monospace;' title='(1, 1)'><pre> 3.321928</pre></td><td style='font-family:monospace;' title='(1, 2)'><pre> 3.643856</pre></td></tr><tr><td style='font-family:monospace;' title='(2, 0)'><pre> 3.906891</pre></td><td style='font-family:monospace;' title='(2, 1)'><pre> 4.129283</pre></td><td style='font-family:monospace;' title='(2, 2)'><pre> 4.321928</pre></td></tr></tbody></table>"
      ]
     },
     "execution_count": 8,
     "metadata": {},
     "output_type": "execute_result"
    }
   ],
   "source": [
    "xt::log2(a)"
   ]
  },
  {
   "cell_type": "code",
   "execution_count": 9,
   "metadata": {},
   "outputs": [],
   "source": [
    "xt::xarray<double> x1 = {-1, 2, 3};"
   ]
  },
  {
   "cell_type": "code",
   "execution_count": 18,
   "metadata": {},
   "outputs": [
    {
     "data": {
      "text/html": [
       "<table style='border-style:solid;border-width:1px;'><tbody><tr><td style='font-family:monospace;' title='(0, 0)'><pre>  0. </pre></td><td style='font-family:monospace;' title='(0, 1)'><pre>  2.5</pre></td><td style='font-family:monospace;' title='(0, 2)'><pre>  5. </pre></td></tr><tr><td style='font-family:monospace;' title='(1, 0)'><pre>  7.5</pre></td><td style='font-family:monospace;' title='(1, 1)'><pre> 10. </pre></td><td style='font-family:monospace;' title='(1, 2)'><pre> 12.5</pre></td></tr><tr><td style='font-family:monospace;' title='(2, 0)'><pre> 15. </pre></td><td style='font-family:monospace;' title='(2, 1)'><pre> 17.5</pre></td><td style='font-family:monospace;' title='(2, 2)'><pre> 20. </pre></td></tr></tbody></table>"
      ]
     },
     "execution_count": 18,
     "metadata": {},
     "output_type": "execute_result"
    }
   ],
   "source": [
    "a"
   ]
  },
  {
   "cell_type": "code",
   "execution_count": 11,
   "metadata": {},
   "outputs": [
    {
     "data": {
      "text/html": [
       "<table style='border-style:solid;border-width:1px;'><tbody><tr><td style='font-family:monospace;' title='(0, 0)'><pre> -0. </pre></td><td style='font-family:monospace;' title='(0, 1)'><pre>  5. </pre></td><td style='font-family:monospace;' title='(0, 2)'><pre> 15. </pre></td></tr><tr><td style='font-family:monospace;' title='(1, 0)'><pre> -7.5</pre></td><td style='font-family:monospace;' title='(1, 1)'><pre> 20. </pre></td><td style='font-family:monospace;' title='(1, 2)'><pre> 37.5</pre></td></tr><tr><td style='font-family:monospace;' title='(2, 0)'><pre>-15. </pre></td><td style='font-family:monospace;' title='(2, 1)'><pre> 35. </pre></td><td style='font-family:monospace;' title='(2, 2)'><pre> 60. </pre></td></tr></tbody></table>"
      ]
     },
     "execution_count": 11,
     "metadata": {},
     "output_type": "execute_result"
    }
   ],
   "source": [
    "a * x1"
   ]
  },
  {
   "cell_type": "code",
   "execution_count": 10,
   "metadata": {},
   "outputs": [
    {
     "data": {
      "text/html": [
       "<table style='border-style:solid;border-width:1px;'><tbody><tr><td style='font-family:monospace;' title='(0, 0)'><pre>  5.</pre></td></tr><tr><td style='font-family:monospace;' title='(1, 0)'><pre> 20.</pre></td></tr><tr><td style='font-family:monospace;' title='(2, 0)'><pre> 35.</pre></td></tr></tbody></table>"
      ]
     },
     "execution_count": 10,
     "metadata": {},
     "output_type": "execute_result"
    }
   ],
   "source": [
    "xt::view(a * x1, xt::all(), xt::range(1, 3, 2))"
   ]
  },
  {
   "cell_type": "markdown",
   "metadata": {},
   "source": [
    "---\n",
    "xtensor"
   ]
  },
  {
   "cell_type": "code",
   "execution_count": 5,
   "metadata": {},
   "outputs": [],
   "source": [
    "#include <iostream>\n",
    "#include <xtensor/xtensor.hpp>\n",
    "#include <xtensor/xarray.hpp>\n",
    "#include <xtensor/xmath.hpp>\n",
    "#include <xtensor/xview.hpp>\n",
    "#include <xtensor/xio.hpp>"
   ]
  },
  {
   "cell_type": "code",
   "execution_count": 2,
   "metadata": {},
   "outputs": [
    {
     "name": "stdout",
     "output_type": "stream",
     "text": [
      "{  7.,  11.,  14.}"
     ]
    }
   ],
   "source": [
    "xt::xarray<double> arr1\n",
    "  {{1.0, 2.0, 3.0},\n",
    "   {2.0, 5.0, 7.0},\n",
    "   {2.0, 5.0, 7.0}};\n",
    "\n",
    "xt::xarray<double> arr2\n",
    "  {5.0, 6.0, 7.0};\n",
    "\n",
    "xt::xarray<double> res1 = xt::view(arr1, 1) + arr2;\n",
    "\n",
    "std::cout << res1;"
   ]
  },
  {
   "cell_type": "code",
   "execution_count": 3,
   "metadata": {},
   "outputs": [
    {
     "name": "stdout",
     "output_type": "stream",
     "text": [
      "{{    1.,    16.,    81.},\n",
      " {    1.,    32.,   243.},\n",
      " {    1.,    64.,   729.},\n",
      " {    1.,   128.,  2187.}}"
     ]
    }
   ],
   "source": [
    "xt::xarray<double> arr3\n",
    "  {1.0, 2.0, 3.0};\n",
    "\n",
    "xt::xarray<unsigned int> arr4\n",
    "  {4, 5, 6, 7};\n",
    "\n",
    "arr4.reshape({4, 1});\n",
    "\n",
    "xt::xarray<double> res2 = xt::pow(arr3, arr4);\n",
    "\n",
    "std::cout << res2;"
   ]
  },
  {
   "cell_type": "code",
   "execution_count": 2,
   "metadata": {},
   "outputs": [
    {
     "name": "stdout",
     "output_type": "stream",
     "text": [
      "{  0.,   2.,   4.,   6.,   8.,  10.}\n"
     ]
    }
   ],
   "source": [
    "xt::xarray<double> e = xt::arange<double>(0., 11., 2);\n",
    "std::cout << e << std::endl;"
   ]
  },
  {
   "cell_type": "code",
   "execution_count": 3,
   "metadata": {},
   "outputs": [],
   "source": [
    "e.reshape({2, 3})"
   ]
  },
  {
   "cell_type": "code",
   "execution_count": 4,
   "metadata": {},
   "outputs": [
    {
     "data": {
      "text/html": [
       "<table style='border-style:solid;border-width:1px;'><tbody><tr><td style='font-family:monospace;' title='(0, 0)'><pre>  0.</pre></td><td style='font-family:monospace;' title='(0, 1)'><pre>  2.</pre></td><td style='font-family:monospace;' title='(0, 2)'><pre>  4.</pre></td></tr><tr><td style='font-family:monospace;' title='(1, 0)'><pre>  6.</pre></td><td style='font-family:monospace;' title='(1, 1)'><pre>  8.</pre></td><td style='font-family:monospace;' title='(1, 2)'><pre> 10.</pre></td></tr></tbody></table>"
      ]
     },
     "execution_count": 4,
     "metadata": {},
     "output_type": "execute_result"
    }
   ],
   "source": [
    "e"
   ]
  },
  {
   "cell_type": "code",
   "execution_count": 1,
   "metadata": {},
   "outputs": [],
   "source": [
    "#include <xtensor/xhistogram.hpp>\n",
    "#include <xtensor/xio.hpp>"
   ]
  },
  {
   "cell_type": "code",
   "execution_count": 2,
   "metadata": {},
   "outputs": [],
   "source": [
    "xt::xtensor<double,1> data = xt::arange<double>(0., 11.)"
   ]
  },
  {
   "cell_type": "code",
   "execution_count": 3,
   "metadata": {},
   "outputs": [
    {
     "data": {
      "text/html": [
       "<table style='border-style:solid;border-width:1px;'><tbody><tr><td style='font-family:monospace;' title='0'><pre>  0.</pre></td></tr><tr><td style='font-family:monospace;' title='1'><pre>  1.</pre></td></tr><tr><td style='font-family:monospace;' title='2'><pre>  2.</pre></td></tr><tr><td style='font-family:monospace;' title='3'><pre>  3.</pre></td></tr><tr><td style='font-family:monospace;' title='4'><pre>  4.</pre></td></tr><tr><td style='font-family:monospace;' title='5'><pre>  5.</pre></td></tr><tr><td style='font-family:monospace;' title='6'><pre>  6.</pre></td></tr><tr><td style='font-family:monospace;' title='7'><pre>  7.</pre></td></tr><tr><td style='font-family:monospace;' title='8'><pre>  8.</pre></td></tr><tr><td style='font-family:monospace;' title='9'><pre>  9.</pre></td></tr><tr><td style='font-family:monospace;' title='10'><pre> 10.</pre></td></tr></tbody></table>"
      ]
     },
     "execution_count": 3,
     "metadata": {},
     "output_type": "execute_result"
    }
   ],
   "source": [
    "data"
   ]
  },
  {
   "cell_type": "code",
   "execution_count": 4,
   "metadata": {},
   "outputs": [],
   "source": [
    "xt::xtensor<double, 1> bin_edges = xt::histogram_bin_edges(data, std::size_t(3), xt::histogram_algorithm::uniform);"
   ]
  },
  {
   "cell_type": "code",
   "execution_count": 5,
   "metadata": {},
   "outputs": [
    {
     "data": {
      "text/html": [
       "<table style='border-style:solid;border-width:1px;'><tbody><tr><td style='font-family:monospace;' title='0'><pre>  0.</pre></td></tr><tr><td style='font-family:monospace;' title='1'><pre>  4.</pre></td></tr><tr><td style='font-family:monospace;' title='2'><pre>  8.</pre></td></tr><tr><td style='font-family:monospace;' title='3'><pre> 10.</pre></td></tr></tbody></table>"
      ]
     },
     "execution_count": 5,
     "metadata": {},
     "output_type": "execute_result"
    }
   ],
   "source": [
    "bin_edges"
   ]
  },
  {
   "cell_type": "code",
   "execution_count": null,
   "metadata": {},
   "outputs": [],
   "source": [
    "// for(auto it=bin_edges.begin(); it!=a.end(); ++it)\n"
   ]
  },
  {
   "cell_type": "code",
   "execution_count": 6,
   "metadata": {},
   "outputs": [],
   "source": [
    " xt::xtensor<double,1> prob = xt::histogram(data, bin_edges, true);"
   ]
  },
  {
   "cell_type": "code",
   "execution_count": 8,
   "metadata": {},
   "outputs": [],
   "source": [
    " xt::xtensor<double,1> counts = xt::histogram(data, bin_edges, false);"
   ]
  },
  {
   "cell_type": "code",
   "execution_count": 9,
   "metadata": {},
   "outputs": [
    {
     "data": {
      "text/html": [
       "<table style='border-style:solid;border-width:1px;'><tbody><tr><td style='font-family:monospace;' title='0'><pre> 4.</pre></td></tr><tr><td style='font-family:monospace;' title='1'><pre> 4.</pre></td></tr><tr><td style='font-family:monospace;' title='2'><pre> 3.</pre></td></tr></tbody></table>"
      ]
     },
     "execution_count": 9,
     "metadata": {},
     "output_type": "execute_result"
    }
   ],
   "source": [
    "counts"
   ]
  },
  {
   "cell_type": "code",
   "execution_count": 1,
   "metadata": {},
   "outputs": [],
   "source": [
    "#include <iostream>\n",
    "#include <xtensor/xtensor.hpp>\n",
    "#include \"xtensor/xfixed.hpp\"\n",
    "#include <xtensor/xarray.hpp>\n",
    "#include <xtensor/xmath.hpp>\n",
    "#include <xtensor/xview.hpp>\n",
    "#include <xtensor/xio.hpp>\n",
    "#include <xtensor/xrandom.hpp>"
   ]
  },
  {
   "cell_type": "code",
   "execution_count": 2,
   "metadata": {},
   "outputs": [],
   "source": [
    "xt::random::seed(0)"
   ]
  },
  {
   "cell_type": "code",
   "execution_count": 3,
   "metadata": {},
   "outputs": [],
   "source": [
    "const int column_count = 5;\n",
    "const int row_count = 4;"
   ]
  },
  {
   "cell_type": "code",
   "execution_count": 4,
   "metadata": {},
   "outputs": [],
   "source": [
    "xt::xtensor_fixed<double, xt::xshape<row_count, column_count>, xt::layout_type::column_major> some_table\n",
    "= xt::random::randn<double>({row_count, column_count})"
   ]
  },
  {
   "cell_type": "code",
   "execution_count": 6,
   "metadata": {},
   "outputs": [
    {
     "data": {
      "text/html": [
       "<table style='border-style:solid;border-width:1px;'><tbody><tr><td style='font-family:monospace;' title='(0, 0)'><pre> 1.122795</pre></td><td style='font-family:monospace;' title='(0, 1)'><pre>-1.422326</pre></td><td style='font-family:monospace;' title='(0, 2)'><pre>-0.17307 </pre></td><td style='font-family:monospace;' title='(0, 3)'><pre> 1.125314</pre></td><td style='font-family:monospace;' title='(0, 4)'><pre> 0.428373</pre></td></tr><tr><td style='font-family:monospace;' title='(1, 0)'><pre> 0.302805</pre></td><td style='font-family:monospace;' title='(1, 1)'><pre> 1.520069</pre></td><td style='font-family:monospace;' title='(1, 2)'><pre>-1.761652</pre></td><td style='font-family:monospace;' title='(1, 3)'><pre>-0.358996</pre></td><td style='font-family:monospace;' title='(1, 4)'><pre>-0.123463</pre></td></tr><tr><td style='font-family:monospace;' title='(2, 0)'><pre> 0.070859</pre></td><td style='font-family:monospace;' title='(2, 1)'><pre>-0.291394</pre></td><td style='font-family:monospace;' title='(2, 2)'><pre>-0.087673</pre></td><td style='font-family:monospace;' title='(2, 3)'><pre> 1.220608</pre></td><td style='font-family:monospace;' title='(2, 4)'><pre> 1.414377</pre></td></tr><tr><td style='font-family:monospace;' title='(3, 0)'><pre> 0.073041</pre></td><td style='font-family:monospace;' title='(3, 1)'><pre>-0.13309 </pre></td><td style='font-family:monospace;' title='(3, 2)'><pre> 1.366879</pre></td><td style='font-family:monospace;' title='(3, 3)'><pre>-1.339496</pre></td><td style='font-family:monospace;' title='(3, 4)'><pre>-0.124051</pre></td></tr></tbody></table>"
      ]
     },
     "execution_count": 6,
     "metadata": {},
     "output_type": "execute_result"
    }
   ],
   "source": [
    "some_table"
   ]
  },
  {
   "cell_type": "code",
   "execution_count": null,
   "metadata": {},
   "outputs": [],
   "source": []
  }
 ],
 "metadata": {
  "@webio": {
   "lastCommId": null,
   "lastKernelId": null
  },
  "kernelspec": {
   "display_name": "C++14",
   "language": "C++14",
   "name": "xeus-cling-cpp14"
  },
  "language_info": {
   "codemirror_mode": "text/x-c++src",
   "file_extension": ".cpp",
   "mimetype": "text/x-c++src",
   "name": "c++",
   "version": "-std=c++14"
  }
 },
 "nbformat": 4,
 "nbformat_minor": 2
}
