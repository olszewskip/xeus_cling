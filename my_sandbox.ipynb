{
 "cells": [
  {
   "cell_type": "code",
   "execution_count": 5,
   "metadata": {},
   "outputs": [],
   "source": [
    "#include <iostream>\n",
    "#include <algorithm>\n",
    "#include <numeric>\n",
    "#include <vector>\n",
    "#include <math.h> "
   ]
  },
  {
   "cell_type": "code",
   "execution_count": 3,
   "metadata": {},
   "outputs": [],
   "source": [
    "int arr[3] {1, 2, 3};"
   ]
  },
  {
   "cell_type": "code",
   "execution_count": 12,
   "metadata": {},
   "outputs": [
    {
     "data": {
      "text/plain": [
       "6"
      ]
     },
     "execution_count": 12,
     "metadata": {},
     "output_type": "execute_result"
    }
   ],
   "source": [
    "std::accumulate(arr, arr+3, 0, std::plus<int>())"
   ]
  },
  {
   "cell_type": "code",
   "execution_count": 4,
   "metadata": {},
   "outputs": [
    {
     "data": {
      "text/plain": [
       "6"
      ]
     },
     "execution_count": 4,
     "metadata": {},
     "output_type": "execute_result"
    }
   ],
   "source": [
    "std::accumulate(arr, arr+3, 1, std::multiplies<int>())"
   ]
  },
  {
   "cell_type": "code",
   "execution_count": 5,
   "metadata": {},
   "outputs": [],
   "source": [
    "double result = 0.0;\n",
    "for(int i = 0; i < 3; i++) {\n",
    "    result += arr[i] * log2(arr[i]);\n",
    "}"
   ]
  },
  {
   "cell_type": "code",
   "execution_count": 6,
   "metadata": {},
   "outputs": [
    {
     "data": {
      "text/plain": [
       "6.75489"
      ]
     },
     "execution_count": 6,
     "metadata": {},
     "output_type": "execute_result"
    }
   ],
   "source": [
    "result"
   ]
  },
  {
   "cell_type": "code",
   "execution_count": 8,
   "metadata": {},
   "outputs": [],
   "source": [
    "double xlogx(double result_so_far, double x) {\n",
    "    return result_so_far + x * log2(x);\n",
    "}"
   ]
  },
  {
   "cell_type": "code",
   "execution_count": 11,
   "metadata": {},
   "outputs": [
    {
     "data": {
      "text/plain": [
       "6.75489"
      ]
     },
     "execution_count": 11,
     "metadata": {},
     "output_type": "execute_result"
    }
   ],
   "source": [
    "std::accumulate(arr, arr+3, 0., xlogx)"
   ]
  },
  {
   "cell_type": "code",
   "execution_count": null,
   "metadata": {},
   "outputs": [],
   "source": []
  },
  {
   "cell_type": "code",
   "execution_count": null,
   "metadata": {},
   "outputs": [],
   "source": []
  },
  {
   "cell_type": "code",
   "execution_count": 6,
   "metadata": {},
   "outputs": [
    {
     "name": "stderr",
     "output_type": "stream",
     "text": [
      "\u001b[1minput_line_12:2:2: \u001b[0m\u001b[0;1;31merror: \u001b[0m\u001b[1mno matching function for call to 'accumulate'\u001b[0m\n",
      " std::accumulate(arr, 3, std::multiplies<int>())\n",
      "\u001b[0;1;32m ^~~~~~~~~~~~~~~\n",
      "\u001b[0m\u001b[1m/home/olszewskip/miniconda3/envs/xeus_cling/bin/../lib/gcc/x86_64-conda_cos6-linux-gnu/7.3.0/../../../../x86_64-conda_cos6-linux-gnu/include/c++/7.3.0/bits/stl_numeric.h:120:5: \u001b[0m\u001b[0;1;30mnote: \u001b[0mcandidate template ignored: deduced conflicting types for parameter\n",
      "      '_InputIterator' ('int *' vs. 'int')\u001b[0m\n",
      "    accumulate(_InputIterator __first, _InputIterator __last, _Tp __init)\n",
      "\u001b[0;1;32m    ^\n",
      "\u001b[0m\u001b[1m/home/olszewskip/miniconda3/envs/xeus_cling/bin/../lib/gcc/x86_64-conda_cos6-linux-gnu/7.3.0/../../../../x86_64-conda_cos6-linux-gnu/include/c++/7.3.0/bits/stl_numeric.h:146:5: \u001b[0m\u001b[0;1;30mnote: \u001b[0mcandidate function template not viable: requires 4 arguments, but 3 were\n",
      "      provided\u001b[0m\n",
      "    accumulate(_InputIterator __first, _InputIterator __last, _Tp __init,\n",
      "\u001b[0;1;32m    ^\n",
      "\u001b[0m"
     ]
    },
    {
     "ename": "Interpreter Error",
     "evalue": "",
     "output_type": "error",
     "traceback": [
      "Interpreter Error: "
     ]
    }
   ],
   "source": [
    "std::accumulate(arr, 3, std::multiplies<int>())"
   ]
  },
  {
   "cell_type": "code",
   "execution_count": 1,
   "metadata": {},
   "outputs": [],
   "source": [
    "template<typename T>\n",
    "struct Matrix {\n",
    "    T* data = NULL;\n",
    "    ~Matrix() {\n",
    "        delete[] data;\n",
    "    }\n",
    "};"
   ]
  },
  {
   "cell_type": "code",
   "execution_count": 6,
   "metadata": {},
   "outputs": [
    {
     "name": "stdout",
     "output_type": "stream",
     "text": [
      "0\n"
     ]
    }
   ],
   "source": [
    "{\n",
    "Matrix<double> matdoub;\n",
    "std::cout << matdoub.data << std::endl;\n",
    "}"
   ]
  },
  {
   "cell_type": "code",
   "execution_count": 35,
   "metadata": {},
   "outputs": [
    {
     "name": "stdout",
     "output_type": "stream",
     "text": [
      "0\n",
      "1\n",
      "2\n"
     ]
    }
   ],
   "source": [
    "for (auto& it : arr_)\n",
    "    std::cout << it << std::endl;"
   ]
  },
  {
   "cell_type": "code",
   "execution_count": 33,
   "metadata": {},
   "outputs": [
    {
     "data": {
      "text/plain": [
       "@0x7ffd0ebb4f48"
      ]
     },
     "execution_count": 33,
     "metadata": {},
     "output_type": "execute_result"
    }
   ],
   "source": [
    "std::copy_n(arr_, 3, arr)"
   ]
  },
  {
   "cell_type": "code",
   "execution_count": 29,
   "metadata": {},
   "outputs": [
    {
     "data": {
      "text/plain": [
       "0"
      ]
     },
     "execution_count": 29,
     "metadata": {},
     "output_type": "execute_result"
    }
   ],
   "source": [
    "*arr_"
   ]
  },
  {
   "cell_type": "code",
   "execution_count": 5,
   "metadata": {},
   "outputs": [
    {
     "data": {
      "text/plain": [
       "1"
      ]
     },
     "execution_count": 5,
     "metadata": {},
     "output_type": "execute_result"
    }
   ],
   "source": [
    "*arr"
   ]
  },
  {
   "cell_type": "code",
   "execution_count": 7,
   "metadata": {},
   "outputs": [],
   "source": [
    "int* ptr = arr;"
   ]
  },
  {
   "cell_type": "code",
   "execution_count": 9,
   "metadata": {},
   "outputs": [
    {
     "data": {
      "text/plain": [
       "1"
      ]
     },
     "execution_count": 9,
     "metadata": {},
     "output_type": "execute_result"
    }
   ],
   "source": [
    "*ptr"
   ]
  },
  {
   "cell_type": "code",
   "execution_count": 1,
   "metadata": {},
   "outputs": [],
   "source": [
    "template<typename T>\n",
    "struct dupa {\n",
    "    T var;\n",
    "};"
   ]
  },
  {
   "cell_type": "code",
   "execution_count": 2,
   "metadata": {},
   "outputs": [],
   "source": [
    "dupa<int> moja_dupa;"
   ]
  },
  {
   "cell_type": "code",
   "execution_count": 3,
   "metadata": {},
   "outputs": [],
   "source": [
    "template<unsigned int dim, typename T>\n",
    "struct pupa : dupa<T>{\n",
    "    double var2 = dim;\n",
    "};"
   ]
  },
  {
   "cell_type": "code",
   "execution_count": null,
   "metadata": {},
   "outputs": [],
   "source": []
  },
  {
   "cell_type": "code",
   "execution_count": 3,
   "metadata": {},
   "outputs": [
    {
     "name": "stderr",
     "output_type": "stream",
     "text": [
      "\u001b[1minput_line_9:2:8: \u001b[0m\u001b[0;1;31merror: \u001b[0m\u001b[1mexplicit specialization of non-template struct 'test'\u001b[0m\n",
      "struct test<dim, T> : dupa<T>{\n",
      "\u001b[0;1;32m       ^   ~~~~~~~~\n",
      "\u001b[0m\u001b[1m<<< cling interactive line includer >>>:1:1: \u001b[0m\u001b[0;1;31merror: \u001b[0m\u001b[1mexpected ',' or '>' in template-parameter-list\u001b[0m\n",
      "\u001b[1m<<< cling interactive line includer >>>:1:1: \u001b[0m\u001b[0;1;31merror: \u001b[0m\u001b[1mexpected unqualified-id\u001b[0m\n"
     ]
    },
    {
     "ename": "Interpreter Error",
     "evalue": "",
     "output_type": "error",
     "traceback": [
      "Interpreter Error: "
     ]
    }
   ],
   "source": [
    "template<unsigned int dim, typename T>\n",
    "struct test<dim, T> : dupa<T>{\n",
    "    unsigned int shape[dim];\n",
    "    test(unsigned int shape_) {\n",
    "        std::copy_n(shape_, dim, shape);\n",
    "    }\n",
    "};\n",
    "\n",
    "template<unsigned"
   ]
  },
  {
   "cell_type": "code",
   "execution_count": null,
   "metadata": {},
   "outputs": [],
   "source": [
    "int a[3] = {2, 4, 6};\n",
    "int b[3];\n",
    "for (int* ptr = a; )"
   ]
  },
  {
   "cell_type": "code",
   "execution_count": 6,
   "metadata": {},
   "outputs": [],
   "source": [
    "int arr[3] = {2,3,4};"
   ]
  },
  {
   "cell_type": "code",
   "execution_count": 7,
   "metadata": {},
   "outputs": [],
   "source": [
    "#include <numeric>"
   ]
  },
  {
   "cell_type": "code",
   "execution_count": 8,
   "metadata": {},
   "outputs": [
    {
     "data": {
      "text/plain": [
       "1"
      ]
     },
     "execution_count": 8,
     "metadata": {},
     "output_type": "execute_result"
    }
   ],
   "source": [
    "std::accumulate(arr, arr, 1, std::multiplies<int>())"
   ]
  },
  {
   "cell_type": "code",
   "execution_count": 1,
   "metadata": {},
   "outputs": [],
   "source": [
    "#include <iostream>\n",
    "#include <math.h>\n",
    "\n",
    "template<unsigned int dim, typename T>\n",
    "struct Matrix {\n",
    "    unsigned int size = 1;\n",
    "    unsigned int shape[dim];\n",
    "    T* data = NULL;\n",
    "    Matrix() {};\n",
    "    Matrix(unsigned int (&shape_)[dim], T initial_value);\n",
    "    ~Matrix() { delete[] data; }\n",
    "    T& elem(unsigned int (&index)[dim]);\n",
    "    T& elem(unsigned int (&&index)[dim]) { return elem(index); }\n",
    "    void initialize_margins(Matrix<dim - 1, T> (&margins)[dim],\n",
    "                            T initial_value);\n",
    "    void compute_margins(Matrix<dim - 1, T> (&margins)[dim]);\n",
    "    double linlog();\n",
    "    void print();\n",
    "};\n",
    "\n",
    "\n",
    "// unsigned int shape[2] = {3,4};\n",
    "// Matrix<2, double> my_matrix(shape);\n",
    "template<unsigned int dim, typename T>\n",
    "Matrix<dim, T>::Matrix(unsigned int (&shape_)[dim], T initial_value) {\n",
    "    for(int dim_idx = 0; dim_idx < dim; ++dim_idx) {\n",
    "        shape[dim_idx] = shape_[dim_idx];\n",
    "        size *= shape_[dim_idx];\n",
    "    }\n",
    "    data = new T[size];\n",
    "    for(T* ptr = data; ptr != data + size; ++ptr)\n",
    "        *ptr = initial_value;\n",
    "}\n",
    "\n",
    "// my_matrix.elem({1,2}) = rand() % 10;\n",
    "// get reference to the matrix' element\n",
    "// of the given multidimensional index\n",
    "template<unsigned int dim, typename T>\n",
    "T& Matrix<dim, T>::elem(unsigned int (&index)[dim]) {\n",
    "    unsigned int offset = 0;\n",
    "    unsigned int stride = 1;\n",
    "    for(int dim_idx = dim - 1; dim_idx >= 0; --dim_idx) {\n",
    "        offset += stride * index[dim_idx];\n",
    "        stride *= shape[dim_idx];\n",
    "    }\n",
    "    return data[offset];\n",
    "}\n",
    "\n",
    "// multidim_index: {0, 2}, shape: {2, 3} => multidim_index: {1, 0}\n",
    "template<unsigned int dim>\n",
    "void increment_multidim_index(unsigned int (&multidim_index)[dim],\n",
    "                              unsigned int (&shape)[dim]) {\n",
    "    bool increment = true;\n",
    "    for(int dim_index = dim - 1; dim_index >= 0; --dim_index) {\n",
    "        multidim_index[dim_index] += increment;\n",
    "        increment = multidim_index[dim_index] / shape[dim_index];\n",
    "        if(!increment) { break; }\n",
    "        multidim_index[dim_index] = 0;\n",
    "    }\n",
    "}\n",
    "\n",
    "// // flat_index: 3, shape: {2, 3} => multidim_index: {1, 0}\n",
    "// template<unsigned int dim>\n",
    "// void compute_multidim_index(unsigned int flat_index,\n",
    "//                             unsigned int (&multidim_index)[dim],\n",
    "//                             unsigned int (&shape)[dim]\n",
    "//                      ) {\n",
    "//     for(int dim_index = dim - 1; dim_index >= 0; --dim_index) {\n",
    "//         multidim_index[dim_index] = flat_index % shape[dim_index];\n",
    "//         flat_index /= shape[dim_index];\n",
    "//     }    \n",
    "// }\n",
    "\n",
    "// from: [3, 5, 8], skip_index = 1 => to: [3, 8]\n",
    "template<unsigned int size>\n",
    "void copy_skipping(unsigned int (&from)[size],\n",
    "                   unsigned int (&to)[size - 1],\n",
    "                   unsigned int skip_index) {\n",
    "    bool skipped = false;\n",
    "    for(unsigned int index = 0; index < size; ++index) {\n",
    "        if(index == skip_index) { skipped = true; continue; }\n",
    "        to[index - skipped] = from[index];\n",
    "    }\n",
    "}\n",
    "\n",
    "// \n",
    "template<unsigned int dim, typename T>\n",
    "void Matrix<dim, T>::initialize_margins(Matrix<dim - 1, T> (&margins)[dim],\n",
    "                                        T initial_value) {\n",
    "    unsigned int margin_shape[dim - 1];\n",
    "    for(unsigned int dim_index = 0; dim_index < dim; ++dim_index) {\n",
    "        copy_skipping(shape, margin_shape, dim_index);\n",
    "        margins[dim_index] = Matrix<dim - 1, T> {margin_shape, initial_value};\n",
    "    }\n",
    "}\n",
    "\n",
    "// \n",
    "template<unsigned int dim, typename T>\n",
    "void Matrix<dim, T>::compute_margins(Matrix<dim - 1, T> (&margins)[dim]) {\n",
    "    unsigned int multidim_index[dim] = {0};\n",
    "    unsigned int in_margin_index[dim - 1];\n",
    "    for(unsigned int flat_index = 0;flat_index < size;\n",
    "        increment_multidim_index(multidim_index, shape), ++flat_index) {\n",
    "        for(unsigned int dim_index = 0; dim_index < dim; ++dim_index) {\n",
    "            copy_skipping(multidim_index, in_margin_index, dim_index);\n",
    "            margins[dim_index].elem(in_margin_index) += data[flat_index];\n",
    "        }\n",
    "    }  \n",
    "}\n",
    "\n",
    "template<unsigned int dim, typename T>\n",
    "double Matrix<dim, T>::linlog() {\n",
    "    double result = 0.;\n",
    "    for(int i = 0; i < size; ++i)\n",
    "        result += data[i] * log2(data[i]);\n",
    "    return result;\n",
    "}\n",
    "\n",
    "// my_matrix.print();\n",
    "template<unsigned int dim, typename T>\n",
    "void Matrix<dim, T>::print() {\n",
    "    // size\n",
    "    std::cout << \"size: \" << size << std::endl;\n",
    "    // shape\n",
    "    std::cout << \"shape: {\";\n",
    "    for(int dim_index = 0; dim_index < dim - 1; ++dim_index)\n",
    "        std::cout << shape[dim_index] << \", \";\n",
    "    std::cout << shape[dim - 1] << \"}\" << std::endl;\n",
    "    // elements\n",
    "    std::cout << \"elements:\" << std::endl;\n",
    "    unsigned int multidim_index[dim] = {0};\n",
    "    for(unsigned int flat_index = 0; flat_index < size;\n",
    "        increment_multidim_index(multidim_index, shape), ++flat_index){\n",
    "        std::cout << flat_index << \" [\";\n",
    "        for(unsigned int dim_index = 0; dim_index < dim - 1; ++dim_index)\n",
    "            std::cout << multidim_index[dim_index] << \", \";\n",
    "        std::cout << multidim_index[dim - 1] << \"] \" << data[flat_index] << std::endl;\n",
    "    }\n",
    "    std::cout << std::endl;\n",
    "}"
   ]
  },
  {
   "cell_type": "markdown",
   "metadata": {},
   "source": [
    "---\n",
    "---"
   ]
  },
  {
   "cell_type": "code",
   "execution_count": 1,
   "metadata": {},
   "outputs": [],
   "source": [
    "// #include <cassert>\n",
    "// #include <iostream>"
   ]
  },
  {
   "cell_type": "code",
   "execution_count": 1,
   "metadata": {},
   "outputs": [],
   "source": [
    "#include <cassert>\n",
    "#include <iostream>\n",
    "\n",
    "class Indices {\n",
    "   // Abstraction for a finite sequence of indices,\n",
    "   // where each 'index' is a multi-index i.e. it \n",
    "   // is itself a fixed-sized sequence of integers,\n",
    "   // say e.g. ( (0,0), (0,1), (0,2), (1,1), ...).\n",
    "   // The integers of a current multi-index are\n",
    "   // held in a buffer. This class serves to modify\n",
    "   // the buffer to simulate sequence traversal.\n",
    "   public:\n",
    "      // By the sequence being exhausted we mean\n",
    "      // that it has been taken beyond its last element.\n",
    "      // The flag is not yet set when the indices\n",
    "      // represent the last element of the sequence.\n",
    "      virtual bool is_exhausted() = 0;\n",
    "      virtual void set_exhausted(bool) = 0;\n",
    "      // pointer to a buffer with actual integers\n",
    "      unsigned int* index = NULL;\n",
    "      // connect pointer to indices\n",
    "      virtual void use_buff(unsigned int* const) = 0;\n",
    "      // number of indices (lenght of buffer)\n",
    "      unsigned int k;\n",
    "      // move the index one step forward in the sequence\n",
    "      virtual void next() = 0; \n",
    "      // change the index back to the first element of the sequence\n",
    "      virtual void reset() = 0;\n",
    "      virtual std::string to_str() = 0;\n",
    "      void print(unsigned limit = -1) {\n",
    "         assert(index);\n",
    "         unsigned count = 0;\n",
    "         while(!is_exhausted()) {\n",
    "            if (count == limit)\n",
    "               break;\n",
    "            std::cout << to_str() << std::endl;\n",
    "            next();\n",
    "            ++count;\n",
    "         }\n",
    "         reset();\n",
    "      }\n",
    "};\n",
    "\n",
    "class IndicesTriangle : public Indices {\n",
    "   // Each index in the sequence is an increasing sequence,\n",
    "   // e.g. (0, 1, 2, 3) for k = 4.\n",
    "   // With k = 0, the object behaves\n",
    "   // like multiplication identity (if !is_exhausted)\n",
    "   // summation identity (if is_exhausted)\n",
    "   protected:\n",
    "      // lower bound (inclusive) of values of all indices\n",
    "      unsigned int lower;\n",
    "      // upper bound (noninclusive) of values of all indices\n",
    "      unsigned int upper;\n",
    "      // is the index-sequence not strictly increasing;\n",
    "      // i.e. is e.g. (0, 1, 1, 2) in the sequence\n",
    "      bool with_diag;\n",
    "      // is the whole sequence exhausted\n",
    "      bool exhausted = false;\n",
    "   public:\n",
    "      // constructor\n",
    "      IndicesTriangle (unsigned int k_,\n",
    "                       unsigned int lower_ = 0,\n",
    "                       unsigned int upper_ = 0,\n",
    "                       bool with_diag_ = true) :\n",
    "         lower(lower_),\n",
    "         upper(upper_),\n",
    "         with_diag(with_diag_) {\n",
    "         assert(upper >= lower);\n",
    "         if( !with_diag & ((upper - lower) < k) ) {\n",
    "            k = 0;\n",
    "         }\n",
    "         else {\n",
    "            k = k_;\n",
    "         }\n",
    "      }\n",
    "      void use_buff(unsigned int* const buff) {\n",
    "         index = buff;\n",
    "         reset();\n",
    "      }\n",
    "      bool is_exhausted() { return exhausted; }\n",
    "      void set_exhausted(bool exhausted_) { exhausted = exhausted_; }\n",
    "      void next() {\n",
    "         // F-style traversal\n",
    "         if (k > 0) {\n",
    "            bool increment = 1;\n",
    "            for(unsigned int i = 0; i < k - 1; i++) {\n",
    "               div_t division = div(index[i] + increment, index[i+1] + with_diag);\n",
    "               increment = division.quot;\n",
    "               index[i] = division.rem + increment * (lower + !with_diag * i);\n",
    "            }\n",
    "            index[k - 1] += increment;\n",
    "            exhausted = index[k - 1] / upper;\n",
    "         }\n",
    "         else {\n",
    "            exhausted = true;\n",
    "         }\n",
    "      }\n",
    "      void next_() {\n",
    "         // C-style traversal\n",
    "         if (k > 0) {\n",
    "            unsigned int position = k - 1;\n",
    "            bool shift_left = (index[position] + 1) / upper;\n",
    "            while (shift_left) {\n",
    "               if (!position) {\n",
    "                  exhausted = true;\n",
    "                  return;\n",
    "               }\n",
    "               --position;\n",
    "               shift_left = (index[position] + !with_diag) / index[position + 1];\n",
    "            }\n",
    "            ++index[position];\n",
    "            for (unsigned int i = position + 1; i < k; ++i) {\n",
    "               index[i] = index[i - 1] + !with_diag;\n",
    "            }  \n",
    "         }\n",
    "         else {\n",
    "            exhausted = true;\n",
    "         }\n",
    "      }\n",
    "      void reset() {\n",
    "         for(unsigned int i = 0; i < k; ++i)\n",
    "            index[i] = lower + !with_diag * i;\n",
    "         exhausted = false;\n",
    "      }\n",
    "      std::string to_str() {\n",
    "         std::stringstream ss;\n",
    "         if (k > 0) {\n",
    "            ss << \"(\";\n",
    "            for (unsigned int i = 0; i < k - 1; ++i)\n",
    "                ss << index[i] << \", \";\n",
    "            ss << index[k - 1] << \")\";\n",
    "         }\n",
    "         else {\n",
    "            ss << \"\";\n",
    "         }\n",
    "         return ss.str();\n",
    "      }\n",
    "};\n",
    "\n",
    "class IndicesProduct : public Indices {   \n",
    "   // Cartesian product of two sequences.\n",
    "   // Again results in a sequence (the order\n",
    "   // is \"row-wise\", i.e. second index changes\n",
    "   // faster).\n",
    "   protected:\n",
    "      Indices& ind_L;\n",
    "      Indices& ind_R;\n",
    "   public:\n",
    "      unsigned int boundary_index;\n",
    "      IndicesProduct(Indices& ind_L_arg, Indices& ind_R_arg) :\n",
    "         ind_L(ind_L_arg),\n",
    "         ind_R(ind_R_arg),\n",
    "         boundary_index(ind_L_arg.k) {\n",
    "            k = ind_L_arg.k + ind_R_arg.k;\n",
    "      }\n",
    "      void use_buff(unsigned int* const buff) {\n",
    "         index = buff;\n",
    "         ind_L.use_buff(buff);\n",
    "         ind_R.use_buff(buff + boundary_index);\n",
    "      }\n",
    "      bool is_exhausted() {\n",
    "         return ind_L.is_exhausted();\n",
    "      }\n",
    "      void set_exhausted(bool exhausted_) {\n",
    "         ind_L.set_exhausted(exhausted_);\n",
    "      }\n",
    "    \n",
    "      void next() {\n",
    "         ind_R.next();\n",
    "         if (ind_R.is_exhausted()) {\n",
    "            ind_R.reset();\n",
    "            ind_L.next();\n",
    "         }\n",
    "      }\n",
    "      void reset() {\n",
    "         ind_L.reset();\n",
    "         ind_R.reset();\n",
    "      }\n",
    "      std::string to_str() {\n",
    "         std::stringstream ss;\n",
    "         ss << ind_L.to_str() << ind_R.to_str();\n",
    "         return ss.str();\n",
    "      }\n",
    "};\n",
    "\n",
    "class IndicesProductId : public Indices {\n",
    "   // Multiplication's identity.\n",
    "   // Should be equivalent to IndicesTriangle(k=0)\n",
    "   protected:\n",
    "      bool exhausted = false;\n",
    "   public:\n",
    "      IndicesProductId() { k = 0; }\n",
    "      bool is_exhausted() { return exhausted; }\n",
    "      void set_exhausted(bool exhausted_) { exhausted = exhausted_; }\n",
    "      void use_buff(unsigned int* const buff) {}\n",
    "      void next() { exhausted = true; }\n",
    "      void reset() { exhausted = false; }\n",
    "      std::string to_str() { return \"\"; }\n",
    "};\n",
    "\n",
    "class IndicesSum : public Indices {\n",
    "   // Concatenation of two sequences.\n",
    "   // (Assumes that both represent multi-indices\n",
    "   // of the same lenght k.)\n",
    "   // Meaning that, when we step over the sum,\n",
    "   // we first exhaust the first component sequence,\n",
    "   // and then step through the second one.\n",
    "   protected:\n",
    "      Indices& ind_L;\n",
    "      Indices& ind_R;\n",
    "      bool using_L;\n",
    "   public:\n",
    "      IndicesSum(Indices &ind_L_arg, Indices &ind_R_arg) :\n",
    "         ind_L(ind_L_arg),\n",
    "         ind_R(ind_R_arg),\n",
    "         using_L(true) {\n",
    "            assert(ind_L_arg.k == ind_R_arg.k);\n",
    "            k = ind_L_arg.k;\n",
    "      }\n",
    "      void use_buff(unsigned int* const buff) {\n",
    "         index = buff;\n",
    "         if (ind_L.is_exhausted()) {\n",
    "            using_L = false;\n",
    "            ind_R.use_buff(index);\n",
    "         }\n",
    "         else {\n",
    "            ind_L.use_buff(buff);\n",
    "         }\n",
    "      }\n",
    "      bool is_exhausted() {\n",
    "         return ind_L.is_exhausted() &\n",
    "                ind_R.is_exhausted();\n",
    "      }\n",
    "      void set_exhausted(bool exhausted_) {\n",
    "         ind_L.set_exhausted(exhausted_);\n",
    "         ind_R.set_exhausted(exhausted_);\n",
    "      }\n",
    "      void next() {\n",
    "         if (using_L) {\n",
    "            ind_L.next();\n",
    "            if(ind_L.is_exhausted()) {\n",
    "               using_L = false;\n",
    "               ind_R.use_buff(index);\n",
    "            }\n",
    "         }\n",
    "         else {\n",
    "            ind_R.next();\n",
    "         }\n",
    "      }\n",
    "      void reset() {\n",
    "         ind_L.use_buff(index);\n",
    "         using_L = true;\n",
    "         set_exhausted(false);\n",
    "      }\n",
    "      std::string to_str() {\n",
    "         std::stringstream ss;\n",
    "         ss << (using_L ? ind_L.to_str() : ind_R.to_str());\n",
    "         return ss.str();\n",
    "      }\n",
    "};\n",
    "\n",
    "class IndicesSumId : public Indices {\n",
    "   // Summation's identity.\n",
    "   // Parametrized by k.\n",
    "   protected:\n",
    "      bool exhausted = true;\n",
    "   public:\n",
    "      IndicesSumId(int k_arg) { k = k_arg; }\n",
    "      bool is_exhausted() { return true; }\n",
    "      void set_exhausted(bool exhausted_arg) {}\n",
    "      void use_buff(unsigned int* const buff) {}\n",
    "      void next() {}\n",
    "      void reset() {}\n",
    "      std::string to_str() { return \"\"; }\n",
    "};\n",
    "\n"
   ]
  },
  {
   "cell_type": "code",
   "execution_count": 2,
   "metadata": {},
   "outputs": [],
   "source": [
    "// const unsigned int k = 3;\n",
    "// unsigned int tile_index_1[k];\n",
    "// IndicesTriangle my_indices_1(k, 2, 6, false);\n",
    "// my_indices_1.use_buff(tile_index_1);\n",
    "// my_indices_1.print()"
   ]
  },
  {
   "cell_type": "code",
   "execution_count": 3,
   "metadata": {},
   "outputs": [],
   "source": [
    "// const unsigned int k_1 = 2;\n",
    "// const unsigned int k_2 = 3; \n",
    "// unsigned int tile_index_2[k_1 + k_2];\n",
    "// IndicesTriangle my_indices_2\n",
    "//                    (k_1, 1, 4, true);\n",
    "// IndicesTriangle my_indices_3\n",
    "//                  (k_2, 6, 10, false);\n",
    "// IndicesProduct my_product_1\n",
    "//         (my_indices_2, my_indices_3);\n",
    "// IndicesProductId my_one\n",
    "//                 = IndicesProductId();\n",
    "// IndicesProduct my_product_2\n",
    "//               (my_product_1, my_one);\n",
    "// my_product_2.use_buff(tile_index_2);\n",
    "// my_product_2.print()"
   ]
  },
  {
   "cell_type": "code",
   "execution_count": 4,
   "metadata": {},
   "outputs": [],
   "source": [
    "// const unsigned int k = 3;\n",
    "// unsigned int tile_index_1[k];\n",
    "// IndicesTriangle my_indices_4\n",
    "//                   (k, 0, 4, true);\n",
    "// IndicesTriangle my_indices_5\n",
    "//                 (k, 6, 10, false);\n",
    "// IndicesSumId my_zero(k);\n",
    "// IndicesSum my_sum_1\n",
    "//           (my_indices_4, my_zero);\n",
    "// IndicesSum my_sum_2\n",
    "//          (my_sum_1, my_indices_5);\n",
    "// my_sum_2.use_buff(tile_index_1);\n",
    "// my_sum_2.print()"
   ]
  },
  {
   "cell_type": "code",
   "execution_count": 5,
   "metadata": {},
   "outputs": [],
   "source": [
    "// Indices_sum my_sum(my_indices_1, my_indices_2);\n",
    "// my_sum.use_buff(tile_index);"
   ]
  },
  {
   "cell_type": "code",
   "execution_count": 6,
   "metadata": {},
   "outputs": [],
   "source": [
    "// my_sum.print()"
   ]
  },
  {
   "cell_type": "code",
   "execution_count": 2,
   "metadata": {},
   "outputs": [],
   "source": [
    "IndicesSum& fold(std::vector<IndicesTriangle>& vect_1,\n",
    "                 std::vector<IndicesTriangle>& vect_2,\n",
    "                 std::vector<IndicesProduct>& vect_1_x_2,\n",
    "                 std::vector<IndicesSum>& vect_1_x_2_sum,\n",
    "                 IndicesSumId& indices_zero,\n",
    "                 unsigned int index_1_L,\n",
    "                 unsigned int index_1_R,\n",
    "                 unsigned int index_2_L,\n",
    "                 unsigned int index_2_R,\n",
    "                 unsigned int lower_limit,\n",
    "                 unsigned int upper_limit) {\n",
    "   // construct\n",
    "   // indices =\n",
    "   // \\sum_{i = lower_limit}^{upper_limit}\n",
    "   //   [ (index_1_L : index_1_R)^(upper_limit - i)\n",
    "   //     \\times\n",
    "   //     (index_2_L : index_2_R)^i\n",
    "   //   ],\n",
    "   // where (L : R)^i denotes IndicesTriangle(i, L, R, true)\n",
    "    \n",
    "   assert(lower_limit <= upper_limit);\n",
    "   unsigned int component_count = upper_limit - lower_limit + 1;\n",
    "   vect_1.reserve(component_count);\n",
    "   vect_2.reserve(component_count);\n",
    "   vect_1_x_2.reserve(component_count);\n",
    "   vect_1_x_2_sum.reserve(component_count);\n",
    "\n",
    "   for(unsigned int i = lower_limit; i <= upper_limit; ++i) {\n",
    "      vect_1.emplace_back(upper_limit - i,\n",
    "                          index_1_L,\n",
    "                          index_1_R,\n",
    "                          true);\n",
    "      vect_2.emplace_back(i,\n",
    "                          index_2_L,\n",
    "                          index_2_R,\n",
    "                          true);\n",
    "      vect_1_x_2.emplace_back(vect_1.back(),\n",
    "                              vect_2.back());\n",
    "   }\n",
    "   vect_1_x_2_sum.emplace_back(indices_zero, vect_1_x_2[0]);\n",
    "   for(unsigned int i = 1; i < component_count; ++i) {\n",
    "      vect_1_x_2_sum.emplace_back(\n",
    "            vect_1_x_2_sum.back(),\n",
    "            vect_1_x_2[i]);\n",
    "   }\n",
    "   return vect_1_x_2_sum.back();\n",
    "}\n"
   ]
  },
  {
   "cell_type": "markdown",
   "metadata": {},
   "source": [
    "$$\n",
    "\\sum_{i = 1}^{k=4} (0 : 3)^{k - i} \\times (3 : 5)^{i}\n",
    "$$"
   ]
  },
  {
   "cell_type": "code",
   "execution_count": 8,
   "metadata": {
    "scrolled": false
   },
   "outputs": [],
   "source": [
    "// const unsigned int k = 4;\n",
    "// std::vector<IndicesTriangle> vect_1;\n",
    "// std::vector<IndicesTriangle> vect_2;\n",
    "// std::vector<IndicesProduct> vect_1_x_2;\n",
    "// std::vector<IndicesSum> vect_1_x_2_sum;\n",
    "// IndicesSumId indices_zero(k);\n",
    "// unsigned int tile_index[k];\n",
    "// IndicesSum& fold_result =\n",
    "//     fold(vect_1, vect_2, vect_1_x_2,\n",
    "//          vect_1_x_2_sum, indices_zero,\n",
    "//          0, 3, 3, 5, 1, k);\n",
    "// fold_result.use_buff(tile_index);\n",
    "// fold_result.print();"
   ]
  },
  {
   "cell_type": "code",
   "execution_count": 9,
   "metadata": {},
   "outputs": [],
   "source": [
    "template<unsigned int dim>\n",
    "IndicesSum& build_gpu_tile_indices(unsigned int groups[]) {\n",
    "    static IndicesTriangle reg_fat(dim, groups[0], groups[1], true);\n",
    "    static IndicesTriangle reg_fat_(dim - 1, groups[0], groups[1], true);\n",
    "    static IndicesTriangle heur_fat(1, groups[2], groups[3], true);\n",
    "    static IndicesTriangle contr_fat(1, groups[4], groups[5], true);\n",
    "    static IndicesSum heur_plus_contr_fat(heur_fat, contr_fat);\n",
    "    static IndicesProduct fat_(reg_fat_, heur_plus_contr_fat);\n",
    "    static IndicesSum gpu_tile_indices(reg_fat, fat_);\n",
    "    return gpu_tile_indices;\n",
    "}"
   ]
  },
  {
   "cell_type": "code",
   "execution_count": 10,
   "metadata": {},
   "outputs": [],
   "source": [
    "// unsigned int groups[7] =\n",
    "//             {0,2,6,11,15,17,20};\n",
    "// const unsigned int dim = 3;\n",
    "// IndicesSum& gpu_tile_indices =\n",
    "//     build_gpu_tile_indices<dim>(groups);\n",
    "// unsigned int buff[dim];\n",
    "// gpu_tile_indices.use_buff(buff);\n",
    "// gpu_tile_indices.print()"
   ]
  },
  {
   "cell_type": "code",
   "execution_count": 11,
   "metadata": {},
   "outputs": [],
   "source": [
    "template<unsigned int dim>\n",
    "IndicesSum& build_cpu_tile_indices(unsigned int groups[]) {\n",
    "    // \\sum_{i=1}^{dim} (0:1)^{dim-i} (1:2)^i\n",
    "    static std::vector<IndicesTriangle> reg_fat;\n",
    "    static std::vector<IndicesTriangle> reg_lean;\n",
    "    static std::vector<IndicesProduct> reg_fat_x_lean;\n",
    "    static std::vector<IndicesSum> reg_fat_x_lean_sum;\n",
    "    static IndicesSumId indices_zero(dim);\n",
    "    IndicesSum& rectangle_1 = fold(reg_fat, reg_lean,\n",
    "                                   reg_fat_x_lean,\n",
    "                                   reg_fat_x_lean_sum,\n",
    "                                   indices_zero,\n",
    "                                   groups[0], groups[1],\n",
    "                                   groups[1], groups[2],\n",
    "                                   1, dim);\n",
    "    // ( \\sum_{i=1}^{dim} (0:1)^{dim-1-i} (1:2)^i )\n",
    "    // \\times (2:6)\n",
    "    static std::vector<IndicesTriangle> reg_fat_;\n",
    "    static std::vector<IndicesTriangle> reg_lean_;\n",
    "    static std::vector<IndicesProduct> reg_fat_x_lean_;\n",
    "    static std::vector<IndicesSum> reg_fat_x_lean_sum_;\n",
    "    static IndicesSumId indices_zero_(dim - 1);\n",
    "    IndicesSum& reg_fold = fold(reg_fat_, reg_lean_,\n",
    "                                reg_fat_x_lean_,\n",
    "                                reg_fat_x_lean_sum_,\n",
    "                                indices_zero_,\n",
    "                                groups[0], groups[1],\n",
    "                                groups[1], groups[2],\n",
    "                                1, dim - 1);\n",
    "    static IndicesTriangle non_reg(1, groups[2], groups[6], true);\n",
    "    static IndicesProduct rectangle_2(reg_fold, non_reg);\n",
    "    // (0:1)^{dim-1} \\times (3:4 + 5:6)\n",
    "    static IndicesTriangle heur_lean(1, groups[3], groups[4], true);\n",
    "    static IndicesTriangle contr_lean(1, groups[5], groups[6], true);\n",
    "    static IndicesSum non_reg_lean(heur_lean, contr_lean);\n",
    "    static IndicesProduct rectangle_3(reg_fat[0], non_reg_lean);\n",
    "    // \n",
    "    static IndicesSum rectangle_1_plus_2(rectangle_1, rectangle_2);\n",
    "    static IndicesSum rectangle(rectangle_1_plus_2, rectangle_3);\n",
    "    return rectangle;\n",
    "}"
   ]
  },
  {
   "cell_type": "code",
   "execution_count": 12,
   "metadata": {},
   "outputs": [],
   "source": [
    "// unsigned int groups[7] =\n",
    "//             {0,2,6,11,15,17,20};\n",
    "// const unsigned int dim = 3;\n",
    "// unsigned int buff[dim];"
   ]
  },
  {
   "cell_type": "code",
   "execution_count": 13,
   "metadata": {
    "scrolled": true
   },
   "outputs": [],
   "source": [
    "// IndicesSum& cpu_tile_indices =\n",
    "//     build_cpu_tile_indices<dim>(groups);\n",
    "// cpu_tile_indices.use_buff(buff);\n",
    "// cpu_tile_indices.print()"
   ]
  },
  {
   "cell_type": "code",
   "execution_count": null,
   "metadata": {},
   "outputs": [],
   "source": []
  },
  {
   "cell_type": "markdown",
   "metadata": {},
   "source": [
    "---\n",
    "---"
   ]
  },
  {
   "cell_type": "code",
   "execution_count": 14,
   "metadata": {},
   "outputs": [],
   "source": [
    "// void discretize(\n",
    "//     uint32_t seed,\n",
    "//     uint32_t discretization_index,\n",
    "//     uint32_t feature_id,\n",
    "//     std::size_t divisions,\n",
    "//     std::size_t object_count,\n",
    "//     const double* in_data,\n",
    "//     const std::vector<double>& sorted_in_data, // Note: why different type?\n",
    "//     uint8_t* out_data,\n",
    "//     double range\n",
    "// );"
   ]
  },
  {
   "cell_type": "code",
   "execution_count": 15,
   "metadata": {},
   "outputs": [],
   "source": [
    "#include <algorithm>\n",
    "#include <cstdint>\n",
    "#include <cstring>\n",
    "#include <random>\n",
    "#include <vector>"
   ]
  },
  {
   "cell_type": "code",
   "execution_count": 29,
   "metadata": {},
   "outputs": [],
   "source": [
    "std::mt19937 random_generator(0);\n",
    "std::uniform_real_distribution<double> uniform_range(0, 1);"
   ]
  },
  {
   "cell_type": "code",
   "execution_count": 1,
   "metadata": {},
   "outputs": [],
   "source": [
    "#include <algorithm>\n",
    "#include <cstdint>\n",
    "#include <cstring>\n",
    "#include <random>\n",
    "#include <vector>\n",
    "\n",
    "void discretize(\n",
    "    uint32_t seed,\n",
    "    uint32_t discretization_index,\n",
    "    //uint32_t feature_id,\n",
    "    unsigned int feature_id,\n",
    "    std::size_t divisions,\n",
    "    std::size_t object_count,\n",
    "    const double* in_data,\n",
    "    const std::vector<double>& sorted_in_data,\n",
    "    //uint8_t* out_data,\n",
    "    unsigned int* out_data,\n",
    "    double range\n",
    ") {\n",
    "    double* thresholds = new double[divisions];\n",
    "\n",
    "    // brackets to limit scope\n",
    "    {\n",
    "        double sum = 0.0f;\n",
    "        // brackets to limit scope\n",
    "        {\n",
    "            std::mt19937 seed_random_generator0(seed);\n",
    "            std::mt19937 seed_random_generator1(seed_random_generator0() ^ discretization_index);\n",
    "            std::mt19937 random_generator(seed_random_generator1() ^ feature_id);\n",
    "\n",
    "            // E(X) = (a + b) / 2 = (1 - range + 1 + range) / 2 = 1\n",
    "            std::uniform_real_distribution<double> uniform_range(1.0f - range, 1.0f + range);\n",
    "\n",
    "            for (std::size_t d = 0; d < divisions; ++d) {\n",
    "                thresholds[d] = uniform_range(random_generator);\n",
    "                sum += thresholds[d];\n",
    "            }\n",
    "\n",
    "            sum += uniform_range(random_generator);\n",
    "        }\n",
    "\n",
    "        std::size_t done = 0;\n",
    "        const double length_step = static_cast<double>(object_count) / sum;\n",
    "\n",
    "        // thresholds are converted from an arbitrary space into real values (via indices)\n",
    "        // d - iterates over divisions (of a variable in a discretization)\n",
    "        for (std::size_t d = 0; d < divisions; ++d) {\n",
    "            done += std::lround(thresholds[d] * length_step);\n",
    "\n",
    "            // Note: Check when will this happen, maybe could be skipped\n",
    "            if (done >= object_count) {\n",
    "                done = object_count - 1;\n",
    "            }\n",
    "\n",
    "            thresholds[d] = sorted_in_data[done];\n",
    "        }\n",
    "    }\n",
    "\n",
    "    // o - iterates over objects\n",
    "    for (std::size_t o = 0; o < object_count; ++o) {\n",
    "        out_data[o] = 0;\n",
    "\n",
    "        // out_data[o] (starting with 0) is incremented every time in_data[o] is above a threshold\n",
    "        // divisions is a small number (<=15), no reason to use binsearch, hence linear\n",
    "        // d - iterates over divisions (per object o)\n",
    "        for (std::size_t d = 0; d < divisions; ++d) {\n",
    "            out_data[o] += in_data[o] > thresholds[d];\n",
    "        }\n",
    "    }\n",
    "\n",
    "    delete[] thresholds;\n",
    "}"
   ]
  },
  {
   "cell_type": "code",
   "execution_count": 2,
   "metadata": {},
   "outputs": [
    {
     "data": {
      "text/plain": [
       "{ 0.592845, 0.844266, 0.857946, 0.847252, 0.623564, 0.384382, 0.297535, 0.056713, 0.272656, 0.477665 }"
      ]
     },
     "execution_count": 2,
     "metadata": {},
     "output_type": "execute_result"
    }
   ],
   "source": [
    "std::mt19937 random_generator(0);\n",
    "std::uniform_real_distribution<double> uniform_range(0, 1);\n",
    "double example_in[10];\n",
    "unsigned int example_out[10];\n",
    "for (int i = 0; i < 10; ++i)\n",
    "    example_in[i] = uniform_range(random_generator);\n",
    "std::vector<double> example_in_vec(example_in, example_in + 10);\n",
    "std::sort(example_in_vec.begin(), example_in_vec.end());\n",
    "discretize(0, 0, 0, 2, 10, example_in, example_in_vec, example_out, 0);\n",
    "example_in"
   ]
  },
  {
   "cell_type": "code",
   "execution_count": 3,
   "metadata": {},
   "outputs": [
    {
     "data": {
      "text/plain": [
       "{ 1, 2, 2, 2, 1, 0, 0, 0, 0, 1 }"
      ]
     },
     "execution_count": 3,
     "metadata": {},
     "output_type": "execute_result"
    }
   ],
   "source": [
    "example_out"
   ]
  },
  {
   "cell_type": "markdown",
   "metadata": {},
   "source": [
    "---\n",
    "---"
   ]
  },
  {
   "cell_type": "code",
   "execution_count": 4,
   "metadata": {},
   "outputs": [],
   "source": [
    "#include <iostream>\n",
    "std::cout.precision(10);\n",
    "#include <math.h>\n",
    "#include <stdlib.h>\n",
    "#include <string>\n",
    "#include <fstream>\n",
    "\n",
    "\n",
    "template<unsigned int dim, typename T>\n",
    "struct Matrix {\n",
    "    // pointer to a dynamic array,\n",
    "    // size and shape information\n",
    "    // and methods to use multidimensional indices\n",
    "    unsigned int size = 1;\n",
    "    unsigned int shape[dim];\n",
    "    T* data = NULL;\n",
    "    ~Matrix() { delete[] data; }\n",
    "    void allocate(unsigned int (&shape_)[dim]);\n",
    "    void allocate(unsigned int (&&shape_)[dim]) { allocate(shape_); }\n",
    "    void fill_with(T value);\n",
    "    T& elem(unsigned int (&index)[dim]);\n",
    "    T& elem(unsigned int (&&index)[dim]) { return elem(index); }\n",
    "    void increment_multidim_index(unsigned int (&multidim_index)[dim]);\n",
    "    void print(); // cout size, shape and data\n",
    "};\n",
    "\n",
    "template<unsigned int dim, typename T>\n",
    "void Matrix<dim, T>::allocate(unsigned int (&shape_)[dim]) {\n",
    "    if(data) { delete[] data; }\n",
    "    for(unsigned int dim_index = 0; dim_index < dim; ++dim_index) {\n",
    "        shape[dim_index] = shape_[dim_index];\n",
    "        size *= shape_[dim_index];\n",
    "    }\n",
    "    data = new T[size];\n",
    "}\n",
    "\n",
    "template<unsigned int dim, typename T>\n",
    "void Matrix<dim, T>::fill_with(T initial_value) {\n",
    "    for(unsigned int flat_index = 0; flat_index < size; ++flat_index)\n",
    "        data[flat_index] = initial_value;\n",
    "}\n",
    "\n",
    "template<unsigned int dim, typename T>\n",
    "T& Matrix<dim, T>::elem(unsigned int (&multidim_index)[dim]) {\n",
    "    unsigned int offset = 0;\n",
    "    unsigned int stride = 1;\n",
    "    for(int dim_index = dim - 1; dim_index >= 0; --dim_index) {\n",
    "        offset += stride * multidim_index[dim_index];\n",
    "        stride *= shape[dim_index];\n",
    "    }\n",
    "    return data[offset];\n",
    "}\n",
    "\n",
    "template<unsigned int dim, typename T>\n",
    "void Matrix<dim, T>::increment_multidim_index(unsigned int (&multidim_index)[dim]) {\n",
    "    bool increment = true;\n",
    "    for(int dim_index = dim - 1; dim_index >= 0; --dim_index) {\n",
    "        multidim_index[dim_index] += increment;\n",
    "        increment = multidim_index[dim_index] / shape[dim_index];\n",
    "        if(!increment) { break; }\n",
    "        multidim_index[dim_index] = 0;\n",
    "    }\n",
    "}\n",
    "\n",
    "template<unsigned int dim, typename T>\n",
    "void Matrix<dim, T>::print() {\n",
    "    std::cout << \"size: \" << size << std::endl;\n",
    "    std::cout << \"shape: {\";\n",
    "    for(unsigned int dim_index = 0; dim_index < dim - 1; ++dim_index)\n",
    "        std::cout << shape[dim_index] << \", \";\n",
    "    std::cout << shape[dim - 1] << \"}\" << std::endl;\n",
    "    if(data) {\n",
    "        std::cout << \"elements:\" << std::endl;\n",
    "        unsigned int multidim_index[dim] = {0};\n",
    "        for(unsigned int flat_index = 0; flat_index < size;\n",
    "            increment_multidim_index(multidim_index), ++flat_index){\n",
    "            std::cout << flat_index << \" [\";\n",
    "            for(unsigned int dim_index = 0; dim_index < dim - 1; ++dim_index)\n",
    "                std::cout << multidim_index[dim_index] << \", \";\n",
    "            std::cout << multidim_index[dim - 1] << \"] \" << data[flat_index] << std::endl;\n",
    "        }\n",
    "        std::cout << std::endl;\n",
    "    }\n",
    "}\n",
    "\n",
    "\n",
    "template<unsigned int dim>\n",
    "struct Contingency : Matrix<dim, double> {\n",
    "    // matrix class with a method to compute the IGs\n",
    "    void alloc_init_margins(Contingency<dim - 1> (&margins)[dim],\n",
    "                            double initial_value);\n",
    "    void compute_margins(Contingency<dim - 1> (&margins)[dim]);\n",
    "    double linlog();\n",
    "    void compute_IGs(double (&IGs)[dim - 1],\n",
    "                     Contingency<dim - 1> (&margins_1)[dim],\n",
    "                     Contingency<dim - 2> (&margins_2)[dim - 1]);\n",
    "};\n",
    "\n",
    "template<unsigned int size>\n",
    "void copy_skipping(unsigned int (&from)[size],\n",
    "                   unsigned int (&to)[size - 1],\n",
    "                   unsigned int skip_index) {\n",
    "    bool skipped = false;\n",
    "    for(unsigned int index = 0; index < size; ++index) {\n",
    "        if(index == skip_index) { skipped = true; continue; }\n",
    "        to[index - skipped] = from[index];\n",
    "    }\n",
    "}\n",
    "\n",
    "template<unsigned int dim>\n",
    "void Contingency<dim>::alloc_init_margins(Contingency<dim - 1> (&margins)[dim],\n",
    "                                          double initial_value) {\n",
    "    unsigned int margin_shape[dim - 1];\n",
    "    for(unsigned int dim_index = 0; dim_index < dim; ++dim_index) {\n",
    "        copy_skipping(this->shape, margin_shape, dim_index);\n",
    "        margins[dim_index].allocate(margin_shape);\n",
    "        margins[dim_index].fill_with(initial_value);\n",
    "    }\n",
    "}\n",
    " \n",
    "template<unsigned int dim>\n",
    "void Contingency<dim>::compute_margins(Contingency<dim - 1> (&margins)[dim]) {\n",
    "    unsigned int multidim_index[dim] = {0};\n",
    "    unsigned int in_margin_index[dim - 1];\n",
    "    for(unsigned int flat_index = 0; flat_index < this->size;\n",
    "        this->increment_multidim_index(multidim_index), ++flat_index) {\n",
    "        for(unsigned int dim_index = 0; dim_index < dim; ++dim_index) {\n",
    "            copy_skipping(multidim_index, in_margin_index, dim_index);\n",
    "            margins[dim_index].elem(in_margin_index) += this->data[flat_index];\n",
    "        }\n",
    "    }  \n",
    "}\n",
    "\n",
    "template<unsigned int dim>\n",
    "double Contingency<dim>::linlog() {\n",
    "    double result = 0.;\n",
    "    for(int flat_index = 0; flat_index < this->size; ++flat_index)\n",
    "        result += this->data[flat_index] * log2(this->data[flat_index]);\n",
    "    return result;\n",
    "}\n",
    "\n",
    "// template<unsigned int dim>\n",
    "// void Contingency<dim>::compute_IGs(double (&IGs)[dim - 1]) {\n",
    "//     Contingency<dim - 1> margins_1[dim];\n",
    "//     Contingency<dim - 2> margins_2[dim - 1];\n",
    "//     Contingency<dim>::compute_IGs(IGs, margins_1, margins_2);\n",
    "// }\n",
    "\n",
    "template<unsigned int dim>\n",
    "void Contingency<dim>::compute_IGs(double (&IGs)[dim - 1],\n",
    "                                   Contingency<dim - 1> (&margins_1)[dim],\n",
    "                                   Contingency<dim - 2> (&margins_2)[dim - 1]) {\n",
    "    double linlog_global = linlog();\n",
    "    for(unsigned int dim_index = 0; dim_index < dim - 1; ++dim_index)\n",
    "        IGs[dim_index] = linlog_global;\n",
    "    compute_margins(margins_1);\n",
    "    double linlog_y = margins_1[dim - 1].linlog();\n",
    "    for(unsigned int dim_index = 0; dim_index < dim - 1; ++dim_index) {\n",
    "        double linlog_X = margins_1[dim_index].linlog();\n",
    "        IGs[dim_index] -= linlog_X + linlog_y;\n",
    "    }\n",
    "    margins_1[dim - 1].compute_margins(margins_2);\n",
    "    for(unsigned int dim_index = 0; dim_index < dim - 1; ++dim_index) {\n",
    "        double linlog_yX = margins_2[dim_index].linlog();\n",
    "        IGs[dim_index] += linlog_yX;\n",
    "    }\n",
    "}"
   ]
  },
  {
   "cell_type": "code",
   "execution_count": 5,
   "metadata": {},
   "outputs": [
    {
     "name": "stdout",
     "output_type": "stream",
     "text": [
      "size: 60\n",
      "shape: {3, 4, 5}\n",
      "elements:\n",
      "0 [0, 0, 0] 5.001\n",
      "1 [0, 0, 1] 6.001\n",
      "2 [0, 0, 2] 5.001\n",
      "3 [0, 0, 3] 0.001\n",
      "4 [0, 0, 4] 8.001\n",
      "5 [0, 1, 0] 0.001\n",
      "6 [0, 1, 1] 9.001\n",
      "7 [0, 1, 2] 4.001\n",
      "8 [0, 1, 3] 7.001\n",
      "9 [0, 1, 4] 0.001\n",
      "10 [0, 2, 0] 0.001\n",
      "11 [0, 2, 1] 8.001\n",
      "12 [0, 2, 2] 5.001\n",
      "13 [0, 2, 3] 3.001\n",
      "14 [0, 2, 4] 3.001\n",
      "15 [0, 3, 0] 4.001\n",
      "16 [0, 3, 1] 6.001\n",
      "17 [0, 3, 2] 1.001\n",
      "18 [0, 3, 3] 6.001\n",
      "19 [0, 3, 4] 4.001\n",
      "20 [1, 0, 0] 6.001\n",
      "21 [1, 0, 1] 2.001\n",
      "22 [1, 0, 2] 2.001\n",
      "23 [1, 0, 3] 9.001\n",
      "24 [1, 0, 4] 9.001\n",
      "25 [1, 1, 0] 1.001\n",
      "26 [1, 1, 1] 3.001\n",
      "27 [1, 1, 2] 1.001\n",
      "28 [1, 1, 3] 9.001\n",
      "29 [1, 1, 4] 5.001\n",
      "30 [1, 2, 0] 3.001\n",
      "31 [1, 2, 1] 6.001\n",
      "32 [1, 2, 2] 1.001\n",
      "33 [1, 2, 3] 8.001\n",
      "34 [1, 2, 4] 8.001\n",
      "35 [1, 3, 0] 0.001\n",
      "36 [1, 3, 1] 0.001\n",
      "37 [1, 3, 2] 8.001\n",
      "38 [1, 3, 3] 6.001\n",
      "39 [1, 3, 4] 0.001\n",
      "40 [2, 0, 0] 0.001\n",
      "41 [2, 0, 1] 8.001\n",
      "42 [2, 0, 2] 8.001\n",
      "43 [2, 0, 3] 5.001\n",
      "44 [2, 0, 4] 4.001\n",
      "45 [2, 1, 0] 4.001\n",
      "46 [2, 1, 1] 1.001\n",
      "47 [2, 1, 2] 0.001\n",
      "48 [2, 1, 3] 7.001\n",
      "49 [2, 1, 4] 7.001\n",
      "50 [2, 2, 0] 4.001\n",
      "51 [2, 2, 1] 6.001\n",
      "52 [2, 2, 2] 2.001\n",
      "53 [2, 2, 3] 6.001\n",
      "54 [2, 2, 4] 5.001\n",
      "55 [2, 3, 0] 1.001\n",
      "56 [2, 3, 1] 8.001\n",
      "57 [2, 3, 2] 1.001\n",
      "58 [2, 3, 3] 5.001\n",
      "59 [2, 3, 4] 9.001\n",
      "\n"
     ]
    }
   ],
   "source": [
    "const unsigned int dim = 3;\n",
    "Contingency<dim> my_contingency;\n",
    "unsigned int shape[dim] = {3, 4, 5};\n",
    "my_contingency.allocate(shape);\n",
    "my_contingency.fill_with(1e-3);\n",
    "for(unsigned int i = 0; i < my_contingency.size; ++i)\n",
    "    my_contingency.data[i] += rand() % 10;\n",
    "my_contingency.print()"
   ]
  },
  {
   "cell_type": "code",
   "execution_count": 6,
   "metadata": {},
   "outputs": [],
   "source": [
    "double IGs[dim - 1];\n",
    "Contingency<dim - 1> margins_1[dim];\n",
    "Contingency<dim - 2> margins_2[dim - 1];\n",
    "my_contingency.alloc_init_margins(margins_1, 0.);\n",
    "margins_1[dim - 1].alloc_init_margins(margins_2, 0.);\n",
    "my_contingency.compute_IGs(IGs, margins_1, margins_2);"
   ]
  },
  {
   "cell_type": "code",
   "execution_count": 7,
   "metadata": {},
   "outputs": [
    {
     "data": {
      "text/plain": [
       "{ 80.1479, 76.6247 }"
      ]
     },
     "execution_count": 7,
     "metadata": {},
     "output_type": "execute_result"
    }
   ],
   "source": [
    "IGs"
   ]
  },
  {
   "cell_type": "markdown",
   "metadata": {},
   "source": [
    "---"
   ]
  },
  {
   "cell_type": "code",
   "execution_count": 8,
   "metadata": {},
   "outputs": [
    {
     "name": "stdout",
     "output_type": "stream",
     "text": [
      "check_dummy.ipynb\n",
      "cpp_playground.ipynb\n",
      "create_dummy_csv.ipynb\n",
      "dummy_discretized.csv\n",
      "dummy_range_groups.csv\n",
      "dummy_tile_bounds.csv\n",
      "dummy_X.csv\n",
      "dummy_y.csv\n",
      "failed_openmp.ipynb\n",
      "my_sandbox.ipynb\n"
     ]
    }
   ],
   "source": [
    "!ls"
   ]
  },
  {
   "cell_type": "code",
   "execution_count": 9,
   "metadata": {},
   "outputs": [],
   "source": [
    "#include <algorithm>\n",
    "\n",
    "struct Data2DFromFile : Matrix<2, double> {\n",
    "    const std::string file_name;\n",
    "    const char separator;\n",
    "    Data2DFromFile(std::string &&file_name_,\n",
    "                   char &&separator_):\n",
    "        file_name(file_name_),\n",
    "        separator(separator_) {\n",
    "    }\n",
    "    void allocate() {\n",
    "        // check dimensions of the csv data\n",
    "        // and use it to initialize the matrix\n",
    "        unsigned int row_count = 0;\n",
    "        unsigned int column_count = 0;\n",
    "        std::ifstream input_file(file_name);\n",
    "        std::string text_line, text_placeholder;\n",
    "        std::getline(input_file, text_line); ++row_count;\n",
    "        std::stringstream text_nums(text_line);\n",
    "        while(std::getline(text_nums, text_placeholder, separator))\n",
    "            ++column_count;\n",
    "        while(std::getline(input_file, text_line))\n",
    "            ++row_count;\n",
    "        input_file.close();\n",
    "        Matrix<2, double>::allocate({column_count, row_count});\n",
    "    }\n",
    "    void read_data() {\n",
    "        // populate the matrix with data from the file\n",
    "        if(!this->data) { throw; }\n",
    "        std::ifstream input_file(file_name);\n",
    "        std::string text_line, text_num;\n",
    "        for(unsigned int j = 0; j < this->shape[1]; ++j) {\n",
    "            std::getline(input_file, text_line);\n",
    "            std::stringstream text_nums(text_line);\n",
    "            for(unsigned i = 0; i < this->shape[0]; ++i) {\n",
    "                std::getline(text_nums, text_num, separator);\n",
    "                this->elem({i, j}) = std::stod(text_num);\n",
    "            }\n",
    "        }\n",
    "        input_file.close();\n",
    "    }\n",
    "    void print() {\n",
    "        std::cout << \"data from: \" << file_name << std::endl;\n",
    "        std::cout << \"sep: \" << separator << std::endl;\n",
    "        Matrix<2, double>::print();\n",
    "    }\n",
    "};\n",
    "\n",
    "\n",
    "struct NumbersFromFile {\n",
    "    const std::string file_name;\n",
    "    unsigned int* data = NULL;\n",
    "    unsigned int size = 0;\n",
    "    NumbersFromFile(std::string &file_name_):\n",
    "        file_name(file_name_) {\n",
    "    }\n",
    "    NumbersFromFile(std::string &&file_name_) {\n",
    "        return NumbersFromFile(file_name_);\n",
    "    }\n",
    "    ~NumbersFromFile() { delete data; }\n",
    "    void initialize() {\n",
    "        if(data) { throw; }\n",
    "        std::ifstream input_file(file_name);\n",
    "        std::string text_line;\n",
    "        while(std::getline(input_file, text_line))\n",
    "            ++size;\n",
    "        input_file.close();\n",
    "        data = new unsigned int[size];\n",
    "        for(unsigned i = 0; i < size; ++i) {\n",
    "            data[i] = 0;\n",
    "        }\n",
    "    }\n",
    "    void read_data() {\n",
    "        if(!data) { throw; }\n",
    "        std::ifstream input_file(file_name);\n",
    "        std::string text_line;\n",
    "        for(unsigned i = 0; i < size; ++i) {\n",
    "            std::getline(input_file, text_line);\n",
    "            data[i] = static_cast<unsigned int>(std::stoi(text_line));\n",
    "        }\n",
    "        input_file.close();\n",
    "    }\n",
    "    void print() {\n",
    "        std::cout << \"data from: \" << file_name << std::endl;\n",
    "        if(data) {\n",
    "            std::cout << \"elements: \" << std::endl;\n",
    "            for(int i = 0; i < size - 1; ++i)\n",
    "                std::cout << data[i] << \" \";\n",
    "            std::cout << data[size - 1] << std::endl;\n",
    "        }\n",
    "    }\n",
    "};\n",
    "\n",
    "struct DataY : NumbersFromFile {\n",
    "    unsigned int dof = 0;\n",
    "    DataY(std::string &&file_name_):\n",
    "        NumbersFromFile{ file_name_ } {\n",
    "    }\n",
    "    void read_data() {\n",
    "        NumbersFromFile::read_data();\n",
    "        dof = *std::max_element(this->data, this->data + this->size) + 1;\n",
    "    }\n",
    "    void print() {\n",
    "        std::cout << \"dof: \" << dof << std::endl;\n",
    "        NumbersFromFile::print();\n",
    "    }\n",
    "};\n",
    "\n",
    "struct ColumnRangeInfo {\n",
    "    NumbersFromFile bounds;\n",
    "    NumbersFromFile discretized;\n",
    "    NumbersFromFile groups;\n",
    "    unsigned int count = 0;\n",
    "    unsigned int max_range_width = 0;\n",
    "    unsigned int* dofs = NULL;\n",
    "    ColumnRangeInfo(std::string &&file_name_bounds,\n",
    "                    std::string &&file_name_discretized,\n",
    "                    std::string &&file_name_groups,\n",
    "                    unsigned int dof) :\n",
    "        bounds(file_name_bounds),\n",
    "        discretized(file_name_discretized),\n",
    "        groups(file_name_groups) {\n",
    "        bounds.initialize(); bounds.read_data();\n",
    "        discretized.initialize(); discretized.read_data();\n",
    "        groups.initialize(); groups.read_data();\n",
    "        count = bounds.size - 1; // column-range count\n",
    "        if(count != discretized.size) { throw; }\n",
    "        for(unsigned int range_index = 0; range_index < count; ++range_index)\n",
    "            max_range_width = std::max(max_range_width, bounds.data[range_index + 1] - bounds.data[range_index]);\n",
    "        dofs = new unsigned int[count];\n",
    "        for(unsigned int i = 0; i < count; ++i)\n",
    "            dofs[i] = dof;\n",
    "    }\n",
    "    ~ColumnRangeInfo() { delete dofs; }\n",
    "    void compute_dofs(Data2DFromFile& Xt) {\n",
    "        for(unsigned int range_index = 0; range_index < count; ++range_index) {\n",
    "            if((bounds.data[range_index] == bounds.data[range_index + 1])\n",
    "               | !discretized.data[range_index]) { continue; }\n",
    "            unsigned int flat_index_0, flat_index_1, dof;\n",
    "            flat_index_0 = Xt.shape[1] * bounds.data[range_index];\n",
    "            flat_index_1 = Xt.shape[1] * bounds.data[range_index + 1];\n",
    "            dof = static_cast<unsigned int>\n",
    "                (*std::max_element(Xt.data + flat_index_0, Xt.data + flat_index_1)) + 1;\n",
    "            dofs[range_index] = dof;\n",
    "        }\n",
    "    }\n",
    "};"
   ]
  },
  {
   "cell_type": "code",
   "execution_count": 10,
   "metadata": {},
   "outputs": [],
   "source": [
    "Data2DFromFile Xt(\"dummy_X.csv\", '\\t');\n",
    "Xt.allocate();\n",
    "Xt.read_data();"
   ]
  },
  {
   "cell_type": "code",
   "execution_count": 11,
   "metadata": {},
   "outputs": [],
   "source": [
    "// Xt.print()"
   ]
  },
  {
   "cell_type": "code",
   "execution_count": 12,
   "metadata": {},
   "outputs": [
    {
     "data": {
      "text/plain": [
       "0.0919028"
      ]
     },
     "execution_count": 12,
     "metadata": {},
     "output_type": "execute_result"
    }
   ],
   "source": [
    "Xt.elem({0, 2})"
   ]
  },
  {
   "cell_type": "code",
   "execution_count": 13,
   "metadata": {},
   "outputs": [],
   "source": [
    "DataY y(\"dummy_y.csv\");"
   ]
  },
  {
   "cell_type": "code",
   "execution_count": 14,
   "metadata": {},
   "outputs": [
    {
     "name": "stdout",
     "output_type": "stream",
     "text": [
      "dof: 3\n",
      "data from: dummy_y.csv\n",
      "elements: \n",
      "1 2 0 1 2 1 1 1 2 0 1 2 2 0 0 0 0 0 2 2 0 0 1 0 0 2 0 2 1 1 0 0 0 2 2 2 1 1 1 2 2 1 2 0 0 1 0 1 0 1 1 2 1 2 1 1 1 2 0 0 0 0 2 0 1 1 2 2 0 2 0 0 0 2 0 1 0 0 1 2 1 1 1 2 1 2 0 0 0 1 1 1 1 1 0 1 2 2 2 1\n"
     ]
    }
   ],
   "source": [
    "y.initialize();\n",
    "y.read_data();\n",
    "y.print()"
   ]
  },
  {
   "cell_type": "code",
   "execution_count": 15,
   "metadata": {},
   "outputs": [],
   "source": [
    "ColumnRangeInfo column_range_info(\"dummy_tile_bounds.csv\", \"dummy_discretized.csv\", \"dummy_range_groups.csv\", 5)"
   ]
  },
  {
   "cell_type": "code",
   "execution_count": 16,
   "metadata": {},
   "outputs": [],
   "source": [
    "column_range_info.compute_dofs(Xt);"
   ]
  },
  {
   "cell_type": "code",
   "execution_count": 17,
   "metadata": {},
   "outputs": [
    {
     "data": {
      "text/plain": [
       "124"
      ]
     },
     "execution_count": 17,
     "metadata": {},
     "output_type": "execute_result"
    }
   ],
   "source": [
    "column_range_info.max_range_width"
   ]
  },
  {
   "cell_type": "code",
   "execution_count": 18,
   "metadata": {},
   "outputs": [
    {
     "name": "stdout",
     "output_type": "stream",
     "text": [
      "data from: dummy_range_groups.csv\n",
      "elements: \n",
      "0 2 6 11 15 17 20\n"
     ]
    }
   ],
   "source": [
    "column_range_info.groups.print()"
   ]
  },
  {
   "cell_type": "code",
   "execution_count": 19,
   "metadata": {},
   "outputs": [
    {
     "name": "stdout",
     "output_type": "stream",
     "text": [
      "data from: dummy_tile_bounds.csv\n",
      "elements: \n",
      "0 100 200 222 235 247 258 358 458 558 658 758 800 842 876 876 976 1076 1200 1200 1245\n"
     ]
    }
   ],
   "source": [
    "column_range_info.bounds.print()"
   ]
  },
  {
   "cell_type": "code",
   "execution_count": 20,
   "metadata": {},
   "outputs": [
    {
     "name": "stdout",
     "output_type": "stream",
     "text": [
      "5\n",
      "5\n",
      "5\n",
      "6\n",
      "7\n",
      "8\n",
      "5\n",
      "5\n",
      "5\n",
      "5\n",
      "5\n",
      "5\n",
      "6\n",
      "7\n",
      "5\n",
      "5\n",
      "5\n",
      "6\n",
      "5\n",
      "8\n"
     ]
    }
   ],
   "source": [
    "for(int range_index = 0; range_index < column_range_info.count; ++range_index){\n",
    "    std::cout << column_range_info.dofs[range_index] << std::endl;\n",
    "}"
   ]
  },
  {
   "cell_type": "code",
   "execution_count": 21,
   "metadata": {},
   "outputs": [],
   "source": [
    "// #include<map>\n",
    "// std::pair<int,int>(2,3)\n",
    "// std::map<std::string, int> s2i;\n",
    "// s2i[\"haha\"] = 3;\n",
    "// s2i"
   ]
  },
  {
   "cell_type": "code",
   "execution_count": 22,
   "metadata": {},
   "outputs": [],
   "source": [
    "struct column_result {\n",
    "    unsigned int column_index;\n",
    "}"
   ]
  },
  {
   "cell_type": "code",
   "execution_count": 23,
   "metadata": {},
   "outputs": [],
   "source": [
    "template<unsigned int dim>\n",
    "struct TileData : Matrix<2, unsigned int> {\n",
    "    unsigned int tile_shape[dim];\n",
    "    unsigned int corner_columns[dim];\n",
    "    unsigned int range_dofs[dim + 1];\n",
    "    unsigned int tile_dof;\n",
    "    ColumnRangeInfo& column_range_info;\n",
    "    Data2DFromFile& Xt;\n",
    "    DataY& y;\n",
    "    TileData(ColumnRangeInfo& column_range_info_,\n",
    "             Data2DFromFile& Xt_,\n",
    "             DataY& y_) :\n",
    "        column_range_info(column_range_info_),\n",
    "        Xt(Xt_),\n",
    "        y(y_) {\n",
    "        this->allocate({column_range_info.max_range_width * dim, Xt.shape[1]});\n",
    "    };\n",
    "    void get_data(unsigned int (&&tile_index)[dim]) {\n",
    "        get_data(tile_index);\n",
    "    }\n",
    "    void get_data(unsigned int (&tile_index)[dim]) {\n",
    "        range_dofs[dim] = y.dof;\n",
    "        tile_dof = 1;\n",
    "        unsigned int discretized, dof, column_index_0, column_index_1,\n",
    "                     flat_offset_0, flat_offset_1, flat_offset, local_flat_offset;\n",
    "        for(unsigned int dim_index = 0; dim_index < dim; ++dim_index) {\n",
    "            discretized = column_range_info.discretized.data[tile_index[dim_index]];\n",
    "            dof = column_range_info.dofs[tile_index[dim_index]];\n",
    "            // std::cout << tile_index[dim_index] << \" \" << discretized << \" \" << dof << std::endl;\n",
    "            range_dofs[dim_index] = dof;\n",
    "            tile_dof *= dof;\n",
    "            column_index_0 = column_range_info.bounds.data[tile_index[dim_index]];\n",
    "            corner_columns[dim_index] = column_index_0;\n",
    "            column_index_1 = column_range_info.bounds.data[tile_index[dim_index] + 1];\n",
    "            tile_shape[dim_index] = column_index_1 - column_index_0;\n",
    "            flat_offset_0 = Xt.shape[1] * column_index_0;\n",
    "            flat_offset_1 = Xt.shape[1] * column_index_1;\n",
    "            local_flat_offset = dim_index * Xt.shape[1] * column_range_info.max_range_width;\n",
    "            if (discretized) {\n",
    "                // just copy a bunch of columns casting to uint\n",
    "                for(; flat_offset_0 < flat_offset_1; ++flat_offset_0, ++local_flat_offset) {\n",
    "                    this->data[local_flat_offset] = static_cast<unsigned int>(Xt.data[flat_offset_0]);\n",
    "                }\n",
    "            }\n",
    "            else {\n",
    "                // discretize column by column\n",
    "                for(; flat_offset_0 < flat_offset_1;\n",
    "                    flat_offset_0 += Xt.shape[1], local_flat_offset += Xt.shape[1]) {\n",
    "                    std::vector<double> column_vec(Xt.data + flat_offset_0, Xt.data + flat_offset_0 + Xt.shape[1]);\n",
    "//                     std::cout << flat_offset_0 << \" \" << flat_offset_0 + Xt.shape[1] << std::endl;\n",
    "//                     for (std::vector<double>::const_iterator i = column_vec.begin(); i != column_vec.end(); ++i)\n",
    "//                         std::cout << *i << ' ';\n",
    "//                    std::cout << std::endl;\n",
    "                    std::sort(column_vec.begin(), column_vec.end());\n",
    "                    discretize(0, 0, flat_offset_0, dof - 1, Xt.shape[1],\n",
    "                               Xt.data + flat_offset_0, column_vec, this->data + local_flat_offset, 0.);\n",
    "//                     for (unsigned int* ptr = this->data + local_flat_offset;\n",
    "//                          ptr != this->data + local_flat_offset + Xt.shape[1]; ++ptr)\n",
    "//                          std::cout << *ptr << \" \";\n",
    "//                    std::cout << std::endl << std::endl;\n",
    "                }\n",
    "            }\n",
    "        }\n",
    "    }\n",
    "    void fill_in_contingency(Contingency<dim + 1>& contingency,\n",
    "                             unsigned int (&column_indices)[dim]) {\n",
    "        unsigned int multidim_index[dim + 1];\n",
    "        unsigned int column_index;\n",
    "        for(unsigned int row_index = 0; row_index < this->shape[1]; ++row_index) {\n",
    "            for (unsigned int dim_index = 0; dim_index < dim; ++dim_index) {\n",
    "                column_index = column_indices[dim_index] + dim_index * column_range_info.max_range_width;\n",
    "                multidim_index[dim_index] = this->elem({column_index, row_index});\n",
    "            }\n",
    "            multidim_index[dim] = y.data[row_index];\n",
    "            for(int i = 0; i < dim + 1; ++i)\n",
    "                std::cout << multidim_index[i] << \" \";\n",
    "            std::cout << std::endl;\n",
    "            ++contingency.elem(multidim_index);\n",
    "        }\n",
    "    }\n",
    "};"
   ]
  },
  {
   "cell_type": "code",
   "execution_count": 24,
   "metadata": {},
   "outputs": [],
   "source": [
    "TileData<dim> tile_data(column_range_info, Xt, y);"
   ]
  },
  {
   "cell_type": "code",
   "execution_count": 25,
   "metadata": {},
   "outputs": [],
   "source": [
    "//tile_data.print()"
   ]
  },
  {
   "cell_type": "code",
   "execution_count": 26,
   "metadata": {},
   "outputs": [],
   "source": [
    "tile_data.get_data({0, 1, 3});"
   ]
  },
  {
   "cell_type": "code",
   "execution_count": 27,
   "metadata": {},
   "outputs": [
    {
     "data": {
      "text/plain": [
       "{ 100, 100, 13 }"
      ]
     },
     "execution_count": 27,
     "metadata": {},
     "output_type": "execute_result"
    }
   ],
   "source": [
    "tile_data.tile_shape"
   ]
  },
  {
   "cell_type": "code",
   "execution_count": 28,
   "metadata": {},
   "outputs": [
    {
     "data": {
      "text/plain": [
       "{ 5, 5, 6, 3 }"
      ]
     },
     "execution_count": 28,
     "metadata": {},
     "output_type": "execute_result"
    }
   ],
   "source": [
    "tile_data.range_dofs"
   ]
  },
  {
   "cell_type": "code",
   "execution_count": 29,
   "metadata": {},
   "outputs": [
    {
     "data": {
      "text/plain": [
       "3"
      ]
     },
     "execution_count": 29,
     "metadata": {},
     "output_type": "execute_result"
    }
   ],
   "source": [
    "dim"
   ]
  },
  {
   "cell_type": "code",
   "execution_count": 30,
   "metadata": {},
   "outputs": [],
   "source": [
    "Contingency<dim + 1> tile_contingency;\n",
    "tile_contingency.allocate(tile_data.range_dofs);\n",
    "tile_contingency.fill_with(1e-3);"
   ]
  },
  {
   "cell_type": "code",
   "execution_count": 31,
   "metadata": {},
   "outputs": [
    {
     "name": "stdout",
     "output_type": "stream",
     "text": [
      "0 1 2 \n",
      "3 1 5 \n",
      "2 3 0 \n",
      "3 2 5 \n",
      "3 1 4 \n",
      "1 1 2 \n",
      "4 2 2 \n",
      "0 3 2 \n",
      "4 4 2 \n",
      "0 3 5 \n",
      "2 1 1 \n",
      "2 1 4 \n",
      "1 0 4 \n",
      "0 2 1 \n",
      "4 3 2 \n",
      "4 2 5 \n",
      "4 2 4 \n",
      "4 2 4 \n",
      "0 0 0 \n",
      "4 0 1 \n",
      "0 0 1 \n",
      "3 4 4 \n",
      "0 3 4 \n",
      "2 0 1 \n",
      "3 4 4 \n",
      "3 1 5 \n",
      "1 3 5 \n",
      "1 2 1 \n",
      "2 2 4 \n",
      "2 3 3 \n",
      "4 0 2 \n",
      "2 0 4 \n",
      "3 3 5 \n",
      "1 1 3 \n",
      "1 1 5 \n",
      "2 0 5 \n",
      "2 1 2 \n",
      "3 1 5 \n",
      "2 4 4 \n",
      "3 0 5 \n",
      "2 4 0 \n",
      "1 3 3 \n",
      "0 4 2 \n",
      "4 0 0 \n",
      "1 4 4 \n",
      "2 2 5 \n",
      "0 3 1 \n",
      "3 2 3 \n",
      "2 2 5 \n",
      "3 1 3 \n",
      "2 0 5 \n",
      "1 4 4 \n",
      "3 2 1 \n",
      "3 2 3 \n",
      "1 2 4 \n",
      "3 0 3 \n",
      "1 1 5 \n",
      "0 0 4 \n",
      "1 2 5 \n",
      "0 3 1 \n",
      "0 3 4 \n",
      "1 4 5 \n",
      "4 4 2 \n",
      "0 0 2 \n",
      "1 2 1 \n",
      "3 1 2 \n",
      "0 2 0 \n",
      "2 4 4 \n",
      "3 1 3 \n",
      "4 0 5 \n",
      "1 3 5 \n",
      "2 2 1 \n",
      "4 0 2 \n",
      "1 1 4 \n",
      "0 4 0 \n",
      "4 0 2 \n",
      "3 3 0 \n",
      "2 4 2 \n",
      "4 0 5 \n",
      "0 0 0 \n",
      "2 4 2 \n",
      "3 1 5 \n",
      "3 2 3 \n",
      "4 0 5 \n",
      "4 4 0 \n",
      "1 3 2 \n",
      "1 4 2 \n",
      "0 3 1 \n",
      "0 0 2 \n",
      "1 1 0 \n",
      "3 3 4 \n",
      "4 4 2 \n",
      "0 3 1 \n",
      "4 4 5 \n",
      "2 1 3 \n",
      "2 3 5 \n",
      "0 2 3 \n",
      "1 1 3 \n",
      "0 3 4 \n",
      "4 4 4 \n"
     ]
    }
   ],
   "source": [
    "double tile_IGs[dim];\n",
    "Contingency<dim> tile_contingency_margins_1[dim + 1];\n",
    "Contingency<dim - 1> tile_contingency_margins_2[dim];\n",
    "tile_contingency.alloc_init_margins(tile_contingency_margins_1, 0.);\n",
    "tile_contingency_margins_1[dim].alloc_init_margins(tile_contingency_margins_2, 0.);\n",
    "\n",
    "unsigned int column_indices[dim] = {0, 0, 0};\n",
    "tile_data.fill_in_contingency(tile_contingency, column_indices);\n",
    "\n",
    "tile_contingency.compute_IGs(tile_IGs, tile_contingency_margins_1, tile_contingency_margins_2);"
   ]
  },
  {
   "cell_type": "code",
   "execution_count": 34,
   "metadata": {},
   "outputs": [
    {
     "data": {
      "text/plain": [
       "0"
      ]
     },
     "execution_count": 34,
     "metadata": {},
     "output_type": "execute_result"
    }
   ],
   "source": [
    "tile_data.elem({0, 0})"
   ]
  },
  {
   "cell_type": "code",
   "execution_count": 35,
   "metadata": {},
   "outputs": [
    {
     "data": {
      "text/plain": [
       "1"
      ]
     },
     "execution_count": 35,
     "metadata": {},
     "output_type": "execute_result"
    }
   ],
   "source": [
    "tile_data.elem({0, 124})"
   ]
  },
  {
   "cell_type": "code",
   "execution_count": 36,
   "metadata": {},
   "outputs": [
    {
     "data": {
      "text/plain": [
       "3"
      ]
     },
     "execution_count": 36,
     "metadata": {},
     "output_type": "execute_result"
    }
   ],
   "source": [
    "tile_data.elem({0, 3 * 124})"
   ]
  },
  {
   "cell_type": "code",
   "execution_count": 32,
   "metadata": {},
   "outputs": [
    {
     "data": {
      "text/plain": [
       "{ 58.6265, 77.8403, 73.0423 }"
      ]
     },
     "execution_count": 32,
     "metadata": {},
     "output_type": "execute_result"
    }
   ],
   "source": [
    "tile_IGs"
   ]
  },
  {
   "cell_type": "code",
   "execution_count": null,
   "metadata": {},
   "outputs": [],
   "source": [
    "for (unsigned int dim_index; dim_index < dim; ++dim_index)\n",
    "    tile_contingency_margins_1[dim_index].fill_with(0);\n",
    "for (unsigned int dim_index; dim_index < dim - 1; ++dim_index)\n",
    "    tile_contingency_margins_2[dim_index].fill_with(0);"
   ]
  },
  {
   "cell_type": "code",
   "execution_count": null,
   "metadata": {},
   "outputs": [],
   "source": []
  },
  {
   "cell_type": "code",
   "execution_count": null,
   "metadata": {},
   "outputs": [],
   "source": []
  },
  {
   "cell_type": "code",
   "execution_count": null,
   "metadata": {},
   "outputs": [],
   "source": []
  },
  {
   "cell_type": "code",
   "execution_count": 19,
   "metadata": {},
   "outputs": [
    {
     "data": {
      "text/plain": [
       "8"
      ]
     },
     "execution_count": 19,
     "metadata": {},
     "output_type": "execute_result"
    }
   ],
   "source": [
    "column_range_info.dofs[5]"
   ]
  },
  {
   "cell_type": "code",
   "execution_count": 43,
   "metadata": {},
   "outputs": [
    {
     "name": "stdout",
     "output_type": "stream",
     "text": [
      "17 1 6\n",
      "17 1 6\n"
     ]
    }
   ],
   "source": [
    "tile_data.get_data({17, 17});"
   ]
  },
  {
   "cell_type": "code",
   "execution_count": 44,
   "metadata": {},
   "outputs": [
    {
     "data": {
      "text/plain": [
       "36"
      ]
     },
     "execution_count": 44,
     "metadata": {},
     "output_type": "execute_result"
    }
   ],
   "source": [
    "tile_data.tile_dof"
   ]
  },
  {
   "cell_type": "code",
   "execution_count": 45,
   "metadata": {},
   "outputs": [
    {
     "data": {
      "text/plain": [
       "{ 124, 124 }"
      ]
     },
     "execution_count": 45,
     "metadata": {},
     "output_type": "execute_result"
    }
   ],
   "source": [
    "tile_data.tile_shape"
   ]
  },
  {
   "cell_type": "code",
   "execution_count": 42,
   "metadata": {},
   "outputs": [
    {
     "data": {
      "text/plain": [
       "4"
      ]
     },
     "execution_count": 42,
     "metadata": {},
     "output_type": "execute_result"
    }
   ],
   "source": [
    "tile_data.elem({17, 17})"
   ]
  },
  {
   "cell_type": "code",
   "execution_count": 38,
   "metadata": {},
   "outputs": [
    {
     "data": {
      "text/plain": [
       "0"
      ]
     },
     "execution_count": 38,
     "metadata": {},
     "output_type": "execute_result"
    }
   ],
   "source": [
    "tile_data.elem({44, 45})"
   ]
  },
  {
   "cell_type": "code",
   "execution_count": 48,
   "metadata": {},
   "outputs": [
    {
     "data": {
      "text/plain": [
       "{ 248, 100 }"
      ]
     },
     "execution_count": 48,
     "metadata": {},
     "output_type": "execute_result"
    }
   ],
   "source": [
    "tile_data.shape"
   ]
  },
  {
   "cell_type": "code",
   "execution_count": 31,
   "metadata": {},
   "outputs": [
    {
     "name": "stdout",
     "output_type": "stream",
     "text": [
      "data from: dummy_tile_bounds.csv\n",
      "elements: \n",
      "0 100 200 222 235 247 258 358 458 558 658 758 800 842 876 876 976 1076 1200 1200 1245\n"
     ]
    }
   ],
   "source": [
    "column_range_info.bounds.print()"
   ]
  },
  {
   "cell_type": "code",
   "execution_count": 47,
   "metadata": {},
   "outputs": [],
   "source": [
    "// tile_data.print()"
   ]
  },
  {
   "cell_type": "code",
   "execution_count": null,
   "metadata": {},
   "outputs": [],
   "source": [
    "void fill_in_contingency(&Contingency<3> contingency,\n",
    "                         &TileData<2> Xt_tile,\n",
    "                         &data_y y,\n",
    "                         unsigned int column_index_0,\n",
    "                         unsigned int column_index_1) {\n",
    "    unsigned int multidim_index[3];\n",
    "    for(unsigned int row_index = 0; row_index < Xt_tile.shape[1]; ++row_index){\n",
    "        multidim_index[0] = Xt_tile.data\n",
    "    }\n",
    "}"
   ]
  }
 ],
 "metadata": {
  "@webio": {
   "lastCommId": null,
   "lastKernelId": null
  },
  "kernelspec": {
   "display_name": "C++11",
   "language": "C++11",
   "name": "xeus-cling-cpp11"
  },
  "language_info": {
   "codemirror_mode": "text/x-c++src",
   "file_extension": ".cpp",
   "mimetype": "text/x-c++src",
   "name": "c++",
   "version": "-std=c++11"
  }
 },
 "nbformat": 4,
 "nbformat_minor": 2
}
