{
 "cells": [
  {
   "cell_type": "code",
   "execution_count": 2,
   "metadata": {},
   "outputs": [],
   "source": [
    "#include <iostream>"
   ]
  },
  {
   "cell_type": "code",
   "execution_count": 2,
   "metadata": {},
   "outputs": [
    {
     "name": "stdout",
     "output_type": "stream",
     "text": [
      "Hello world\n"
     ]
    }
   ],
   "source": [
    "std::cout << \"Hello world\" << std::endl;"
   ]
  },
  {
   "cell_type": "code",
   "execution_count": 5,
   "metadata": {},
   "outputs": [
    {
     "name": "stderr",
     "output_type": "stream",
     "text": [
      "Hello underworld\n"
     ]
    }
   ],
   "source": [
    "std::cerr << \"Hello underworld\" << std::endl;"
   ]
  },
  {
   "cell_type": "code",
   "execution_count": 6,
   "metadata": {},
   "outputs": [],
   "source": [
    "int j = 5;"
   ]
  },
  {
   "cell_type": "code",
   "execution_count": 7,
   "metadata": {},
   "outputs": [
    {
     "data": {
      "text/plain": [
       "5"
      ]
     },
     "execution_count": 7,
     "metadata": {},
     "output_type": "execute_result"
    }
   ],
   "source": [
    "j"
   ]
  },
  {
   "cell_type": "code",
   "execution_count": 8,
   "metadata": {},
   "outputs": [],
   "source": [
    "#include <map>"
   ]
  },
  {
   "cell_type": "code",
   "execution_count": 9,
   "metadata": {},
   "outputs": [
    {
     "data": {
      "text/plain": [
       "{ \"something\" => 12, \"something_else\" => 23, \"whateva\" => 34 }"
      ]
     },
     "execution_count": 9,
     "metadata": {},
     "output_type": "execute_result"
    }
   ],
   "source": [
    "std::map <std::string, int> map1;\n",
    "\n",
    "map1[\"something\"] = 12;\n",
    "map1[\"something_else\"] = 23;\n",
    "map1[\"whateva\"] = 34;\n",
    "\n",
    "map1"
   ]
  },
  {
   "cell_type": "code",
   "execution_count": 14,
   "metadata": {},
   "outputs": [],
   "source": [
    "double sqr(double a) {\n",
    "    return a * a;\n",
    "}"
   ]
  },
  {
   "cell_type": "code",
   "execution_count": 15,
   "metadata": {},
   "outputs": [],
   "source": [
    "double a = 2.5;"
   ]
  },
  {
   "cell_type": "code",
   "execution_count": 17,
   "metadata": {},
   "outputs": [
    {
     "data": {
      "text/plain": [
       "6.25"
      ]
     },
     "execution_count": 17,
     "metadata": {},
     "output_type": "execute_result"
    }
   ],
   "source": [
    "sqr(a)"
   ]
  },
  {
   "cell_type": "code",
   "execution_count": 6,
   "metadata": {},
   "outputs": [],
   "source": [
    "#include <xtensor/xtensor.hpp>\n",
    "#include <xtensor/xarray.hpp>\n",
    "#include <xtensor/xmath.hpp>\n",
    "#include <xtensor/xview.hpp>\n",
    "#include <xtensor/xio.hpp>"
   ]
  },
  {
   "cell_type": "code",
   "execution_count": 2,
   "metadata": {},
   "outputs": [],
   "source": [
    "xt::xarray<double> a;"
   ]
  },
  {
   "cell_type": "code",
   "execution_count": 3,
   "metadata": {},
   "outputs": [],
   "source": [
    "a = xt::arange<double>(0., 22.5, 2.5);"
   ]
  },
  {
   "cell_type": "code",
   "execution_count": 4,
   "metadata": {},
   "outputs": [
    {
     "data": {
      "text/html": [
       "<table style='border-style:solid;border-width:1px;'><tbody><tr><td style='font-family:monospace;' title='0'><pre>  0. </pre></td></tr><tr><td style='font-family:monospace;' title='1'><pre>  2.5</pre></td></tr><tr><td style='font-family:monospace;' title='2'><pre>  5. </pre></td></tr><tr><td style='font-family:monospace;' title='3'><pre>  7.5</pre></td></tr><tr><td style='font-family:monospace;' title='4'><pre> 10. </pre></td></tr><tr><td style='font-family:monospace;' title='5'><pre> 12.5</pre></td></tr><tr><td style='font-family:monospace;' title='6'><pre> 15. </pre></td></tr><tr><td style='font-family:monospace;' title='7'><pre> 17.5</pre></td></tr><tr><td style='font-family:monospace;' title='8'><pre> 20. </pre></td></tr></tbody></table>"
      ]
     },
     "execution_count": 4,
     "metadata": {},
     "output_type": "execute_result"
    }
   ],
   "source": [
    "a"
   ]
  },
  {
   "cell_type": "code",
   "execution_count": 5,
   "metadata": {},
   "outputs": [],
   "source": [
    "a.reshape({3,3});"
   ]
  },
  {
   "cell_type": "code",
   "execution_count": 6,
   "metadata": {},
   "outputs": [
    {
     "data": {
      "text/html": [
       "<table style='border-style:solid;border-width:1px;'><tbody><tr><td style='font-family:monospace;' title='(0, 0)'><pre>  0. </pre></td><td style='font-family:monospace;' title='(0, 1)'><pre>  2.5</pre></td><td style='font-family:monospace;' title='(0, 2)'><pre>  5. </pre></td></tr><tr><td style='font-family:monospace;' title='(1, 0)'><pre>  7.5</pre></td><td style='font-family:monospace;' title='(1, 1)'><pre> 10. </pre></td><td style='font-family:monospace;' title='(1, 2)'><pre> 12.5</pre></td></tr><tr><td style='font-family:monospace;' title='(2, 0)'><pre> 15. </pre></td><td style='font-family:monospace;' title='(2, 1)'><pre> 17.5</pre></td><td style='font-family:monospace;' title='(2, 2)'><pre> 20. </pre></td></tr></tbody></table>"
      ]
     },
     "execution_count": 6,
     "metadata": {},
     "output_type": "execute_result"
    }
   ],
   "source": [
    "a"
   ]
  },
  {
   "cell_type": "code",
   "execution_count": 7,
   "metadata": {},
   "outputs": [
    {
     "data": {
      "text/html": [
       "<table style='border-style:solid;border-width:1px;'><tbody><tr><td style='font-family:monospace;' title='(0, 0)'><pre> 0.      </pre></td><td style='font-family:monospace;' title='(0, 1)'><pre>-0.958924</pre></td><td style='font-family:monospace;' title='(0, 2)'><pre>-0.544021</pre></td></tr><tr><td style='font-family:monospace;' title='(1, 0)'><pre> 0.650288</pre></td><td style='font-family:monospace;' title='(1, 1)'><pre> 0.912945</pre></td><td style='font-family:monospace;' title='(1, 2)'><pre>-0.132352</pre></td></tr><tr><td style='font-family:monospace;' title='(2, 0)'><pre>-0.988032</pre></td><td style='font-family:monospace;' title='(2, 1)'><pre>-0.428183</pre></td><td style='font-family:monospace;' title='(2, 2)'><pre> 0.745113</pre></td></tr></tbody></table>"
      ]
     },
     "execution_count": 7,
     "metadata": {},
     "output_type": "execute_result"
    }
   ],
   "source": [
    "xt::sin(a * 2)"
   ]
  },
  {
   "cell_type": "code",
   "execution_count": 8,
   "metadata": {},
   "outputs": [
    {
     "data": {
      "text/html": [
       "<table style='border-style:solid;border-width:1px;'><tbody><tr><td style='font-family:monospace;' title='(0, 0)'><pre>     -inf</pre></td><td style='font-family:monospace;' title='(0, 1)'><pre> 1.321928</pre></td><td style='font-family:monospace;' title='(0, 2)'><pre> 2.321928</pre></td></tr><tr><td style='font-family:monospace;' title='(1, 0)'><pre> 2.906891</pre></td><td style='font-family:monospace;' title='(1, 1)'><pre> 3.321928</pre></td><td style='font-family:monospace;' title='(1, 2)'><pre> 3.643856</pre></td></tr><tr><td style='font-family:monospace;' title='(2, 0)'><pre> 3.906891</pre></td><td style='font-family:monospace;' title='(2, 1)'><pre> 4.129283</pre></td><td style='font-family:monospace;' title='(2, 2)'><pre> 4.321928</pre></td></tr></tbody></table>"
      ]
     },
     "execution_count": 8,
     "metadata": {},
     "output_type": "execute_result"
    }
   ],
   "source": [
    "xt::log2(a)"
   ]
  },
  {
   "cell_type": "code",
   "execution_count": 9,
   "metadata": {},
   "outputs": [],
   "source": [
    "xt::xarray<double> x1 = {-1, 2, 3};"
   ]
  },
  {
   "cell_type": "code",
   "execution_count": 18,
   "metadata": {},
   "outputs": [
    {
     "data": {
      "text/html": [
       "<table style='border-style:solid;border-width:1px;'><tbody><tr><td style='font-family:monospace;' title='(0, 0)'><pre>  0. </pre></td><td style='font-family:monospace;' title='(0, 1)'><pre>  2.5</pre></td><td style='font-family:monospace;' title='(0, 2)'><pre>  5. </pre></td></tr><tr><td style='font-family:monospace;' title='(1, 0)'><pre>  7.5</pre></td><td style='font-family:monospace;' title='(1, 1)'><pre> 10. </pre></td><td style='font-family:monospace;' title='(1, 2)'><pre> 12.5</pre></td></tr><tr><td style='font-family:monospace;' title='(2, 0)'><pre> 15. </pre></td><td style='font-family:monospace;' title='(2, 1)'><pre> 17.5</pre></td><td style='font-family:monospace;' title='(2, 2)'><pre> 20. </pre></td></tr></tbody></table>"
      ]
     },
     "execution_count": 18,
     "metadata": {},
     "output_type": "execute_result"
    }
   ],
   "source": [
    "a"
   ]
  },
  {
   "cell_type": "code",
   "execution_count": 11,
   "metadata": {},
   "outputs": [
    {
     "data": {
      "text/html": [
       "<table style='border-style:solid;border-width:1px;'><tbody><tr><td style='font-family:monospace;' title='(0, 0)'><pre> -0. </pre></td><td style='font-family:monospace;' title='(0, 1)'><pre>  5. </pre></td><td style='font-family:monospace;' title='(0, 2)'><pre> 15. </pre></td></tr><tr><td style='font-family:monospace;' title='(1, 0)'><pre> -7.5</pre></td><td style='font-family:monospace;' title='(1, 1)'><pre> 20. </pre></td><td style='font-family:monospace;' title='(1, 2)'><pre> 37.5</pre></td></tr><tr><td style='font-family:monospace;' title='(2, 0)'><pre>-15. </pre></td><td style='font-family:monospace;' title='(2, 1)'><pre> 35. </pre></td><td style='font-family:monospace;' title='(2, 2)'><pre> 60. </pre></td></tr></tbody></table>"
      ]
     },
     "execution_count": 11,
     "metadata": {},
     "output_type": "execute_result"
    }
   ],
   "source": [
    "a * x1"
   ]
  },
  {
   "cell_type": "code",
   "execution_count": 10,
   "metadata": {},
   "outputs": [
    {
     "data": {
      "text/html": [
       "<table style='border-style:solid;border-width:1px;'><tbody><tr><td style='font-family:monospace;' title='(0, 0)'><pre>  5.</pre></td></tr><tr><td style='font-family:monospace;' title='(1, 0)'><pre> 20.</pre></td></tr><tr><td style='font-family:monospace;' title='(2, 0)'><pre> 35.</pre></td></tr></tbody></table>"
      ]
     },
     "execution_count": 10,
     "metadata": {},
     "output_type": "execute_result"
    }
   ],
   "source": [
    "xt::view(a * x1, xt::all(), xt::range(1, 3, 2))"
   ]
  },
  {
   "cell_type": "markdown",
   "metadata": {},
   "source": [
    "---\n",
    "xtensor"
   ]
  },
  {
   "cell_type": "code",
   "execution_count": 1,
   "metadata": {},
   "outputs": [],
   "source": [
    "#include <iostream>\n",
    "#include <xtensor/xtensor.hpp>\n",
    "#include <xtensor/xarray.hpp>\n",
    "#include <xtensor/xmath.hpp>\n",
    "#include <xtensor/xview.hpp>\n",
    "#include <xtensor/xio.hpp>"
   ]
  },
  {
   "cell_type": "code",
   "execution_count": 2,
   "metadata": {},
   "outputs": [
    {
     "name": "stdout",
     "output_type": "stream",
     "text": [
      "{  7.,  11.,  14.}"
     ]
    }
   ],
   "source": [
    "xt::xarray<double> arr1\n",
    "  {{1.0, 2.0, 3.0},\n",
    "   {2.0, 5.0, 7.0},\n",
    "   {2.0, 5.0, 7.0}};\n",
    "\n",
    "xt::xarray<double> arr2\n",
    "  {5.0, 6.0, 7.0};\n",
    "\n",
    "xt::xarray<double> res1 = xt::view(arr1, 1) + arr2;\n",
    "\n",
    "std::cout << res1;"
   ]
  },
  {
   "cell_type": "code",
   "execution_count": 3,
   "metadata": {},
   "outputs": [
    {
     "name": "stdout",
     "output_type": "stream",
     "text": [
      "{{    1.,    16.,    81.},\n",
      " {    1.,    32.,   243.},\n",
      " {    1.,    64.,   729.},\n",
      " {    1.,   128.,  2187.}}"
     ]
    }
   ],
   "source": [
    "xt::xarray<double> arr3\n",
    "  {1.0, 2.0, 3.0};\n",
    "\n",
    "xt::xarray<unsigned int> arr4\n",
    "  {4, 5, 6, 7};\n",
    "\n",
    "arr4.reshape({4, 1});\n",
    "\n",
    "xt::xarray<double> res2 = xt::pow(arr3, arr4);\n",
    "\n",
    "std::cout << res2;"
   ]
  },
  {
   "cell_type": "code",
   "execution_count": 2,
   "metadata": {},
   "outputs": [
    {
     "name": "stdout",
     "output_type": "stream",
     "text": [
      "{  0.,   2.,   4.,   6.,   8.,  10.}\n"
     ]
    }
   ],
   "source": [
    "xt::xarray<double> e = xt::arange<double>(0., 11., 2);\n",
    "std::cout << e << std::endl;"
   ]
  },
  {
   "cell_type": "code",
   "execution_count": 3,
   "metadata": {},
   "outputs": [],
   "source": [
    "e.reshape({2, 3})"
   ]
  },
  {
   "cell_type": "code",
   "execution_count": 4,
   "metadata": {},
   "outputs": [
    {
     "data": {
      "text/html": [
       "<table style='border-style:solid;border-width:1px;'><tbody><tr><td style='font-family:monospace;' title='(0, 0)'><pre>  0.</pre></td><td style='font-family:monospace;' title='(0, 1)'><pre>  2.</pre></td><td style='font-family:monospace;' title='(0, 2)'><pre>  4.</pre></td></tr><tr><td style='font-family:monospace;' title='(1, 0)'><pre>  6.</pre></td><td style='font-family:monospace;' title='(1, 1)'><pre>  8.</pre></td><td style='font-family:monospace;' title='(1, 2)'><pre> 10.</pre></td></tr></tbody></table>"
      ]
     },
     "execution_count": 4,
     "metadata": {},
     "output_type": "execute_result"
    }
   ],
   "source": [
    "e"
   ]
  },
  {
   "cell_type": "code",
   "execution_count": 1,
   "metadata": {},
   "outputs": [],
   "source": [
    "#include <xtensor/xhistogram.hpp>\n",
    "#include <xtensor/xio.hpp>"
   ]
  },
  {
   "cell_type": "code",
   "execution_count": 2,
   "metadata": {},
   "outputs": [],
   "source": [
    "xt::xtensor<double,1> data = xt::arange<double>(0., 11.)"
   ]
  },
  {
   "cell_type": "code",
   "execution_count": 3,
   "metadata": {},
   "outputs": [
    {
     "data": {
      "text/html": [
       "<table style='border-style:solid;border-width:1px;'><tbody><tr><td style='font-family:monospace;' title='0'><pre>  0.</pre></td></tr><tr><td style='font-family:monospace;' title='1'><pre>  1.</pre></td></tr><tr><td style='font-family:monospace;' title='2'><pre>  2.</pre></td></tr><tr><td style='font-family:monospace;' title='3'><pre>  3.</pre></td></tr><tr><td style='font-family:monospace;' title='4'><pre>  4.</pre></td></tr><tr><td style='font-family:monospace;' title='5'><pre>  5.</pre></td></tr><tr><td style='font-family:monospace;' title='6'><pre>  6.</pre></td></tr><tr><td style='font-family:monospace;' title='7'><pre>  7.</pre></td></tr><tr><td style='font-family:monospace;' title='8'><pre>  8.</pre></td></tr><tr><td style='font-family:monospace;' title='9'><pre>  9.</pre></td></tr><tr><td style='font-family:monospace;' title='10'><pre> 10.</pre></td></tr></tbody></table>"
      ]
     },
     "execution_count": 3,
     "metadata": {},
     "output_type": "execute_result"
    }
   ],
   "source": [
    "data"
   ]
  },
  {
   "cell_type": "code",
   "execution_count": 4,
   "metadata": {},
   "outputs": [],
   "source": [
    "xt::xtensor<double, 1> bin_edges = xt::histogram_bin_edges(data, std::size_t(3), xt::histogram_algorithm::uniform);"
   ]
  },
  {
   "cell_type": "code",
   "execution_count": 5,
   "metadata": {},
   "outputs": [
    {
     "data": {
      "text/html": [
       "<table style='border-style:solid;border-width:1px;'><tbody><tr><td style='font-family:monospace;' title='0'><pre>  0.</pre></td></tr><tr><td style='font-family:monospace;' title='1'><pre>  4.</pre></td></tr><tr><td style='font-family:monospace;' title='2'><pre>  8.</pre></td></tr><tr><td style='font-family:monospace;' title='3'><pre> 10.</pre></td></tr></tbody></table>"
      ]
     },
     "execution_count": 5,
     "metadata": {},
     "output_type": "execute_result"
    }
   ],
   "source": [
    "bin_edges"
   ]
  },
  {
   "cell_type": "code",
   "execution_count": null,
   "metadata": {},
   "outputs": [],
   "source": [
    "// for(auto it=bin_edges.begin(); it!=a.end(); ++it)\n"
   ]
  },
  {
   "cell_type": "code",
   "execution_count": 6,
   "metadata": {},
   "outputs": [],
   "source": [
    " xt::xtensor<double,1> prob = xt::histogram(data, bin_edges, true);"
   ]
  },
  {
   "cell_type": "code",
   "execution_count": 8,
   "metadata": {},
   "outputs": [],
   "source": [
    " xt::xtensor<double,1> counts = xt::histogram(data, bin_edges, false);"
   ]
  },
  {
   "cell_type": "code",
   "execution_count": 9,
   "metadata": {},
   "outputs": [
    {
     "data": {
      "text/html": [
       "<table style='border-style:solid;border-width:1px;'><tbody><tr><td style='font-family:monospace;' title='0'><pre> 4.</pre></td></tr><tr><td style='font-family:monospace;' title='1'><pre> 4.</pre></td></tr><tr><td style='font-family:monospace;' title='2'><pre> 3.</pre></td></tr></tbody></table>"
      ]
     },
     "execution_count": 9,
     "metadata": {},
     "output_type": "execute_result"
    }
   ],
   "source": [
    "counts"
   ]
  },
  {
   "cell_type": "code",
   "execution_count": 1,
   "metadata": {},
   "outputs": [],
   "source": [
    "#include <iostream>\n",
    "#include <xtensor/xtensor.hpp>\n",
    "#include \"xtensor/xfixed.hpp\"\n",
    "#include <xtensor/xarray.hpp>\n",
    "#include <xtensor/xmath.hpp>\n",
    "#include <xtensor/xview.hpp>\n",
    "#include <xtensor/xio.hpp>\n",
    "#include <xtensor/xrandom.hpp>"
   ]
  },
  {
   "cell_type": "code",
   "execution_count": 2,
   "metadata": {},
   "outputs": [],
   "source": [
    "xt::random::seed(0)"
   ]
  },
  {
   "cell_type": "code",
   "execution_count": 2,
   "metadata": {},
   "outputs": [],
   "source": [
    "const int column_count = 5;\n",
    "const int row_count = 4;"
   ]
  },
  {
   "cell_type": "code",
   "execution_count": 3,
   "metadata": {},
   "outputs": [],
   "source": [
    "xt::xtensor_fixed<double, xt::xshape<row_count, column_count>, xt::layout_type::column_major> some_table\n",
    "= xt::random::randn<double>({row_count, column_count})"
   ]
  },
  {
   "cell_type": "code",
   "execution_count": 4,
   "metadata": {},
   "outputs": [
    {
     "data": {
      "text/html": [
       "<table style='border-style:solid;border-width:1px;'><tbody><tr><td style='font-family:monospace;' title='(0, 0)'><pre> 0.13453 </pre></td><td style='font-family:monospace;' title='(0, 1)'><pre> 0.163712</pre></td><td style='font-family:monospace;' title='(0, 2)'><pre> 0.010215</pre></td><td style='font-family:monospace;' title='(0, 3)'><pre> 0.660682</pre></td><td style='font-family:monospace;' title='(0, 4)'><pre>-2.559122</pre></td></tr><tr><td style='font-family:monospace;' title='(1, 0)'><pre>-0.146382</pre></td><td style='font-family:monospace;' title='(1, 1)'><pre>-0.214253</pre></td><td style='font-family:monospace;' title='(1, 2)'><pre> 1.055466</pre></td><td style='font-family:monospace;' title='(1, 3)'><pre>-1.049443</pre></td><td style='font-family:monospace;' title='(1, 4)'><pre>-0.829081</pre></td></tr><tr><td style='font-family:monospace;' title='(2, 0)'><pre> 0.46065 </pre></td><td style='font-family:monospace;' title='(2, 1)'><pre> 0.298595</pre></td><td style='font-family:monospace;' title='(2, 2)'><pre>-0.546841</pre></td><td style='font-family:monospace;' title='(2, 3)'><pre> 1.485964</pre></td><td style='font-family:monospace;' title='(2, 4)'><pre>-0.539781</pre></td></tr><tr><td style='font-family:monospace;' title='(3, 0)'><pre>-1.871384</pre></td><td style='font-family:monospace;' title='(3, 1)'><pre>-0.827944</pre></td><td style='font-family:monospace;' title='(3, 2)'><pre> 1.174568</pre></td><td style='font-family:monospace;' title='(3, 3)'><pre>-0.625276</pre></td><td style='font-family:monospace;' title='(3, 4)'><pre>-0.888707</pre></td></tr></tbody></table>"
      ]
     },
     "execution_count": 4,
     "metadata": {},
     "output_type": "execute_result"
    }
   ],
   "source": [
    "some_table"
   ]
  },
  {
   "cell_type": "code",
   "execution_count": 5,
   "metadata": {},
   "outputs": [
    {
     "name": "stdout",
     "output_type": "stream",
     "text": [
      "0.13453\n",
      "-0.146382\n",
      "0.46065\n",
      "-1.87138\n",
      "0.163712\n",
      "-0.214253\n",
      "0.298595\n",
      "-0.827944\n",
      "0.0102154\n",
      "1.05547\n",
      "-0.546841\n",
      "1.17457\n",
      "0.660682\n",
      "-1.04944\n",
      "1.48596\n",
      "-0.625276\n",
      "-2.55912\n",
      "-0.829081\n",
      "-0.539781\n",
      "-0.888707\n"
     ]
    }
   ],
   "source": [
    "for(auto it=some_table.begin<xt::layout_type::column_major>(); it!=some_table.end<xt::layout_type::column_major>(); ++it)\n",
    "    std::cout << *it << std::endl;\n"
   ]
  },
  {
   "cell_type": "code",
   "execution_count": null,
   "metadata": {},
   "outputs": [
    {
     "name": "stderr",
     "output_type": "stream",
     "text": [
      "In file included from input_line_7:2:\n",
      "In file included from /home/olszewskip/miniconda3/envs/xeus_cling/include/xtensor/xtensor.hpp:19:\n",
      "In file included from /home/olszewskip/miniconda3/envs/xeus_cling/include/xtensor/xcontainer.hpp:22:\n",
      "In file included from /home/olszewskip/miniconda3/envs/xeus_cling/include/xtensor/xmath.hpp:24:\n",
      "In file included from /home/olszewskip/miniconda3/envs/xeus_cling/include/xtensor/xaccumulator.hpp:18:\n",
      "\u001b[1m/home/olszewskip/miniconda3/envs/xeus_cling/include/xtensor/xstrides.hpp:305:36: \u001b[0m\u001b[0;1;31merror: \u001b[0m\u001b[1mexpression is not assignable\u001b[0m\n",
      "                    strides[i - 1] = data_size;\n",
      "\u001b[0;1;32m                    ~~~~~~~~~~~~~~ ^\n",
      "\u001b[0m\u001b[1m/home/olszewskip/miniconda3/envs/xeus_cling/include/xtensor/xstrides.hpp:326:24: \u001b[0m\u001b[0;1;30mnote: \u001b[0min instantiation of function template specialization\n",
      "      'xt::detail::compute_strides<xt::layout_type::dynamic, xt::fixed_shape<4,\n",
      "      5>, xt::fixed_shape<4, 5>, nullptr_t>' requested here\u001b[0m\n",
      "        return detail::compute_strides<L>(shape, l, strides, nullptr);\n",
      "\u001b[0;1;32m                       ^\n",
      "\u001b[0m\u001b[1m/home/olszewskip/miniconda3/envs/xeus_cling/include/xtensor/xstrided_view_base.hpp:791:13: \u001b[0m\u001b[0;1;30mnote: \u001b[0min instantiation of function template specialization\n",
      "      'xt::compute_strides<xt::layout_type::dynamic, xt::fixed_shape<4, 5>,\n",
      "      xt::fixed_shape<4, 5> >' requested here\u001b[0m\n",
      "            compute_strides(m_e->shape(), m_layout, m_strides);\n",
      "\u001b[0;1;32m            ^\n",
      "\u001b[0m\u001b[1m/home/olszewskip/miniconda3/envs/xeus_cling/include/xtensor/xstrided_view_base.hpp:257:20: \u001b[0m\u001b[0;1;30mnote: \u001b[0min instantiation of member function 'xt::detail::flat_expression_adaptor<const\n",
      "      xt::xfunction<xt::math::log_fun, const xt::xfixed_container<double,\n",
      "      xt::fixed_shape<4, 5>, xt::layout_type::column_major,\n",
      "      xt::xtensor_expression_tag> &> >::flat_expression_adaptor' requested here\u001b[0m\n",
      "            return flat_expression_adaptor<std::remove_reference_t<E>>(s...\n",
      "\u001b[0;1;32m                   ^\n",
      "\u001b[0m\u001b[1m/home/olszewskip/miniconda3/envs/xeus_cling/include/xtensor/xstrided_view_base.hpp:303:29: \u001b[0m\u001b[0;1;30mnote: \u001b[0min instantiation of function template specialization\n",
      "      'xt::detail::get_flat_storage<const xt::xfunction<xt::math::log_fun, const\n",
      "      xt::xfixed_container<double, xt::fixed_shape<4, 5>,\n",
      "      xt::layout_type::column_major, xt::xtensor_expression_tag> &> &, nullptr>'\n",
      "      requested here\u001b[0m\n",
      "          m_storage(detail::get_flat_storage<CT>(m_e)),\n",
      "\u001b[0;1;32m                            ^\n",
      "\u001b[0m\u001b[1m/home/olszewskip/miniconda3/envs/xeus_cling/include/xtensor/xstrided_view.hpp:306:11: \u001b[0m\u001b[0;1;30mnote: \u001b[0min instantiation of function template specialization\n",
      "      'xt::xstrided_view_base<const xt::xfunction<xt::math::log_fun, const\n",
      "      xt::xfixed_container<double, xt::fixed_shape<4, 5>,\n",
      "      xt::layout_type::column_major, xt::xtensor_expression_tag> &> &,\n",
      "      xt::svector<unsigned long, 4, std::allocator<unsigned long>, true>,\n",
      "      xt::layout_type::dynamic, xt::detail::flat_expression_adaptor<const\n",
      "      xt::xfunction<xt::math::log_fun, const xt::xfixed_container<double,\n",
      "      xt::fixed_shape<4, 5>, xt::layout_type::column_major,\n",
      "      xt::xtensor_expression_tag> &> > >::xstrided_view_base<const\n",
      "      xt::xfunction<xt::math::log_fun, const xt::xfixed_container<double,\n",
      "      xt::fixed_shape<4, 5>, xt::layout_type::column_major,\n",
      "      xt::xtensor_expression_tag> &> &>' requested here\u001b[0m\n",
      "        : base_type(std::forward<CTA>(e), std::move(shape), std::move(st...\n",
      "\u001b[0;1;32m          ^\n",
      "\u001b[0m\u001b[1m/home/olszewskip/miniconda3/envs/xeus_cling/include/xtensor/xstrided_view.hpp:606:16: \u001b[0m\u001b[0;1;30mnote: \u001b[0min instantiation of function template specialization 'xt::xstrided_view<const\n",
      "      xt::xfunction<xt::math::log_fun, const xt::xfixed_container<double,\n",
      "      xt::fixed_shape<4, 5>, xt::layout_type::column_major,\n",
      "      xt::xtensor_expression_tag> &> &, xt::svector<unsigned long, 4,\n",
      "      std::allocator<unsigned long>, true>, xt::layout_type::dynamic,\n",
      "      xt::detail::flat_expression_adaptor<const xt::xfunction<xt::math::log_fun,\n",
      "      const xt::xfixed_container<double, xt::fixed_shape<4, 5>,\n",
      "      xt::layout_type::column_major, xt::xtensor_expression_tag> &> >\n",
      "      >::xstrided_view<const xt::xfunction<xt::math::log_fun, const\n",
      "      xt::xfixed_container<double, xt::fixed_shape<4, 5>,\n",
      "      xt::layout_type::column_major, xt::xtensor_expression_tag> &> &>'\n",
      "      requested here\u001b[0m\n",
      "        return view_type(std::forward<E>(e), std::move(args.new_shape), ...\n",
      "\u001b[0;1;32m               ^\n",
      "\u001b[0m\u001b[1m/home/olszewskip/miniconda3/envs/xeus_cling/include/xtensor/xmime.hpp:238:17: \u001b[0m\u001b[0;1;30mnote: \u001b[0min instantiation of function template specialization\n",
      "      'xt::detail::recurser_run<xt::detail::printer<xt::xfunction<xt::math::log_fun,\n",
      "      const xt::xfixed_container<double, xt::fixed_shape<4, 5>,\n",
      "      xt::layout_type::column_major, xt::xtensor_expression_tag> &>, void>,\n",
      "      xt::xfunction<xt::math::log_fun, const xt::xfixed_container<double,\n",
      "      xt::fixed_shape<4, 5>, xt::layout_type::column_major,\n",
      "      xt::xtensor_expression_tag> &> >' requested here\u001b[0m\n",
      "        detail::recurser_run(printer, expr, slice_vector, edgeitems);\n",
      "\u001b[0;1;32m                ^\n",
      "\u001b[0m\u001b[1m/home/olszewskip/miniconda3/envs/xeus_cling/include/xtensor/xmime.hpp:263:16: \u001b[0m\u001b[0;1;30mnote: \u001b[0min instantiation of function template specialization\n",
      "      'xt::mime_bundle_repr_impl<xt::xfunction<xt::math::log_fun, const\n",
      "      xt::xfixed_container<double, xt::fixed_shape<4, 5>,\n",
      "      xt::layout_type::column_major, xt::xtensor_expression_tag> &> >' requested\n",
      "      here\u001b[0m\n",
      "        return mime_bundle_repr_impl(expr);\n",
      "\u001b[0;1;32m               ^\n",
      "\u001b[0m\u001b[1minput_line_17:2:2: \u001b[0m\u001b[0;1;30mnote: \u001b[0min instantiation of function template specialization\n",
      "      'xt::mime_bundle_repr<xt::math::log_fun, const\n",
      "      xt::xfixed_container<double, xt::fixed_shape<4, 5>,\n",
      "      xt::layout_type::column_major, xt::xtensor_expression_tag> &>' requested\n",
      "      here\u001b[0m\n",
      " mime_bundle_repr(*(*(xt::xfunction<xt::math::log_fun, const xt::xfixed_...\n",
      "\u001b[0;1;32m ^\n",
      "\u001b[0mIn file included from input_line_7:2:\n",
      "In file included from /home/olszewskip/miniconda3/envs/xeus_cling/include/xtensor/xtensor.hpp:19:\n",
      "In file included from /home/olszewskip/miniconda3/envs/xeus_cling/include/xtensor/xcontainer.hpp:22:\n",
      "In file included from /home/olszewskip/miniconda3/envs/xeus_cling/include/xtensor/xmath.hpp:24:\n",
      "In file included from /home/olszewskip/miniconda3/envs/xeus_cling/include/xtensor/xaccumulator.hpp:18:\n",
      "\u001b[1m/home/olszewskip/miniconda3/envs/xeus_cling/include/xtensor/xstrides.hpp:291:28: \u001b[0m\u001b[0;1;31merror: \u001b[0m\u001b[1mexpression is not assignable\u001b[0m\n",
      "                strides[i] = 0;\n",
      "\u001b[0;1;32m                ~~~~~~~~~~ ^\n",
      "\u001b[0m\u001b[1m/home/olszewskip/miniconda3/envs/xeus_cling/include/xtensor/xstrides.hpp:307:21: \u001b[0m\u001b[0;1;30mnote: \u001b[0min instantiation of function template specialization\n",
      "      'xt::detail::adapt_strides<xt::fixed_shape<4, 5>, xt::fixed_shape<4, 5> >'\n",
      "      requested here\u001b[0m\n",
      "                    adapt_strides(shape, strides, bs, i - 1);\n",
      "\u001b[0;1;32m                    ^\n",
      "\u001b[0m\u001b[1m/home/olszewskip/miniconda3/envs/xeus_cling/include/xtensor/xstrides.hpp:326:24: \u001b[0m\u001b[0;1;30mnote: \u001b[0min instantiation of function template specialization\n",
      "      'xt::detail::compute_strides<xt::layout_type::dynamic, xt::fixed_shape<4,\n",
      "      5>, xt::fixed_shape<4, 5>, nullptr_t>' requested here\u001b[0m\n",
      "        return detail::compute_strides<L>(shape, l, strides, nullptr);\n",
      "\u001b[0;1;32m                       ^\n",
      "\u001b[0m\u001b[1m/home/olszewskip/miniconda3/envs/xeus_cling/include/xtensor/xstrided_view_base.hpp:791:13: \u001b[0m\u001b[0;1;30mnote: \u001b[0min instantiation of function template specialization\n",
      "      'xt::compute_strides<xt::layout_type::dynamic, xt::fixed_shape<4, 5>,\n",
      "      xt::fixed_shape<4, 5> >' requested here\u001b[0m\n",
      "            compute_strides(m_e->shape(), m_layout, m_strides);\n",
      "\u001b[0;1;32m            ^\n",
      "\u001b[0m\u001b[1m/home/olszewskip/miniconda3/envs/xeus_cling/include/xtensor/xstrided_view_base.hpp:257:20: \u001b[0m\u001b[0;1;30mnote: \u001b[0min instantiation of member function 'xt::detail::flat_expression_adaptor<const\n",
      "      xt::xfunction<xt::math::log_fun, const xt::xfixed_container<double,\n",
      "      xt::fixed_shape<4, 5>, xt::layout_type::column_major,\n",
      "      xt::xtensor_expression_tag> &> >::flat_expression_adaptor' requested here\u001b[0m\n",
      "            return flat_expression_adaptor<std::remove_reference_t<E>>(s...\n",
      "\u001b[0;1;32m                   ^\n",
      "\u001b[0m\u001b[1m/home/olszewskip/miniconda3/envs/xeus_cling/include/xtensor/xstrided_view_base.hpp:303:29: \u001b[0m\u001b[0;1;30mnote: \u001b[0min instantiation of function template specialization\n",
      "      'xt::detail::get_flat_storage<const xt::xfunction<xt::math::log_fun, const\n",
      "      xt::xfixed_container<double, xt::fixed_shape<4, 5>,\n",
      "      xt::layout_type::column_major, xt::xtensor_expression_tag> &> &, nullptr>'\n",
      "      requested here\u001b[0m\n",
      "          m_storage(detail::get_flat_storage<CT>(m_e)),\n",
      "\u001b[0;1;32m                            ^\n",
      "\u001b[0m\u001b[1m/home/olszewskip/miniconda3/envs/xeus_cling/include/xtensor/xstrided_view.hpp:306:11: \u001b[0m\u001b[0;1;30mnote: \u001b[0min instantiation of function template specialization\n",
      "      'xt::xstrided_view_base<const xt::xfunction<xt::math::log_fun, const\n",
      "      xt::xfixed_container<double, xt::fixed_shape<4, 5>,\n",
      "      xt::layout_type::column_major, xt::xtensor_expression_tag> &> &,\n",
      "      xt::svector<unsigned long, 4, std::allocator<unsigned long>, true>,\n",
      "      xt::layout_type::dynamic, xt::detail::flat_expression_adaptor<const\n",
      "      xt::xfunction<xt::math::log_fun, const xt::xfixed_container<double,\n",
      "      xt::fixed_shape<4, 5>, xt::layout_type::column_major,\n",
      "      xt::xtensor_expression_tag> &> > >::xstrided_view_base<const\n",
      "      xt::xfunction<xt::math::log_fun, const xt::xfixed_container<double,\n",
      "      xt::fixed_shape<4, 5>, xt::layout_type::column_major,\n",
      "      xt::xtensor_expression_tag> &> &>' requested here\u001b[0m\n",
      "        : base_type(std::forward<CTA>(e), std::move(shape), std::move(st...\n",
      "\u001b[0;1;32m          ^\n",
      "\u001b[0m\u001b[1m/home/olszewskip/miniconda3/envs/xeus_cling/include/xtensor/xstrided_view.hpp:606:16: \u001b[0m\u001b[0;1;30mnote: \u001b[0min instantiation of function template specialization 'xt::xstrided_view<const\n",
      "      xt::xfunction<xt::math::log_fun, const xt::xfixed_container<double,\n",
      "      xt::fixed_shape<4, 5>, xt::layout_type::column_major,\n",
      "      xt::xtensor_expression_tag> &> &, xt::svector<unsigned long, 4,\n",
      "      std::allocator<unsigned long>, true>, xt::layout_type::dynamic,\n",
      "      xt::detail::flat_expression_adaptor<const xt::xfunction<xt::math::log_fun,\n",
      "      const xt::xfixed_container<double, xt::fixed_shape<4, 5>,\n",
      "      xt::layout_type::column_major, xt::xtensor_expression_tag> &> >\n",
      "      >::xstrided_view<const xt::xfunction<xt::math::log_fun, const\n",
      "      xt::xfixed_container<double, xt::fixed_shape<4, 5>,\n",
      "      xt::layout_type::column_major, xt::xtensor_expression_tag> &> &>'\n",
      "      requested here\u001b[0m\n",
      "        return view_type(std::forward<E>(e), std::move(args.new_shape), ...\n",
      "\u001b[0;1;32m               ^\n",
      "\u001b[0m\u001b[1m/home/olszewskip/miniconda3/envs/xeus_cling/include/xtensor/xmime.hpp:238:17: \u001b[0m\u001b[0;1;30mnote: \u001b[0min instantiation of function template specialization\n",
      "      'xt::detail::recurser_run<xt::detail::printer<xt::xfunction<xt::math::log_fun,\n",
      "      const xt::xfixed_container<double, xt::fixed_shape<4, 5>,\n",
      "      xt::layout_type::column_major, xt::xtensor_expression_tag> &>, void>,\n",
      "      xt::xfunction<xt::math::log_fun, const xt::xfixed_container<double,\n",
      "      xt::fixed_shape<4, 5>, xt::layout_type::column_major,\n",
      "      xt::xtensor_expression_tag> &> >' requested here\u001b[0m\n",
      "        detail::recurser_run(printer, expr, slice_vector, edgeitems);\n",
      "\u001b[0;1;32m                ^\n",
      "\u001b[0m\u001b[1m/home/olszewskip/miniconda3/envs/xeus_cling/include/xtensor/xmime.hpp:263:16: \u001b[0m\u001b[0;1;30mnote: \u001b[0min instantiation of function template specialization\n",
      "      'xt::mime_bundle_repr_impl<xt::xfunction<xt::math::log_fun, const\n",
      "      xt::xfixed_container<double, xt::fixed_shape<4, 5>,\n",
      "      xt::layout_type::column_major, xt::xtensor_expression_tag> &> >' requested\n",
      "      here\u001b[0m\n",
      "        return mime_bundle_repr_impl(expr);\n",
      "\u001b[0;1;32m               ^\n",
      "\u001b[0m\u001b[1minput_line_17:2:2: \u001b[0m\u001b[0;1;30mnote: \u001b[0min instantiation of function template specialization\n",
      "      'xt::mime_bundle_repr<xt::math::log_fun, const\n",
      "      xt::xfixed_container<double, xt::fixed_shape<4, 5>,\n",
      "      xt::layout_type::column_major, xt::xtensor_expression_tag> &>' requested\n",
      "      here\u001b[0m\n",
      " mime_bundle_repr(*(*(xt::xfunction<xt::math::log_fun, const xt::xfixed_...\n",
      "\u001b[0;1;32m ^\n",
      "\u001b[0mIn file included from input_line_7:2:\n",
      "In file included from /home/olszewskip/miniconda3/envs/xeus_cling/include/xtensor/xtensor.hpp:19:\n",
      "In file included from /home/olszewskip/miniconda3/envs/xeus_cling/include/xtensor/xcontainer.hpp:22:\n",
      "In file included from /home/olszewskip/miniconda3/envs/xeus_cling/include/xtensor/xmath.hpp:25:\n",
      "In file included from /home/olszewskip/miniconda3/envs/xeus_cling/include/xtensor/xoperation.hpp:22:\n",
      "In file included from /home/olszewskip/miniconda3/envs/xeus_cling/include/xtensor/xstrided_view.hpp:26:\n",
      "\u001b[1m/home/olszewskip/miniconda3/envs/xeus_cling/include/xtensor/xstrided_view_base.hpp:819:21: \u001b[0m\u001b[0;1;31merror: \u001b[0m\u001b[1mno viable overloaded '='\u001b[0m\n",
      "            m_index = detail::unravel_noexcept(idx, m_strides, m_layout);\n",
      "\u001b[0;1;32m            ~~~~~~~ ^ ~~~~~~~~~~~~~~~~~~~~~~~~~~~~~~~~~~~~~~~~~~~~~~~~~~\n",
      "\u001b[0m\u001b[1m/home/olszewskip/miniconda3/envs/xeus_cling/include/xtensor/xstrided_view_base.hpp:444:16: \u001b[0m\u001b[0;1;30mnote: \u001b[0min instantiation of member function 'xt::detail::flat_expression_adaptor<const\n",
      "      xt::xfunction<xt::math::log_fun, const xt::xfixed_container<double,\n",
      "      xt::fixed_shape<4, 5>, xt::layout_type::column_major,\n",
      "      xt::xtensor_expression_tag> &> >::operator[]' requested here\u001b[0m\n",
      "        return m_storage[static_cast<size_type>(m_offset)];\n",
      "\u001b[0;1;32m               ^\n",
      "\u001b[0m\u001b[1m/home/olszewskip/miniconda3/envs/xeus_cling/include/xtensor/xio.hpp:262:27: \u001b[0m\u001b[0;1;30mnote: \u001b[0min instantiation of member function 'xt::xstrided_view_base<const\n",
      "      xt::xfunction<xt::math::log_fun, const xt::xfixed_container<double,\n",
      "      xt::fixed_shape<4, 5>, xt::layout_type::column_major,\n",
      "      xt::xtensor_expression_tag> &> &, xt::svector<unsigned long, 4,\n",
      "      std::allocator<unsigned long>, true>, xt::layout_type::dynamic,\n",
      "      xt::detail::flat_expression_adaptor<const xt::xfunction<xt::math::log_fun,\n",
      "      const xt::xfixed_container<double, xt::fixed_shape<4, 5>,\n",
      "      xt::layout_type::column_major, xt::xtensor_expression_tag> &> >\n",
      "      >::operator()' requested here\u001b[0m\n",
      "                fn.update(view());\n",
      "\u001b[0;1;32m                          ^\n",
      "\u001b[0m\u001b[1m/home/olszewskip/miniconda3/envs/xeus_cling/include/xtensor/xmime.hpp:238:17: \u001b[0m\u001b[0;1;30mnote: \u001b[0min instantiation of function template specialization\n",
      "      'xt::detail::recurser_run<xt::detail::printer<xt::xfunction<xt::math::log_fun,\n",
      "      const xt::xfixed_container<double, xt::fixed_shape<4, 5>,\n",
      "      xt::layout_type::column_major, xt::xtensor_expression_tag> &>, void>,\n",
      "      xt::xfunction<xt::math::log_fun, const xt::xfixed_container<double,\n",
      "      xt::fixed_shape<4, 5>, xt::layout_type::column_major,\n",
      "      xt::xtensor_expression_tag> &> >' requested here\u001b[0m\n",
      "        detail::recurser_run(printer, expr, slice_vector, edgeitems);\n",
      "\u001b[0;1;32m                ^\n",
      "\u001b[0m\u001b[1m/home/olszewskip/miniconda3/envs/xeus_cling/include/xtensor/xmime.hpp:263:16: \u001b[0m\u001b[0;1;30mnote: \u001b[0min instantiation of function template specialization\n",
      "      'xt::mime_bundle_repr_impl<xt::xfunction<xt::math::log_fun, const\n",
      "      xt::xfixed_container<double, xt::fixed_shape<4, 5>,\n",
      "      xt::layout_type::column_major, xt::xtensor_expression_tag> &> >' requested\n",
      "      here\u001b[0m\n",
      "        return mime_bundle_repr_impl(expr);\n",
      "\u001b[0;1;32m               ^\n",
      "\u001b[0m\u001b[1minput_line_17:2:2: \u001b[0m\u001b[0;1;30mnote: \u001b[0min instantiation of function template specialization\n",
      "      'xt::mime_bundle_repr<xt::math::log_fun, const\n",
      "      xt::xfixed_container<double, xt::fixed_shape<4, 5>,\n",
      "      xt::layout_type::column_major, xt::xtensor_expression_tag> &>' requested\n",
      "      here\u001b[0m\n",
      " mime_bundle_repr(*(*(xt::xfunction<xt::math::log_fun, const xt::xfixed_...\n",
      "\u001b[0;1;32m ^\n"
     ]
    },
    {
     "name": "stderr",
     "output_type": "stream",
     "text": [
      "\u001b[0m\u001b[1m/home/olszewskip/miniconda3/envs/xeus_cling/bin/../lib/gcc/x86_64-conda_cos6-linux-gnu/7.3.0/../../../../x86_64-conda_cos6-linux-gnu/include/c++/7.3.0/array:94:12: \u001b[0m\u001b[0;1;30mnote: \u001b[0mcandidate function (the implicit copy assignment operator) not viable: no known\n",
      "      conversion from 'xt::fixed_shape<4, 5>' to 'const std::array<unsigned\n",
      "      long, 2>' for 1st argument\u001b[0m\n",
      "    struct array\n",
      "\u001b[0;1;32m           ^\n",
      "\u001b[0m\u001b[1m/home/olszewskip/miniconda3/envs/xeus_cling/bin/../lib/gcc/x86_64-conda_cos6-linux-gnu/7.3.0/../../../../x86_64-conda_cos6-linux-gnu/include/c++/7.3.0/array:94:12: \u001b[0m\u001b[0;1;30mnote: \u001b[0mcandidate function (the implicit move assignment operator) not viable: no known\n",
      "      conversion from 'xt::fixed_shape<4, 5>' to 'std::array<unsigned long, 2>'\n",
      "      for 1st argument\u001b[0m\n",
      "In file included from input_line_7:2:\n",
      "In file included from /home/olszewskip/miniconda3/envs/xeus_cling/include/xtensor/xtensor.hpp:19:\n",
      "In file included from /home/olszewskip/miniconda3/envs/xeus_cling/include/xtensor/xcontainer.hpp:22:\n",
      "In file included from /home/olszewskip/miniconda3/envs/xeus_cling/include/xtensor/xmath.hpp:24:\n",
      "In file included from /home/olszewskip/miniconda3/envs/xeus_cling/include/xtensor/xaccumulator.hpp:18:\n",
      "\u001b[1m/home/olszewskip/miniconda3/envs/xeus_cling/include/xtensor/xstrides.hpp:406:31: \u001b[0m\u001b[0;1;31merror: \u001b[0m\u001b[1mexpression is not assignable\u001b[0m\n",
      "                    result[i] = quot;\n",
      "\u001b[0;1;32m                    ~~~~~~~~~ ^\n",
      "\u001b[0m\u001b[1m/home/olszewskip/miniconda3/envs/xeus_cling/include/xtensor/xstrided_view_base.hpp:819:31: \u001b[0m\u001b[0;1;30mnote: \u001b[0min instantiation of function template specialization\n",
      "      'xt::detail::unravel_noexcept<xt::fixed_shape<4, 5> >' requested here\u001b[0m\n",
      "            m_index = detail::unravel_noexcept(idx, m_strides, m_layout);\n",
      "\u001b[0;1;32m                              ^\n",
      "\u001b[0m\u001b[1m/home/olszewskip/miniconda3/envs/xeus_cling/include/xtensor/xstrided_view_base.hpp:444:16: \u001b[0m\u001b[0;1;30mnote: \u001b[0min instantiation of member function 'xt::detail::flat_expression_adaptor<const\n",
      "      xt::xfunction<xt::math::log_fun, const xt::xfixed_container<double,\n",
      "      xt::fixed_shape<4, 5>, xt::layout_type::column_major,\n",
      "      xt::xtensor_expression_tag> &> >::operator[]' requested here\u001b[0m\n",
      "        return m_storage[static_cast<size_type>(m_offset)];\n",
      "\u001b[0;1;32m               ^\n",
      "\u001b[0m\u001b[1m/home/olszewskip/miniconda3/envs/xeus_cling/include/xtensor/xio.hpp:262:27: \u001b[0m\u001b[0;1;30mnote: \u001b[0min instantiation of member function 'xt::xstrided_view_base<const\n",
      "      xt::xfunction<xt::math::log_fun, const xt::xfixed_container<double,\n",
      "      xt::fixed_shape<4, 5>, xt::layout_type::column_major,\n",
      "      xt::xtensor_expression_tag> &> &, xt::svector<unsigned long, 4,\n",
      "      std::allocator<unsigned long>, true>, xt::layout_type::dynamic,\n",
      "      xt::detail::flat_expression_adaptor<const xt::xfunction<xt::math::log_fun,\n",
      "      const xt::xfixed_container<double, xt::fixed_shape<4, 5>,\n",
      "      xt::layout_type::column_major, xt::xtensor_expression_tag> &> >\n",
      "      >::operator()' requested here\u001b[0m\n",
      "                fn.update(view());\n",
      "\u001b[0;1;32m                          ^\n",
      "\u001b[0m\u001b[1m/home/olszewskip/miniconda3/envs/xeus_cling/include/xtensor/xmime.hpp:238:17: \u001b[0m\u001b[0;1;30mnote: \u001b[0min instantiation of function template specialization\n",
      "      'xt::detail::recurser_run<xt::detail::printer<xt::xfunction<xt::math::log_fun,\n",
      "      const xt::xfixed_container<double, xt::fixed_shape<4, 5>,\n",
      "      xt::layout_type::column_major, xt::xtensor_expression_tag> &>, void>,\n",
      "      xt::xfunction<xt::math::log_fun, const xt::xfixed_container<double,\n",
      "      xt::fixed_shape<4, 5>, xt::layout_type::column_major,\n",
      "      xt::xtensor_expression_tag> &> >' requested here\u001b[0m\n",
      "        detail::recurser_run(printer, expr, slice_vector, edgeitems);\n",
      "\u001b[0;1;32m                ^\n",
      "\u001b[0m\u001b[1m/home/olszewskip/miniconda3/envs/xeus_cling/include/xtensor/xmime.hpp:263:16: \u001b[0m\u001b[0;1;30mnote: \u001b[0min instantiation of function template specialization\n",
      "      'xt::mime_bundle_repr_impl<xt::xfunction<xt::math::log_fun, const\n",
      "      xt::xfixed_container<double, xt::fixed_shape<4, 5>,\n",
      "      xt::layout_type::column_major, xt::xtensor_expression_tag> &> >' requested\n",
      "      here\u001b[0m\n",
      "        return mime_bundle_repr_impl(expr);\n",
      "\u001b[0;1;32m               ^\n",
      "\u001b[0m\u001b[1minput_line_17:2:2: \u001b[0m\u001b[0;1;30mnote: \u001b[0min instantiation of function template specialization\n",
      "      'xt::mime_bundle_repr<xt::math::log_fun, const\n",
      "      xt::xfixed_container<double, xt::fixed_shape<4, 5>,\n",
      "      xt::layout_type::column_major, xt::xtensor_expression_tag> &>' requested\n",
      "      here\u001b[0m\n",
      " mime_bundle_repr(*(*(xt::xfunction<xt::math::log_fun, const xt::xfixed_...\n",
      "\u001b[0;1;32m ^\n",
      "\u001b[0m"
     ]
    }
   ],
   "source": [
    "xt::log(some_table)"
   ]
  },
  {
   "cell_type": "markdown",
   "metadata": {},
   "source": [
    "---\n",
    "Read in csv"
   ]
  },
  {
   "cell_type": "code",
   "execution_count": 2,
   "metadata": {},
   "outputs": [],
   "source": [
    "#include <fstream>\n",
    "#include <iostream>\n",
    "\n",
    "#include <xtensor/xtensor.hpp>\n",
    "#include \"xtensor/xarray.hpp\"\n",
    "#include \"xtensor/xcsv.hpp\""
   ]
  },
  {
   "cell_type": "code",
   "execution_count": 3,
   "metadata": {},
   "outputs": [],
   "source": [
    "std::ifstream in_file;\n",
    "in_file.open(\"../MDFS_playground/C/scheduler_ver4/dummy.csv\");"
   ]
  },
  {
   "cell_type": "code",
   "execution_count": 4,
   "metadata": {},
   "outputs": [],
   "source": [
    "xt::xtensor<double, 2, xt::layout_type::column_major> data\n",
    "= xt::load_csv<double>(in_file);"
   ]
  },
  {
   "cell_type": "code",
   "execution_count": 5,
   "metadata": {},
   "outputs": [
    {
     "data": {
      "text/plain": [
       "124500"
      ]
     },
     "execution_count": 5,
     "metadata": {},
     "output_type": "execute_result"
    }
   ],
   "source": [
    "data.size()"
   ]
  },
  {
   "cell_type": "code",
   "execution_count": 13,
   "metadata": {},
   "outputs": [
    {
     "data": {
      "text/plain": [
       "2"
      ]
     },
     "execution_count": 13,
     "metadata": {},
     "output_type": "execute_result"
    }
   ],
   "source": [
    "data.dimension()"
   ]
  },
  {
   "cell_type": "code",
   "execution_count": 21,
   "metadata": {},
   "outputs": [
    {
     "name": "stdout",
     "output_type": "stream",
     "text": [
      "1.68651\n"
     ]
    }
   ],
   "source": [
    "std::cout << data[0,3] << std::endl;"
   ]
  },
  {
   "cell_type": "markdown",
   "metadata": {},
   "source": [
    "---"
   ]
  },
  {
   "cell_type": "code",
   "execution_count": 1,
   "metadata": {},
   "outputs": [],
   "source": [
    "#include \"xtensor/xtensor.hpp\"\n",
    "#include <xtensor/xio.hpp>\n",
    "#include \"xtensor/xmath.hpp\"\n",
    "#include \"xtensor/xrandom.hpp\"\n",
    "#include <chrono>\n",
    "#include <ctime>"
   ]
  },
  {
   "cell_type": "code",
   "execution_count": 2,
   "metadata": {},
   "outputs": [],
   "source": [
    "// xt::xtensor<double, 2> a1({2, 3});"
   ]
  },
  {
   "cell_type": "code",
   "execution_count": 4,
   "metadata": {},
   "outputs": [
    {
     "data": {
      "text/html": [
       "<table style='border-style:solid;border-width:1px;'><tbody><tr><td style='font-family:monospace;' title='(0, 0)'><pre> 1.749606e+09</pre></td><td style='font-family:monospace;' title='(0, 1)'><pre> 2.909347e+08</pre></td><td style='font-family:monospace;' title='(0, 2)'><pre> 1.945173e+09</pre></td></tr><tr><td style='font-family:monospace;' title='(1, 0)'><pre> 1.793167e+09</pre></td><td style='font-family:monospace;' title='(1, 1)'><pre> 2.727021e+08</pre></td><td style='font-family:monospace;' title='(1, 2)'><pre> 2.080628e+09</pre></td></tr></tbody></table>"
      ]
     },
     "execution_count": 4,
     "metadata": {},
     "output_type": "execute_result"
    }
   ],
   "source": [
    "xt::xtensor<double, 2> a1 = xt::eval(xt::random::randint<int>({2, 3}));\n",
    "a1"
   ]
  },
  {
   "cell_type": "code",
   "execution_count": 5,
   "metadata": {},
   "outputs": [
    {
     "data": {
      "text/html": [
       "<table style='border-style:solid;border-width:1px;'><tbody><tr><td style='font-family:monospace;' title='(0, 0)'><pre> 1.749606e+09</pre></td><td style='font-family:monospace;' title='(0, 1)'><pre> 2.909347e+08</pre></td><td style='font-family:monospace;' title='(0, 2)'><pre> 1.945173e+09</pre></td></tr><tr><td style='font-family:monospace;' title='(1, 0)'><pre> 1.793167e+09</pre></td><td style='font-family:monospace;' title='(1, 1)'><pre> 2.727021e+08</pre></td><td style='font-family:monospace;' title='(1, 2)'><pre> 2.080628e+09</pre></td></tr></tbody></table>"
      ]
     },
     "execution_count": 5,
     "metadata": {},
     "output_type": "execute_result"
    }
   ],
   "source": [
    "2 + a1"
   ]
  },
  {
   "cell_type": "code",
   "execution_count": 4,
   "metadata": {},
   "outputs": [
    {
     "name": "stdout",
     "output_type": "stream",
     "text": [
      "1.74961e+09\n",
      "2.90935e+08\n",
      "1.94517e+09\n",
      "1.79317e+09\n",
      "2.72702e+08\n",
      "2.08063e+09\n"
     ]
    }
   ],
   "source": [
    "for(auto ptr = a1.begin(); ptr != a1.end(); ++ptr) {\n",
    "    std::cout << *ptr << std::endl;\n",
    "}"
   ]
  },
  {
   "cell_type": "code",
   "execution_count": 6,
   "metadata": {},
   "outputs": [
    {
     "data": {
      "text/html": [
       "<table style='border-style:solid;border-width:1px;'><tbody><tr><td style='font-family:monospace;' title='0'><pre> 3.985714e+09</pre></td></tr><tr><td style='font-family:monospace;' title='1'><pre> 4.146497e+09</pre></td></tr></tbody></table>"
      ]
     },
     "execution_count": 6,
     "metadata": {},
     "output_type": "execute_result"
    }
   ],
   "source": [
    "xt::sum(a1, {1})"
   ]
  },
  {
   "cell_type": "markdown",
   "metadata": {},
   "source": [
    "---\n",
    "Example of a two step reduction"
   ]
  },
  {
   "cell_type": "code",
   "execution_count": 2,
   "metadata": {},
   "outputs": [],
   "source": [
    "xt::random::seed(123);\n",
    "const unsigned int dim = 10"
   ]
  },
  {
   "cell_type": "markdown",
   "metadata": {},
   "source": [
    "Random square 2D matrix.\n",
    "\n",
    "Initialize using xtensor and copy to a plain C array."
   ]
  },
  {
   "cell_type": "code",
   "execution_count": 3,
   "metadata": {},
   "outputs": [],
   "source": [
    "xt::xtensor<double, 2> a2 = xt::eval(xt::random::randint({dim, dim}, 0, 10));\n",
    "double b2[100 * 100];\n",
    "int i = 0;\n",
    "for(auto ptr = a2.begin(); ptr != a2.end(); ++i, ++ptr) {\n",
    "    b2[i] = *ptr;\n",
    "}"
   ]
  },
  {
   "cell_type": "markdown",
   "metadata": {},
   "source": [
    "Reduce using xtensor methods"
   ]
  },
  {
   "cell_type": "code",
   "execution_count": 4,
   "metadata": {},
   "outputs": [
    {
     "name": "stdout",
     "output_type": "stream",
     "text": [
      "110.351 :)\n",
      "0.000813056"
     ]
    }
   ],
   "source": [
    "auto start_a = std::chrono::system_clock::now();\n",
    "auto a2_red = xt::sum(a2, {1});\n",
    "double a2_final = xt::sum(a2_red * xt::log2(a2_red))[0];\n",
    "auto end_a = std::chrono::system_clock::now();\n",
    "std::cout << a2_final << \" :)\" << std::endl;\n",
    "std::chrono::duration<double> time_diff_a = end_a - start_a;\n",
    "std::cout << time_diff_a.count();"
   ]
  },
  {
   "cell_type": "markdown",
   "metadata": {},
   "source": [
    "Reduce naively"
   ]
  },
  {
   "cell_type": "code",
   "execution_count": 5,
   "metadata": {},
   "outputs": [
    {
     "name": "stdout",
     "output_type": "stream",
     "text": [
      "110.351 :)\n",
      "2.594e-06"
     ]
    }
   ],
   "source": [
    "auto start_b = std::chrono::system_clock::now();\n",
    "double b2_red[dim];\n",
    "for(int i = 0; i < dim; ++i)\n",
    "    for(int j = 0; j < dim; ++j)\n",
    "        b2_red[i] += b2[i * dim + j];\n",
    "double b2_final = 0.;\n",
    "for(int i = 0; i < dim; ++i)\n",
    "    b2_final += b2_red[i] * log2(b2_red[i]);\n",
    "auto end_b = std::chrono::system_clock::now();\n",
    "std::cout << b2_final << \" :)\" << std::endl;\n",
    "std::chrono::duration<double> time_diff_b = end_b - start_b;\n",
    "std::cout << time_diff_b.count();"
   ]
  },
  {
   "cell_type": "markdown",
   "metadata": {},
   "source": [
    "---"
   ]
  },
  {
   "cell_type": "code",
   "execution_count": 8,
   "metadata": {},
   "outputs": [
    {
     "data": {
      "text/plain": [
       "2.52e+10"
      ]
     },
     "execution_count": 8,
     "metadata": {},
     "output_type": "execute_result"
    }
   ],
   "source": [
    "b2_final"
   ]
  },
  {
   "cell_type": "code",
   "execution_count": 9,
   "metadata": {},
   "outputs": [
    {
     "name": "stdout",
     "output_type": "stream",
     "text": [
      "2.52001e+10 :)\n",
      "0.018762"
     ]
    }
   ],
   "source": [
    "auto start = std::chrono::system_clock::now();\n",
    "auto a2_red = xt::sum(a2, {1});\n",
    "double a2_final = xt::sum(a2_red * xt::log2(a2_red))[0];\n",
    "auto end = std::chrono::system_clock::now();\n",
    "std::cout << a2_final << \" :)\" << std::endl;\n",
    "std::chrono::duration<double> time_diff = end-start;\n",
    "std::cout << time_diff.count();"
   ]
  },
  {
   "cell_type": "code",
   "execution_count": 14,
   "metadata": {},
   "outputs": [],
   "source": [
    "#include \"xtensor/xview.hpp\""
   ]
  },
  {
   "cell_type": "code",
   "execution_count": 21,
   "metadata": {},
   "outputs": [
    {
     "data": {
      "text/html": [
       "<table style='border-style:solid;border-width:1px;'><tbody><tr><td style='font-family:monospace;'><pre>3.55054e+12</pre></td></tr></tbody></table>"
      ]
     },
     "execution_count": 21,
     "metadata": {},
     "output_type": "execute_result"
    }
   ],
   "source": [
    "auto v1 = xt::view(a2, 0, xt::all());\n",
    "xt::sum(v1 * xt::log2(v1))"
   ]
  },
  {
   "cell_type": "code",
   "execution_count": 11,
   "metadata": {},
   "outputs": [
    {
     "data": {
      "text/html": [
       "<table style='border-style:solid;border-width:1px;'><tbody><tr><td style='font-family:monospace;' title='(0, 0)'><pre> 1.749606e+09</pre></td><td style='font-family:monospace;' title='(0, 1)'><pre> 2.909347e+08</pre></td><td style='font-family:monospace;' title='(0, 2)'><pre> 1.945173e+09</pre></td><td><center>...</center></td><td style='font-family:monospace;' title='(0, 97)'><pre> 1.977564e+09</pre></td><td style='font-family:monospace;' title='(0, 98)'><pre> 1.620677e+09</pre></td><td style='font-family:monospace;' title='(0, 99)'><pre> 1.734160e+09</pre></td></tr><tr><td style='font-family:monospace;' title='(1, 0)'><pre> 5.927593e+08</pre></td><td style='font-family:monospace;' title='(1, 1)'><pre> 1.515639e+09</pre></td><td style='font-family:monospace;' title='(1, 2)'><pre> 1.459650e+09</pre></td><td><center>...</center></td><td style='font-family:monospace;' title='(1, 97)'><pre> 1.561123e+09</pre></td><td style='font-family:monospace;' title='(1, 98)'><pre> 7.239654e+08</pre></td><td style='font-family:monospace;' title='(1, 99)'><pre> 8.344473e+08</pre></td></tr><tr><td style='font-family:monospace;' title='(2, 0)'><pre> 3.482838e+08</pre></td><td style='font-family:monospace;' title='(2, 1)'><pre> 1.991776e+09</pre></td><td style='font-family:monospace;' title='(2, 2)'><pre> 1.705713e+09</pre></td><td><center>...</center></td><td style='font-family:monospace;' title='(2, 97)'><pre> 1.083987e+09</pre></td><td style='font-family:monospace;' title='(2, 98)'><pre> 5.152941e+08</pre></td><td style='font-family:monospace;' title='(2, 99)'><pre> 1.766531e+09</pre></td></tr><tr><td><center>...</center></td><td><center>...</center></td><td><center>...</center></td><td><center>...</center></td><td><center>...</center></td><td><center>...</center></td><td><center>...</center></td></tr><tr><td style='font-family:monospace;' title='(97, 0)'><pre> 4.188781e+08</pre></td><td style='font-family:monospace;' title='(97, 1)'><pre> 5.251932e+08</pre></td><td style='font-family:monospace;' title='(97, 2)'><pre> 1.514790e+09</pre></td><td><center>...</center></td><td style='font-family:monospace;' title='(97, 97)'><pre> 3.939238e+08</pre></td><td style='font-family:monospace;' title='(97, 98)'><pre> 1.370011e+09</pre></td><td style='font-family:monospace;' title='(97, 99)'><pre> 5.354165e+07</pre></td></tr><tr><td style='font-family:monospace;' title='(98, 0)'><pre> 1.523522e+09</pre></td><td style='font-family:monospace;' title='(98, 1)'><pre> 3.563905e+08</pre></td><td style='font-family:monospace;' title='(98, 2)'><pre> 2.131635e+09</pre></td><td><center>...</center></td><td style='font-family:monospace;' title='(98, 97)'><pre> 1.740089e+09</pre></td><td style='font-family:monospace;' title='(98, 98)'><pre> 2.057799e+08</pre></td><td style='font-family:monospace;' title='(98, 99)'><pre> 1.418663e+09</pre></td></tr><tr><td style='font-family:monospace;' title='(99, 0)'><pre> 1.283838e+09</pre></td><td style='font-family:monospace;' title='(99, 1)'><pre> 1.379896e+09</pre></td><td style='font-family:monospace;' title='(99, 2)'><pre> 1.744256e+09</pre></td><td><center>...</center></td><td style='font-family:monospace;' title='(99, 97)'><pre> 9.690582e+08</pre></td><td style='font-family:monospace;' title='(99, 98)'><pre> 6.055054e+08</pre></td><td style='font-family:monospace;' title='(99, 99)'><pre> 2.061830e+09</pre></td></tr></tbody></table>"
      ]
     },
     "execution_count": 11,
     "metadata": {},
     "output_type": "execute_result"
    }
   ],
   "source": [
    "a2"
   ]
  },
  {
   "cell_type": "code",
   "execution_count": 22,
   "metadata": {},
   "outputs": [
    {
     "data": {
      "text/plain": [
       "@0x7ffdb3a1d2f8"
      ]
     },
     "execution_count": 22,
     "metadata": {},
     "output_type": "execute_result"
    }
   ],
   "source": [
    "for(auto ptr = a2.begin(), ptr != a2.end(), ++ptr)\n",
    "    "
   ]
  },
  {
   "cell_type": "code",
   "execution_count": 8,
   "metadata": {},
   "outputs": [
    {
     "name": "stderr",
     "output_type": "stream",
     "text": [
      "\u001b[1minput_line_18:2:10: \u001b[0m\u001b[0;1;31merror: \u001b[0m\u001b[1mcannot initialize a variable of type 'double *' with an rvalue of type 'const\n",
      "      xt::xcontainer<xt::xtensor_container<xt::uvector<double,\n",
      "      std::allocator<double> >, 2, xt::layout_type::row_major,\n",
      "      xt::xtensor_expression_tag> >::value_type *' (aka 'const double *')\u001b[0m\n",
      " double* ptr = a2.data()\n",
      "\u001b[0;1;32m         ^     ~~~~~~~~~\n",
      "\u001b[0m"
     ]
    },
    {
     "ename": "Interpreter Error",
     "evalue": "",
     "output_type": "error",
     "traceback": [
      "Interpreter Error: "
     ]
    }
   ],
   "source": [
    "double* ptr = a2.data()"
   ]
  },
  {
   "cell_type": "code",
   "execution_count": 6,
   "metadata": {},
   "outputs": [
    {
     "data": {
      "text/plain": [
       "@0x7ffdb3a1d2f8"
      ]
     },
     "execution_count": 6,
     "metadata": {},
     "output_type": "execute_result"
    }
   ],
   "source": [
    "for(double)\n",
    "a2.data()"
   ]
  },
  {
   "cell_type": "code",
   "execution_count": 4,
   "metadata": {},
   "outputs": [
    {
     "data": {
      "text/html": [
       "<table style='border-style:solid;border-width:1px;'><tbody><tr><td style='font-family:monospace;' title='0'><pre> 0.946924</pre></td></tr><tr><td style='font-family:monospace;' title='1'><pre> 0.946924</pre></td></tr></tbody></table>"
      ]
     },
     "execution_count": 4,
     "metadata": {},
     "output_type": "execute_result"
    }
   ],
   "source": [
    "\n",
    "xt::sum(a1 * xt::log2(a1), {1})"
   ]
  },
  {
   "cell_type": "code",
   "execution_count": 32,
   "metadata": {},
   "outputs": [
    {
     "data": {
      "text/plain": [
       "5"
      ]
     },
     "execution_count": 32,
     "metadata": {},
     "output_type": "execute_result"
    }
   ],
   "source": [
    "a1[1,0] = 5"
   ]
  },
  {
   "cell_type": "code",
   "execution_count": null,
   "metadata": {},
   "outputs": [
    {
     "name": "stderr",
     "output_type": "stream",
     "text": [
      "\u001b[1minput_line_60:3:11: \u001b[0m\u001b[0;1;31merror: \u001b[0m\u001b[1minvalid operands to binary expression ('std::ostream'\n",
      "      (aka 'basic_ostream<char>') and 'xt::xtensor<double, 2>' (aka\n",
      "      'xt::xtensor_container<xt::uvector<double, std::allocator<double> >, 2,\n",
      "      xt::layout_type::row_major, xt::xtensor_expression_tag>'))\u001b[0m\n",
      "std::cout << b << std::endl;\n",
      "\u001b[0;1;32m~~~~~~~~~ ^  ~\n",
      "\u001b[0m\u001b[1m/home/olszewskip/miniconda3/envs/xeus_cling/bin/../lib/gcc/x86_64-conda_cos6-linux-gnu/7.3.0/../../../../x86_64-conda_cos6-linux-gnu/include/c++/7.3.0/ostream:245:7: \u001b[0m\u001b[0;1;30mnote: \u001b[0mcandidate function not viable: no known conversion from 'xt::xtensor<double, 2>'\n",
      "      (aka 'xt::xtensor_container<xt::uvector<double, std::allocator<double> >,\n",
      "      2, xt::layout_type::row_major, xt::xtensor_expression_tag>') to\n",
      "      'const void *' for 1st argument; take the address of the argument with &\u001b[0m\n",
      "      operator<<(const void* __p)\n",
      "\u001b[0;1;32m      ^\n",
      "\u001b[0m\u001b[1m/home/olszewskip/miniconda3/envs/xeus_cling/bin/../lib/gcc/x86_64-conda_cos6-linux-gnu/7.3.0/../../../../x86_64-conda_cos6-linux-gnu/include/c++/7.3.0/system_error:217:5: \u001b[0m\u001b[0;1;30mnote: \u001b[0mcandidate function not viable: no known conversion from 'xt::xtensor<double, 2>'\n",
      "      (aka 'xt::xtensor_container<xt::uvector<double, std::allocator<double> >,\n",
      "      2, xt::layout_type::row_major, xt::xtensor_expression_tag>') to\n",
      "      'const std::error_code' for 2nd argument\u001b[0m\n",
      "    operator<<(basic_ostream<_CharT, _Traits>& __os, const error_code& __e)\n",
      "\u001b[0;1;32m    ^\n",
      "\u001b[0m\u001b[1m/home/olszewskip/miniconda3/envs/xeus_cling/bin/../lib/gcc/x86_64-conda_cos6-linux-gnu/7.3.0/../../../../x86_64-conda_cos6-linux-gnu/include/c++/7.3.0/ostream:108:7: \u001b[0m\u001b[0;1;30mnote: \u001b[0mcandidate function not viable: no known conversion from 'xt::xtensor<double, 2>'\n",
      "      (aka 'xt::xtensor_container<xt::uvector<double, std::allocator<double> >,\n",
      "      2, xt::layout_type::row_major, xt::xtensor_expression_tag>') to\n",
      "      'std::basic_ostream<char, std::char_traits<char> >::__ostream_type\n",
      "      &(*)(std::basic_ostream<char, std::char_traits<char> >::__ostream_type &)'\n",
      "      (aka 'basic_ostream<char, std::char_traits<char> >\n",
      "      &(*)(basic_ostream<char, std::char_traits<char> > &)') for 1st argument\u001b[0m\n",
      "      operator<<(__ostream_type& (*__pf)(__ostream_type&))\n",
      "\u001b[0;1;32m      ^\n",
      "\u001b[0m\u001b[1m/home/olszewskip/miniconda3/envs/xeus_cling/bin/../lib/gcc/x86_64-conda_cos6-linux-gnu/7.3.0/../../../../x86_64-conda_cos6-linux-gnu/include/c++/7.3.0/ostream:117:7: \u001b[0m\u001b[0;1;30mnote: \u001b[0mcandidate function not viable: no known conversion from 'xt::xtensor<double, 2>'\n",
      "      (aka 'xt::xtensor_container<xt::uvector<double, std::allocator<double> >,\n",
      "      2, xt::layout_type::row_major, xt::xtensor_expression_tag>') to\n",
      "      'std::basic_ostream<char, std::char_traits<char> >::__ios_type\n",
      "      &(*)(std::basic_ostream<char, std::char_traits<char> >::__ios_type &)'\n",
      "      (aka 'basic_ios<char, std::char_traits<char> > &(*)(basic_ios<char,\n",
      "      std::char_traits<char> > &)') for 1st argument\u001b[0m\n",
      "      operator<<(__ios_type& (*__pf)(__ios_type&))\n",
      "\u001b[0;1;32m      ^\n",
      "\u001b[0m\u001b[1m/home/olszewskip/miniconda3/envs/xeus_cling/bin/../lib/gcc/x86_64-conda_cos6-linux-gnu/7.3.0/../../../../x86_64-conda_cos6-linux-gnu/include/c++/7.3.0/ostream:127:7: \u001b[0m\u001b[0;1;30mnote: \u001b[0mcandidate function not viable: no known conversion from 'xt::xtensor<double, 2>'\n",
      "      (aka 'xt::xtensor_container<xt::uvector<double, std::allocator<double> >,\n",
      "      2, xt::layout_type::row_major, xt::xtensor_expression_tag>') to\n",
      "      'std::ios_base &(*)(std::ios_base &)' for 1st argument\u001b[0m\n",
      "      operator<<(ios_base& (*__pf) (ios_base&))\n",
      "\u001b[0;1;32m      ^\n",
      "\u001b[0m\u001b[1m/home/olszewskip/miniconda3/envs/xeus_cling/bin/../lib/gcc/x86_64-conda_cos6-linux-gnu/7.3.0/../../../../x86_64-conda_cos6-linux-gnu/include/c++/7.3.0/ostream:166:7: \u001b[0m\u001b[0;1;30mnote: \u001b[0mcandidate function not viable: no known conversion from 'xt::xtensor<double, 2>'\n",
      "      (aka 'xt::xtensor_container<xt::uvector<double, std::allocator<double> >,\n",
      "      2, xt::layout_type::row_major, xt::xtensor_expression_tag>') to 'long' for\n",
      "      1st argument\u001b[0m\n",
      "      operator<<(long __n)\n",
      "\u001b[0;1;32m      ^\n",
      "\u001b[0m\u001b[1m/home/olszewskip/miniconda3/envs/xeus_cling/bin/../lib/gcc/x86_64-conda_cos6-linux-gnu/7.3.0/../../../../x86_64-conda_cos6-linux-gnu/include/c++/7.3.0/ostream:170:7: \u001b[0m\u001b[0;1;30mnote: \u001b[0mcandidate function not viable: no known conversion from 'xt::xtensor<double, 2>'\n",
      "      (aka 'xt::xtensor_container<xt::uvector<double, std::allocator<double> >,\n",
      "      2, xt::layout_type::row_major, xt::xtensor_expression_tag>') to\n",
      "      'unsigned long' for 1st argument\u001b[0m\n",
      "      operator<<(unsigned long __n)\n",
      "\u001b[0;1;32m      ^\n",
      "\u001b[0m\u001b[1m/home/olszewskip/miniconda3/envs/xeus_cling/bin/../lib/gcc/x86_64-conda_cos6-linux-gnu/7.3.0/../../../../x86_64-conda_cos6-linux-gnu/include/c++/7.3.0/ostream:174:7: \u001b[0m\u001b[0;1;30mnote: \u001b[0mcandidate function not viable: no known conversion from 'xt::xtensor<double, 2>'\n",
      "      (aka 'xt::xtensor_container<xt::uvector<double, std::allocator<double> >,\n",
      "      2, xt::layout_type::row_major, xt::xtensor_expression_tag>') to 'bool' for\n",
      "      1st argument\u001b[0m\n",
      "      operator<<(bool __n)\n",
      "\u001b[0;1;32m      ^\n",
      "\u001b[0m\u001b[1m/home/olszewskip/miniconda3/envs/xeus_cling/bin/../lib/gcc/x86_64-conda_cos6-linux-gnu/7.3.0/../../../../x86_64-conda_cos6-linux-gnu/include/c++/7.3.0/ostream:178:7: \u001b[0m\u001b[0;1;30mnote: \u001b[0mcandidate function not viable: no known conversion from 'xt::xtensor<double, 2>'\n",
      "      (aka 'xt::xtensor_container<xt::uvector<double, std::allocator<double> >,\n",
      "      2, xt::layout_type::row_major, xt::xtensor_expression_tag>') to 'short'\n",
      "      for 1st argument\u001b[0m\n",
      "      operator<<(short __n);\n",
      "\u001b[0;1;32m      ^\n",
      "\u001b[0m\u001b[1m/home/olszewskip/miniconda3/envs/xeus_cling/bin/../lib/gcc/x86_64-conda_cos6-linux-gnu/7.3.0/../../../../x86_64-conda_cos6-linux-gnu/include/c++/7.3.0/ostream:181:7: \u001b[0m\u001b[0;1;30mnote: \u001b[0mcandidate function not viable: no known conversion from 'xt::xtensor<double, 2>'\n",
      "      (aka 'xt::xtensor_container<xt::uvector<double, std::allocator<double> >,\n",
      "      2, xt::layout_type::row_major, xt::xtensor_expression_tag>') to\n",
      "      'unsigned short' for 1st argument\u001b[0m\n",
      "      operator<<(unsigned short __n)\n",
      "\u001b[0;1;32m      ^\n",
      "\u001b[0m\u001b[1m/home/olszewskip/miniconda3/envs/xeus_cling/bin/../lib/gcc/x86_64-conda_cos6-linux-gnu/7.3.0/../../../../x86_64-conda_cos6-linux-gnu/include/c++/7.3.0/ostream:189:7: \u001b[0m\u001b[0;1;30mnote: \u001b[0mcandidate function not viable: no known conversion from 'xt::xtensor<double, 2>'\n",
      "      (aka 'xt::xtensor_container<xt::uvector<double, std::allocator<double> >,\n",
      "      2, xt::layout_type::row_major, xt::xtensor_expression_tag>') to 'int' for\n",
      "      1st argument\u001b[0m\n",
      "      operator<<(int __n);\n",
      "\u001b[0;1;32m      ^\n",
      "\u001b[0m\u001b[1m/home/olszewskip/miniconda3/envs/xeus_cling/bin/../lib/gcc/x86_64-conda_cos6-linux-gnu/7.3.0/../../../../x86_64-conda_cos6-linux-gnu/include/c++/7.3.0/ostream:192:7: \u001b[0m\u001b[0;1;30mnote: \u001b[0mcandidate function not viable: no known conversion from 'xt::xtensor<double, 2>'\n",
      "      (aka 'xt::xtensor_container<xt::uvector<double, std::allocator<double> >,\n",
      "      2, xt::layout_type::row_major, xt::xtensor_expression_tag>') to\n",
      "      'unsigned int' for 1st argument\u001b[0m\n",
      "      operator<<(unsigned int __n)\n",
      "\u001b[0;1;32m      ^\n",
      "\u001b[0m\u001b[1m/home/olszewskip/miniconda3/envs/xeus_cling/bin/../lib/gcc/x86_64-conda_cos6-linux-gnu/7.3.0/../../../../x86_64-conda_cos6-linux-gnu/include/c++/7.3.0/ostream:201:7: \u001b[0m\u001b[0;1;30mnote: \u001b[0mcandidate function not viable: no known conversion from 'xt::xtensor<double, 2>'\n",
      "      (aka 'xt::xtensor_container<xt::uvector<double, std::allocator<double> >,\n",
      "      2, xt::layout_type::row_major, xt::xtensor_expression_tag>') to\n",
      "      'long long' for 1st argument\u001b[0m\n",
      "      operator<<(long long __n)\n",
      "\u001b[0;1;32m      ^\n",
      "\u001b[0m\u001b[1m/home/olszewskip/miniconda3/envs/xeus_cling/bin/../lib/gcc/x86_64-conda_cos6-linux-gnu/7.3.0/../../../../x86_64-conda_cos6-linux-gnu/include/c++/7.3.0/ostream:205:7: \u001b[0m\u001b[0;1;30mnote: \u001b[0mcandidate function not viable: no known conversion from 'xt::xtensor<double, 2>'\n",
      "      (aka 'xt::xtensor_container<xt::uvector<double, std::allocator<double> >,\n",
      "      2, xt::layout_type::row_major, xt::xtensor_expression_tag>') to\n"
     ]
    },
    {
     "name": "stderr",
     "output_type": "stream",
     "text": [
      "      'unsigned long long' for 1st argument\u001b[0m\n",
      "      operator<<(unsigned long long __n)\n",
      "\u001b[0;1;32m      ^\n",
      "\u001b[0m\u001b[1m/home/olszewskip/miniconda3/envs/xeus_cling/bin/../lib/gcc/x86_64-conda_cos6-linux-gnu/7.3.0/../../../../x86_64-conda_cos6-linux-gnu/include/c++/7.3.0/ostream:220:7: \u001b[0m\u001b[0;1;30mnote: \u001b[0mcandidate function not viable: no known conversion from 'xt::xtensor<double, 2>'\n",
      "      (aka 'xt::xtensor_container<xt::uvector<double, std::allocator<double> >,\n",
      "      2, xt::layout_type::row_major, xt::xtensor_expression_tag>') to 'double'\n",
      "      for 1st argument\u001b[0m\n",
      "      operator<<(double __f)\n",
      "\u001b[0;1;32m      ^\n",
      "\u001b[0m\u001b[1m/home/olszewskip/miniconda3/envs/xeus_cling/bin/../lib/gcc/x86_64-conda_cos6-linux-gnu/7.3.0/../../../../x86_64-conda_cos6-linux-gnu/include/c++/7.3.0/ostream:224:7: \u001b[0m\u001b[0;1;30mnote: \u001b[0mcandidate function not viable: no known conversion from 'xt::xtensor<double, 2>'\n",
      "      (aka 'xt::xtensor_container<xt::uvector<double, std::allocator<double> >,\n",
      "      2, xt::layout_type::row_major, xt::xtensor_expression_tag>') to 'float'\n",
      "      for 1st argument\u001b[0m\n",
      "      operator<<(float __f)\n",
      "\u001b[0;1;32m      ^\n",
      "\u001b[0m\u001b[1m/home/olszewskip/miniconda3/envs/xeus_cling/bin/../lib/gcc/x86_64-conda_cos6-linux-gnu/7.3.0/../../../../x86_64-conda_cos6-linux-gnu/include/c++/7.3.0/ostream:232:7: \u001b[0m\u001b[0;1;30mnote: \u001b[0mcandidate function not viable: no known conversion from 'xt::xtensor<double, 2>'\n",
      "      (aka 'xt::xtensor_container<xt::uvector<double, std::allocator<double> >,\n",
      "      2, xt::layout_type::row_major, xt::xtensor_expression_tag>') to\n",
      "      'long double' for 1st argument\u001b[0m\n",
      "      operator<<(long double __f)\n",
      "\u001b[0;1;32m      ^\n",
      "\u001b[0m\u001b[1m/home/olszewskip/miniconda3/envs/xeus_cling/bin/../lib/gcc/x86_64-conda_cos6-linux-gnu/7.3.0/../../../../x86_64-conda_cos6-linux-gnu/include/c++/7.3.0/ostream:270:7: \u001b[0m\u001b[0;1;30mnote: \u001b[0mcandidate function not viable: no known conversion from 'xt::xtensor<double, 2>'\n",
      "      (aka 'xt::xtensor_container<xt::uvector<double, std::allocator<double> >,\n",
      "      2, xt::layout_type::row_major, xt::xtensor_expression_tag>') to\n",
      "      'std::basic_ostream<char, std::char_traits<char> >::__streambuf_type *'\n",
      "      (aka 'basic_streambuf<char, std::char_traits<char> > *') for 1st argument\u001b[0m\n",
      "      operator<<(__streambuf_type* __sb);\n",
      "\u001b[0;1;32m      ^\n",
      "\u001b[0m\u001b[1m/home/olszewskip/miniconda3/envs/xeus_cling/bin/../lib/gcc/x86_64-conda_cos6-linux-gnu/7.3.0/../../../../x86_64-conda_cos6-linux-gnu/include/c++/7.3.0/ostream:502:5: \u001b[0m\u001b[0;1;30mnote: \u001b[0mcandidate function not viable: no known conversion from 'xt::xtensor<double, 2>'\n",
      "      (aka 'xt::xtensor_container<xt::uvector<double, std::allocator<double> >,\n",
      "      2, xt::layout_type::row_major, xt::xtensor_expression_tag>') to 'char' for\n",
      "      2nd argument\u001b[0m\n",
      "    operator<<(basic_ostream<_CharT, _Traits>& __out, char __c)\n",
      "\u001b[0;1;32m    ^\n",
      "\u001b[0m\u001b[1m/home/olszewskip/miniconda3/envs/xeus_cling/bin/../lib/gcc/x86_64-conda_cos6-linux-gnu/7.3.0/../../../../x86_64-conda_cos6-linux-gnu/include/c++/7.3.0/ostream:508:5: \u001b[0m\u001b[0;1;30mnote: \u001b[0mcandidate function not viable: no known conversion from 'xt::xtensor<double, 2>'\n",
      "      (aka 'xt::xtensor_container<xt::uvector<double, std::allocator<double> >,\n",
      "      2, xt::layout_type::row_major, xt::xtensor_expression_tag>') to 'char' for\n",
      "      2nd argument\u001b[0m\n",
      "    operator<<(basic_ostream<char, _Traits>& __out, char __c)\n",
      "\u001b[0;1;32m    ^\n",
      "\u001b[0m\u001b[1m/home/olszewskip/miniconda3/envs/xeus_cling/bin/../lib/gcc/x86_64-conda_cos6-linux-gnu/7.3.0/../../../../x86_64-conda_cos6-linux-gnu/include/c++/7.3.0/ostream:514:5: \u001b[0m\u001b[0;1;30mnote: \u001b[0mcandidate function not viable: no known conversion from 'xt::xtensor<double, 2>'\n",
      "      (aka 'xt::xtensor_container<xt::uvector<double, std::allocator<double> >,\n",
      "      2, xt::layout_type::row_major, xt::xtensor_expression_tag>') to\n",
      "      'signed char' for 2nd argument\u001b[0m\n",
      "    operator<<(basic_ostream<char, _Traits>& __out, signed char __c)\n",
      "\u001b[0;1;32m    ^\n",
      "\u001b[0m\u001b[1m/home/olszewskip/miniconda3/envs/xeus_cling/bin/../lib/gcc/x86_64-conda_cos6-linux-gnu/7.3.0/../../../../x86_64-conda_cos6-linux-gnu/include/c++/7.3.0/ostream:519:5: \u001b[0m\u001b[0;1;30mnote: \u001b[0mcandidate function not viable: no known conversion from 'xt::xtensor<double, 2>'\n",
      "      (aka 'xt::xtensor_container<xt::uvector<double, std::allocator<double> >,\n",
      "      2, xt::layout_type::row_major, xt::xtensor_expression_tag>') to\n",
      "      'unsigned char' for 2nd argument\u001b[0m\n",
      "    operator<<(basic_ostream<char, _Traits>& __out, unsigned char __c)\n",
      "\u001b[0;1;32m    ^\n",
      "\u001b[0m\u001b[1m/home/olszewskip/miniconda3/envs/xeus_cling/bin/../lib/gcc/x86_64-conda_cos6-linux-gnu/7.3.0/../../../../x86_64-conda_cos6-linux-gnu/include/c++/7.3.0/ostream:556:5: \u001b[0m\u001b[0;1;30mnote: \u001b[0mcandidate function not viable: no known conversion from 'xt::xtensor<double, 2>'\n",
      "      (aka 'xt::xtensor_container<xt::uvector<double, std::allocator<double> >,\n",
      "      2, xt::layout_type::row_major, xt::xtensor_expression_tag>') to\n",
      "      'const char *' for 2nd argument\u001b[0m\n",
      "    operator<<(basic_ostream<char, _Traits>& __out, const char* __s)\n",
      "\u001b[0;1;32m    ^\n",
      "\u001b[0m\u001b[1m/home/olszewskip/miniconda3/envs/xeus_cling/bin/../lib/gcc/x86_64-conda_cos6-linux-gnu/7.3.0/../../../../x86_64-conda_cos6-linux-gnu/include/c++/7.3.0/ostream:569:5: \u001b[0m\u001b[0;1;30mnote: \u001b[0mcandidate function not viable: no known conversion from 'xt::xtensor<double, 2>'\n",
      "      (aka 'xt::xtensor_container<xt::uvector<double, std::allocator<double> >,\n",
      "      2, xt::layout_type::row_major, xt::xtensor_expression_tag>') to\n",
      "      'const signed char *' for 2nd argument\u001b[0m\n",
      "    operator<<(basic_ostream<char, _Traits>& __out, const signed char* __s)\n",
      "\u001b[0;1;32m    ^\n",
      "\u001b[0m\u001b[1m/home/olszewskip/miniconda3/envs/xeus_cling/bin/../lib/gcc/x86_64-conda_cos6-linux-gnu/7.3.0/../../../../x86_64-conda_cos6-linux-gnu/include/c++/7.3.0/ostream:574:5: \u001b[0m\u001b[0;1;30mnote: \u001b[0mcandidate function not viable: no known conversion from 'xt::xtensor<double, 2>'\n",
      "      (aka 'xt::xtensor_container<xt::uvector<double, std::allocator<double> >,\n",
      "      2, xt::layout_type::row_major, xt::xtensor_expression_tag>') to\n",
      "      'const unsigned char *' for 2nd argument\u001b[0m\n",
      "    operator<<(basic_ostream<char, _Traits>& __out, const unsigned char* __s)\n",
      "\u001b[0;1;32m    ^\n",
      "\u001b[0m\u001b[1m/home/olszewskip/miniconda3/envs/xeus_cling/bin/../lib/gcc/x86_64-conda_cos6-linux-gnu/7.3.0/../../../../x86_64-conda_cos6-linux-gnu/include/c++/7.3.0/bits/ostream.tcc:321:5: \u001b[0m\u001b[0;1;30mnote: \u001b[0mcandidate function not viable: no known conversion from 'xt::xtensor<double, 2>'\n",
      "      (aka 'xt::xtensor_container<xt::uvector<double, std::allocator<double> >,\n",
      "      2, xt::layout_type::row_major, xt::xtensor_expression_tag>') to\n",
      "      'const char *' for 2nd argument\u001b[0m\n",
      "    operator<<(basic_ostream<_CharT, _Traits>& __out, const char* __s)\n",
      "\u001b[0;1;32m    ^\n",
      "\u001b[0m\u001b[1m/home/olszewskip/miniconda3/envs/xeus_cling/bin/../lib/gcc/x86_64-conda_cos6-linux-gnu/7.3.0/../../../../x86_64-conda_cos6-linux-gnu/include/c++/7.3.0/iomanip:79:5: \u001b[0m\u001b[0;1;30mnote: \u001b[0mcandidate function not viable: no known conversion from 'xt::xtensor<double, 2>'\n",
      "      (aka 'xt::xtensor_container<xt::uvector<double, std::allocator<double> >,\n",
      "      2, xt::layout_type::row_major, xt::xtensor_expression_tag>') to\n",
      "      'std::_Resetiosflags' for 2nd argument\u001b[0m\n",
      "    operator<<(basic_ostream<_CharT, _Traits>& __os, _Resetiosflags __f)\n",
      "\u001b[0;1;32m    ^\n",
      "\u001b[0m\u001b[1m/home/olszewskip/miniconda3/envs/xeus_cling/bin/../lib/gcc/x86_64-conda_cos6-linux-gnu/7.3.0/../../../../x86_64-conda_cos6-linux-gnu/include/c++/7.3.0/iomanip:109:5: \u001b[0m\u001b[0;1;30mnote: \u001b[0mcandidate function not viable: no known conversion from 'xt::xtensor<double, 2>'\n",
      "      (aka 'xt::xtensor_container<xt::uvector<double, std::allocator<double> >,\n",
      "      2, xt::layout_type::row_major, xt::xtensor_expression_tag>') to\n",
      "      'std::_Setiosflags' for 2nd argument\u001b[0m\n",
      "    operator<<(basic_ostream<_CharT, _Traits>& __os, _Setiosflags __f)\n",
      "\u001b[0;1;32m    ^\n",
      "\u001b[0m\u001b[1m/home/olszewskip/miniconda3/envs/xeus_cling/bin/../lib/gcc/x86_64-conda_cos6-linux-gnu/7.3.0/../../../../x86_64-conda_cos6-linux-gnu/include/c++/7.3.0/iomanip:143:5: \u001b[0m\u001b[0;1;30mnote: \u001b[0mcandidate function not viable: no known conversion from 'xt::xtensor<double, 2>'\n"
     ]
    },
    {
     "name": "stderr",
     "output_type": "stream",
     "text": [
      "      (aka 'xt::xtensor_container<xt::uvector<double, std::allocator<double> >,\n",
      "      2, xt::layout_type::row_major, xt::xtensor_expression_tag>') to\n",
      "      'std::_Setbase' for 2nd argument\u001b[0m\n",
      "    operator<<(basic_ostream<_CharT, _Traits>& __os, _Setbase __f)\n",
      "\u001b[0;1;32m    ^\n",
      "\u001b[0m\u001b[1m/home/olszewskip/miniconda3/envs/xeus_cling/bin/../lib/gcc/x86_64-conda_cos6-linux-gnu/7.3.0/../../../../x86_64-conda_cos6-linux-gnu/include/c++/7.3.0/iomanip:208:5: \u001b[0m\u001b[0;1;30mnote: \u001b[0mcandidate function not viable: no known conversion from 'xt::xtensor<double, 2>'\n",
      "      (aka 'xt::xtensor_container<xt::uvector<double, std::allocator<double> >,\n",
      "      2, xt::layout_type::row_major, xt::xtensor_expression_tag>') to\n",
      "      'std::_Setprecision' for 2nd argument\u001b[0m\n",
      "    operator<<(basic_ostream<_CharT, _Traits>& __os, _Setprecision __f)\n",
      "\u001b[0;1;32m    ^\n",
      "\u001b[0m\u001b[1m/home/olszewskip/miniconda3/envs/xeus_cling/bin/../lib/gcc/x86_64-conda_cos6-linux-gnu/7.3.0/../../../../x86_64-conda_cos6-linux-gnu/include/c++/7.3.0/iomanip:238:5: \u001b[0m\u001b[0;1;30mnote: \u001b[0mcandidate function not viable: no known conversion from 'xt::xtensor<double, 2>'\n",
      "      (aka 'xt::xtensor_container<xt::uvector<double, std::allocator<double> >,\n",
      "      2, xt::layout_type::row_major, xt::xtensor_expression_tag>') to\n",
      "      'std::_Setw' for 2nd argument\u001b[0m\n",
      "    operator<<(basic_ostream<_CharT, _Traits>& __os, _Setw __f)\n",
      "\u001b[0;1;32m    ^\n",
      "\u001b[0m\u001b[1m/home/olszewskip/miniconda3/envs/xeus_cling/bin/../lib/gcc/x86_64-conda_cos6-linux-gnu/7.3.0/../../../../x86_64-conda_cos6-linux-gnu/include/c++/7.3.0/ostream:497:5: \u001b[0m\u001b[0;1;30mnote: \u001b[0mcandidate template ignored: deduced conflicting types for parameter '_CharT'\n",
      "      ('char' vs. 'xt::xtensor_container<xt::uvector<double,\n",
      "      std::allocator<double> >, 2, xt::layout_type::row_major,\n",
      "      xt::xtensor_expression_tag>')\u001b[0m\n",
      "    operator<<(basic_ostream<_CharT, _Traits>& __out, _CharT __c)\n",
      "\u001b[0;1;32m    ^\n",
      "\u001b[0m\u001b[1m/home/olszewskip/miniconda3/envs/xeus_cling/include/xtensor/xoperation.hpp:512:17: \u001b[0m\u001b[0;1;30mnote: \u001b[0mcandidate template ignored: substitution failure [with E1 =\n",
      "      std::basic_ostream<char> &, E2 = xt::xtensor_container<xt::uvector<double,\n",
      "      std::allocator<double> >, 2, xt::layout_type::row_major,\n",
      "      xt::xtensor_expression_tag> &]: no type named 'type' in\n",
      "      'xt::detail::eval_enable_if<false,\n",
      "      xt::detail::shift_function_getter<xt::detail::left_shift,\n",
      "      std::basic_ostream<char> &, xt::xtensor_container<xt::uvector<double,\n",
      "      std::allocator<double> >, 2, xt::layout_type::row_major,\n",
      "      xt::xtensor_expression_tag> &> >'\u001b[0m\n",
      "    inline auto operator<<(E1&& e1, E2&& e2) noexcept\n",
      "\u001b[0;1;32m                ^\n",
      "\u001b[0m\u001b[1m/home/olszewskip/miniconda3/envs/xeus_cling/bin/../lib/gcc/x86_64-conda_cos6-linux-gnu/7.3.0/../../../../x86_64-conda_cos6-linux-gnu/include/c++/7.3.0/ostream:539:5: \u001b[0m\u001b[0;1;30mnote: \u001b[0mcandidate template ignored: could not match 'const _CharT *' against\n",
      "      'xt::xtensor<double, 2>' (aka 'xt::xtensor_container<xt::uvector<double,\n",
      "      std::allocator<double> >, 2, xt::layout_type::row_major,\n",
      "      xt::xtensor_expression_tag>')\u001b[0m\n",
      "    operator<<(basic_ostream<_CharT, _Traits>& __out, const _CharT* __s)\n",
      "\u001b[0;1;32m    ^\n",
      "\u001b[0m\u001b[1m/home/olszewskip/miniconda3/envs/xeus_cling/bin/../lib/gcc/x86_64-conda_cos6-linux-gnu/7.3.0/../../../../x86_64-conda_cos6-linux-gnu/include/c++/7.3.0/ostream:682:5: \u001b[0m\u001b[0;1;30mnote: \u001b[0mcandidate template ignored: requirement\n",
      "      '__and_<__not_<is_lvalue_reference<basic_ostream<char> &> >,\n",
      "      __is_convertible_to_basic_ostream<basic_ostream<char> &>,\n",
      "      __is_insertable<__rvalue_ostream_type<basic_ostream<char> &>, const\n",
      "      xtensor_container<uvector<double, allocator<double> >, 2,\n",
      "      xt::layout_type::row_major, xtensor_expression_tag> &> >::value' was not\n",
      "      satisfied [with _Ostream = std::basic_ostream<char> &, _Tp =\n",
      "      xt::xtensor_container<xt::uvector<double, std::allocator<double> >, 2,\n",
      "      xt::layout_type::row_major, xt::xtensor_expression_tag>]\u001b[0m\n",
      "    operator<<(_Ostream&& __os, const _Tp& __x)\n",
      "\u001b[0;1;32m    ^\n",
      "\u001b[0m\u001b[1m/home/olszewskip/miniconda3/envs/xeus_cling/bin/../lib/gcc/x86_64-conda_cos6-linux-gnu/7.3.0/../../../../x86_64-conda_cos6-linux-gnu/include/c++/7.3.0/bits/basic_string.h:6272:5: \u001b[0m\u001b[0;1;30mnote: \u001b[0mcandidate template ignored: could not match 'basic_string' against\n",
      "      'xtensor_container'\u001b[0m\n",
      "    operator<<(basic_ostream<_CharT, _Traits>& __os,\n",
      "\u001b[0;1;32m    ^\n",
      "\u001b[0m\u001b[1m/home/olszewskip/miniconda3/envs/xeus_cling/bin/../lib/gcc/x86_64-conda_cos6-linux-gnu/7.3.0/../../../../x86_64-conda_cos6-linux-gnu/include/c++/7.3.0/bits/shared_ptr.h:66:5: \u001b[0m\u001b[0;1;30mnote: \u001b[0mcandidate template ignored: could not match '__shared_ptr' against\n",
      "      'xtensor_container'\u001b[0m\n",
      "    operator<<(std::basic_ostream<_Ch, _Tr>& __os,\n",
      "\u001b[0;1;32m    ^\n",
      "\u001b[0m\u001b[1m/home/olszewskip/miniconda3/envs/xeus_cling/bin/../lib/gcc/x86_64-conda_cos6-linux-gnu/7.3.0/../../../../x86_64-conda_cos6-linux-gnu/include/c++/7.3.0/bits/valarray_after.h:410:5: \u001b[0m\u001b[0;1;30mnote: \u001b[0mcandidate template ignored: could not match '_Expr' against 'basic_ostream'\u001b[0m\n",
      "    _DEFINE_EXPR_BINARY_OPERATOR(<<, __shift_left)\n",
      "\u001b[0;1;32m    ^\n",
      "\u001b[0m\u001b[1m/home/olszewskip/miniconda3/envs/xeus_cling/bin/../lib/gcc/x86_64-conda_cos6-linux-gnu/7.3.0/../../../../x86_64-conda_cos6-linux-gnu/include/c++/7.3.0/bits/valarray_after.h:341:5: \u001b[0m\u001b[0;1;30mnote: \u001b[0mexpanded from macro '_DEFINE_EXPR_BINARY_OPERATOR'\u001b[0m\n",
      "    operator _Op(const _Expr<_Dom1, typename _Dom1::value_type>& __v,   \\\n",
      "\u001b[0;1;32m    ^\n",
      "\u001b[0m\u001b[1m/home/olszewskip/miniconda3/envs/xeus_cling/bin/../lib/gcc/x86_64-conda_cos6-linux-gnu/7.3.0/../../../../x86_64-conda_cos6-linux-gnu/include/c++/7.3.0/bits/valarray_after.h:410:5: \u001b[0m\u001b[0;1;30mnote: \u001b[0mcandidate template ignored: could not match '_Expr' against 'basic_ostream'\u001b[0m\n",
      "\u001b[1m/home/olszewskip/miniconda3/envs/xeus_cling/bin/../lib/gcc/x86_64-conda_cos6-linux-gnu/7.3.0/../../../../x86_64-conda_cos6-linux-gnu/include/c++/7.3.0/bits/valarray_after.h:354:5: \u001b[0m\u001b[0;1;30mnote: \u001b[0mexpanded from macro '_DEFINE_EXPR_BINARY_OPERATOR'\u001b[0m\n",
      "    operator _Op(const _Expr<_Dom, typename _Dom::value_type>& __v,     \\\n",
      "\u001b[0;1;32m    ^\n",
      "\u001b[0m\u001b[1m/home/olszewskip/miniconda3/envs/xeus_cling/bin/../lib/gcc/x86_64-conda_cos6-linux-gnu/7.3.0/../../../../x86_64-conda_cos6-linux-gnu/include/c++/7.3.0/bits/valarray_after.h:410:5: \u001b[0m\u001b[0;1;30mnote: \u001b[0mcandidate template ignored: could not match '_Expr' against 'xtensor_container'\u001b[0m\n",
      "\u001b[1m/home/olszewskip/miniconda3/envs/xeus_cling/bin/../lib/gcc/x86_64-conda_cos6-linux-gnu/7.3.0/../../../../x86_64-conda_cos6-linux-gnu/include/c++/7.3.0/bits/valarray_after.h:367:5: \u001b[0m\u001b[0;1;30mnote: \u001b[0mexpanded from macro '_DEFINE_EXPR_BINARY_OPERATOR'\u001b[0m\n",
      "    operator _Op(const typename _Dom::value_type& __t,                  \\\n",
      "\u001b[0;1;32m    ^\n",
      "\u001b[0m\u001b[1m/home/olszewskip/miniconda3/envs/xeus_cling/bin/../lib/gcc/x86_64-conda_cos6-linux-gnu/7.3.0/../../../../x86_64-conda_cos6-linux-gnu/include/c++/7.3.0/bits/valarray_after.h:410:5: \u001b[0m\u001b[0;1;30mnote: \u001b[0mcandidate template ignored: could not match '_Expr' against 'basic_ostream'\u001b[0m\n",
      "\u001b[1m/home/olszewskip/miniconda3/envs/xeus_cling/bin/../lib/gcc/x86_64-conda_cos6-linux-gnu/7.3.0/../../../../x86_64-conda_cos6-linux-gnu/include/c++/7.3.0/bits/valarray_after.h:380:5: \u001b[0m\u001b[0;1;30mnote: \u001b[0mexpanded from macro '_DEFINE_EXPR_BINARY_OPERATOR'\u001b[0m\n",
      "    operator _Op(const _Expr<_Dom,typename _Dom::value_type>& __e,      \\\n",
      "\u001b[0;1;32m    ^\n",
      "\u001b[0m\u001b[1m/home/olszewskip/miniconda3/envs/xeus_cling/bin/../lib/gcc/x86_64-conda_cos6-linux-gnu/7.3.0/../../../../x86_64-conda_cos6-linux-gnu/include/c++/7.3.0/bits/valarray_after.h:410:5: \u001b[0m\u001b[0;1;30mnote: \u001b[0mcandidate template ignored: could not match '_Expr' against 'xtensor_container'\u001b[0m\n",
      "\u001b[1m/home/olszewskip/miniconda3/envs/xeus_cling/bin/../lib/gcc/x86_64-conda_cos6-linux-gnu/7.3.0/../../../../x86_64-conda_cos6-linux-gnu/include/c++/7.3.0/bits/valarray_after.h:393:5: \u001b[0m\u001b[0;1;30mnote: \u001b[0mexpanded from macro '_DEFINE_EXPR_BINARY_OPERATOR'\u001b[0m\n",
      "    operator _Op(const valarray<typename _Dom::value_type>& __v,        \\\n",
      "\u001b[0;1;32m    ^\n"
     ]
    },
    {
     "name": "stderr",
     "output_type": "stream",
     "text": [
      "\u001b[0m\u001b[1m/home/olszewskip/miniconda3/envs/xeus_cling/bin/../lib/gcc/x86_64-conda_cos6-linux-gnu/7.3.0/../../../../x86_64-conda_cos6-linux-gnu/include/c++/7.3.0/valarray:1180:1: \u001b[0m\u001b[0;1;30mnote: \u001b[0mcandidate template ignored: could not match 'valarray' against 'basic_ostream'\u001b[0m\n",
      "_DEFINE_BINARY_OPERATOR(<<, __shift_left)\n",
      "\u001b[0;1;32m^\n",
      "\u001b[0m\u001b[1m/home/olszewskip/miniconda3/envs/xeus_cling/bin/../lib/gcc/x86_64-conda_cos6-linux-gnu/7.3.0/../../../../x86_64-conda_cos6-linux-gnu/include/c++/7.3.0/valarray:1144:5: \u001b[0m\u001b[0;1;30mnote: \u001b[0mexpanded from macro '_DEFINE_BINARY_OPERATOR'\u001b[0m\n",
      "    operator _Op(const valarray<_Tp>& __v, const valarray<_Tp>& __w)    \\\n",
      "\u001b[0;1;32m    ^\n",
      "\u001b[0m\u001b[1m/home/olszewskip/miniconda3/envs/xeus_cling/bin/../lib/gcc/x86_64-conda_cos6-linux-gnu/7.3.0/../../../../x86_64-conda_cos6-linux-gnu/include/c++/7.3.0/valarray:1180:1: \u001b[0m\u001b[0;1;30mnote: \u001b[0mcandidate template ignored: could not match 'valarray' against 'basic_ostream'\u001b[0m\n",
      "\u001b[1m/home/olszewskip/miniconda3/envs/xeus_cling/bin/../lib/gcc/x86_64-conda_cos6-linux-gnu/7.3.0/../../../../x86_64-conda_cos6-linux-gnu/include/c++/7.3.0/valarray:1155:5: \u001b[0m\u001b[0;1;30mnote: \u001b[0mexpanded from macro '_DEFINE_BINARY_OPERATOR'\u001b[0m\n",
      "    operator _Op(const valarray<_Tp>& __v, const _Tp& __t)              \\\n",
      "\u001b[0;1;32m    ^\n",
      "\u001b[0m\u001b[1m/home/olszewskip/miniconda3/envs/xeus_cling/bin/../lib/gcc/x86_64-conda_cos6-linux-gnu/7.3.0/../../../../x86_64-conda_cos6-linux-gnu/include/c++/7.3.0/valarray:1180:1: \u001b[0m\u001b[0;1;30mnote: \u001b[0mcandidateIOPub message rate exceeded.\n",
      "The notebook server will temporarily stop sending output\n",
      "to the client in order to avoid crashing it.\n",
      "To change this limit, set the config variable\n",
      "`--NotebookApp.iopub_msg_rate_limit`.\n",
      "\n",
      "Current values:\n",
      "NotebookApp.iopub_msg_rate_limit=1000.0 (msgs/sec)\n",
      "NotebookApp.rate_limit_window=3.0 (secs)\n",
      "\n"
     ]
    }
   ],
   "source": [
    "xt::xtensor<double, 2> b = {{1., 2.}, {3., 4.}};\n",
    "std::cout << b << std::endl;"
   ]
  },
  {
   "cell_type": "code",
   "execution_count": 9,
   "metadata": {},
   "outputs": [],
   "source": [
    "auto shape = data.shape()"
   ]
  },
  {
   "cell_type": "code",
   "execution_count": 11,
   "metadata": {},
   "outputs": [
    {
     "name": "stderr",
     "output_type": "stream",
     "text": [
      "\u001b[1minput_line_23:2:2: \u001b[0m\u001b[0;1;31merror: \u001b[0m\u001b[1mindirection requires pointer operand ('std::array<unsigned long, 2>' invalid)\u001b[0m\n",
      " *shape\n",
      "\u001b[0;1;32m ^~~~~~\n",
      "\u001b[0m"
     ]
    },
    {
     "ename": "Interpreter Error",
     "evalue": "",
     "output_type": "error",
     "traceback": [
      "Interpreter Error: "
     ]
    }
   ],
   "source": []
  },
  {
   "cell_type": "code",
   "execution_count": null,
   "metadata": {},
   "outputs": [],
   "source": []
  },
  {
   "cell_type": "code",
   "execution_count": 5,
   "metadata": {},
   "outputs": [
    {
     "name": "stdout",
     "output_type": "stream",
     "text": [
      "0.744220278544204,-1.2923810796645836,0.23053980740728716,1.6865057028882928,-0.39972026159272805,-0.8344144534223245,0.7290112290854076,0.8588562376004535,-1.8240594131806582,-2.551378622446839,0.8884991486871111,1.1095142921212295,0.33984915081186584,-1.2503683209473893,-1.1388298607375997,2.3073611964828764,-2.500365394015782,1.7025668994699377,-0.7445645789930083,1.5044975976503208,-2.3316106841006508,0.644946712621315,-2.353942763297258,0.30105732269468777,-0.11734325217400148,-0.3241418982770782,0.9093441423082884,-0.5660021485901351,1.0848450915910424,1.3906907004260827,-0.03193466086241263,-0.07466227782398092,-0.014166601675819446,0.18505219116388177,1.2559519823387075,0.5446443776883739,-1.7550501897990947,1.3715247278147131,-1.2822363304622386,-1.1777853516575885,0.2703351633932231,-0.3502525630547219,-0.4580349350377296,0.06775929287689333,0.3753807792798766,-1.1105839363780814,-0.08519420970341493,-0.1441564867747598,-0.09595265261360357,-0.006514848843851222,0.6826852560432629,0.24747226270358136,-0.6610808617954804,-1.1529030535279443,-0.6825087612734337,0.2860460088561065,0.5522429831839556,1.0019897617100306,0.2627578839650192,-1.685508200812429,-0.17441600499625431,1.7202025392941498,0.41114381177415477,0.15518843177849118,-0.7707502798581074,-2.355079852242762,0.5837971666109365,-1.4709682282795464,0.28918343602353325,1.0153047178928485,-1.4629890034484159,-0.952207019821174,0.014260070956231146,1.1118802773832173,0.6364535924098469,-2.898801751154719,-1.7642167818229868,0.01860911382122976,-1.2916719076957066,0.06426629396467037,1.1254986503341968,0.012494443532051688,0.3218693546587458,-0.04849905991896837,-0.888829259741681,0.2887099454052054,-0.12510703964709988,-1.20861356336347,-0.5167272840069987,-0.7440086304769904,-1.5380252203795701,-1.271817323787443,0.6826919479382292,-0.669307870408553,-0.4609342341406588,-2.469183281655954,0.04894561200668382,0.568956804013152,-0.6358343390988859,0.6532300278352425,0.7383948050793344,0.0973408316392131,-0.3656099249013099,1.912387450800516,-0.3963392326510656,-0.4002484492465267,-1.8905012202299663,0.1725035518997294,-1.2936456744042073,-0.38571983671767024,-0.7721602444897799,-0.41251549191034803,0.30550018383680844,-0.39850373968159125,0.06299955745818704,0.4080796368952905,0.5291613696215774,-1.095474142192397,0.672618005316786,0.0963084596518272,2.0525873774577734,1.859449137956457,1.0368923907378456,-1.3111263898713712,-0.6028234282459835,-0.23533974383356576,-0.4299098221762338,0.46856695771911805,-0.9281226148838256,0.9028353054996091,0.7474284648448638,0.2410658630362076,-0.6152520694754648,1.4607458171174124,-0.512896671602293,-0.17827506112871452,0.276147733788528,-1.1110015987721187,-0.909266965609159,-1.3659107319526629,-0.8857483833392373,-0.2366103711753488,0.7097327336164712,-0.8250801202839322,-1.1093769014482375,0.555718805504496,0.2349472669999554,0.6107467362851918,0.14857626041741293,-0.5237992224664191,-1.1821737123068887,0.4888884990473033,-0.270040475890044,1.0825119443674827,-1.3990995711464327,-0.5157292670395691,1.5119093409150286,1.0419256815138482,-0.20989217568556467,0.6883786592768316,1.2471964540351441,-0.5372661633923125,0.028995287796279075,0.7270753554245191,0.19888427644586631,-0.08983058312614557,0.18434766327903446,0.00960001338501943,-0.5444397117866895,0.7859154892998376,-0.4410316163305813,-0.7995072477296337,0.41108142546982557,1.1157813423460212,-0.8667436080762707,-0.5515330475625317,0.34203106437685143,-1.2644366844332458,-0.9023711184817824,-0.2686549454701454,-1.0499856496155326,-0.7608258717108664,-0.4036054011230517,0.13337751417594398,1.5418033370081095,-0.45614981929604637,-0.6603343105469556,-0.11159736907624325,0.893010302630161,0.23190982034961377,0.6812479631162636,0.18308849911538,0.6211680378164175,-0.8056363603258154,-0.10185620383760872,-0.6993562383664433,1.8411523592942718,-0.5520717100831354,1.6762329398502889,-1.632656774214199,0.6166300330331735,-1.4052803272228758,-0.5366037200224836,-0.9506182536172234,1.5205294434524264,-0.039391250512738965,-1.3847445503287104,1.2051494015227815,0.11285071464170426,1.139514298236369,0.5335363698169848,0.8182094315786338,1.0981474661458372,-1.3218413072278483,1.590983314414776,-0.6208319083786713,0.44402086760007553,1.002579019532156,-0.16307577293915224,-1.2431105100110589,-1.5811870202720166,-1.6550236692956217,5,4,1,1,2,0,4,3,4,2,5,0,5,1,5,2,0,0,3,5,2,5,5,5,6,0,1,7,5,7,3,1,2,7,5,1,-0.6758825857048949,1.3504897216278844,0.03208361280381464,-0.19708249949922418,-0.10131994876990119,-0.019816742066891428,1.4282471670001258,-1.4718852249799708,1.6822317185443487,0.15659062691906658,-0.33490779406818477,-0.0002801466485227519,-1.1515409650179391,-0.20900412752774156,1.984556913085627,0.5225691826685877,2.2429181076847917,-1.4536998553541047,0.8776894759470657,-0.2894859198282778,0.12030219731415046,-1.929023150889621,1.340497775631521,-0.6017250731549562,-1.8261229485945507,0.16255158753124133,1.0259645353785836,-0.15859614224472332,-0.1013776311546034,-0.27128462237320133,0.7141315611963185,-0.012316390445017108,-0.014779283602286971,-0.7464370076345637,-0.22032337073808625,0.253831856720966,-0.733056923553176,1.323412018517155,0.07645148359590466,-0.5782843638317031,-0.6358089684924839,0.24768952645834222,-1.1154217465618195,-0.08152817465199684,-0.19169471352711087,0.9947529844630442,-0.4507858022722002,0.555120025002594,-0.6950475540610613,-1.2051229544656523,-0.6501297919045912,-0.6803384834212121,-1.4138671707552732,0.8431807206122433,-0.8402642657863238,-1.4783334231100727,-0.5145615541046502,0.0895579478457018,1.9886363318913958,0.043945177258252,-1.2139255924406291,-0.7808983094801959,0.6741050058013237,1.1532074916294115,0.18603938492470543,-1.4779090651609526,-0.29217755022684233,-1.5384297627357988,0.9504617422679273,-0.45722144095382145,0.7251489781491087,0.5259520805256831,-0.19033666045803768,1.453083671024449,1.1547987838905032,0.6715645165896009,0.9230106335264717,-1.4427229605790095,0.18519763354266552,0.17947402138487023,-0.26533206807284815,-0.5745701656760738,0.4721623161931385,0.01140689392227353,0.5112946829452333,1.5213313654314808,-0.7765962734074111,-2.1839571675884555,0.8177586909694537,1.1929303257463242,-1.0528337638706597,-0.5573447405593346,1.1970302778712956,0.8656969130749238,-0.9448526707718985,0.4526795756967142,-2.168453929427528,0.2162734124178521,-0.6578267304795257,-1.146315289985982,1.0215752070263149,0.05733768925358777,-1.6839318660058322,-0.5686411201958356,-0.03362972213070888,-1.1352432262586492,1.0300248664732825,-0.1314335730078511,0.35664912011559746,0.18626456884269338,1.4086968391293269,0.7432180603435277,0.5796408790027978,0.3231553334334597,-0.33810313834678235,-0.36248596217618534,0.7007020027727735,-0.8528518400236974,-0.8897472025100007,-1.1755130480646685,-1.7571351295583375,-0.788237474904808,-1.447821027754515,-0.39177041840846144,-0.49995237360110556,-0.4541147780678335,2.2669324875998527,-1.7320745308580017,-0.17916442339326308,-0.650080179465263,1.0211238224083459,-0.8228099344006043,0.02612655035077074,0.19103248316410473,-0.056095069815923354,-0.5685571754199111,1.7256595289907257,0.27358264164120066,0.5729001467684631,0.2484322943258257,0.9551594656151977,0.3476646426584655,0.8102937902815529,1.1345620246467065,-1.7859930807534639,1.9231689134861063,0.9300084101795026,-2.0171075303995134,0.4452961880608332,0.17765695107633178,1.0166197301583124,-0.9664456497263625,1.0700532090019281,0.7538614280504801,-0.6675643922768122,0.055423882302387734,-2.3739830912341686,-0.9029266100601943,-0.03577363473181345,-0.6606713374166443,-0.8159309016785283,-0.27319908529527565,0.7075280152406075,-0.1339630793445335,-0.7140684523803251,1.128832130137989,-1.0715881532951235,1.5449581360386115,0.3414657662507182,1.1405618986453685,0.47550285690742244,1.1965594181892298,-1.2228508909443856,1.0780309495258276,-0.9865638705886515,0.6927872694197008,-0.19863881374620201,0.5974704487347468,-1.0735345310292228,-0.0665911349114944,0.6911627586267317,-0.10694372492644807,-0.6169568801087731,1.4653432269520177,-1.3161818161980932,-1.6338148389704954,0.5481147715761481,-2.381916587368552,-0.5867212220864397,1.9516680554828394,0.8699797393307899,1.3092434476002524,-0.6658763270267086,-0.44519269778188736,-1.6846107144840186,-0.8886971086509874,0.523527009166073,-0.5395480369686735,0.7823025214270003,-0.2648038347499777,0.524589346613604,-1.4067236477234266,1.6960246800144416,-1.0954070513827954,-0.259385054126208,-1.230145364177432,0.15121711952756617,-1.4270498204543247,-2.331115533471776,-0.3216401978941839,-0.2391451006209577,-0.6360938413966039,-0.20356694343057233,-1.1089518286545974,0.3409251064542209,-1.0138474380363716,0.9163878233709041,-1.0872939896339942,0.14447061637229866,0.43106919293231105,-0.5769161952269405,-0.683199680825199,-0.10843261983227827,-3.1502941611748394,-1.4666879569320443,-0.8319395676496469,-0.29919026062271953,-1.5050809538053613,-0.11247122199818611,0.30901782850607074,1.0540133855234775,-0.48044323827220375,-0.24150093141698759,1.4324804474521693,0.6659614942372912,0.7912584706637188,1.6464993297994948,-0.1669802149803398,-0.07727507817972863,2.4333043641714154,1.1100538237226223,0.10967645694117685,1."
     ]
    },
    {
     "name": "stdout",
     "output_type": "stream",
     "text": [
      "1053004707615577,-0.4752519517444383,-0.3637367147029857,0.6481466665226815,-0.6819270736354481,0.37600871348315706,1.1328316328544714,-1.9063643568371955,0.5133488075038725,0.7461562199112456,1.198575651931009,2.2226325353709178,1.0628882928365988,0.9440465261903883,-1.5085189682044307,-0.39791788008493373,-0.051173845132195646,-0.7818651947626324,-1.4220196824953149,1.290210823438102,1.1312271765045756,0.5011898091958595,0.8105899344584675,-1.6759976147853763,-0.739238004968996,-0.7724987609177245,-0.014465351032497499,-0.6704959062036552,0.15046823527171385,-1.7870726264575383,0.4339442272027473,-0.7888140421421694,-1.7289812816186705,-0.30092625099886877,-1.1827731733156932,-1.6248706529018748,-0.43429257938512394,0.5846346371771122,-0.5932781509361179,1.3808589307271162,-0.6461095618808195,-0.3907465391981001,0.19008671129634439,1.1926038659101243,0.5824275128520144,0.0756541970180858,0.047325007566479727,0.44253552561344295,-0.8039941927849759,0.06862541148632348,-0.35655803364845823,0.3175944773883564,-0.7826728349217525,0.514943641736824,-1.9027871701485721,-0.1735584997819346,-0.6234978954034512,1.391866027613612,2.171800467313182,1.7264640922308105,1.0901224308702206,-2.4229871664921436,-0.24702246019702703,-0.32728924155389394,-0.34861565139939443,-0.24254519510793285,1.3521613022354855,-0.24531078160783085,-1.5562086452221207,-1.2112934753163263,-1.027082475739279,0.3852387975034122,-0.7652345433809982,-1.316112913486313,1.0046558499583385,0.6805750116794618,0.13655176143169603,2.229320361600456,-0.9107222185395656,0.24985100518114978,2.3186453205214814,1.2613065801809897,-0.44308804261244855,-0.18528326280658064,0.6664720704642003,-0.09563057149595924,-0.28331401395462225,-1.6028242961331503,-0.345969952896477,-0.03117414685607871,1.2022280133759222,-0.08206627672639498,1.7002429004503543,0.3239146945687281,0.3372556006274094,-0.7057766828099867,-0.031431284269359816,-1.0874357597157753,-0.981741569441135,0.8540550724987642,0.35246318313233055,0.3676498958288722,0.3166542162099118,-1.1968564768263719,0.016280439544916314,-1.2723105938819523,0.583985183802366,0.37313211694355614,-0.691345217894486,-0.20313150547686384,-0.7680170276581698,1.1281997073305043,-0.942196284968284,-0.1572398080847069,-0.6019900110286478,1.4164397884210176,0.7078253408333912,0.478233203510457,1.8044125356277108,-1.8769699602185885,0.9737438892121758,1.6043688011132249,0.027897573391777303,-2.6952616334526174,-0.8147233256384293,0.11607957170387999,0.052001061125806235,-1.0633833182484413,0.1825708888750375,-1.2277342186969467,-0.28614734004541625,-0.42275791056748985,1.8767600368226935,-1.9116138374513287,-0.5314473242930041,-0.06154729582069039,-1.4990065912108401,-0.269054836252038,-0.48007337708791376,1.5347754536489884,-0.1323164297135678,-0.9096885727141605,1.164876863482655,-0.13005747284200123,-0.23131649984490205,-0.27940510739667723,1.0187108035562256,0.2638124360568567,1.1463600716904774,0.2320122670424103,0.7460047138354513,0.4335621652740904,0.4917969460974919,-0.17404907887892995,0.6773271814667277,-2.7166588207642572,1.930891896288666,-0.2972059206418104,1.3622163613795788,-0.6082189448484726,-0.4315472800301286,-1.6904429223121562,-0.5069288828730637,-0.9644977468344786,-1.6650030281486343,-0.30871921845975103,1.0126061556495338,0.6917499276464418,-1.3116488152962558,-0.429215637620507,-0.1001188659805175,2.1187745284396384,1.1744795264881864,-0.09227146483957803,-0.7349213201936486,1.0428364461242738,-1.270113071150336,0.5840744427608919,-1.0724197200186547,0.3017440951736814,-0.48911079927948126,0.48855524747110923,0.2825469866281106,0.34597448295990035,-1.241898106324355,-0.4913877508252038,1.139696345665252,0.22488534853845638,1.476017763575087,1.0825581520502587,0.4053635346245751,-0.027891510821982355,-0.13787379045513223,-1.869798858118108,-0.8504307385017362,-1.9721213436386948,-0.33384418910612323,-0.30015119195410467,-0.8288719900946074,-0.918416965770737,1.4074891189013132,-0.6495694626255407,-0.1096074616905542,-0.27923084942040094,-0.8048120606072587,0.5259794384289631,-1.35454078253896,-0.35393141026503316,0.13714520383734954,-0.48407941341006555,0.29287700712401094,0.3462367309403854,-0.11635268381858706,-0.5715121493490056,-0.653594177478364,-0.24597748092429966,-0.5512612370826799,-1.6758910849979376,-0.005219549076303436,-0.5985995101277716,-0.08257717166138066,-0.48960369978077867,-0.3225297635097175,0.3311262315595995,0.14926486273257394,0.7458854039572375,0.21750210483641794,-0.4253971032642587,0.09813964462967918,0.27501453572290074,1.2957504138462559,-0.4251008527733908,-0.21334568957533376,0.845256104392952,-0.8702085866182339,-0.21683607272047495,1.490983987147182,0.427580195507221,0.4978135633238264,0.79373664377136,-0.14851445060972968,0.11862373671113537,-0.9976401077857853,0.780126513966716,-0.6282605551066532,1.3072989556781893,-1.9744208724115415,-0.7813963837657716,0.4547554277088708,-0.2691538634361808,-0.2803624706007405,-1.9529076806599999,0.044154340086213606,0.06861703173826886,0.7882989652127184,-0.46352949821781203,-0.4444899177683396,0.5093548390295628,-1.0072391577696356,-0.08841993971606835,-2.0558937779054793,0.24164362117823207,1.2893226999240714,1.3153732824570725,-0.5911118346414231,0.727429801028078,0.5566746931212673,-0.41576267139537043,0.4917938961900241,0.024360324839002745,-1.3062096301637405,-0.915147852914179,1.5476753287310279,0.3276144227912742,-1.770121966305135,1.6658415504142334,1.25094824241206,0.38201580261372026,0.3130557394553645,-2.091738284872717,0.15105307843425855,0.4819560843239991,-0.9415718042042576,-2.1450614065642166,-0.6907650372609098,-0.2281777387851898,-0.26448292794100414,-0.38574421613788207,0.5420285449016995,0.9589933147724198,0.7193607805656396,0.192859842111668,-0.5179523388825643,-0.5473656011043265,-0.5913857070067934,-2.7445835516635904,-0.4990269321682541,0.1114227983310715,-0.033460396059100485,0.09711100059901943,2,3,0,0,1,5,2,2,1,5,2,0,4,5,1,2,5,1,3,0,1,0,5,4,4,3,3,1,1,0,3,5,1,4,3,2,4,5,0,5,5,1,1,5,0,6,6,3,0,6,0,6,5,2,2,6,6,2,1,0,2,4,4,5,4,2,6,3,1,0,5,6,1,0,1,5,0.9270475266437692,1.4661272513770691,-0.07029124859603023,-0.2531519478604407,-0.43749044272998017,-0.035214892034648115,-1.0024297083277565,2.7255861003284245,-0.7075029553942945,0.3291812061899616,0.6508488634222678,0.651703383612252,0.39367888916619437,0.6485411807619411,-0.4444465500438647,-0.18731105413627178,0.15174373753649775,-0.9235914992369625,0.2701578389989884,-0.8113988853032469,-1.6042413304683618,0.3579985871487984,-1.2411871008141404,-0.5894351613144496,0.9618772448073644,-1.3628490822274673,0.5791580125071576,-0.05697669124570983,0.45677332254580577,-0.7055617356556924,-1.478616665178281,0.2589061598910424,-0.05229734877557136,-0.7387654943176668,-1.2853379721785751,1.5965407269250358,0.8719016988897687,-1.7047063067037784,-1.3127479814947973,-0.2453835088938258,-0.42087359854473166,-0.36189957560678665,-0.9163082120031346,-0.7465704351996,-0.28224084859626225,-1.161162645606761,-0.010680199303167324,0.18268760341006263,-0.4415130425529494,-0.24478269874262087,-0.6187194794196471,-2.971783740628432,-0.12425446407551673,0.16608585948691634,-0.23477491003861128,-0.6165195491141839,1.3817567184219688,-0.3575574648323612,1.1855289533791893,-0.698280816993005,-1.0602467203387638,-1.036993787469984,-0.3982801339324667,0.5869144774405546,-0.5489099029426684,0.38567130125569415,0.033825440642401505,-1.014155287276531,0.6219847808519958,-0.39279311356830027,-0.5541307581736196,0.9360973050172873,-0.6017089849550545,0.7503469223148015,1.2039788268839462,0.48421640540525623,-0.386315385590608,-1.0543759893032871,0.8721126459176691,-1.856703024700861,-0.9826986582753633,-1.0698819600503937,0.01589321521642253,1.1221031352949822,-0.20345749785169784,1.6277959550137426,-0.15742289274967924,-0.4924621032986991,1.781663746725236,1.3799825769278036,-0.029989785826930005,0.703163305236881,1.018110194365928,-1.052979066579738,-0.4720646335397073,0.8904437383414036,-0.11616052757783606,-0.5686841877533961,-1.3863151460164653,0.6576351347741238,-0.8289236016669943,-0.6341711209403521,-1.5844593220869452,0.7409946696873048,1.3584567261428337,-0.024362987580008665,0.9226017747301833,0.7038988662642892,-1.2545997557176218,-0.9651359883222719,0.5891418385259338,0.7925259950930625,-2.296531433279995,-0.6479982081195245,0.14885622371672513,-0.19729544062569224,-0.43528566078361547,-0.9541672307562092,1.7180616205449777,-0.4345521213911101,-0.08189658682235085,-0.6510228547995596,0.24839856850473496,1.0953598873225812,1.5330028615426194,1.509384015486209,-0.1746549744042442,0.8722520564095931,0.4892235407454351,-0.898554276175449,0.03837788570193248,0.44933963048837344,0.26827602970588055,-0.3295127992297162,-0.6637742421695236,-0.04117855582467924,-0.11583640127463828,2.199152356312914,1.8250222789836104,0.5082728937350558,-1.0688548663961932,1.0081399922528176,0.23406041023544064,0.6151453332720459,2.346472889124423,1.0611972871274897,1.4473453673809455,0.5884631915755917,0.11070740014257076,0.8705959241454063,-0.15276941650697862,-0.19457916098179567,1.3963211242920128,-0.5015899970543718,1.1613054635296824,-1.0956398707838428,0.6960887812694453,0.0324821230649884,-0.4855452659548941,-0.2953"
     ]
    },
    {
     "name": "stdout",
     "output_type": "stream",
     "text": [
      "8517975247774,-1.3873166397406456,0.8409385932963799,0.312306080913285,-0.27743696186625794,-0.042571559843610635,0.29914087893017144,1.1912207825025922,-2.048801017593209,-1.5734080832070316,-0.1641613217548592,-1.4431243643898608,-1.8354443135691259,0.028085586558997802,-1.2191079047651037,-0.15613453432633317,-0.4082660877857489,-1.439372714209815,-1.7610465895518492,0.07711451138422638,0.9630707402716331,-0.4560005255037693,-0.385887997583837,-1.37118348820626,-0.1935109467815054,-0.015626568479827657,-0.8393926942355024,1.2651238530435136,2.535726216395319,0.2632853419668385,0.5091937579072842,-1.0923975712654648,-0.6002241180158914,-1.4823169072221432,1.309148091369193,1.2016104989444465,0.6842476726527755,0.7395738326223367,-0.9415547756434485,-0.33171575949409593,-0.5119797652798685,5,4,3,4,2,5,1,0,4,2,1,4,5,4,2,1,5,3,1,1,3,4,5,3,3,2,5,3,5,1,3,5,5,5,1,2,2,5,1,1,4,5,2,0,5,5,3,0,1,3,4,3,4,5,1,4,0,5,1,5,3,0,3,2,2,1,0,3,2,1,2,1,5,4,1,5,1,2,3,3,2,4,0,2,4,0,4,5,1,2,4,1,3,2,3,2,2,3,2,2,3,5,5,2,1,5,5,0,1,3,2,4,3,4,5,2,5,2,0,2,4,5,3,2,2,1,7,3,1,7,3,4,2,1,0,6,4,3,3,0,0,7,7,3,0,4,7,5,2,2,4,0,5,5,0,3,2,4,5,5,0,7,4,6,4,4,5,5,7\n"
     ]
    },
    {
     "name": "stdout",
     "output_type": "stream",
     "text": [
      "-0.0003412136204543538,-0.968514948978489,0.5452962134051296,-0.4775852079436897,0.8579170702690243,0.5202810705969528,0.2849717061683397,-0.44440270005113774,0.9146722372350328,-0.35882773322146655,0.815224712071819,0.23214044621012078,-0.08562916568730122,-0.4871356259610115,-0.3468457223265716,1.656409012340988,1.0907839553674707,-1.2262870347310557,1.316826717274469,0.7429212387099399,2.6122679340559665,-2.0375041097551394,-0.27139970048694434,-1.1413342661536574,0.9314786431705802,0.08735939900556329,2.4571024041501626,-0.2806458621768481,-1.0201694377489676,2.427276866086218,0.23077125336262022,-0.8637948964584137,-0.08285179775786802,0.18667901795318975,-1.1361782255253783,-1.471026437806968,0.409057978779553,-1.4894478090617917,-2.433506294152891,-0.7309517233400433,0.1740737236084997,-0.4758392548379104,0.5077310640170524,0.6192860805107558,1.1849694470738235,0.16135884856791177,-0.04656360659778507,-0.12003300212601317,0.882093873606975,0.1980330487771947,0.8897747686205149,-0.4062133948452188,0.18585748603064584,-1.43605840878625,-1.5646426142442251,0.594813729881436,-0.2908397575354011,0.8774610454771271,1.7830911764183286,-0.45041330144984104,-1.9371672951681373,2.1036681192116604,-0.6042590968532127,-0.47883631770664586,0.8384442404316067,-1.7445534831538123,-0.8162886701363816,-0.3402424397415921,-1.6876521501336468,-1.4292154189779789,0.9356269351022856,-0.7199655799249421,0.09521836933314781,0.25864078077494573,0.8995502384196282,1.461290854976993,0.9639935342385616,-0.3578095594108563,0.6109909988836653,1.2238750098027196,-1.1745965138667505,0.8102785499599224,-1.5411631313272374,-0.0450220180399881,0.907433248639849,0.1935919591852708,-0.6584667851788814,-0.42570641056203556,-0.7019870411631736,-0.13654239508983604,0.6880738190006088,1.3147183424387106,-0.934570808851081,-0.01718651880847281,0.058904269427895894,-0.14086482128590536,1.0508571343367166,2.0132552963262946,-1.608576392909626,0.27928213745612934,-0.612189560003714,0.07216307005168532,1.3250220906221424,-1.3382388968633852,0.3965641796460868,-0.44602631929364805,0.3287544791737277,-0.21135379938301385,-0.8720114015798934,1.9415735818944564,-1.146502901819506,-0.1521914392329115,0.23837774904355769,0.076505228038163,0.4499387119376624,-0.21405350343013424,-0.7027842865322855,-0.5338573749827924,0.29309218985371605,0.23519844998291867,-0.23658699523190413,0.2217728105000128,1.151383285429047,0.9670563389220577,0.4603842210958598,0.8877204317769763,1.3612590079329991,0.07779916720908042,-0.49303047355287505,1.1655930891486643,0.8938829323162303,0.12745560228276845,-1.4994052074275535,1.4717419255566793,-0.02335173977034797,1.8245605903665525,-0.24677814770093964,0.13283517802447264,-1.1620147190408445,0.6833384586297142,-1.5355462644070195,-0.4851096173040044,-0.4098017064693849,0.2495251522088595,-1.0259108800599626,-0.13932351002573135,-1.2712185353675909,1.5191840638117011,0.7336073620811107,-0.6345731603173458,-0.7751881411040408,-0.9334170657171382,0.09940065507284895,-0.9928398708220265,-0.3927968989197495,0.7730578370392949,-1.7241857342763296,1.4439777122735835,-1.328834565909595,-0.11116408754151877,0.3862575302389585,0.5400389209228246,-0.12324056828133612,0.6288369955150122,-2.0571062930262722,0.3907823575918974,0.28643217280949584,0.7204651740022291,0.4637818195431862,0.09177688046642248,0.6797036663248356,0.4611572098995992,1.5660553346867754,0.16080129916916444,1.0524456655921333,-0.10033300694904974,0.7024668610886263,0.13517904935007813,0.1704337098104718,0.14324928743698995,-0.4707673619551856,0.4626597674036085,0.6558694588582911,-2.2563201386111027,1.0915108823545412,0.5830432239985979,0.9694255116995362,1.4298887938958393,1.8541275064924738,-0.6027542242111942,-2.0811874335286977,-0.7326003160829194,0.05154460487544203,1.4236906225054224,0.5784974289960375,-0.09417753660549663,-0.008913776274804584,-1.9407499159720554,-0.6561336823567859,-0.31602874550709303,-1.1750070212886305,-0.13319381970347083,-1.2481649741358,-1.3320650829679987,0.5064015060131928,0.043775592782937404,-1.1862376621417623,-0.6211979483899052,0.33443089347847493,1.200575729203656,-0.26930329840017264,-1.4925997881942408,0.2581833797493192,0.47597690036388957,0.577772670484854,0.6005308381183362,0.9690224382262893,-0.9526738519260491,-0.3327649030469456,0.040900597543764385,1.4330393933419303,-0.9794274009929962,1,2,0,3,0,5,1,2,1,1,4,3,3,1,2,2,5,2,0,4,4,2,5,2,3,0,4,2,2,7,3,4,3,0,3,4,-0.8178431713339495,-0.6417836666790602,-0.13251035076478895,-0.24960185011752156,0.3250515930663442,0.16430499113200142,-0.4854312700793659,0.7689983008179412,-0.16019150985666633,-0.18883255687137412,1.1667343091962141,-0.047241104835677276,1.4718906519014485,-1.101651116943482,0.34386450364140875,0.35415143557158907,-0.11740724373399905,1.6209258369485076,0.5899777567838356,-0.021439756081630304,0.11829827782053418,0.08458321226401307,-2.503993403953529,0.480401370671145,-0.6499190319619373,1.4395207772199663,-0.2291967556462956,-0.35436921925452614,-0.7423043773473584,-0.19556880499677165,-0.09592753797009154,-1.5541258570361878,-0.9662406948201961,-0.9952193275882094,0.22627145570241497,0.00620216998510481,-0.26694001032219916,-0.23072640086238658,-0.43687315936328797,0.00747508680882923,-1.0068065566783497,-0.7235046497382472,-1.4377283966853196,0.11287408056369677,1.4833930434818923,-1.5134083944238885,0.6102335989411922,-0.887811564874792,1.775437020275826,-0.827207125798273,1.1194905177144363,0.3323531295257642,0.29029332258269047,1.1955244509230032,0.5119987363388379,1.1713579986572549,-0.2777489293741258,0.7163747968438097,-1.139805811106293,1.2267084053383968,1.2765855380245548,-1.5506046928239787,0.4944037821423327,1.3181203595648263,-0.3989140739535781,-0.5254215905680417,-0.05824003967498993,-1.2961966304812162,0.03371933656195009,2.6588289486477934,-1.0801668578852708,1.434492287635532,-0.5259436158145938,0.3401428052459026,1.1803875903266614,-0.49670925084435974,-2.0880180420689003,0.3871319880693239,0.3100963079037005,0.657855544452522,0.2684944420126023,0.33514297484836497,0.051658642797577065,0.20719444794473427,1.6043020580928846,-0.6670039354734119,-0.19141252068040657,-0.43099186308733634,-3.7074073221567825,-0.02659901628722487,0.4873267675928413,-0.1651399575453978,-0.20015812516201092,-0.3755206603862118,-2.084841011864045,-0.3682869293756677,-0.7813371618879764,0.5724962241842378,-0.061253044292138244,-0.07761413443287982,1.3953626866211244,1.7955573960039959,-0.22175634842550515,-0.15897015838846099,-0.9193846482431575,0.3526212466189148,-1.3412199895448018,-1.5918526830826838,-0.8689847734217925,-0.9681041595151824,-0.6936637749121455,0.659828111073024,-1.2585721141515427,-0.30476002566682747,-0.21708604729653844,0.6733643195979312,-0.3469174986825393,-0.7666124061774419,0.2477872697189929,-1.2640409337929175,-1.5041262034630865,1.0217598092667397,0.08708051649343843,-1.016855913322053,-1.5436737840327313,1.3593875648144105,1.529134432351669,0.9791820270761443,-0.22711330241789035,-0.4873130530225131,-1.8419242042469808,1.494546837011011,0.07132476485602451,2.0916881715436557,0.03610352106497866,-0.8074240443926769,-0.6871824951141682,1.2534784997376969,-1.3672342237466342,-0.6519575146979582,0.029480893710346987,0.05342679155533766,0.14773625377550265,-0.9637677773800528,1.674325844111335,0.24275462414501553,-0.33246869854292993,-0.4297644989142222,0.057695901815258195,-1.267156256991052,-0.6832276891821906,-1.2652279210808544,0.07089888256527216,-0.09544577298392724,0.31979711828383256,-0.7131492089431481,0.2307210036642555,0.501840432166007,-0.0797122918423747,-0.9437674420209924,-0.6182495701528288,0.339867147242657,1.3320492430543474,0.18785564468814095,-0.009952993762474471,-0.7204288919559336,0.20413058095565723,-0.39090084946329057,-1.1427614582885741,-0.7236078922496229,0.7392746161150938,1.0448866802460912,-1.1988290360110032,0.49186343250806774,0.3027942977063589,0.03156302361610302,0.7960110640501386,0.14860958522709242,1.4367201012934008,0.06027023620036363,-0.5805148709419606,-0.9585518117806852,-0.2537982714937639,-1.1034907512265033,2.126797024898475,0.44345231609401314,-0.6571334277046262,-0.7546623308687685,-0.29256453720103287,-0.46047803082393723,0.5887644171887663,0.22891032634399885,-0.6920201941784312,0.7163687146629353,1.9895320188600902,-0.45122942139083283,1.1336876181181117,-1.30466742979984,-1.4968691759245594,-2.9319461981572026,-1.2179654741151178,-0.37576450053101945,0.7306488587940955,0.8699522968107655,-0.3633943013649997,0.06936528706652235,0.24055634081165367,-1.7444752500752996,-0.7260510414753227,0.6021025237558403,-1.4001644316635389,0.10863229919951731,-1.6127576273651938,0.5076063974991659,-0.039857971962461644,1.207204943244465,0.7438314394453035,0.07811931029099958,-0.8822295345404711,-0.1121013633256149,-0.257706003650427,0.15085697528705477,-0.021165102170769584,0.8179524376260346,-0.3796819648624133,0.287977666885844,0.7169186904535007,-0.07042447689977333,0.6817670181144019,-0.6883461158839477,0.2925143013821582,-0.3184264715932883,-1.7901429520065513,1.3424349033127956,-0.7116682969905441,-0.21664936875313115,0.3471875664439228,-0.023279102240044567,1.3348893638326293,0.6570646403688134,0.7758413713685643,-0.2992082819923189,-1.3860100120774579,-1.4902976003684112,-0.012181876439635171,0.08156741117711842,-0.4915325521993034,0.3832675144112977,-0.36604041107408614,0.41406519439872885,-2.6513401162970167,0.048390167455768074,-0.3304086635740294,0.04160089537947796,-0.8022525673771311,-0.7757493937110189,-1.0987437547399153,0.041094510160951114,-0.038532229608920734,0.257400790380711,1.4182747802530455,1.6325963999737778,-0.6133810780765431,-2.7908962030704876,-1.2468113120286595,1.497742518861912,0.5777511092495833,-1.132133857878288,-0.8649826060322598,0.7442774019265499,-0.3417529218837911,0.2858827484309775,0.5668804750209328,0.8036906773716551,0.1835311312857117,0.4745269905785296,0.5516635490422265,-0.5989595736559825,-3.224109190081347,-0.19194568851857988,-1.9892487313047214,0.5968900909259715,-0.48779231357642844,1.3701097026091145,0.055875100929749365,0.6716136258571425,0.10408631056721757,-1.1026838259056095,-0.338335680525759,-0.38579389986704105,0.24802652416238202,-1.4206812780362574,1.10708252750815,-0.14310762567016774,0.41177668805788215,0.8433472555430893,-0.3712760264100227,-0.0771560077098124,0.8351356765003527,-0.26989456259932276,-0.814781117655178,-1.6851729956810582,-0.5726274959778695,-0.15763950553173728,1.947574557666823,-0.8649925194229079,-1.0268373514868319,0.32205058027335215,1.4929620301340216,-0.5099536420419952,1.0214560400752968,0.3463578891192018,0.312545183335255,0.4264010071002635,-1.685333381534641,0.573954211847157,1.3211691242053976,-0.06031267762220016,-0.4274255600394816,-1.7764269519531901,-1.6373467714533485,1.613551957910618,-0.30653256730452816,-0.8694421940281292,1.261640077003942,0.7265679460949807,0.7779691753057267,-0.7295933122119825,-1.8779153428836999,-1.9528028576997571,-1.1168500933306162,0.8350770464670862,0.9720608729024512,0.02354809735124585,2.142807498758476,-0.5639072910884965,-1.469676135278901,-0.012277220303925286,1.1373546062148991,0.28477178964380817,-0.4552179222948996,1.594331849973617,0.1535950602798124,1.6837401363344846,1.6385710456546576,-0.9685998921194799,1.29684912473059,-0.7690776075915392,-2.000258945419125,0.23253966972403675,0.6826636690860955,1.1718629821462379,0.7166536802155213,-0.09395728136300746,-0.8652080610127891,1.581778915132646,1.5347977503382926,-0.3014522606399498,0.6053151488757602,0.27105816128521154,-0.06407732612463946,-0.5849805663271113,0.9787336645128447,-0.29784862672220236,-0.32416546539088315,-1.5624389460656782,0.3608810104589269,0.3261627435850472,-1.0728606563369214,-1.0921517146257413,2.1008614894333935,-0.17878810194183542,-0.4122410113433392,-0.6496768708284042,-0.21458388639761158,-1.906151208488783,3.3492325535084766,-0.34328530193771506,-0.6408465981322912,2.263773841584334,1.254008502323592,-0.9446822501478721,0.6822534347395921,-0.4654971049391613,0.8579754970563418,0.46054747797100754,-0.45399081866141644,-0.7165596681262856,-1.2215467812393113,1.7060447570596984,-0.24841442907622774,0.5328428178749983,-0.5361471345424179,-0.5151061977648546,1.8035037523926907,-0.1942165107161576,0.3600603500026762,1.398305797978474,0.6771588845836992,0.4312722583310495,0.39864229260365935,0.21246997030331582,-0.21672122970953128,0.3859650955282439,0.2040725158329019,-0.6370455607217541,-0.4330513719841674,1.3531154016733542,-0.654767909529683,0.04217667464347322,1.9509558306971104,-1.2222897870187603,-0.19620666949209462,-1.415842397197776,-1.2271217285452052,1.9449064413974873,0.09392827167464386,0.7595170302353645,1.11170799185747,0.8927737026569138,0.8281602013879932,-0.06404358780430215,0.5885099533059167,0.5992868414531817,-0.5543228402121945,0.5551877504655522,0.8966406406653776,0.6659749945151562,-0.6441339958962118,1.0138369125332496,-0.21077384351286668,0.15839149684489748,0.38541568842560686,-0.4360973784711527,-0.06936041238698662,-0.4950836034639616,0.02823063872368807,1.5973101166605044,-0.423360989790411,-0.26292731423970445,0.6139320074013975,1.689110004309677,-0.6468183233399898,-2.3128541797519717,-0.971401655538446,0.29178445936704656,1.3288768988096347,0.07256642196241624,-0.8343392842304028,-0.0949026637892735,-0.039192776785514166,0.07787545220257165,-1.7021785365985345,-1.9546892336528432,1.0632770841173298,-1.3561432218978577,3.0082698709669113,-1.0846810810492336,1.5249593388041274,0.6001067058274077,-1.0083138925607722,0.9287050516568831,-1.1190296628262273,-1.0943827992114197,-2.1486092460128465,0.02852941375321087,-0.8050302998493998,1.632249951100562,3.0663793667344916,0.8004170854905774,0.8597753944431603,-1.0724140478680502,-0.7267543023818445,-0.02196580311320457,0.461397187056676,0.15881367179189812,0.8626462251740143,-0.15812476941529024,-0.5969165871581241,0.1636281716450742,1.2656654677718946,-1.977751694178231,-1.5086823125964788,-2.017438650698339,0.2933504065708,0.32118682141174376,-1.2249883786886446,-0.10830993492233622,0.6692478993823545,1.473298121981353,1.3838053388227005,0.8530605822659253,0.7459287507729111,-0.46810885147054465,0.20602586568353273,-1.0142919239768928,-2.6673246200096665,-0.5248564003780467,1.0046141952011716,0.09478945529561578,0.6311963919722363,0.6824854664062365,-2.7324644299214236,1.5963629240814312,-1.909708208421231,-0.6740978810465371,-0.1751641018857949,-0.016190925080748916,1.2361443900541267,1.1580672375081387,0.7293115863454073,1.4507567780379966,-0.11491385023902868,-0.03526889750161699,0.07142747325530895,-1.4870858508080862,-0.34581568574216304,-1.9056490311911976,-0.17138576992872598,2.050464155059981,-0.5289996535806664,0.8154443616623327,1.0358846894014744,0.7040096159199277,-0.1770007961001993,-2.6515423202070902,1.1830444862569522,0.696611779077132,-0.6355993525747545,-0.1725879447449342,-0.304449339226993,-0.7830339709303933,-0.4533086440015102,0.12204127330931228,0.5707943545328074,-1.6095460593486728,1.6225863979439352,-0.5329682875134599,0.13041962938791074,-1.6182573285695494,-0.47473204322741935,0.44557927421283633,2,5,0,3,0,4,2,3,2,4,2,0,3,2,4,2,1,3,5,0,4,2,3,2,1,1,5,1,0,5,3,2,3,5,3,0,4,5,1,5,2,4,1,3,3,0,4,5,3,3,5,5,1,1,6,1,4,5,2,3,1,0,3,3,4,2,4,2,4,4,5,1,2,1,2,6,0.1340013357388383,-1.3510490895922478,0.7520463543871692,-1.0330209007940663,0.10643488059244513,1.4660555615417,0.7102929272885941,1.5175658108981747,1.2552681964406278,0.5772184915786653,1.2294495880086909,-1.509921453171488,1.1522825259244571,1.5082302218950985,-0.24210021393604145,0.85782444527446,-0.9772501971902425,0.948813336552617,-0.3972196689343362,-0.3672194882626392,-1.7157594907158555,-0.5354815226391206,-1.2744291379952732,-0.8701501070981542,0.5943307726942497,0.4252306365540971,-0.4367531207009226,-0.6789933193695588,-0.25699487140657845,-0.3140598398315933,0.8199419863314177,0.7680758727620849,-0.18190738990312375,2.7078243097754497,-0.7639221611219267,1.008648037985611,-1.0629920501391867,-0.31994848827444544,0.7152276060682285,-1.2371303997005845,0.03217735855870305,0.7470137359648455,-0.21683422249548784,-0.01797264274887193,0.07911203014253017,0.9067377120531497,1.8681879893707478,0.08854962962423729,0.6259997554324364,-0.2771381078906493,1.7317542785990048,-0.18788001532816584,1.3575179497944225,0.02791098444585717,-2.6075577227283304,0.6215027478025271,-1.141212199292648,1.5219865391677059,0.031984507995155606,-1.1224048429281324,1.40760452415598,0.09764317804663387,1.294169937632069,0.6714763057381292,0.7674316529703962,0.8722329226036594,-0.20921446835630778,-0.13811315069721417,0.33959809447320577,-0.5335349536751159,0.5425100826964288,0.9241211633844865,0.6057881263147148,1.3735117883853973,0.25588287571319845,-0.25644804826672213,-0.6496994162468503,2.5730955446650694,1.4565965890439467,1.1786074827174944,1.1350590956383666,0.7384945312605238,0.8805423090662955,-0.6609083754057187,2.451488428098127,1.5619157034350013,-1.7103030937609556,-0.6546146191680368,0.06815615587880443,0.015671617145719286,-1.0722227616480915,0.8178203736635262,1.516881019520273,-0.8408723158195571,-0.7267699238089621,-0.09256471755433426,0.2081411924941603,-1.8361738263032874,0.014533036882823218,-0.0954449680083428,0.8872854708059851,1.3128351769608246,1.8241127425050605,-2.8629468350078224,0.2641287651251219,1.3901750528499137,-0.37694776612812814,-0.48421112793026716,-0.8728173182086941,-0.25713784673536544,0.5409815668506248,1.2311655758029507,0.4396197631436429,0.04120058945310842,-0.4286395180001991,0.568069902925076,0.907851799442656,2.173946118981703,-0.5353951332774157,-0.5567153322437202,-1.0992879621627705,-2.186670081918172,0.12275356818914109,0.6493949046049592,0.7170442289938758,-0.8327332263850508,-0.6386569592778505,-2.7612920071972757,-0.6251853727034095,-0.7643084730809384,-3.6781178534208667,-0.03901598460153178,0.5377849311137852,0.018537092420885335,1.0788333703785746,0.18560607822983213,1.0034265925452894,-1.2327767343008043,0.24019336533405838,-1.877197012305257,-0.11221187936803852,1.0559559930484677,0.052089043440079356,0.546402684312372,0.09091118523818165,0.7999041809222364,1.3664266268869962,-0.32867790029842253,-0.16107758693806595,-0.5536989183687386,0.2060637955376848,0.5629506680470914,-0.7064370913529944,-0.47592200626288717,-0.0015295413191430943,"
     ]
    },
    {
     "name": "stdout",
     "output_type": "stream",
     "text": [
      "-1.5955271790677936,0.848007898698646,-0.8331833172371595,0.41804801921004303,-1.93036332938416,0.11119879385597015,-0.24278226807443,1.1858924653008522,-0.21883494600404493,1.283569679220233,-0.4175608253276161,0.5093632475027082,0.531198932007255,0.5153931812996992,1.0151593467822158,-0.5127444488696626,1.0201006724328507,1.2299974986702482,0.17408446229599767,-0.7435809816578893,-2.4660395341581016,-0.17861310612483697,0.8726944942513565,0.763911567141685,-1.1697122523517542,1.4179531568338235,-1.3004293792097785,-0.3866543738618033,0.409283184498708,-2.0492589657677533,0.3410919695589389,-0.672292545589555,0.15931775874204204,1.5426520349634112,0.44886159329821135,-0.0298809652436385,1.465271664062643,1.6419817456185213,0.46702488338190484,-0.6327321819684987,1.911256305129962,-1.1275416429540013,1.3002408431927872,0.34676940458249517,0.5435508753290454,1,2,0,3,2,2,0,2,4,2,5,1,5,5,3,5,1,4,0,2,5,2,1,3,0,1,2,2,1,5,2,5,0,5,4,5,4,2,3,2,1,3,2,2,0,2,1,3,2,4,4,5,3,1,4,0,3,4,1,1,3,5,4,1,5,4,3,2,0,2,0,1,5,3,5,4,2,5,1,2,0,0,4,1,4,5,3,2,5,2,5,1,1,5,5,0,2,4,1,5,1,3,1,5,5,0,0,3,1,5,3,2,3,0,1,2,2,4,3,4,3,0,5,2,5,4,6,2,5,0,1,6,5,2,5,5,5,0,1,1,3,1,5,6,3,0,3,7,3,0,4,4,4,4,2,2,3,2,5,2,7,6,1,4,0,0,0,3,1\n"
     ]
    },
    {
     "name": "stdout",
     "output_type": "stream",
     "text": [
      "-1.1393009910385148,-1.3658981754434234,0.18694828444216843,0.45566076913056514,1.228348457401518,2.3468977226170207,1.9038416428129532,-2.277701841416565,0.6503150276663798,1.412903781151119,-1.0202771719989467,0.08753514943692965,-0.470557857811623,1.8173140298452561,1.1037438976982827,0.5182456505556865,0.7096925477112913,-0.17138546763261034,-1.0471762330684131,0.2540844079915021,0.22357445486529606,-1.3742897602678557,0.25839670056966935,-0.23863321205330765,-0.4968024918621493,-1.2528914706559346,-0.7119916428812273,1.4079562837405246,-1.9906586706802152,0.8732414524477974,-0.7803103569971727,0.17728224292154227,-0.9071958526875492,1.3201203267170616,-1.2550755007219239,0.2812689222003387,0.9926933622697928,-0.9585719084047601,0.12794182015692304,0.26122563989421776,-0.4459739088735855,-0.2378942612063146,0.2625284942679573,-0.06698335862739331,1.1409505667586288,-0.35625307758477626,-0.6858294583121792,-0.22691072375639176,0.6398066850110925,0.6199706752221427,-0.13003418893630697,-0.044606927401071084,-1.1034829298548745,1.146603485435517,-0.9974593120196753,0.31607380089896836,-0.48122042447126323,0.7086846112129364,0.4867973852314102,-0.7281481981112307,-0.849116290142525,-0.447203419332773,0.8197738566118741,0.26304468673100473,-0.4038537605450755,2.4469875590539094,0.164090704370265,-0.0868130488314564,-0.11271592714731575,-0.8734418153805226,-0.02042901294792883,0.7011232338855128,1.4659408473753839,1.7144094355394466,3.769838422065797,-0.4748929170159386,-0.18298550988645354,0.376193501102487,-1.1358442870556815,0.7997284600917075,0.33129122453705323,-0.7797880866488287,0.9917240224887901,-0.6047618855334166,1.5668083486854163,-0.4668738458198553,-0.26444016853987307,0.16546180604076713,-0.5963863758729938,1.475284429439482,0.7970951794327992,0.3629579677505608,-0.47291757866775336,2.2660559377125895,-1.8674135846551962,-0.6922519611251686,-0.43954258262602797,-0.1889991573160416,-0.08885117301449087,1.306949740524147,0.04475390095034381,1.1091203873465059,0.9486465468936258,0.9116768587853522,-0.3302886498385135,2.0187302424339513,-0.5044489953452277,-1.071539965105994,0.16182421044607767,-0.91042493269397,-1.1792255569854444,-0.6727237896764083,2.3007411148477446,-0.5311918288566416,0.38542526338751915,-0.6418122823453348,-0.6181662407840787,-0.08000465815604896,0.9135575319989095,-2.0731616168989153,0.8791517176599908,0.847679006737997,0.29833695760211076,1.5900065302318611,-1.3354022154478624,2.85337196176306,-0.6813853499657286,0.6042893326992919,-0.21764401218923435,-0.19044422105353248,-0.6362419329927859,0.12188297140241053,0.11025979957354784,-0.23163145022206938,-1.0162108959489982,-1.1351865543710375,-1.7060461343152071,-0.6727168109735436,0.9269781273940627,1.1185641873797991,-1.4808921018709988,-0.6140351004032921,1.4968534922603383,0.3421016260137276,-0.05331164791413141,1.0855160461009412,1.374027288684595,-1.196557384354511,-0.6125602431031958,0.11370858540837675,0.2185992425946681,-0.08864061187489017,-0.48974836808009614,-1.0874771753809138,-1.6282938294146614,0.5678214731668217,1.348112865020107,-0.46959069184293234,2.4505997900737713,0.49815641710911307,-0.8106930043019507,-0.827402472553414,-0.35009080903312756,-0.6053474222303519,0.7081121347752529,0.6395840406215503,0.3045720499441794,-1.8001351042421916,1.0470690613231908,-1.54616331836198,-0.3321583708133791,0.14067323459092473,-0.6366260864789633,-0.37524056063145844,0.7677501387800615,-0.347739315557396,0.4652435450194668,-0.8968466362016537,0.01119444588284233,-1.1614611052100103,5.3712579264471375e-05,-1.1442582328761612,0.6820080961029386,0.06473556712094722,-1.032855880091868,-0.3594284972140675,-1.0633364671723422,0.5999808353426354,0.3313519450361413,-1.2169145188488892,-0.3154805399532042,0.543785463135539,0.33823687740389785,0.5817744757985952,-1.227932524828347,0.07878941205882539,0.1295758471258678,-0.15499868709752007,-0.11199715888513015,0.09163318001542342,-0.2417673085282339,-0.7029052732870739,-1.1373180129722527,-0.8913626212973977,-0.3616640839708297,0.14385004386200093,1.3658113313155897,-0.027618881704318254,0.3984445329844498,0.8665752132877667,0.4699547164683651,-0.48385672002877506,1.2539462406471789,-1.75850128674713,0.36055328724436797,1.5286036516628305,-0.12286699102426987,0.3874400240027,-0.20520507310802485,-0.9914482915137071,-0.9274064434951884,0.8906070237186046,3,2,2,5,3,3,5,5,1,2,2,3,5,1,1,2,5,1,3,6,3,2,0,4,1,0,3,2,7,4,0,4,7,1,4,4,-0.15352939976685748,-0.4898070776963706,-0.15344388278882795,0.00822725659398632,-0.29667405768250804,1.1288854234619785,-1.466441894477704,-0.7738381793369778,-0.3389658726494089,-1.3446207247633635,-1.3337255863207922,-0.7347824630734598,-0.18421883181117255,-0.20601796464281624,-0.32799652711226435,0.36239344638438653,-0.5659140190493617,-1.7505340312447677,-1.9356715917726834,0.16413289087372956,-1.4584388338019973,0.36557651640991623,0.09249975849637673,0.31011948722076105,1.8378340571354055,0.08747673670649792,0.3784559918406062,-0.40007003044528644,1.6383632809298108,0.1020733215063788,-0.8127558068604191,-1.133757166509652,-0.15523160636908553,0.45605768304541106,0.3995765427903626,2.3563862742189388,-0.9572556526000432,-1.489449074124216,-0.4006916149960558,1.5623756454663673,-0.2608913452041723,1.5592746450758195,-0.5348705542947555,0.014928133828774585,-0.3475690099966806,1.2682677504071325,0.9432355571826061,-0.21142368526118815,1.2128882256363234,1.5887901489988354,-0.7620779020832532,-0.033445470617171166,0.6465341488713539,-0.5071032026092576,-1.369055245229329,-1.751762280896886,0.8878890531131068,0.0736540468208523,0.16379317408722588,1.711989218926901,1.6008538448462648,-0.5409926422268861,0.028994876391376684,0.5178483301090866,-0.8771435385248463,0.37338850556455716,0.0359063967326585,-0.35267984686479414,-1.0929242502846,0.3937104866495673,0.7566153321006915,0.9474392282060232,-1.0349192345615197,1.7568459887173875,-0.5875818947380584,-0.38267894839300975,-1.0641740448452033,-1.9093824037731961,-0.026566111351847565,1.2563348012275446,1.3032317410946161,-0.1284639955707006,1.6261094960813256,-0.412735756153567,-0.9427585703586868,0.698666056889691,0.24251045494666662,1.660350330665286,-0.8772845573744011,1.1131793554209841,0.6408114551068974,-0.1712107242917523,-1.0597056260614472,0.777158483660887,-0.35944245475160747,-0.029935689183772086,-0.8281122974709101,-0.23370759815998426,0.6765676750692882,-1.3515744948017305,0.3741113388582968,0.2104387956416395,-0.6727077827594533,-2.011937681420621,1.0275427964649106,0.18454827368632576,-2.090043960939303,0.2639909045786891,0.13872097143009302,-0.16495003576950215,1.1883817789195377,1.3232279611779347,-0.6249146316172742,2.0160285617202476,0.20526905537106097,0.1016299512044927,1.3523998134857922,-0.3662075520380798,-0.7176230320514654,1.0977575158228041,-0.41918039365860105,0.7877060918581047,1.7775563053564005,-1.4954826109178365,1.1208981825597464,0.3544614294986298,-0.8225116177626787,-0.1471473415224708,-1.6866401721021396,-0.7510962092678564,-0.41512874019706886,2.5264688844353524,-1.862577219755303,0.15195092063768706,-1.2565665204936867,0.10967023547143563,0.8073746712783535,0.40939559953704535,0.3122413702878732,1.355011634824475,-2.118375196097654,0.0034433848140153194,0.21800175773280292,-0.19312026662880336,-0.1454049071612111,-0.04033216373381466,0.04836883887491928,-1.7776925662425553,0.8904970388287816,-0.7916059874437261,-0.8014867226476714,-1.1386540635615925,0.39934140983183697,2.7647258865825703,0.9694807010051176,-0.24292309918711297,-2.02285638474873,-0.8094981580905364,-0.5202511995258186,-0.9345362354307097,1.1083611045924013,-0.5102978639894128,0.6190348126256096,-0.844337070005265,1.1287619428639633,0.26486630180316406,0.45072622089366476,2.137466128576975,0.6998681134542104,-1.7437138612677832,-1.199690614328769,2.205308682822138,0.3397779180855796,-0.6842561549432604,0.6058499441799904,2.8764098810182563,-0.03637917753806763,-1.2819309869650979,0.13265409041245763,0.45742227379057904,0.5057982566888457,1.2640288514936053,-0.07172532058225817,-0.34398287873349526,1.5337595721733592,-0.7703653543066551,-0.06825188856954488,-0.054884221420559154,0.7414258744182074,0.7762328738469421,-0.5374372094241151,-1.6902488424876454,0.47633535875984995,-1.31436780515169,-0.9595318045529487,-0.9755162670377955,1.2240245737965687,-0.16541995051127564,-0.2737242407132812,-0.6051632603904418,0.5855847859253425,0.0361771398329272,0.4096926188137051,1.9946502263915775,0.6642828138153052,-0.872923937954426,-1.1494009891722385,1.4449872863089746,-1.1153768634049313,1.1585365575654307,1.1269857088412554,-0.487226557341323,0.3378630907034888,-1.532808717085331,1.0174821834819634,-0.9152206023805752,1.6235056392793517,-0.33699178167973665,1.5554086120126391,0.11271543641133622,-2.0533055249466026,1.5165750200171595,-2.3774290016972763,1.294680048728077,-0.43147505320475005,0.22389918662139466,0.28072374709874726,0.019429612620996475,-2.3505924905748037,1.621052703074834,1.4847754558445363,-1.7791683162071468,1.2359962301808347,0.9084577057134041,0.7889905131174578,1.5808887412598789,-0.1005482028606973,0.11888998865711098,0.30265196322413557,-1.779036608113699,-1.512431652798575,0.20549804929083035,-1.294713112673929,0.6317782890156066,-0.3466138209137856,1.5318291872360075,-1.0310475309244265,-0.4722243497851647,0.023209636814880245,0.13594759275304558,1.3776631838385804,0.703471711068508,-0.1085369641543961,-0.10585649083960352,-0.8205683004012695,0.1192681772615102,-0.1810328500676815,-0.44877407281015197,0.28267794001430313,-0.9451387757393768,0.5068653634129638,-0.2136336994564253,1.5736103891680482,0.5332820651854676,-1.6356054417760464,0.2886617084641614,0.06069671682092216,0.13620511323781936,1.1594985158977598,-2.071270722353206,-0.3930603698820777,-1.4989710646740295,-1.2180921056236667,0.41472949232143963,0.6532049927988028,-0.31478025040221114,0.6322498551365618,0.9096944762547126,1.077567083994103,0.6656139940901196,-2.3625220697910754,2.840380077406911,1.1920140861600037,1.5032604859479288,0.11123447615685364,-0.5868756070892348,-0.4929852149358759,1.947934167669088,-1.2164453391844123,1.1887168164882866,0.1970852308282373,-0.4528690638624535,1.3832970995564535,-0.2389765805308132,0.31683231270655343,1.4882589929166266,-0.44169077514473276,0.1595673025045705,0.473272508194672,0.14635217431656994,-0.26347006057304173,0.8429024387546977,-0.2522761651161238,-2.3573965767530423,-0.8924030369762113,0.6248852171424725,-0.0103699015008442,0.26530077415436526,-0.6321101429610398,0.5291451009106067,-0.014911019526497147,0.14245436747316884,-1.017050600806676,0.5751008488880998,-0.2899352608379341,-0.41366134813457117,0.8445214096856588,-1.0413998856451059,-0.4781637681869899,-0.5459300966349124,-1.515784483508239,-2.4025194783866524,0.4131086283170115,1.192800755564117,0.4120064313237392,0.47855608021136065,-1.7971448695835925,0.894758329927971,-1.2060886331209082,1.412662187619331,-1.0497853410387479,2.571404170829124,1.2197597923575088,-0.20465885832622654,-0.07310475100260318,-2.604012292659404,1.986103246476002,-0.49390193689115214,-0.3172504386439908,-0.06856600023959145,-0.09521052177151743,-0.5745554932585648,1.3126587701175387,-1.6991185450108204,-0.30109487297120086,0.44013440216619937,-1.8417500440744363,-0.6067342281991612,-1.1153801167955113,0.09678172995459881,0.18920854177806234,-0.08136953648997011,-1.7901570567806133,0.7465294282646785,-0.7643484227498005,-0.654357602994147,-0.3780276266177485,-1.3881418837030433,-0.5124734076853328,0.061442082948172085,2.068957996489924,-0.2127235364157888,-0.014094517415571474,-3.1035554246359007,0.272025468542799,-1.2300998813962443,-0.2706293893891753,-1.233443237411225,-0.29808226755647566,0.6618305859053761,-0.25334993206931833,0.17647403921791838,1.5381235941872817,-0.5133782299009183,0.41563615478135596,0.42537888549425873,0.08019982101072938,-1.7244348413368489,0.589957443865753,0.4130152135615108,1.4117362615817968,-0.6588458854949354,-0.5728878871262201,1.2004693368337618,-0.6522665904348895,-0.5928042996633035,0.03976286387577239,-0.04550883430775257,2.1966096284366854,0.8277944899370927,1.1808390781835911,-0.4982316590631264,-0.47165951108026044,-0.28453217311110257,-0.07739933562988519,-2.3190103460614564,-1.4495418248867322,-1.0243039367231301,-0.06613623209355957,-1.2271915423297488,1.7413271925315352,-0.6551379816134765,0.0640165048313117,0.07236657724558788,1.2074182573912238,2.459429709452779,-0.1067548727719602,0.6487020724334127,0.9762518575919165,-0.04694568352608231,1.763613571746457,-1.6462911187682325,0.45217109427634405,-0.8164593195615377,-2.2727636729550684,-1.6988462273866693,-0.5024031726927264,0.2334681778490667,0.5813860661412381,-1.0658537330017266,0.6283708190615789,1.791890380071805,1.3102497533746225,1.69573720205557,0.6405947113345479,-0.11832503725874638,0.07207803126756088,-0.7097888023638451,-0.07352976991458812,-0.28603004409432253,0.636006445701977,-0.70290616132766,0.771825253118362,0.2709769616048288,-0.30326899117545386,-0.5209141013451126,-2.727597529156045,0.6447513829830922,0.24113620181274217,-0.5505719067505143,0.46195559482864984,-0.4395703312574169,1.1903029426290617,-0.09438146118803453,-1.1387891818743368,-0.03526145665718896,0.49285963511338304,0.8315183672034385,0.09016339165607289,1.6449482748940518,-1.1627343744891332,-0.12836788972479768,-1.564430952875669,0.08267260620764137,-1.1555925622621226,0.6338807868418326,0.9169585423228978,-2.1884962366962086,-1.4862950867337725,-1.6907359642230544,-1.1654604996140436,-0.8944196129823955,-0.9744617568225892,0.35178620117222836,-0.5859466594044457,1.0874372618628931,0.5669132505327618,0.28589535764611795,0.6369760140532048,-0.6762132692083169,0.19846975010153298,-0.011172715836310451,0.7491822020123776,0.07024309105358403,1.3608950534745672,1.163585493432063,-0.7733596014502467,0.7587018701163206,0.25390766802960224,0.37118268311178726,-1.2220735575557897,0.8922461857280737,-0.0473455938889279,-1.6904754612446653,0.016815278570923575,-0.10028225149851991,-0.18070448030412742,1.1481560869211396,-0.13090298925947041,0.6077311933264997,1.3823934909425977,-1.9319546605808904,0.26707640214416806,-0.4348050428467593,-0.05724749791468932,0.2863315133599825,0.3649687130714582,-0.7409590320663907,-1.539049515084404,0.42601308831328155,-1.1423174500395272,0.38803568072682093,1.888816062751666,3.1363383853538065,-1.2083988330582915,-1.8561885613008384,-1.0658887309271106,0.13610631687658134,0.08007757708988905,2.6081552393248404,0.6136060774048457,-0.6043872877165138,1.260505526776727,0.37924910060817646,0.43224703467637865,-0.34533112362926455,-1.5639560309086113,-1.84780918752131,1.2010647017025753,-0.5426164159669188,1.4296043001562948,-0.050420604016135406,0.41024748620009927,1.1767305549103118,-0.5743289453138342,0.20119244073564957,1.9886638209216227,-0.8066536393193191,-0.43416414399898445,1.1613384290812603,-0.10984633316379658,-1.0212115023308925,1.588828569482082,-1.147984419334563,-0.7273975237151937,0.008670837532537196,0.6993840881784157,-0.38005924449753614,0.49671547271420874,-0.6067891603874737,-0.005141428692890854,1.1177135427420544,1,2,0,0,0,0,4,0,1,0,3,5,1,1,5,1,4,3,1,1,2,1,1,3,5,1,4,4,2,0,0,4,2,3,2,2,5,5,4,1,3,4,5,1,5,0,2,6,6,0,3,6,1,0,4,0,0,6,3,5,3,5,0,3,4,3,1,0,6,1,5,2,4,0,0,5,-0.41365196660269515,-0.7011420499651289,-0.7743553285628157,-0.7537617177853919,0.759317962161304,0.284951396290992,-0.41046788552705804,-0.8658639967087906,-0.9496763088779171,-1.2992572219573053,-0.638143527028148,-0.8444346219288473,1.9668225454341057,-1.626519267660205,0.8936944678776179,0.34812586787273,0.7256196501218029,1.081431119549226,0.703957333490161,0.8891714454506493,0.4122092373072635,-0.6099680007840258,2.67042812586428,1.358119106851453,0.6941706868423574,-1.4644709711908543,-0.11853372410266304,-0.033593751038091944,-0.38873409487075905,1.0749979269180021,-0.22114289695123643,-1.0659997247957191,1.2611142073556394,-0.8274227134797427,-1.5624234251108056,-0.10467174055271083,0.007557844328228733,1.8203247074839777,1.2057047560570076,0.9669348648157263,-1.6344627023534557,0.30012603750031003,0.19931659245894004,-0.30659108577095373,-0.07358033115623731,-0.6840400655239391,-0.38444358630302444,1.3056951499932483,-1.554357663353412,0.6492187058644073,-0.4286254762949847,-0.40409220918944033,-3.417594134914747,-0.16162252437162644,-0.014698145389956972,-0.37512928822040487,0.21254539611042164,-0.82330963696597,-1.2745667786791326,-0.33984870630873437,-0.3008630551498791,-0.17509052773213396,-0.23522510747078512,-0.5841410320805038,0.627890939104178,0.22174225827947958,-0.9952001125118932,0.3366030121215493,-0.5372858225595615,0.2740373012297468,0.382200927607927,0.10825166326815937,1.3648344987506063,-0.9552755234467938,-1.7578552329378314,1.160940245542893,0.07288936573272678,-0.8566892918696267,0.3486830041526323,0.3852527994724855,-0.8553526288277664,0.9420030028811789,0.30901132388641744,-1.723314548560011,-1.7861644440805249,-2.0182858552669605,-0.6141529597782562,0.03741429052183931,-0.8321644304342959,0.5424397660368624,2.017894239553252,-1.7210770803828006,-1.3723226848700965,-0.4496236067585556,-0.47728241420210316,0.06226366453192018,0.8632475154251418,2.1821378362450643,-0.5943058196599195,1.0173586097463303,-0.6991593591563252,-0.37427578793914595,0.1672521056891764,0.03612641037994764,0.3384534695995907,0.66799612342466,-0.8914394498733345,0.2283679789713844,0.1935591625318182,0.035713793282569774,0.31303722422078456,-0.9321444222430015,-0.14096372768325824,0.1336517389428398,1.3736227310442208,-1.479040620764066,1.372651488736179,-1.0298357096614172,-1.4539703198447713,-0.09837586559677276,1.9429285486133674,-1.3541052533331228,1.625400668655655,-0.0780315019136755,-0.4209629225848296,1.4967315668824057,0.6590605456304448,0.35163765120393903,1.5093655036556237,0.34440137241814395,-0.8161717169131717,0.8404983879541211,0.2848951584285723,-0.5096319078389702,-0.9802498730676771,-0.4652857883083111,0.7057945220801163,-0.3338115192911564,-0.9839700727159769,-0.295651553990939,-0.9023179489536335,1.4548270440717939,-0.5918233174365882,0.26700839885654937,-0.6475625037779723,1.5507487743339765,0.39391092649460285,0.39994688106408144,-2.898086965073443,-0.12462938813157277,-0.34633316006414167,0.325"
     ]
    },
    {
     "name": "stdout",
     "output_type": "stream",
     "text": [
      "4966812025427,0.6000530448095351,1.5437314576375205,-1.4240045208766536,1.3296168747670751,0.0714777491065335,-0.9062134293948753,-1.1925835340044035,-1.3497567090742761,-1.3544407877234161,2.4462846089034653,1.1690754511883636,0.015955024798750255,-1.0770404306005168,0.427580383379151,0.24513986748272734,-0.46927485795669227,0.14844654648530786,0.7981515512147924,1.372374832697078,0.526677036303333,1.8360822959042489,-0.3549755951510316,-1.2318656948310438,-0.7693995036410889,-0.29957688653147174,1.6148158511318267,-2.0397822761135744,0.03322813717861,-0.13837034648914423,2.580586231620253,-1.593278675389231,1.1338828661281275,-0.04196690634393919,-0.8054769780803215,1.1519477788848627,0.0005996956075760829,-0.09132859018319929,1.0342881769566872,0.26066775818476035,1.4306750323120296,-2.104289299352707,0.3362331865819455,-1.26276114753213,1.973486292859145,2.0210794033822554,-2.592712536692984,-1.8254373365859171,0.1443571009435154,4,2,0,1,0,0,1,2,4,5,4,4,0,3,0,0,3,5,0,5,4,3,4,3,5,4,2,5,3,3,5,5,0,4,3,2,3,3,5,5,1,3,5,2,3,3,2,5,3,0,3,3,2,3,0,1,2,2,1,5,0,2,4,4,2,1,5,4,0,5,5,3,5,2,0,4,4,5,5,5,3,5,4,1,4,5,1,1,3,1,4,1,3,5,3,4,0,0,4,0,0,0,4,1,2,4,5,2,5,2,2,0,4,1,5,4,1,1,1,4,4,4,5,1,7,1,3,5,7,6,4,3,5,6,5,7,1,5,1,4,6,4,1,6,3,6,1,1,5,0,0,2,1,0,7,1,1,1,4,6,2,4,2,2,7,1,2,0,3\n"
     ]
    },
    {
     "name": "stdout",
     "output_type": "stream",
     "text": [
      "1.1152723366553459,-0.7754336547649194,1.2875237774220527,2.5682798731049146,0.1214191576655027,1.9837783643883355,1.917596674245647,-0.9849952936761774,0.7380474038478534,0.4113123752402803,-0.4813130183942898,-1.1034587659502673,1.2475858014399202,-0.31871751668049586,-1.531745061674668,-1.9333133202855959,0.36254022060502306,1.6875980842885459,-0.7449028815040555,-1.8342361850838331,-0.3847259388220145,0.2571253391595814,-1.3381223272609806,-0.33356961464244705,-1.1907148938038659,-0.6233910600685445,0.96402247041941,1.7296631265074833,-0.6876732228587632,-0.5213055218172779,0.08123390753976681,-0.5466726146634665,1.3056037064048305,0.6495376891191956,0.7886646869561169,0.2565263793042018,0.32440327689404214,1.0294052847686872,0.5365562179278294,0.10225452224634153,-1.461511898178842,1.3493655300913203,-0.3610191148651475,0.24751621451343261,0.10391431444552107,0.9795747661961774,-1.1043298064293203,-0.4948570913658816,-0.4112130860160646,-0.07112894994744391,-0.5642070242667447,0.22663125631473893,0.6296708927291873,-0.43504109137390184,-0.14669561604856018,0.297746167063654,0.35762953021593036,0.5293910317302719,-0.00018644714697757788,0.11234036412641016,-2.147679641723475,-0.712116406856075,-0.7158702604433164,-0.8334913071817663,0.3342736035081801,1.4492828044310262,-0.8622489525539984,-0.6774574784659041,-0.23938494203920282,-0.19339126840554638,-1.5745988921321044,0.04240829659885654,0.9218930948770641,-1.3365872084456352,1.0280801971610558,-1.5848931529352013,-0.9611722525073931,-0.4416332218812303,1.32646382429847,0.8687130689441125,-0.3670214281071354,-0.2890095234197364,-1.4562429878096994,1.0779779138583496,-0.188298532238094,0.24649150886811028,1.0221982702195023,0.7350864114584331,-0.2151862484690509,1.134428043363094,0.16753788727979063,0.3209540416116383,-0.66587694098763,-0.4584274117516225,-1.5355980697335176,1.3814938934319887,-0.0555544520168074,0.652940472354005,-0.7434560028517953,-0.9977481820297038,-0.10525299388291458,-0.24563046915877831,-0.6833396068919045,0.7111607890092114,-0.14936927998687066,-1.164582952056736,0.2836944300178885,0.42611233888699707,0.4556062007117304,-0.6509113034328986,-1.0098490535902453,-1.0160399043833552,-1.2413497452463247,0.24157530200413366,-0.30849895509580944,-0.11981448447790914,-0.30437179787146046,-0.3732140600610886,0.502765563930458,0.1468544547649074,1.8793196738927662,0.8250542811576664,0.5807708931730263,-1.4761533495280177,0.23339980899255464,0.19358511735948006,-1.421068964965224,2.162584842830431,-0.16345488542692743,-1.0345217936412996,0.5460370364541846,-0.6192986109650492,-1.0584345854478578,-0.8050336272930034,0.8188758581149574,0.5352505853394876,-0.9768358888082893,-0.012976084714348616,0.4882057302898023,1.4175321327855004,-0.39167047776435826,1.387139813797834,-1.3030696443634693,-1.2478491953881858,-0.16978594432422292,-0.6368048334996128,0.19272443285701005,-1.0250683817652326,-0.6035167687238864,0.16308410607006918,-1.4369122519030757,0.4564063954081997,0.6429022383541709,-1.6008511313111808,1.4197051518984225,-0.13496629846150013,0.5703482758076,-1.327384219104788,0.14367093631296263,-1.3938022117603286,0.7680790935231632,-0.0595920008517194,1.059133642856082,0.06720128835537068,0.2133632573999249,-0.03567794029433044,0.5651762391789135,-1.112015800059777,-0.8846132236506385,-0.8720477486226687,0.14944853439683364,0.797716603394993,-0.9488846257951754,0.5931037845763886,1.4026307701532421,2.0757391727986,-1.5285949004425257,-0.8027032977848165,-1.1622662821296812,-0.7893227752296653,1.2301154328227923,-0.559560549320425,-0.37134634787533616,1.3801618160925329,-2.2427096871543157,1.0018221054686784,-0.8616781429000996,1.742672099364012,1.9328025665319153,0.4629740907794829,1.2210395933084999,-0.3832389067546875,2.411008481988173,-0.5379944254214655,0.8150195880202951,0.5372395708721273,1.1759166435311326,0.07481319279811235,-0.8548724009478271,-0.6252100865028882,0.14197092245866066,1.9530033044416928,-0.41207661638754395,0.8813700117160197,-0.5843485687179286,0.29169743566496525,0.7982383142028532,-1.0365075920585407,1.2635775009799382,0.3138411162806539,0.9217561919829123,1.9717021145691989,-0.7061189716613682,0.17154431022590177,-0.9445594885608809,-0.19330945735293245,-0.3460055239497937,2.2679464410354586,1.5723073466075814,-0.7019484263100865,-0.1106560286661336,-0.3446941911319564,5,4,5,5,1,0,0,1,5,1,2,4,1,5,2,4,0,0,6,5,6,3,5,2,5,0,1,2,4,4,6,3,2,0,1,7,-1.3119261465710346,0.046387714633180206,0.9592475142377419,1.279520140927495,0.7675785909276641,-1.0595731229241139,-1.225184321447145,-0.09423233868558273,0.6265543631542976,0.8767559305674152,0.4795974019880395,0.32301402488865144,-0.4123114319019075,-0.32341998814316547,1.347116052526733,1.3702309084773474,-1.0250422825218202,-0.5491185021033477,-1.1596147344485157,0.7347960607254759,1.3784877481858409,-1.087882924683814,-0.48468869572594575,1.253019358825893,0.6536225829951032,0.17891586478683164,-0.2881499899098373,-0.29782793807527885,0.4419856938054045,0.5759349094065817,-0.04844140912487442,-1.0917712614607664,-1.113731654038368,-0.943177072094717,-0.3141901081181486,1.0926384875194937,-1.225766395178571,0.3209872970081411,-0.22480394642426185,0.12129164636744896,-1.2572268995256006,-0.9950072503023413,-0.4357188540082435,0.09075496055135228,0.5060966975135129,1.6749304427746607,1.4458212922589184,0.024249542403947163,1.5183127142679507,0.7035564852940585,1.209032565500504,0.8326094073160553,0.9148535748877996,1.626194448869857,-0.022176727776693602,-1.247944102645704,-0.40167094841169154,-1.2944353304584733,-1.2821889257590924,0.516030848236177,-0.43619026090931906,-0.4504949395466382,2.2827904137162642,0.8292866797830227,0.09205393309222111,-0.26708103862607696,-0.06948163811358296,0.1649672019126411,1.393389040023222,-0.30574169841850835,-0.4197778652401042,0.08961924150578313,0.8907923045433979,1.6386925995722381,-1.6837358155105182,0.7959287405866494,0.4711081653905484,0.30276334804126476,0.05454757832477675,0.6352415583371116,-0.7164819629355377,-1.0899210137307571,0.3949126437006337,-0.25117300175575935,0.27328283250052465,-1.350313406472775,-0.3347986363321913,-0.04564180574588997,0.10392495718308367,0.020950610001090497,-0.27708199490289637,0.6715407658720115,1.8960582829781327,0.6071428642823705,-0.5692666433205825,-1.0011010022362206,1.3210527671209258,0.8621041309635056,-1.4820961830535453,-1.2434786953851331,-0.1480577205472997,-0.8550267937569535,-0.5704017404430962,0.9344625742359871,-1.0092832188670942,-0.5768065956056091,-0.5239505418175394,0.8776984557407747,-1.2889832081500934,-0.009780404048130159,-0.17944486847032776,0.6245790693283704,1.3011233781471665,0.41029476147068167,1.542130682347137,-2.1683826097583894,1.3595529639779917,-1.65013210609238,0.3236825325496993,1.372758426005521,0.5518915356217791,-0.22011665739551986,0.8079378046774717,-1.1087768577244408,-1.7507635077378199,1.1410747351071198,0.3545523732694033,-0.1661579222927187,-0.3137398998390994,-1.271451206203394,-0.6549964663781169,0.8800948332115109,-0.08394916357763677,-0.5394534950259968,0.5705768839252385,-0.4575082140115011,-1.343350023337989,-0.6385960049780192,-3.318944006794272,0.29330870515356255,-0.5342128329833638,-1.5717045381276422,-2.166050957435211,0.5959434457121036,1.5132864221206634,-0.5611153396173226,0.5169578978456052,-1.5585592705861762,1.5563998938930363,0.9637998487261457,0.6177078615698259,2.347672297416188,-0.21127767806217002,-0.918660370837727,-0.23294188352783352,-1.7123336722271265,-0.4332525372967065,1.2706965851545655,0.9302391701001935,1.2056821512816058,0.26794228541946147,0.2457975776117245,-0.2091807128424185,0.5219314168833361,0.30749746412092704,-0.616563309854224,-0.11688146548045888,0.2581823576848897,-0.007939667246508556,1.5286696019860588,-2.224040656222274,0.3288258475014414,-1.4970150082704254,1.0691701639929252,1.4183031253571163,0.39919066132450565,-0.12285741048314545,-0.706000285667595,1.8144281270459668,0.5770688891546448,-1.2883297329780667,-0.23565875407993855,-0.27235649325075845,1.5884533759926989,0.6952994507261279,-0.7579082359157616,0.6894602837988012,-0.9951758177168606,-0.7653392510687606,0.2111606681787333,-0.412890137161865,-0.114149109819447,0.8714090087153985,-0.8608633513662742,1.210595792888528,-0.760878017501556,-0.5966684582517198,1.0519578019565392,1.2637194675353043,-2.831723309584019,-0.7792490599251433,-0.010733290331993448,0.7883675703821842,-0.07472790933025185,-1.1914460356226872,-0.35522198173314995,0.07436536942013378,0.03106380935568037,-1.0933311700406734,1.3055924860124095,-1.3057737926416293,0.7596867241102012,-0.5700061771023125,-1.7368650997445543,-2.510855315391439,0.3856978035610711,0.37951605069107835,-0.2387923012333488,-0.40221714196403274,2.119223485268939,-1.7854330337420825,1.8151226045568611,-1.2402096362834982,-0.22160892116332861,-0.17682940054847593,-0.5172435548992635,-0.7993478821601068,1.4670183572869455,-1.1641109035362436,-1.1099724110449674,0.5127140447187731,-1.2266184035553058,1.7762484782995123,1.1770804249159716,-0.18266913657048953,-0.10105805007067499,0.0723889819786073,-0.8899241950835,-0.4017003986258584,1.7028536285962237,-0.7879677199513144,0.47037106648768495,0.718287101308309,1.0781487992834171,0.4794809192701984,-1.1213306231142417,-0.19481991386435665,-0.3001262303254933,0.45755123798959746,-0.3199859397615506,0.03095995907407632,-0.9602552264433866,-1.3131383266864078,1.169378239943767,2.1694192529052256,-1.5860719049216572,1.7113424305314102,0.7363207353935769,-1.9262612608172152,-0.7252708962878073,1.4032225224123174,1.28323334210837,-0.21919284959086158,1.6877592623417061,0.4542983509618216,-1.089495685475768,0.10027008699806134,1.262039874705619,-0.885447998605272,1.3173392176757888,0.2513094621519312,-0.5341316964064706,0.7875647355365721,0.2272719654442608,-1.608199725841262,0.8349805016463379,-0.35343438975106634,1.25519413355544,0.8006095713092954,-0.1481383856135206,0.25743419256377825,-0.4304695321015615,2.505097408272576,-1.0101188482758507,-0.4435237854092897,-0.6411368191975146,0.5001712450660003,-0.9315641268033107,1.151495922996049,-0.26162205444539466,0.8370530331477927,0.9227982576701442,0.9510684615085626,0.12945741364549374,1.003906373605457,0.540158807089137,-0.40324333718319744,0.2557444299813069,-0.6309201958072549,-2.6932235870326715,1.010564236195878,0.25951008155430816,-1.1821285477615404,-0.6139969450768432,0.5110996817834104,1.0967824106083606,-0.028112743724081006,-0.4013839554682329,-0.02707647477195194,1.3643582683303945,0.15897106321591084,-1.4347919610601578,-0.02620893132024664,-0.9897971732277743,-1.0639678312146814,-0.36289396766916804,1.5659480299515147,-0.6350337000887337,-0.5373709129154779,-0.4210889536339732,-1.6874666998443781,-1.840394962308115,1.7231439326906444,0.27866367672893505,-1.300520241134252,0.38265686161525597,-0.9020565744590204,0.4393276618115559,1.2393835094545953,1.154840153055176,1.6207440505605977,0.542169350171872,0.5957435789976836,1.2417808333744271,0.04046685470135576,2.368317788841213,-0.9718209167116721,0.7063626063201988,0.48357239827347887,-1.3435814628403737,-1.0905575381936268,-0.7072128222643275,1.0747945021959533,-1.1951909691604072,-0.3846131104180561,0.2006748853476869,-0.10131351504879586,-0.8727548169073636,1.6193222070097153,-1.594413076797843,1.3929756401679916,-0.8792582393494125,-0.0974708215561447,1.1567769229514797,0.1993613206111038,-1.7816521234111424,1.8693836845650507,-1.1542422853668999,0.04107974886691918,-1.1159696317776298,0.945471631257771,-1.337246231589797,-0.7555500621235316,-0.8076310332804015,0.6800953490168617,-0.5471211196275774,-1.2171467847249138,0.002818005294227369,0.8886516371760809,0.6034272371933981,0.9526616777066498,-0.4162523729358798,1.4289515425213357,0.7271479958470034,-0.5814486653774013,-1.1825371345032414,-1.153928938818992,-0.035707545549388264,0.26115220869463035,1.0740533764116384,-0.9259269740511008,-0.019744246096971833,0.3105146561390185,-1.062998046666452,1.8630805679128235,1.2699044323799336,0.191459922417436,0.6925901071415634,0.09335481919639937,1.352778234377939,0.3673886665667694,0.494273469565381,-1.1242628971387953,0.19225166559942325,-1.7660628820257436,-0.8252388262228361,0.12601676831229913,0.1551780696246286,0.7291628776071915,-1.5398031981612272,2.908119296012648,-0.07486021871497021,-0.4852171742922503,0.34643981611512237,-1.0910226920239945,-0.15807797057622733,0.004574715639656595,0.24030195745692437,0.2216047391328374,0.3016556474535281,-0.21981986568025985,1.0315088401539094,-0.31714202266020836,-0.2947933360470493,-0.6658183377654543,1.4310592737684351,-0.8787054247766838,-0.19871265547629602,-1.265604623227152,-1.2636809159571165,-0.37555193744628756,0.4241233766404414,-0.11330875029369639,-1.868973143306809,-1.7847890966531201,-0.8281189719964804,-1.0382906528467497,-0.3334883770616896,0.4288581071820554,0.09105714891601015,0.14521349547509774,-1.0670338913379147,0.1695774666165956,-1.5454348398380147,1.569803815426671,0.9785504631084746,-0.2824058062830424,-0.9772145207864068,0.976355602281061,-1.0720029033656093,0.4268774472546235,-0.3028120097983498,0.8199097130638922,1.8209271565500262,1.3826174486656393,0.5131905820075655,-0.952230941003124,0.7971870781483157,0.5325383957579883,-1.5618747253802656,0.4901489831611482,-0.37757750598622075,1.1361447562747695,0.5470996257818241,1.818337170837674,-1.1851720361080942,-0.5260140139979619,-0.41065330232321673,-0.8053977404518987,0.454180640514866,-0.41154579794802376,0.06852079418839589,1.1814017930064813,-0.9912186394715025,0.4451007404308541,1.2347635356839126,0.7357394780225724,0.19877939463314145,0.33001943266218453,-0.5067657775703428,-1.083721242512502,-0.2760427976385614,-0.6209123938726935,-0.087681155190365,0.11139635003824679,1.0544152410999312,0.8568234690817838,0.4627497278559522,0.4315147846986549,-0.3456547365010416,0.3243551410014795,-0.820159414630933,-0.9555156312860044,1.2903934371706407,-0.5819421151360373,1.3722847919582943,1.3208498785340264,-1.1846075878629918,0.34614873525007156,0.2303321572481026,0.8094678095441736,-0.7036149498630005,0.24540742917518274,0.31671533938177304,-0.32409082657654437,0.09966162428221327,1.0343808852223133,-0.9743431023094015,-0.04064732917680245,-1.019390692490701,-0.5230588494657807,0.7583744772325642,-0.3130705555401,1.0874937771876316,0.33328684574379813,0.5101925406048836,-0.3294828903888809,0.5694602229795036,0.7114616938237599,-0.24354948074308547,-0.5856031359891972,-0.4488986029827504,-0.914293434768597,0.3488814087728757,-0.33833073533911484,-0.12159306011339131,0.16239260206980416,-0.5264062045044652,0.466142076304448,0.5625640404924801,1.2023540151427041,0.1608059522699453,0.921733415101293,0.2225915773344333,1.618469593588549,-1.044800684867346,-0.30378259897491866,-2.243642576262729,-0.8992422015173828,0.06719766198449778,-0.045049679800588494,1.693644622776887,0.5111839000823721,1.89455065441245,-0.2525534045731855,0.6789094617286165,-0.9316916626040307,0.7660140043199932,1.044372596357937,1.1796460535793893,0.21783710622846175,0.40452236054858215,5,1,4,2,5,4,3,3,3,2,5,3,2,4,5,3,0,1,4,4,4,5,5,1,2,1,4,4,0,3,5,1,4,5,5,0,0,3,0,2,4,3,4,0,0,1,1,0,0,3,4,6,5,4,5,1,0,5,5,0,5,1,6,6,6,4,3,6,4,1,3,6,6,4,6,0,-1.054237191283016,1.266521443597025,0.05524212084782156,0.9167641622124145,0.01741615220971899,-1.0550048762148598,-0.7121876287131121,0.02636016938088955,0.4544820018518787,-0.23066170945978196,0.8725787318803254,-0.2354625959663792,-0.8103341378931421,-0.4092885733539737,-0.5204351659880635,-1.3190142142672359,0.9395754279832056,1.7837373516481978,-1.1089800608086213,0.5912334267398075,-1.0359531168120812,-1.927936905798601,0.8551871899032526,-0.7910548212840911,1.2808086798925498,0.09849465346474646,-0.8170492922600269,0.20617816534609576,0.8674841264305104,0.7519957110091504,-1.1701120893336907,-0.8397805715505471,0.732308587036411,-1.4123660701800533,-0.3432889563154069,-0.002987220974538675,0.6491575395057402,-1.6605170258766142,-0.2088760667189569,-1.220787943949072,-0.9647359315636903,-1.0581309568964357,-0.14848115425558975,-1.0414459273980337,0.2129797924519448,-0.692108105612847,0.4928258559771681,1.0118131708212457,0.07768032601898259,0.9944384075021903,-0.9095240106125699,-0.5052116146561699,-2.4620036134308396,1.5727077029727048,0.24136195027470675,0.29859996386449517,1.3678024791106498,-1.7911918293496394,-2.912158846167533,0.22997790499059778,0.5089605228215228,-0.42909970501728023,0.5570903207855079,0.15537574274535934,0.6159686740418382,-0.4503764674224395,-0.5004821473786688,0.2608894829314534,-0.8864106583484588,0.11791612885077064,0.23672168714089928,-0.3401351194152824,0.511259648545523,-0.586276265658246,0.3503776077457946,-0.7264118380606668,0.0014643175361561405,-0.9789407238694128,1.204732604947502,-0.5512932317802824,0.7942503569269497,1.7696277309709993,-1.277344693917962,0.57005341748461,-0.699660086069593,-1.1047477455823822,-0.28696278597389646,-0.37191355516983193,-0.14854739110599643,0.3395998227990906,-0.06850284246623183,1.2020042023026247,0.4203659093994336,-1.6992324686679814,0.5368982962024463,1.5165107858885576,0.31139005870766767,0.6277451974217304,-0.024262221914561823,-0.8816037904627129,-0.934354538612527,-0.5236234584994651,-0.9490682427053045,-0.6483275510367423,-1.8474121659653158,-1.1978090836268567,-0.8283376608637667,0.480689783702199,-0.3949455566938746,0.32971249971859823,-0.07552829077156706,0.04187285525207717,-0.5094243881869354,1.8434723771714987,-0.8687186044217635,0.051050941966175725,0.5511831491777714,0.003704639011248931,-0.8570896847599754,-1.5774521534305035,0.5596532680989249,2.5432462988065625,1.0815747955375155,-0.04163863561993159,0.01045812466323852,-0.5105247161940063,-0.22362609622792265,-0.609759840075256,-0.20063685221980845,-0.22621713175451305,-1.2109166964953264,0.5353632251567455,-0.6380585098067012,-0.5207978152154991,0.8599185409593731,-1.7734077235756087,1.344123227312413,2.392469233133196,0.28051481939309864,0.42256965611588254,0.5649660689684851,1.2102607382889068,0.18736413995304974,1.3882199963980455,-0.5340228108502146,0.04945502625756016,-0.7585313398664365,0.006199411815873321,-0.3552534276897123,-0.37196797840829826,-0.6041081631584"
     ]
    },
    {
     "name": "stdout",
     "output_type": "stream",
     "text": [
      "487,0.2512527146610017,-0.9892692775122813,0.3246944057479055,-1.3848606248353679,1.2101885576636937,-0.4218658150094527,-0.9594635060966654,-1.3567004127353617,-0.785424204506569,0.11469285323372096,-1.8230424686057576,0.5102821652519398,-0.2892274955992433,1.14704167708709,0.3633530953301694,-1.5122521259993993,-0.45887873213609753,0.9341028292030501,0.1843043885834495,-0.3765140978795048,-1.2384257773667,0.4689248606745388,-1.0103370425742297,-0.4578019260818487,1.6083999006752558,-0.5554232614472152,0.3705034275521093,0.5698423338135522,-0.8940585365153377,-0.902552525660057,0.7438366898071429,0.7294581408808243,-0.5465143478879975,0.9115304578140913,-1.1707353955603197,-0.3895682902319118,-0.5693460718427207,-0.27699469351319556,0.640390215717516,0.028893924646003957,-1.8502073483756465,-0.7137873204565528,-0.19867145609421705,0.14519191771677858,0.32625393329226193,-0.8655767308732913,1.1325541779118993,0.32387598822052727,1.8762937828264112,3,4,3,3,5,2,1,3,2,4,4,0,5,1,2,2,5,3,1,4,4,1,5,5,4,2,5,4,2,4,5,1,2,3,4,3,0,5,5,4,3,0,3,4,1,0,0,3,3,0,3,1,3,1,2,2,4,2,5,4,0,0,5,1,2,0,0,1,3,3,1,0,2,1,5,5,4,3,0,5,0,0,2,4,3,5,4,2,3,4,3,1,0,0,4,0,3,4,5,4,0,5,0,0,5,3,3,2,1,4,1,2,1,0,3,4,5,1,5,5,1,3,4,3,5,4,0,4,3,2,7,5,1,7,2,3,4,3,1,5,0,0,6,5,4,5,0,2,6,5,0,7,3,5,4,5,4,1,2,6,0,0,3,2,4,3,1,7,5\n"
     ]
    },
    {
     "name": "stdout",
     "output_type": "stream",
     "text": [
      "0.10939035584819552,-0.22776557923279758,0.21657562187349091,1.1285813274573526,-0.8002666972802293,-0.2900914475583039,-0.6863003315185595,-0.548469108784883,1.0640279788090212,-1.0715415357823663,1.309932091258068,-0.07378980314127086,0.20458439837370043,1.4195402450245993,-0.21324373018358916,-0.041051273613554935,-0.1989140934363455,0.012075127466712203,0.5143923038397267,-0.48830256509158887,0.31147973444116805,-1.0018454524830838,0.3872303412800964,1.719734935384523,-0.07477870627724174,-1.4187528628057688,-0.2654038519779231,-2.614465462491965,0.20271219492815234,0.9678745823024116,-0.8659340916679974,0.5770891016150919,-0.018530627231146835,-1.8742762366799919,-0.5190058573341396,0.9099797518681062,-0.5432550287526803,1.1903015576490463,1.6144599090275225,0.26713838624596165,1.4675996623015712,1.5015166335090597,0.8915027991045774,1.2528956803835658,-1.3823977361831865,1.1077859234625218,2.239947068295083,1.1460575092396406,2.8761569238597557,-0.4880003557927623,-0.9070370973501626,1.2269788141961568,0.8346601500938678,0.3373899770746359,0.9565438433672223,-0.4480623883506436,0.71718880080698,-0.5647429667911958,1.095907431912426,1.9781796896104695,0.011940170164180456,-0.8331676517468989,0.457235978158252,1.1756458124674958,-0.6647616412261416,0.6555740731450516,0.44218335056073843,1.5720695065410082,0.5254782791369836,1.6927415162772204,-0.0800231352149927,-0.15826881074482996,-0.9186684542809477,0.08419180863601382,0.5000116665982395,0.693189911470325,0.12148219783633822,1.200555021168643,0.20222126280740216,-0.3887446722249564,2.061630896166569,-0.44544722983806806,-3.0130093929660653,-0.5693214585103715,0.4079922683251108,0.49706858576244334,0.49288914130367184,0.7469400274646619,-0.08064260429481812,-0.32556022620199054,0.4160412446059147,0.4875848981935065,-0.8065571537754048,-0.5247160110634534,-0.4393300019703838,-0.7149050271809189,-0.20688698018116722,-0.1352696141413331,-0.524141634579058,-0.17003195404985033,-0.24168947083139067,-0.7348738444238502,1.3665167096064368,-1.5777697623004308,1.6025302548067444,-0.2451002339987984,0.7508405945451176,-1.728591031090436,-0.2896354464757505,0.04871795683859524,-0.3870341430798121,-1.8452289481847173,-0.3045226476808816,0.5659569260806496,0.4224886041026221,0.286185611015046,-0.03622870023212926,-1.0094136416364126,-1.5994278036665412,-1.3391433450700365,-2.5980667111293108,0.22333095709469925,-0.038134437504997024,0.10357252755539686,0.2592227348611728,1.0743798317727418,-0.8287152461855657,0.6601453652452529,1.0284368674140816,1.6313330245267978,-1.4912944697727164,0.19383662797794335,0.6926624724602322,-0.028986539074849375,1.272172434987043,0.9491020391556316,1.1718410409300608,0.33961852639008505,0.059626874225789744,1.1475725721618217,0.5524142786811947,-0.49750705095314635,-0.17298413434651141,-1.9698591297313706,-0.11419906251751223,-0.21254943319690822,-1.3845601477374418,1.118800459895317,-0.4477346021442596,0.6572640501939097,1.147297068177607,1.1344040490512763,-0.4613596613132412,-0.4742687924696538,-1.1866940106071848,-0.43998868393561996,-0.49284268296256883,1.014253157056155,0.4120776223810433,1.6336329032680093,0.3698196421901141,0.346345270230705,0.1324268521698158,-0.4985608592669605,0.7968410207555245,0.5924931174481615,-0.05829501248483397,1.8603046011082411,2.010154181146089,1.5777166685410229,-1.2940297711772129,-0.6739986456179827,0.06519608518730438,0.3976292053714718,0.009810448655299593,0.07896898458449762,-1.2732891401408186,1.4923191853088469,2.6875129347543214,-0.1762243268536508,-0.12135961255192208,2.3170376920538103,-2.2965611442944103,-1.7068066057528632,-0.7230287836671986,0.5715772628588678,-0.15517177861647263,1.3662952410157774,-1.3862340917826945,-1.273625220435332,1.0876609875956231,-0.1965398831906868,-0.05406268548432841,-0.2434503814246964,1.3022689035761135,-0.6274937819316159,1.3004812966581172,0.4468529213067652,-1.0742582500187048,-0.3009638643998898,0.3278046769338613,0.4065512624113855,-0.5411618718587238,-1.4344454164688936,1.5358192510451316,1.200049704993068,2.270559845274096,-0.801496868013615,-1.3622934290283097,0.8806069452296404,0.8952746466491793,0.7056829272585458,-0.6793713981443552,1.1294183806498987,1.5581955851768872,0.32238808386721324,0.36647358046087614,-0.5506709810444339,1.2435693479790588,0.41957725588993805,0.20238326527944894,1.8607632596018877,2,4,0,4,5,0,5,3,4,2,0,4,3,3,3,6,6,2,1,0,0,2,0,1,3,7,5,1,0,3,0,2,6,7,5,0,0.6433354500739134,1.1971742530224954,1.7796413372609319,0.1955920253851815,1.2521381453857356,-3.2054124882497974,0.14794793944370246,0.44373631204163666,-0.3419975225222606,-1.8764016989008088,0.8980198671331348,-0.15018259999788858,0.5389433319490248,-2.123025623599219,1.023355873376985,-0.6898811466371529,0.1277237967749427,1.9104619097661146,1.13771054966584,-0.7281222534243191,1.1508139932523753,0.9449933512323028,0.12004844245160205,-0.37058187204748,0.887737311952043,0.8146675435906723,2.25900732481961,-0.49930336409287013,-0.5190488250006555,1.5396424274419829,-1.1554075341824825,0.6905242539169067,0.0070348475709134765,0.4090680634326454,-0.5174100691528667,-0.1727716132347113,-0.2551646127300964,0.3495122823730032,-0.17463242508424914,0.881136206002882,-1.1548129221897019,-1.0300514420416886,-0.7546979292749297,0.48195638419562115,2.275046508930021,1.4418343293828708,0.4459688434298007,-1.0525630486496356,-0.24205219538469022,-0.1351635269678753,-1.5941916279889314,-0.972347007406538,-1.5477070514269917,-0.0962565837832138,0.09427323166032901,0.487286325073636,0.4763391855627578,0.957680309068862,0.5872668971620064,-0.555998665028269,-1.889472835461157,0.8746769340914923,0.5094254736106625,0.07118584546911502,0.5631708271493713,0.14164337397516913,1.8896187773162747,-0.8150815194760453,1.2651512466552255,0.4575105191015807,-0.2917129292780753,0.4156944672903215,-0.07140646489590942,0.5205697710672578,2.4035432033306607,-0.19772211259215663,1.5609795549478838,-0.13697899298272073,0.0004928167303326151,0.6368057896202786,0.8019116569060228,-1.3797181746022738,0.816088074538997,1.0156840278732755,-0.9152103900556796,-0.3026314770332702,0.2901789514706077,0.002745526548094345,-0.20013995394874562,-0.06540859368581252,-1.2286579652024736,-0.31898738341913097,1.6134248831238256,0.10155714483487664,0.8165384885903665,-0.8089389428041919,-1.1023710985660677,1.5074296272808545,0.7205925302432753,1.218443439830799,-0.5896823549302681,0.5493150693463387,1.4932618047345945,1.5480304576431767,-0.8884587048808015,0.1591782850129321,-0.7345143673360821,0.5534091956637164,0.6412168489176805,-0.001188061291583613,-1.934276012100591,-0.9674422327483702,-1.7468178390242375,-0.2553023112961813,-0.22554434181624058,-1.251756838881295,1.2210909231864164,0.08066587781331801,1.358563824558654,1.2989398131269514,0.5543793470517278,0.1506704608082588,0.22249914565307738,-0.09419101696317593,-1.0968625902055895,0.1419656692627505,0.7079426428731506,0.8942592472459195,-1.9582049665576295,-2.5069458788130046,-0.9487607293924507,-0.15338942872978342,0.7481784944717036,1.2103867399423784,0.3635207530827125,1.7085256267609334,0.6182616322547041,0.25363356630775963,-0.05779544482213648,-0.636182210568182,0.2729862573728519,0.28579560962542494,-1.4030808965350157,-0.5427599808486845,0.14804340600085708,-0.6210766743683456,1.117393133380065,-1.4803997690568413,0.16633287848294043,0.015370056402439457,-0.4442038498123139,-0.5792769161594526,0.6667734634642638,-0.7226599676011337,1.629579013226027,-1.7918528072379662,0.24048572167462862,-0.9312619188365923,-0.20350790078878353,1.2143559358578728,-0.6402240245274107,-0.6627882098135072,0.827030139228905,-2.1965066732445937,-0.04951513587227788,2.1505267883990946,2.1904527004287644,0.15201092196624771,-1.7149678328465239,-1.658774897965216,-0.3785566607519587,0.195155541850338,-0.17515721162010714,-1.4299476006143783,0.7360671983780572,0.8802373282918248,-0.1327338172466035,0.5402493274296162,-0.43146079587433567,0.07283490743336427,-1.3475897049719459,0.7944100521380345,0.08260249539185847,-2.567416738757142,1.062452976511805,0.33028584617260087,0.6904559235283714,-0.2270475766399639,0.6171036041523298,0.8872272184266785,-0.6039185149915592,0.16299421979666343,-0.6708054940229873,0.9150955161798924,-0.7354188138514487,-2.4434008897314694,-0.010631130166293225,-0.3096902117995116,0.7045035306207188,1.0064577149429572,0.9365045800191678,-0.4379489440813753,0.3765714708428999,0.9874768573439647,-1.1060785627330025,1.2181246665354843,-0.6175165229219661,1.4861048837330175,-0.15980526942078066,0.38948750721500314,0.8856805812867927,-0.0981961945748957,0.8699700777298703,1.9118765831737752,0.028820681860331817,-1.0215387036023849,1.8638632293639226,0.6623113999226615,-0.5588602827569765,0.3863564385022313,0.4381273866645149,-1.5630493892456025,1.6334403174795573,-0.19051012421035063,-0.5610375118397684,-0.24182997822346275,-1.0223651719530404,0.8768371671951648,1.4024263762252325,-0.7420205390378101,0.3773966633064178,0.6020724711684226,-0.8306226179852636,-2.176418087387304,1.7358048810322635,-1.2724935697253397,-1.6298875392166488,-0.5346137357304167,0.17879324506074382,-0.7399226994106581,2.2112170069067645,-0.9128794481880359,-0.9328079514521597,-1.173362106886302,1.4753837478547778,0.5271190816536809,-0.5859478234150393,0.2399484547843426,-0.13633290089401648,0.2848927758628399,1.4052836219643092,-1.277786561833542,-1.0965812706382876,1.013595554310992,0.31573509318385173,0.1278196269948221,0.13759901812165518,-1.3945577265274196,0.13712802941473018,-0.2260696866061853,-2.4938723748599485,-1.4993864909854782,-0.7600196244377169,0.22612861090423833,-0.2534301822426301,0.4461543763900967,0.6686811951021264,-0.7902543478345206,-0.8043733097721268,0.6816262608160836,-0.712701026764912,0.37624492256316866,1.0302896719832533,0.9136680271220646,0.6798106430718388,-1.9583500632267208,1.1634718249853715,1.3160514112730952,0.11729961403178576,-0.6887259688195002,-0.025569952026485578,0.11698900376525193,-1.1751705290290435,-0.4925166374620258,-0.18638252758317972,3.451169122348725,0.518638538985614,0.4479365543471635,1.353059349127005,0.48145074829750095,0.8018411394206579,-0.6778642066737237,-0.7769578448503383,2.0869940181177844,-0.4997902154201407,0.09389868420675739,0.41381261023827526,-0.20645524733606682,-0.2955194572440987,0.15441143055382572,-0.1376050075823992,-0.23321976497178645,-1.7708893677348416,-0.013304543105438249,1.7047809374259464,0.5598180665240253,0.9660014591169657,2.5024012326585234,-1.7384166008984925,-0.38866908766062624,-1.2361690269971268,-1.1307273462711886,0.8457907495013172,-0.40475443223866714,0.21854960319859554,2.406193179188491,0.4240469312376252,-0.25293994097277017,1.133566324420732,0.36795455189568044,0.47884014324541135,1.1157555873632956,-0.06906371539532773,-0.8231214102135558,-0.7165359244521752,0.5445158170519556,0.1237761501442583,0.11800916249861998,-0.34008310743530495,-1.9744194359576401,-1.9981483160453297,1.2080180739715407,-0.3544591685937883,-0.963736879078567,0.840675054997765,-1.6950777440322495,-1.3712053963088067,-0.3362939944788647,1.2475445929563245,-0.476297927115142,1.1807425484912433,-0.5556889579196921,0.09265937053650204,-0.8979660834996119,1.253901727106987,0.21887207649721366,-0.05750034177610478,0.6911343400939111,-1.7356970827676874,-0.07654051495009004,-0.10773424918929302,0.0993166973276277,1.3335994250647039,0.08829736467895109,-1.0543528399977777,-0.054977247731873194,-1.7131513488718493,0.4099660384958821,-0.3606726325274604,0.015937199622286916,0.08353847730169235,-0.72866689062931,1.127777184760728,-2.3554603467268764,0.23511160187372532,-1.8272111161591738,-0.3981830372091047,-0.7079539959232694,-0.5840692866319355,-1.3081036415457548,0.5430475855921499,0.6572123587890063,0.22326674149403905,0.6297175395368573,-1.0503645701957232,-0.9954315489200847,-1.6556072807280406,0.02356187544738163,-0.5603493515555151,0.3463324324073162,-0.563141684807989,-0.475580811996361,1.5855853891201213,-0.5500380607753584,-0.5412814337913008,0.08257257487188015,-0.8452801108318205,0.05925554982555091,-0.44013478146985674,-0.4571094743688301,1.4056828888213257,0.7369344864088243,-1.215829815897467,-0.714718698452925,0.6148903915763803,-0.615927070223203,-0.8203391025029265,0.017200741118222476,-1.0136355432369455,0.07457154170619641,-0.3530564286521997,0.36454364573383913,-0.6079849683973215,-1.1069107766921242,0.9496808744684527,-1.8368938165299245,-0.3778395581818408,-0.4164592309115076,0.07662203546309496,-0.6454911796625806,1.6103560072043628,-1.198304379079258,0.5642923248440826,-0.2149788473779898,0.30742197490249173,0.42289405385067924,-1.9292660210412198,0.5762296562438441,0.028008085734250635,0.25817955098183865,-0.891438906118623,0.86996925752919,-0.3651523221788938,0.600018759747196,1.1582683448530537,1.1714080292058584,0.5819530346467799,-0.4067650846729317,0.0017081575561929806,1.038715211276546,0.013422345393820099,0.2528297109823142,-0.09864650304220897,-0.5647217569239377,1.712701712606883,1.6884796596370182,-0.07810126284364928,-0.19712454023487774,-0.6993381050194699,-2.8859005249841876,-1.628875262857451,-0.1742118511182432,-0.3758164301128415,-1.5050480883238706,-0.3112465396235413,0.7666916113506252,2.326278745336954,0.6332227365482824,1.331121812700025,1.8772708550625192,-0.9700557807954924,-0.40199395417659023,0.5140733390632214,-0.7350534206348662,0.5984319841755589,0.07198800500737675,-0.7741728205944729,0.315619795128784,1.8980102229030162,0.7417309205232541,-0.8520658806916435,-0.11007700193930436,0.5615698189236443,0.40613922137300734,-1.6974028194714728,-2.0233986700881474,0.18803095405537762,-0.4783710531241993,0.3931492023243054,1.0702677244427894,1.0829145149406953,0.1276257026438959,-0.6259994230552628,0.6362237086758621,0.32819138234310513,0.31765877323804664,1.7869897951581837,-0.46319499132880526,1.6722912209843936,-0.5724517769669738,1.4345424523178172,-0.6329430231633512,0.874204068686589,1.102311741004663,-0.1660494600545838,0.4963464495103572,0.6051197747963428,-0.0517560249583406,-0.4463983721159161,1.2844673329155574,-0.224619306688457,0.0672091482186137,1.6620519572288985,-0.30764788173237273,0.41118498993014907,-0.06491892282718521,-0.27047329633209255,0.4934518861175591,0.8125490037083878,-0.19881122775269722,-0.4237423562489536,2.1330724613429384,-0.5568162109297474,-1.0201229220933545,0.19863835977765745,-0.9587314820270457,1.0226742502909187,-0.8645480774758525,0.9465224800275375,-0.3931652536637297,-0.9615893381399299,1.2691338440737956,-0.2106188947787983,-1.0013629240739104,0.27425984406241555,-1.5573505863704864,0.9023375385971776,1.3788452332835412,-0.7665094338878851,-0.0731928188835399,-1.0173641516810286,1.908562344179851,-1.2147116007434822,-2.0772520584326304,-0.528173264548493,0.6229886314412907,0.2625134584030778,2.1598501561262045,2.5564786249121005,2.868939487922419,-0.10515172164715855,-0.7277253157520714,-1.0601365452427018,-0.5300535827876381,-0.7141318299213473,0.34561759306163325,-1.680903278916187,-0.5524678869977878,0.27550586218279105,-0.11651009334846445,-0.4945680104417457,0.8752634319105501,0,4,3,1,0,2,2,2,2,5,3,1,3,3,3,2,2,4,0,4,4,3,0,1,5,2,2,4,1,5,1,2,5,5,5,1,3,2,5,5,4,2,1,5,6,3,4,5,1,1,2,6,5,1,6,4,3,3,5,0,4,1,6,0,6,1,4,1,0,0,3,1,3,2,4,2,-1.4280726236833157,0.3233875451619759,-1.3155034433873396,-0.5556970443756211,1.6807957358038828,-0.3324330276875724,0.22168376787467828,0.9027826558598482,0.825626324945134,1.5859619630894717,0.002598925706998983,0.06409435844619639,-0.6430328077793513,-0.6491691568231993,0.13419799353605358,0.9776269802531226,-0.64526141591741,-0.0483996131295719,-1.107173228282427,-1.2606100449688382,0.2855814275733515,-0.34951908090024064,-0.11570883261611403,1.0814091827897174,-1.6060822108367274,-0.5551362293636394,-1.1094311661602412,-0.11924384627259779,1.7930084170383644,-0.20384045007690788,0.2437920877859542,0.1004256448331826,-0.9937197181622609,0.3409806951364514,1.7766880987032514,1.6040754276578146,-2.2672413955700894,0.6730473096586775,-0.08487075056423986,-0.12895564292634806,-0.598726989424266,-0.9311544136695367,1.2287999867292916,0.11489121085454712,0.28295036398884593,0.009753635909348026,-0.6913929899362157,-1.2822765632166944,2.066625663694621,-0.9153140229328899,-0.12832959669605723,1.1322924162611037,0.9235168833337031,-1.7259158323533663,-0.7525881871975914,0.2962118914277353,-0.12354767546632828,0.6215382105169004,0.46733006286298745,2.912795256386282,-1.5062221515740442,-0.07961492249029502,1.7496306813483542,-0.538446677868996,-2.5014112675526676,1.388798670583591,-2.0810752211763734,-0.005539637542019247,-0.09213067243297408,1.5263359745106466,-0.4087612915581224,-1.989700441201229,1.5035129607760442,-0.2019295613824212,-0.423906241443676,-0.1656738462979687,0.5668286995999826,1.4834755243568176,-0.5422269887700606,-1.3975769200815178,1.1419035497872732,0.25920947284878976,0.004449744506330434,0.18546499247088044,0.9183492262010466,-1.154702811699961,-1.621073069778586,1.199889977115405,1.5559565309576169,-1.0097915349427546,0.09077644878234818,-1.2699982499901723,-0.5514566844833149,-0.25380364638089487,-1.0390633175066846,-0.9744445520078505,-1.3259424588749928,-0.949971920163293,-0.0022822380608797173,-1.6594532594824878,0.5129275138172505,1.8565395530082782,0.4952032837451677,0.795352137632685,-1.3570036879658338,0.35937390329506413,0.9301772763138849,0.5728457262975457,-1.0075920325249375,-0.4857886401978272,-1.9498913122117822,0.08817652634736567,0.3177243285775811,0.5181862456965857,-0.0932385885828858,1.1739965953465648,0.277256298734233,-1.034053159563382,-0.32178809854749113,-0.07736324187462783,-0.4613514390133737,-0.13461485745633295,-0.5393185163746371,0.5939660378075035,-0.37809806730510315,-0.30402348641197363,0.47309298796767385,0.3759068554542801,-0.6786482352736909,0.8793275627105794,0.05261914465243703,0.5006702122297867,0.4338574715618945,2.4738034289361877,-1.490409089250905,0.41516195435466463,0.4794578988403861,2.2182907882106306,-0.5571520104217279,0.7916223325744618,0.9675236516090463,-1.8716654527227463,-1.4030238143994573,0.4323647313247436,-0.06610569874455022,0.49203665395093216,-1.6671798943494271,-0.17297506674521654,-0.61972851464"
     ]
    },
    {
     "name": "stdout",
     "output_type": "stream",
     "text": [
      "81003,-0.3589636552121777,-0.5132469424817178,0.00250787669156099,-1.9955978925608209,0.8861909022768625,-0.4597085466052493,0.3568221216881358,-0.13667389930814708,1.5677568360561704,0.39158592273898934,0.6637590261498608,0.8942899730571794,0.29731184232477775,1.9450541468747178,0.2487420958158958,-1.3151896975228297,0.07024725114679022,-0.6831844698899149,-0.47950058544490876,-1.3069354110599074,-0.6234379739154287,-0.2957884459289945,1.1957602380560477,0.3230015001081068,0.371876245253804,-0.9215486886401391,2.0413333310176736,0.9152393920977651,-0.9546545945658792,0.22287872484076257,1.824998257625513,0.20758369400824445,-0.9426870110351089,0.16594335303926552,-0.20280666755517887,-0.3418292773757385,-0.7208497642807167,0.2979835492889884,0.4903954073385411,0.41507888648938157,2.3578881009716604,0.1505299241273346,-1.5232215219152778,1.3341477780227746,-1.3305221296064427,-0.3168754644405797,-0.49169950798741224,-2.429947598399559,0.5940787265238361,0.5441966140334671,-0.4958685484322352,4,1,5,4,0,2,4,3,4,0,0,2,0,2,4,2,3,4,1,5,0,1,1,0,1,2,5,2,2,1,2,4,3,0,0,3,4,1,1,0,4,0,2,1,1,2,4,2,5,3,4,2,3,5,2,3,5,5,2,2,2,5,2,0,3,1,3,0,5,5,1,3,0,5,1,1,3,5,3,2,1,4,3,4,0,1,3,2,2,5,3,4,4,3,1,5,3,2,0,2,1,2,4,0,4,0,4,5,0,0,5,4,1,1,0,0,1,0,4,3,1,3,3,2,0,5,4,7,6,4,6,1,0,7,0,4,6,0,2,3,3,7,6,2,7,0,5,2,4,1,3,1,1,3,5,7,3,7,2,1,2,1,5,5,6,6,0,5,3\n"
     ]
    },
    {
     "name": "stdout",
     "output_type": "stream",
     "text": [
      "0.2513030721328036,-0.8971360235524161,1.3425571069443212,0.04120609688580214,2.4012961767961065,-0.2675979798197589,0.3853180252629201,0.9523881289432068,-0.2460265605250266,-1.114906393008664,0.2969715272896003,-1.4335650545002288,0.3355837511736269,1.8891335264038627,0.9218163015680396,-0.03175528517153626,-0.4867817601603236,-0.24332814470434044,0.2287281575282062,1.0942834714223943,-0.2590606681183142,-0.48224833081285085,-1.4044136837870147,-0.2067620523077861,-0.4412955551499244,-0.5552855299284719,2.2174619423440323,1.5430039438616925,1.4357043577628446,-0.917619686789595,1.7537169099647822,-2.319725523945968,-0.3609717091844763,-1.9538713550846885,0.3660456823780897,-0.1910432129073277,1.0447764584658408,-1.105918700580346,-0.7493093270613949,-1.2270207108215,-0.6370324348480493,0.2820219429949022,-0.7294106025019633,-0.6226240895648477,0.09949823236965227,-0.41590144583962785,-0.5474296926340594,-0.9330418199695744,0.9667817576240033,0.7031729683793964,-0.09533305774239015,0.8089848966337232,-0.2791994672871538,-0.08126363546168032,0.6020194552068194,0.4052616553274214,0.03452452091142722,-1.500929505428197,-0.49708134343200544,1.6962035257473367,1.0356615915985246,0.48397566014237275,0.6559109586926599,1.76079617699378,1.430083252056758,1.0275449918479127,-0.8288935053345953,-1.0095150764613976,0.7575088526426071,0.3748540906671741,-0.49455328069097515,-0.9186274503378674,0.5785260876706361,0.5343498316480696,-0.1256996917576095,-0.03578917595184529,1.6114963504113817,-1.4059521758836817,0.9710130303993582,-0.4441131345252727,1.0142194401893505,-0.542308845992395,1.0285534241492764,-0.4141668916591441,0.6462406844396864,0.7399963262401825,-0.0625224688214019,0.05460797105379281,-1.0637255276549096,0.7214563418427025,-0.7377634167696381,0.23265862591540967,-0.04758896452913062,-0.85042688968183,-1.2546704632614796,0.08776810418061254,-2.133152133517373,-0.1926822161349882,-0.32249765647982664,0.1526429366711208,0.793690066095159,-0.28205982314818123,-0.09288546092047799,-0.4991023237787735,0.27306991154365107,-0.1478160138114994,1.3129957521959368,-0.320442919113875,-0.6154752951371486,-0.0491307650223207,2.665641397071671,-0.6856428141613725,0.005873689692824873,-0.2934656300425619,-0.923412949278462,-0.2781414974629134,-0.5634613609364163,-0.19573422634948193,-0.6309811683112448,0.03211059812582314,-0.800672807962654,2.285387574927432,0.7000733340607341,0.8441785019333663,-0.6361059454044757,-0.44979954972634023,-1.5776262597850934,-3.2494603194251077,0.7859450950679645,0.16263722484525983,-0.005174211980930388,2.6969232820999354,-1.4987284361971176,0.7456819858377188,-1.2042400533135236,1.2020616203225125,0.19906561265720416,1.141283537678697,-0.4148579440522824,1.6027607505025494,0.3820145705992993,2.1340382430309646,1.1810979790421634,-1.3261146498794016,-0.45344377683157977,-0.2322984694929937,0.04872973765460157,-1.4818748328139102,-1.8112466276414363,0.7444312708268861,0.28682428751889033,-0.04571469071272658,-0.7507970767589088,-0.5955681998668609,-0.603682094859314,0.7953158294915844,-0.5343591214822729,-2.2622559347287314,-0.59710451323755,0.36749499322829304,-0.6829615896674869,0.455426079662131,-0.2577743478589924,1.2073109336466599,-1.390078407669863,0.802592141181124,1.4978476846326967,-0.5058656631320112,1.2816070011670815,0.9489981952681824,0.3417513492536664,0.967223109096892,0.4867533565520721,0.13775380696468967,-0.6898563170691019,-0.4818293807978539,-0.3711417264854188,0.7238621365077191,-0.42169401202534273,0.5759254762908814,1.1279966557922807,-0.03490399676945885,0.6584250764268457,-0.07641324480517667,-0.7627629642599195,-0.612909377007684,0.09435794419477547,1.1464662909319117,-0.6366297131157239,0.5928573815985426,0.2350981531747822,0.29133023667628866,0.29457989558369163,1.4931020773577064,0.3896045739004808,0.3525087919331184,0.7243384151240392,-1.1986239114887887,0.8834342830710941,-1.0778964331414898,0.9898335014393581,-1.3681185144465102,0.276872259178452,-1.8891921617943634,-1.2263020231259805,-1.609151792966286,-0.2808155083737586,0.3801870925328954,-0.556524115945232,0.4584295814714797,-1.0312338992856163,0.721031284097624,1.415774372370954,0.6401231102560276,0.36141763101505203,0.5138617240878237,-1.555527888831412,-0.45215418506651367,1.50623327986919,-0.6261049567991278,1.0501072514843282,0.966124505674868,1,5,5,1,2,5,3,0,0,0,5,5,1,6,5,3,6,1,3,3,4,0,2,5,4,3,0,3,0,1,1,0,6,3,1,2,-0.6874225633106615,0.6563354115311538,-0.6335503970395975,0.8203089078474122,0.9766926692224931,2.1140978238679473,-0.48810879870687107,0.11337809723248865,-0.13973588756701003,0.6000627467898659,1.028028330512442,-0.14923940469384342,0.2057169564530478,-1.2382774954387863,-0.7732925013979042,1.251211634074911,0.7700926517903046,-1.2634152343300258,-0.9115604998852457,1.294270320043811,0.8759183830463138,-0.7193524413033007,-3.072212695740447,0.4736759265404315,1.7697802512498817,0.8062306613775038,-0.13116476148405834,1.8050229839221883,0.695774913744733,0.6168311419887036,-0.780585058663524,-2.282807120423271,-1.5859159264138736,1.139392152443608,-0.6698306507064503,-0.6480014341000506,-0.3992413240396988,-0.9482961537557608,-1.1762678668431628,1.4816402525751684,-0.5703390136927753,0.32831020206274847,0.2593875143870536,1.2426711837723055,0.2115118697043806,-0.9204826188907805,0.1799027627423694,1.0238489897212497,-0.5138768948368004,-0.6188427052733136,0.20119479358426048,-0.6751676588667115,0.543680838573776,-0.2715058243643873,-0.11259033071054787,-0.5938191795573331,1.3208729569250848,-0.7473686487917621,0.5476450628058706,0.5544366851610452,-0.375926380822014,1.5406929843574007,-0.9206204867870226,0.21875476679699177,0.610248240495305,0.49014095579246814,-0.36597622141408365,0.43279391580236065,-0.47033529393463397,-0.2525148155257243,2.455089543378171,0.20191227324106079,2.65369220532425,1.1170559231043575,1.1764393118005103,-0.9732031008364838,-1.1653988561229913,0.8204518964404189,-0.05781754959961374,-0.06935667846839538,0.4207341290863303,-1.4461271015491137,-1.7892358649229423,0.5436367718395027,-0.2465330156321692,2.523760946206659,1.075815647003233,-0.062330704261165326,1.864512386888789,1.268860873318497,0.30747118212113395,0.35507379961151,-0.689738836264433,-0.009532443385396687,2.73902887416471,0.42217354647800753,-0.8274564303506944,-1.4464720492774483,-1.55617683831562,-0.5225967714470998,-0.6769408369622422,-0.8786332829803627,1.5359105503232975,0.005430277816212989,0.5324213010381753,-0.5158718539638247,-0.651438787812917,-1.7336938823598234,1.074499403632112,-1.0941303455530238,0.8817563861036583,-0.2646739194193168,0.2824354864019973,-0.014760126625985555,0.2215791043045247,-0.17276452206294246,0.30733256966010464,0.41491144935565527,0.810034314809552,-0.41781000549500813,-0.41524305369017345,0.7361715914428262,1.944206295750534,-0.6270744905089116,-0.3842813603497118,0.6615975323423386,1.827113157546612,1.4321613040101149,0.226499455524974,-0.48644946761063046,1.6735655256535062,-1.8708708522768835,1.5115180565505588,0.6760678956241766,-0.5846871538522181,-0.5738953734448063,0.03570125883416578,0.32783713990259367,0.09334348068982377,-0.4506089554703019,-0.03351926826978401,0.20038246175045576,0.09519130818065509,0.18816329995453362,-0.3853824826909236,0.20029564163151797,0.24016163868468612,0.5950619970191979,1.4747004807465793,-0.9189758625461414,-2.3584496982125103,0.19154711887202103,-0.6528560755213147,0.034327056688418,0.4559629749974934,1.408144899024022,0.4706975736682132,-1.2284132015666893,1.4284913096140206,0.20957621909547702,0.9664586629208742,-1.1993446193202075,-0.6549688490071649,-1.507864661649712,-0.9022408640360224,0.41556937224438784,-0.3633168267503458,-0.09091240306346637,-0.8983924338597932,0.42144641082652046,-0.10553859723131401,-1.3700476613058223,-0.02885367875547624,1.2772090812407937,-0.9448572900895105,0.937441229965819,-0.4839688701292539,0.6465877744020301,-1.3557590908040862,-1.3085497036202902,-0.44225975577926663,1.0120984281166965,-0.9575798730149817,-1.7528895389891628,0.7193086956630816,0.7639885039553979,0.14565025100837162,1.2214177964898942,-0.502213230747683,-2.491428617436495,-0.22208405650411517,-0.649890660684095,-0.31700194825767136,-0.18140265987661022,0.2425864743837756,-0.34848198900478145,0.3279500460031245,-0.9609731514040948,1.7217086118509919,-0.7396957813011502,-1.2944718108941167,0.8250835719268608,1.592464062201082,0.723855866494049,-1.4274022175250676,0.07827341113951128,-0.17143446370282747,0.4918479127826108,-0.9813669877828987,0.5089673689014413,1.4298867406118514,0.1575232175270042,0.3240769292393282,-1.3401401830067576,0.028630510953122492,0.4582058292567811,-1.2517041774871849,0.14667175600061003,0.7097722928365702,0.010224607196017496,-1.7789980834944217,0.98140910196449,-0.4073244074146568,0.9994516210909788,-0.3236555757262397,-0.7517503324179183,-0.3601835770490767,-0.42666173836408683,-0.4135480623762508,1.5394298844898187,0.31264570938781183,-0.5383338364882517,-1.2033233759977011,1.423016414894314,-1.4679150611977216,-0.7859182257043507,-1.5490882869493197,0.8659537439684994,-0.14991101394914513,0.6607572385739965,-0.17181764635183203,-0.8109458278449891,0.39014236199999947,0.5437239665019752,0.49614163213492235,-1.1395788642245577,0.4878262153884682,0.5429140799742282,0.3596917936730417,-0.32143089923704316,-2.579919219351938,-0.4061892053326611,1.0303541737816557,-1.9168340506399508,-0.09308654940489101,0.3200038518763395,0.1511882465699271,0.4705990881445859,-0.6047202117144914,0.8728076252304268,2.5197041550937103,-1.18145583637555,0.740667921261597,-2.3254140316932035,-0.9180204321538856,-1.0470124705557666,-0.9051983726581884,0.49847954055779736,-0.2699482423993163,-0.3162019048038359,1.5430789074441007,-0.5024072997489571,0.7505814523622351,-1.7840770213441783,-0.6646010797797636,0.4860864620517007,-1.019680049720467,0.35258814602227145,-0.09109333275949805,-0.01971809262374091,0.18356703529580604,0.38171204315624824,1.569658211462922,0.06384409955823761,-1.2975056103013216,-0.38197550428319266,0.540109347914754,0.22778682656443144,0.8882336756059876,-0.019932833566558672,0.7040145558684605,0.12004421064921772,0.2903612023079648,0.35638252842416096,-0.9635286751819329,1.9628695481380662,-1.0730220277823896,-1.5295004673090435,1.8651397644408578,0.4555639212752016,-1.0456401486915656,1.4906880824546764,-0.9580165444055964,-1.1969521141438104,0.802065767071633,-1.2338197694717148,0.22374361229681214,1.2391372374035312,0.9023874112990472,1.8416383399107168,0.10635744939403832,-1.0576431977377914,-1.8597558084932195,-1.268144317419129,-0.5803946374487593,-0.3393826942427026,0.32661922076618305,-0.6354640344768283,1.1128330820126526,0.28045227940387285,0.49040210291665487,-0.9125561387733119,0.7423399816114519,0.45192043917048863,-0.4973735910429413,-1.0994431137747231,-0.6221459719893847,0.3384332967880391,-0.9757646407664012,-0.6504695163452023,-1.5196777643745851,0.7891713232321174,0.17190894165343232,-1.1968740041743833,-0.1007799053998766,0.7716505198317972,-0.10995557635086939,-0.7697699265508964,0.7374116748543779,0.8293330652969645,-0.7810433660623718,-0.10298534908409931,0.08103774031992321,-0.387535384836914,0.713433565610636,0.5757608710667634,-1.4529956255079197,0.08219090054267895,1.4748413168254717,1.110006062713484,0.8209354479073105,-0.08273665758424166,0.19838704783596955,1.3499040708251415,1.1107792508012944,-1.676329752704184,-0.5723460860593671,-0.973311860106959,0.15699229194844125,0.44457059496773343,-1.5135054828551309,-0.7929408009041246,0.22373299348230224,-0.2559606824012765,0.5295799057131905,0.27878674272709986,0.9423376520203474,-0.04481373974397807,1.0673447146214288,0.6024432337907799,-0.6254265293147867,-0.9744523561379342,-0.09613353723138963,-3.439463718658094,-1.1082064574697756,0.4567992723118312,-0.3534819218745107,0.30824932317698295,0.09622787369867039,1.1730004924881177,-0.45772578170550166,-1.4844234226482371,-0.007818506188986997,-0.9837724924585168,1.6656985358254164,0.3876222900013938,-0.960944768101193,1.0580122587353555,1.2172560737634992,0.670386570723578,-0.82233812422741,1.2077014070934884,-0.06770044367859374,0.09095041254415721,0.27299779948538555,0.2340114157883476,0.3392646491548929,0.14753061127296105,-0.43529436771428776,-0.7260610743264819,-0.057020241496815796,0.9283875444508872,0.41765843076010406,-0.9049269528858772,0.3772961245850214,-0.36906548923793014,0.2734276719555004,-0.13628398720118365,0.6096931258855087,0.24353286869939644,-0.3999330512699961,0.42766871319618044,2.0954734799326293,-0.7681368435143142,0.6044285077395889,-1.2759589094662374,-0.31337802324340414,-0.5705355005238938,-2.050160342991743,1.272167651265026,-0.18590650463301683,0.08204460299984184,-1.6058579123147558,0.48032952691708436,-0.8718167242625021,-1.9238453663898105,-0.15459267207591726,-0.8732610212058307,-0.5727063166094235,1.6314515178868876,-0.40976290698587037,-0.8269403517428334,0.13395209175093314,1.2092404900338194,-1.1252663072429678,-0.28953920862098975,-0.6962958201712369,0.7324731403036625,-0.6232043399630112,0.8540672054674971,0.9924168120549964,-0.5042712197651101,-1.6399130458666706,0.04887496407697963,-1.139840320741688,-0.3420641353314096,1.3699811978226961,1.0596368840486423,1.9674086390654075,0.10075192755641255,-0.8025842341376562,0.1716015696281213,0.480430883317502,0.09963012761286755,-0.5010062349634646,-0.05168265743470987,0.5208014599038004,-0.9289288256243673,-0.23613053072261841,0.5333432743766645,-3.2986859385466225,0.5937154356343699,-0.46281828476101183,-0.3087785932124604,-2.2970394833065177,-1.0617960879842574,-0.284046889979133,-1.6863843315350093,0.04376997064130422,-0.5917935686117088,0.6491666422473129,0.9275941088582932,0.36268877599522575,0.47995805699008476,-0.6302172579806238,-0.20397750252126556,0.9821958242451078,0.7343061284383171,1.9998035678608332,0.020765237282445018,0.4197775746265966,1.879918861387225,0.9134213840367048,-0.814935549531293,-1.1577134831585494,0.8394106139111371,0.8798330683770165,1.452535119065398,-1.0272238162058298,1.6563394448915607,0.8551905902376712,1.4180692719402297,1.2243885960996284,-0.6310628649311794,-1.1572011701933242,-0.24660832020857054,-0.5327767495198806,-1.0511308661698457,-0.38862112556997,1.573766575507794,-0.3022600713522419,-1.2943418650812568,1.6208228622200163,-0.3463730388019289,-0.0796877547937448,-0.33215770756323443,2.2596018036855106,1.3298562969633911,1.017018391023428,0.37175275760557785,1.5477480261863334,0.4516490909919403,0.9480384555513427,2.843233450495809,0.8441281840857701,-0.6670354174614702,-1.1651134713206217,1.551883826057931,-0.6482801677164611,0.2995756561258814,0.0736917285230205,0.010077888698962598,-2.0285075624662188,-1.3145000791695416,-0.656607378296501,-0.29553801587168727,0.6324304833552767,-0.37844010257351546,-0.7502280908172945,-0.07827850999733857,-0.9652778326247613,1.0321950773628021,1.2790169352983556,0.709475092681052,-0.6727301038083912,-0.2756118906897916,0.6333658696118069,-1.0398665115581127,1.625012040568891,0.5909424688516279,-0.05032124669094292,-0.003047436772290582,5,3,1,3,4,4,1,0,1,2,5,2,2,3,1,1,0,2,0,2,2,1,3,3,0,1,1,4,1,1,4,2,5,4,1,1,5,0,3,5,5,3,1,5,0,1,0,3,5,1,1,5,2,2,6,2,4,1,6,4,6,1,4,1,6,0,3,3,6,4,0,2,1,1,4,3,-0.9562779638098685,0.11361507605569585,0.5969681350111872,-0.630953418310311,0.28094540312398397,0.1366171136130747,-0.46644502610655153,-0.7806762729205073,1.4751592865301077,0.9539527701375218,-0.7326540276144695,0.34832936696816447,-0.5474589713033765,-0.11282338164266623,0.10259238088567282,-1.680892987777125,-0.26457546551407723,-0.6042105149533972,-0.7867484778009097,-1.398152022637961,2.3977607961289853,-1.2723872342337266,-0.33963416888113035,-2.1353867209259523,0.9252308028955493,-0.4314869824165551,-0.30430402188097105,-0.20497033454491123,1.7320563832338975,-0.7102316506526314,2.057445906653293,0.35873909915397506,-0.14883527362151078,-0.21030518931377323,-0.03430353016446378,-1.012407462283115,0.6396284887699194,1.0251364210084812,0.8479382788224974,-0.690074657559401,-0.8047510040910373,-0.7572676577675361,0.7918564242936861,-0.7523955243304901,-1.0325669115353333,-1.2846284488878394,-1.7275665269708969,0.07991422734488811,-1.3656624989276582,0.19709336193821927,-2.0511049952813374,-0.2508720103713735,-1.5829779034097424,-1.0042249702393506,-0.4975952704042415,1.092630432523207,0.9931062688140941,-0.1280751049454724,-0.7712881352123353,0.2592907932158659,0.16402399106016508,-0.8825662779173415,0.7144838785736181,1.9623016187276245,0.5385083141689888,-1.5393554651196497,0.21600322168896058,0.38878796028038254,1.2629844435323805,0.5264594210599695,-0.4941229918610518,-0.9667188953469924,-0.37783578569262827,-0.9643284242496726,1.2022203977821497,0.9862266495552012,0.6645816554489629,-0.018788623248045144,0.5845355304218435,-0.9277858089803109,1.4116374847003472,-2.044731984617017,-0.4819039090522573,0.8098058879621259,0.029001003597648036,-0.6848762009570709,-0.661939528417146,0.036878826615685964,0.9694655114485207,-2.6596332267044067,-1.3946602800332106,2.0841807414556457,-0.5076112631485623,0.061518007483867425,-1.350499772257886,-1.4051147351275737,0.606939078322068,-0.3738726535724053,-2.0913853981715023,0.10826350141841526,-1.2713144002129715,0.4918497785150061,0.7435882425896012,0.6913679868051968,-0.43030893964305655,0.08236613682079579,-0.32783489755860024,0.3383307537519704,2.1713055471233464,-0.13139377886356043,0.30849312111882987,0.4513268629738273,0.9310889066911645,0.6295329859485607,0.025568367906881138,1.0425532674382267,-0.715409528770242,-1.5460527513525573,-1.300277595916225,-0.8210809845560452,-1.244350429141831,2.20324188605561,0.4280345562878403,0.6843767363777844,1.4155501747701242,0.1015227446276268,0.021018371872665587,1.6884695121126485,0.1867722062788332,-1.7639602534030758,-0.0014151805179410913,0.18970958716925038,-2.044122238572753,-0.44193474567953295,-0.2549567057115587,-0.03448159767351812,0.08796007335630018,0.346342142733273,-0.8878671338451548,-1.145732431815112,0.25718565664169385,-1.4756995767764893,-0.08071534016848406,-1.2452198364333225,-0.3634610917563409,0.823201246136019,-0.41864731819336354,"
     ]
    },
    {
     "name": "stdout",
     "output_type": "stream",
     "text": [
      "0.4842718971643436,-0.12784399566909335,-0.01654136341249629,1.4568949041165848,0.5291801942295479,0.10658722851206748,-2.1092467354992355,-2.9514121561710582,0.06168967129895284,-1.468995445776442,-0.755996925155001,-0.24867698407780278,1.1913898642400529,1.2624839410127466,-0.15495989874326982,-0.13622067871284327,2.3797910594495493,-0.22811415747024813,0.4962456396896663,0.9393903816623618,-1.1508006891591174,-0.7247645660038403,-0.02365596581187503,-1.9479817993516009,1.3970324490005508,0.9220082475286862,-1.8567259856477474,0.4164282102340649,-2.241306280513641,-3.2905461019802362,1.8507886352506513,1.2682111840493628,0.08021637036520277,0.1038756152031854,-0.995412546714161,-1.3987762956144494,1.0364523613492438,0.047145156262712797,0.738837576951021,-2.0484988244267446,-0.25208771164164634,-0.9303819025843272,0.08501066480143162,-0.37366981101694563,-0.33873679429872255,-2.994426907524109,-0.07701529438210485,1.5963949148089454,-0.8451298119177486,-0.5430515162959418,-1.6664532500093963,-0.8551673175722367,2.9139798491116204,2,2,1,1,3,5,1,1,2,1,0,4,0,5,3,1,3,5,3,0,4,2,0,1,0,5,2,3,4,4,0,0,3,3,1,2,0,1,0,4,3,2,3,3,2,1,3,2,4,1,4,5,4,3,4,3,2,0,5,5,1,3,0,2,1,4,3,1,2,4,5,0,5,0,2,1,2,5,3,5,2,2,5,3,3,4,1,2,0,4,0,2,2,2,1,2,2,5,5,2,4,0,3,1,5,3,1,1,0,0,5,5,4,0,1,3,5,2,5,5,4,0,3,0,1,3,6,2,4,4,7,5,7,6,4,3,5,3,3,7,1,2,6,3,1,1,3,2,7,6,7,4,7,0,5,7,7,4,3,6,4,5,2,7,5,5,0,6,7\n"
     ]
    },
    {
     "name": "stdout",
     "output_type": "stream",
     "text": [
      "0.6664721727786445,-0.22379560329632894,1.4287463328430188,0.7499938041465757,-1.129975859743139,-0.16796418824589293,-0.6191721786445826,-0.600330987154442,0.4281207852904515,-0.43116792522243413,-0.17999369812088464,-1.187271410276541,-0.6252595152693774,-0.9906314545507963,1.7322999970874164,0.2217778466572808,-0.49123110360321876,-0.4807345878916192,0.907278200128616,0.6355380287435182,-1.2961277734194543,1.1725600659869526,-0.06652341672032282,0.977468614792403,1.6468591606297223,1.3960529685355025,1.644939591804933,-0.633025543071194,-0.7156578341509342,-1.8646638750714315,-0.15652597119618727,-0.2704363796985806,0.357715111615478,0.09042210318432967,-0.5180828795979975,0.12648241079474687,-1.9046076192669528,-0.5813314840525513,-0.23705952742800399,0.5461873780964888,0.5072393054145439,-0.18543796781442762,3.329272138296831,2.066593318798593,-1.029560159819186,0.7687184642283902,0.8594647999607586,-0.17986216529448987,1.0020294080203664,-0.604568838401709,0.8079863774409674,0.3207605312865322,0.11776345313689607,0.8377140093821056,1.6027833402980018,-0.210001595706449,-0.11307346570628483,-1.2251677045816312,-0.519445863191239,0.2621014078279278,-0.3691253647932607,-0.7109123572377198,-0.9110765571842795,0.595051530706164,-0.08486517575699055,-0.5800086737117708,-0.30137273886264654,0.36337853095977646,0.39987766997900903,-1.3694400939149636,0.5827884643082226,-0.7608726301764038,-0.6982710271128866,1.4224900289559292,1.6552427019339617,1.0000069523611264,0.9278382586484613,-1.5184687108992505,0.5421149998786913,-0.06385456183561299,-0.19906181640412896,0.35853142889978074,0.8704720868805484,-0.6622145790259164,0.8797698820073004,-1.2450735135538844,-0.4913314452237571,-0.6246864431382072,-0.3929794209804949,0.7811491920945431,-2.837040837479,1.1759024953194785,-1.3423051333632918,0.7858302867439828,0.6155357710126621,0.7578480878516501,0.8362407021089728,1.92826223565162,0.03310204088622473,0.12681149911950276,0.3501075738489639,0.9663546290927152,0.9727017131784759,-0.5716591578162996,-0.16306516834953727,0.43905634521692577,0.9779681289813545,1.2148540908485668,1.7639115844148237,-0.4680334953014054,0.4584834796738222,-2.4107812331519964,0.3782785480789886,0.2537327218902468,-1.300542290037558,0.005280574732764284,-0.3847054287494512,0.13879995383004282,-0.9971823705946046,-0.5133135049038929,-2.111905759935272,-0.9783534871331231,-0.3224214808206541,1.1477215117992439,-0.008961815853582081,1.3376301084131625,-2.1819217341642583,1.5755817388085067,1.087408062692561,-0.3176621381381248,1.1990859144517845,0.9070684703588584,0.276790948111289,-0.09140309052817358,0.21835601568054164,-0.3373975610417492,-1.278804771559367,0.09310161223017163,1.6709514813653346,1.5664776581004998,-1.0700862177538208,-0.15767586456466284,-0.7417202212126711,-0.626397347861583,1.055144584309435,-0.09375449280501372,-0.5664581138193023,1.2338174390077652,1.3191903001621905,-0.26409145968524894,-1.041528696956431,-0.26181191435638,0.042957793440186055,-0.450200015408666,-0.300300489455465,0.2186767606501611,-0.011841697913590396,-0.0627397061434451,-0.38593109999647934,-1.4522308597954814,0.03923957933252328,0.32983641113704093,-0.1020195223157898,0.671889107277249,-0.19902145794027626,-0.05031765227609207,-0.624532964541668,0.11774643741790668,-1.5914790236692515,0.837662943490499,0.7705183098118401,-0.5455127357057895,-0.053572976929326985,-1.136287259831933,-0.20156480674728477,-1.5644589474186748,-1.0235929320986603,-0.8319922495087732,1.165336486446076,0.44355504140902435,-0.47359049265948994,0.2012555010076668,-1.4388876477960717,-0.9414385715741401,-0.20010435914946595,0.6445052999478701,0.966024829778353,-0.3415372504591464,2.098882149851054,1.5071286902585268,0.6406228612842069,-0.3771706394604588,0.061500617320538666,-0.8058856840649058,-0.41564982322511557,-1.8449952431951342,-0.3507394636131992,-2.2949250601568925,0.718611451055643,1.5470171469706415,-0.25625824011254006,0.529744383768878,0.37484434025624663,0.6680878681217675,2.289569389159847,0.9873148162961994,0.10336093715825595,-0.3840329628107203,0.8159602946093105,0.21829786881820348,0.8645043196623806,-0.03444142679012347,-0.3459760939236377,-1.4433444592032791,2.002824484880139,0.4547249858732533,0.23155104662968848,-0.8557930460954783,-0.043448348292616526,0.9910511948069758,-0.979059248094323,0.7626811782948295,3,5,2,1,5,2,5,1,1,2,1,1,1,5,0,3,1,5,0,3,1,1,3,5,2,3,7,6,2,3,4,2,3,4,3,2,-0.012896159711045574,-0.8081980283703278,-2.082422353123991,1.9752072913782401,-0.7642582548533858,-0.4108868443690512,-0.028940621142821688,-0.6057176478527337,0.3644062138967195,1.6771987260322483,-0.043788279353316945,1.0179186667491007,0.8570885320057058,1.9155333952196412,-0.6622431917997628,0.7789106566082203,0.606151293134237,-0.7526344556450008,-1.052942444799846,0.5019855824245424,0.9020798710368321,0.7907031063114847,1.1967264796999222,0.6138079335147899,-1.3415378127517588,0.16023236926461018,1.8250409748462513,2.4703565652015156,-0.9940945956145092,-0.5266266910205397,0.1852777798225613,-0.4095661650483011,-0.3733453080621206,0.34519429120262296,-0.7552814017723126,-0.7907762484232645,-1.4069841607731584,-0.17620607123000964,0.6318643139985297,0.045388751256788554,0.18655838632008095,-0.3645528080230001,-1.3825574665757054,-0.569269686346375,-1.342826413115578,1.6234654034364204,-0.03777712139343306,0.31616236892221317,-0.4763325890844493,-0.02809339298022179,0.2873943126729468,-0.11604825878570386,-2.0334023693465513,0.3073604322030443,-0.2786264958695868,-0.9983335029038636,0.28848254369915693,0.6840385519736075,-1.971701110064596,1.2269545544389022,-0.4257075544513002,0.2706042532763137,-1.8160253193621745,-0.09611592901435517,-1.5666832564347148,-1.1475345424116938,-1.1844273308343718,-0.04875394532594528,-1.2489196579092527,0.2017841429403358,-2.5312287799334667,0.9007980428845058,-0.033455097236150755,-0.0859760935482081,-0.490061685940679,-1.711013758117538,-0.6018592534478514,0.9229750439590901,0.45741047675639224,-0.5816323063976003,-0.6733352891060358,-0.2666968114288064,0.5449463504383969,-2.7937229045115117,0.6617328785426361,0.470722104421934,1.8433929863450025,0.9968794586716034,-0.6246441284739847,1.025816821594082,0.020581511788106556,-0.7526968907383901,-1.447664542178112,-1.0011162890276615,0.8685638764402778,1.4040065007153892,-0.7060210603009268,-0.6031274001036074,0.14638727716027058,-0.09220004092244821,0.7555012552106455,2.3386464183716065,-0.46054003461872733,0.23518978499840848,0.40037034214542316,-0.0405119227572865,0.6934565530773189,1.1032877951214672,1.6898326763990352,-0.5088364069715093,0.5959220896412896,1.8705051653528488,-1.6482929963263293,0.22081189371937407,1.2527970205679626,-1.3441122274869295,-0.8267985198497917,0.15973629550738835,0.6711737343302441,0.7791321691707229,-1.8804449524755316,0.15124379006642677,-0.3039400687109474,0.15246651430736455,0.2557452223923204,0.02171611513134183,-0.16050121896876615,-0.025382164803460887,-0.11909801552033279,-0.4435504007074185,0.054271068156743804,1.9758148281879953,-0.7823123674232614,0.6055302175084477,-0.2493737421286527,0.5259840224132837,-0.33924382907994893,-0.6516872856331967,-0.3303381994150491,0.5689708432198404,-2.0067118309753673,-1.3207504520213103,0.014133428202068572,0.588468688985085,-0.24504361989942036,-1.5173186524731024,-0.0153656708147885,0.4724272495110448,-1.8178765426615824,-1.6429328178260336,-1.019648017948457,1.1302979587219135,0.3942517670527365,-0.509492600836584,0.13221076452153524,1.2844279989567926,0.3934615886754084,-1.3879647016167442,0.1114702289308673,-0.225430463786972,-0.7263878556078839,0.29182454814718545,-0.5127732960156682,-0.14609421645420695,-0.4870670709434089,-0.9467623399815563,1.7412818361564666,-0.7404578846001608,0.7234422859515058,0.28252123423131403,-0.5975071678704186,1.2845225537878577,0.8422269685859527,-1.6030882664795532,-0.07047800115918446,0.15511474464945701,1.0156240052223244,-0.034212522743515834,0.48701875582147086,0.5928055338065288,-2.8700954472945903,0.7592666445352696,0.6746567994425203,-0.5749256269904125,0.33829294196553383,0.25666126505154196,0.26042690964232634,0.4743407877350816,0.13345953140478292,1.5373622446469521,0.36391713054489183,0.44904585164400834,-0.16659927978164166,2.6514126694696536,-1.383136372393638,-0.42940606586189944,0.85361859621103,-1.0239953129115011,-0.10264190907990604,-2.090063969917755,0.07969027459177408,-0.8866351168689639,-0.3430032362564982,2.015518406532792,0.4134495188527115,0.7566671629518623,-0.832281441932015,-1.0798222362341199,-0.2730450737784025,0.5465353285478056,-0.43941224495231807,1.0602502394888644,-1.451338868240253,-0.04270212359371134,-0.7317375920621529,0.8706017149723045,0.5152983942422669,1.7074322201887426,0.5904321532664354,-0.23509278499657218,-0.04084776871347279,0.3597543867291985,-1.02539421917211,-0.49074980705895377,-0.3725788881972427,-0.054565787043970554,0.2019866241924762,0.4093194967251004,-0.970276122121649,0.07144687158395108,0.5991133111609226,-0.861706570953865,-1.8329698249037094,0.06200852513344456,-0.9038457668999863,0.05367321047235181,1.090875298722455,0.7182112068948329,-1.370619595677858,0.07615985608011476,1.2224388384495681,0.15364971996911492,0.7605361169567413,-0.6687769221368378,-1.2067451331483166,-1.9274533424513665,0.866038328841918,0.8838810731651584,0.9106265510218452,-0.31858202204004743,0.7972503555660465,0.4962254122561237,-0.6348143051831177,-0.710353440505521,-0.9214103908515212,0.8539062916540011,1.5190778981089412,0.19725060544605064,0.4894359176054819,0.7288737875478248,0.4759812060591598,-0.012043147114884137,-0.9500401894930933,-0.9918641155590211,0.27034497736377733,0.3882643942243581,-1.070369666616285,0.16290644066105864,-0.1826196299354275,-0.7500105035673974,-0.22156899409235076,1.1927964911140725,-0.49108601213284087,1.0842239647685736,0.5855694161851659,0.9383139394148111,0.08129392754374896,-0.8420457164159386,1.8311192811469912,1.6491062590233325,0.5014567701000971,-0.736874103141569,-0.07622238415223255,0.4483346825238517,-0.3945732311887989,-0.5913892296886903,-1.0859538200109486,0.4823738236592586,-0.40660914523190705,-0.6470194087757374,1.047463865736557,-1.3365622786749527,-0.7565930911242413,-1.7732546065258408,-1.135481085750097,-0.5932305886598592,0.4372389512956079,0.2047341479264163,-0.05012576826671671,-0.2507440063043696,1.2811881107777963,0.657071908851628,0.30970509888799697,2.4379345000084065,0.6102657978427243,-0.07231369928909585,-0.6114628364827681,-1.252417900255278,-0.898378557010995,-0.627784485128102,-2.2458245609914425,1.6786785801045188,0.9593710612521313,1.834731772560627,1.450141341696604,-0.737064256622019,-0.5620754816949456,-1.1582407489770647,-0.1543020633557308,1.2108451150342514,0.8196495301624609,1.0052073876550038,-0.02410208832919468,0.1239218569270086,0.5760903393579913,1.3024590987904352,-2.0901978171262363,0.5722038356063105,0.43667799615494035,0.8864718395367673,-0.11861565346975224,1.4929467122344935,-1.8646325344198107,2.5324093216647476,0.6806973412777206,-0.050247408087953964,-0.5649158896577908,0.9351470760841737,1.4913095034751584,1.5386305443820365,0.3613372847589251,-0.7360949500175873,0.8784195656351687,1.1307271757774766,1.3251882004779845,0.05197109104153041,-1.97325153256897,0.21728875817865098,0.43903481228146035,0.6988361648820449,-0.601963515640142,-0.22710232432746882,0.245407519732836,-0.5345021384206963,-0.30219231123281465,-0.8867345284373898,-1.3457715722289323,-1.889219221837116,-0.03634513677499292,-0.6876222237512795,-1.024652719698723,1.0807529026648768,-0.7372998249718767,-0.7069926110274339,-1.4259888153136697,0.11306695754276436,0.7030605691673306,1.7544698306297022,-0.48565850971910435,-0.8872164303285565,1.0130846149190573,-0.9609066921147051,-0.87384788890591,-0.4361095360873797,-0.6594018923380011,0.31751101314572294,0.24632194726404483,0.9961627494501234,0.15947863920365343,1.7093549503523846,1.6665090502821667,0.2722922968213481,0.3201720912738649,0.9023893778597797,0.3140025307854831,1.4944467808228659,0.4800176630665311,-0.9502484970009163,-0.12669739124568322,0.837059821795336,-1.0836498724588937,-0.12214025088394517,-0.8256623429337099,2.3317304515103086,-0.4243883367184113,0.9714948154819674,1.8925360067983423,0.07195108582285537,-1.689847531888494,0.2925039763573232,0.25018618775038143,2.1660678286815758,-0.5526031813875449,0.2752707557881659,0.03273681765263777,0.21004974284981315,-1.4904561087537136,-0.6481599300883093,0.8257341505930323,-0.33794458351091544,0.4566927665870165,0.2848473158793693,-1.523335135409529,0.7872833064971634,0.8865307677257589,1.6155739714979678,0.08807706376195111,0.9046212847444073,-0.2349919986541707,0.24410349980862056,-0.30459589806498494,-2.1898048970846564,-0.7934956935283523,2.078802984260637,0.8026472751504014,-0.5742859480348173,-0.4262112238340151,1.1700710361423223,-1.761452582775675,-1.143498907260523,0.638317675814964,0.5371685152935749,-0.5844923953938407,1.257933561212339,0.19263718169690666,-0.28861361310755446,-1.5186947399449249,0.21163466658236507,-2.0873154456001877,0.7887326384732838,-0.4745216152205879,2.0914512874050537,0.43772584466341996,-0.6064554691030003,-1.8754484200088999,0.8264043006753448,-0.9000307704108315,-1.6442360319746685,-0.7295393653769228,-0.4679865298550243,-1.365848301165631,-1.7683815851815163,-0.39816880099900115,0.03131936866966532,1.1988043240594606,0.8435727472362402,1.6155113758384223,0.4825905873619107,0.9686200421644676,0.717667421171123,0.26506568886489773,-0.6772219082691848,-1.1941847593856425,-0.40110613961140157,0.4984342368976906,-0.006108189233206346,-0.8436483198653447,-0.1906095734796119,-0.12359363387690724,0.8082407505794723,2.023333429835902,0.3154706550183526,0.6036627900700186,-0.44960204780296575,-0.06198232377194454,-1.0980333849654498,0.3593142748835901,-2.1281467146393553,-0.033566512997377104,0.3619214135082634,0.8723640535383752,-1.438019374007619,-0.58974715301695,-0.6775240738196296,-1.109397129771976,-1.5541713502548156,0.732988351502332,0.013648337896961854,0.9198250057623324,0.1740284595358455,0.10686298279975305,-0.8174689168861942,0.34534567684047157,0.16970360099340365,-0.23990107291849794,-0.4115567708460759,-1.6358174079125825,-2.0771091090122447,-0.7012727001387394,0.8150152892769806,0.19602830522076395,0.46555949362145366,-0.35028297518943285,1.752961708190149,-1.2337549962484875,-0.39657658064369,1.4580979855188645,1.0794119716615913,0.5782290448648438,0.1662986378226542,-1.3091478665749623,-0.9342273412369528,1.1793180816974036,0.9948020795759549,0.9164047502633396,0.8408687283029497,-0.5013241096202926,0.467037012668101,-0.8208485136756778,0.7614761038598714,-0.43755049471180635,0.47327717909211736,0.9118936308480968,-0.2066261981775616,-0.49140865354663144,1.5947599644074129,2.233799778589846,2.445006125306907,0.06387608172856798,0.9366030699396042,-0.9110826427224851,-2.3987935642090528,-0.36276779398764214,0.20387871018622536,0.04951375375301411,1.7043395414509035,0.8960007274672337,1.4199643145136496,1.5536221788824178,0.28598287706014347,0.7407430339046763,-0.09062912858226756,0,5,0,4,5,2,0,1,0,1,0,3,2,2,0,3,4,5,5,4,1,3,3,4,0,3,3,0,2,0,2,1,5,4,0,3,2,0,1,3,2,5,0,5,5,6,5,6,6,5,6,4,2,4,2,1,5,2,2,0,5,3,6,2,6,2,6,5,3,5,1,5,3,5,4,1,-1.0582148639927471,-0.04614895543460135,-1.2655740618791966,-0.5846742896058498,1.2309248212961599,1.5193048979543646,2.2395877419542924,-1.3860739132489357,-1.121091211934009,0.33933030278910625,0.013508642202912426,0.9758507309201516,-0.4711135587496859,-0.20062218989132866,-0.08867264935713165,-0.02427746925333151,0.5272160232927731,-0.8612900773796958,-0.7446556412089314,0.5029715737491515,0.5279523455172433,1.1575788484499745,0.7898730650418432,0.21182762919779657,0.12780692349295328,0.4943518334988681,0.2253826820568313,0.033166203085545354,1.465847513990456,0.18101075076419934,0.772154513851801,0.5198015826777584,-0.4631912308066505,-0.5286678104713857,0.4178237320246509,1.6474409981491522,0.48416034270048636,-0.08944271388991491,-0.2727950839314227,0.39081130172756146,0.3270191735735757,-0.9898755943340786,-1.0383179538199092,0.8289203663072525,0.35781119594253213,-0.5746715980621031,0.10628948370978525,0.7853085804376986,0.11361325562665177,0.8537554329523407,-0.17502008095692123,1.1330431707099824,1.2007597551469826,1.8262292460678382,0.16028958131965482,-0.4278224627484163,0.006340591166136465,-0.7660304881041665,-0.616015026641648,0.21895242735730852,-0.8718748058327691,-0.17650050610943846,-0.6302805240657247,1.0351273518648318,-1.7074803533040555,-0.12246554856639584,-0.5065975033097829,1.8934871462178202,1.4645086962205514,1.1630621121483766,0.5281182951200085,0.5752661168652267,2.1621999203482463,1.1481140837919803,0.10658890322441526,-0.5059183378528649,1.4220239537566564,1.352834571620966,-1.2560607846881364,-0.24121127932967606,0.6615408378494991,0.25326776252416544,0.4602491618686989,-0.015126704075935667,-0.42468513109863937,1.3071800284537052,0.156751429919307,0.4258684951233546,-1.629319381461067,0.35193005957003093,-0.35921119806168283,-2.0680808109592514,-0.6450549349951554,-0.362629852953879,0.2197815577761463,-0.09027249332858862,-0.2563767818393726,0.597674646735912,-2.0566783865144798,-0.6423735468951571,0.7849165152442865,0.41449217702088503,2.1360476935952963,1.680904228650201,-2.248502317246723,-2.8921796909376405,1.2101853621806047,1.8324931937385467,-2.7784401080701464,-0.9730616382546563,-2.946099859230878,-0.5657561268622281,-0.22988263258866923,0.7252105629083376,-1.1713654509301927,0.5516657173687156,1.418397693152021,1.3352531937349765,1.9430028670041304,0.5347093027574118,1.4488837475771852,0.2842716716669902,1.5771789965771728,0.0331339720164579,-0.5707161613307586,0.05939400352044795,0.20436409472834863,0.01870363248054115,2.4148667123660292,0.23852294331954646,1.3175441568324575,-0.953441450328329,0.5101224453340925,-0.953160203887161,-0.00916970954942408,1.72213296326421,0.30699795179305434,-1.2385466195687964,-0.9992229272292031,0.20986939968948198,-0.27633947944702186,0.6129133058726838,-0.10400811907636674,0.2185325034913776,-0.9021164150585296"
     ]
    },
    {
     "name": "stdout",
     "output_type": "stream",
     "text": [
      ",-0.5546305198223317,-0.24285365891144847,-1.4792982358100086,0.4655488793409365,0.1247972104128467,0.8226581653680194,-1.4230176955613174,1.2531355188550635,1.3126891968439427,0.6772183041196901,-0.9788968708968528,0.9420880104449344,1.4450633065916285,-0.4490932713107505,-1.0010354809307536,-1.5007138151592807,-1.9843184416214168,-0.018476406415192013,-0.3747870895756146,-0.5825261554490775,-0.6716316063631124,0.18624933125749002,-1.4328012865738713,-1.7780431130026138,1.1416785256224078,-1.1221883242599424,1.9781930485566244,-0.8418374391508929,-0.007666552382552899,0.7939858016840299,1.1193254204378411,0.4565830315257765,-0.08469530634697489,0.43607019368483657,-0.9272265930781003,-0.20690198138704538,1.5760733018260875,1.3470743672431673,0.32566303284049575,0.32229766564524026,-0.12646323117683625,-1.559687483134847,-0.3204917340524705,0.03733650740363422,-0.24788875414745706,2.1339383736541127,-1.3329111494667116,-1.08261546530695,-0.9983648490037886,0.9151328968432845,0.7533117638982545,-1.1318157883226823,0.5244831892013398,-1.2321394752429673,0.23071323255506493,5,0,1,5,4,3,1,2,1,4,3,3,2,3,0,2,3,4,5,1,2,2,3,5,1,5,4,1,1,1,4,0,5,5,1,5,4,2,4,0,0,5,4,5,5,0,5,5,1,2,1,5,1,4,5,0,0,5,5,4,4,1,5,4,4,3,0,3,2,3,1,0,5,2,2,3,4,4,5,4,5,2,1,3,1,1,3,4,4,3,4,0,1,0,0,1,2,5,5,2,0,2,3,0,3,5,4,2,3,2,0,3,1,1,3,1,0,0,2,1,4,0,1,2,1,7,7,4,0,4,3,3,6,4,7,1,7,4,6,3,0,3,7,6,3,5,7,2,2,2,2,0,2,0,6,4,5,6,2,4,6,7,7,3,5,1,7,7,3\n"
     ]
    },
    {
     "name": "stdout",
     "output_type": "stream",
     "text": [
      "0.42272402721349767,0.48744842366442465,-1.4262569896229056,1.0296961934072444,1.4492801640758506,1.2581210309936708,-0.4086462491707754,0.6266967085333213,0.0837421456999813,0.9182220400435169,0.12046123898060436,-0.5626922578574233,1.315917182026452,-0.6170515842733326,1.511510276277724,-0.8030645578964214,0.910575635507724,-2.0388768337500345,0.03269673924256628,1.0491372004451769,-0.060884679616198485,1.2382148046126438,-0.5373030178191459,-0.10620981183289405,-1.0858720735052518,0.11849930106016271,-0.07109851166529232,-0.12707839214265157,2.1166274578598503,-1.1216918134462788,0.25505231362868613,-0.9641384956763135,-1.277006353519789,-0.4174549911221396,0.9164783402407539,0.709133686807697,-1.1691412115211965,0.5532080420898977,-0.6240586785044547,0.48122871929534866,1.4325762856797464,1.073097004204314,1.2289180731044684,-1.5094453058457213,0.21265146340458493,0.25821731153547467,1.0188574627368139,0.1253798237332049,-1.0161683153862793,0.48868075947507894,-1.2438435354850235,-0.34001822463647646,-2.0930676384471276,-0.13531167822678547,-0.21559072150723887,0.062417887396998814,0.8662517484609057,1.4997312165102874,1.4070342654061203,-0.47409671297435907,-0.32961636190237276,-0.24738731939343422,0.25091866685375813,0.008950359934377568,-0.8974358407103388,-0.8861758454931526,0.17369828027495218,-0.4653937414949654,2.040978423370504,-0.8215960643895743,-0.18160804177004666,-1.394000642094222,1.0530838790790518,0.12499831700173668,0.17650596421736042,-1.872688589385968,0.18420336533674123,-0.22057723182363267,-0.6209093856152069,-0.7728677859070552,-0.1400628078312382,-2.274040340957487,0.2071159345681488,0.7503808214931823,-0.6653540126139897,-0.8028655947666001,-1.0021894892889962,0.7599911184412231,0.3774265103491186,-0.07411811594944122,1.5840132226177503,-0.5299334532596771,0.03197999030317251,-0.9267454450268676,0.3864201745448057,-0.7981832044822482,0.9645590401176594,-0.0873649985400168,-0.1364471983572812,1.1330718157094977,1.274068269699054,-1.3323980974483576,-0.19556968875986264,-2.0230002079428937,1.9748108426213304,-0.18448916474942398,0.22805373136268312,-0.4536048291986955,0.30262604940228105,-0.15512367191487592,0.710786812890678,0.23378372845657155,-0.2701476051475257,0.20657336582253463,0.36066760985445623,1.015482925757524,-0.5886809088393453,-1.0701825841473969,0.44669865905914735,-0.23527188100371585,-0.7224274680103508,-1.070987317785214,0.4248028182028299,-0.2739958761385836,-1.1069140959825896,0.5577660417745132,-0.41981579834258365,-1.1195039428003626,-0.3681155935914642,-1.2038684541363731,-0.8982002203104742,-1.9229185080248177,-0.6937062713020391,-0.31234526013965264,-0.23687788238589655,0.5946480100228293,0.4914589489596891,0.6756581105917709,-0.09543826619959106,-0.7154623629170137,-1.6252922574468371,0.2651128024849428,-1.9924720869813823,-0.15048355528838325,-1.4396287195371023,0.20248388423450006,-0.9411928070463154,0.9062352457172569,1.0745611932207346,0.8821813466891644,-1.3243835409150775,-0.8080340732070581,-0.47828551878924,-1.375076959559013,1.618627010668637,-2.162043112123631,0.47049622543387165,0.10346779462572338,-1.1617630135251231,0.13187845703535034,-2.660869524499906,-0.49051604639925606,-0.3298888358687237,-0.5990045185403755,1.6858557577895295,1.6839448085149045,-1.2621826275762442,-0.2748500267401037,-0.7071988766944635,0.08121080836947162,0.26882595381478236,-0.5293637609902312,-0.4289167480533399,-0.7937097365838629,-2.0196407016362623,-0.3315305372814722,1.6237082119978206,0.8906085459070482,-0.10356241927215978,0.8383562969600304,-0.7689196254677182,-1.1895319799765458,0.9429286181352765,1.7132533283291393,-0.8123596599711237,-0.4691491749623467,0.6560453510759687,1.3739007299282493,-0.9350839374128133,-0.11328164874221609,1.1219120645420384,-1.5948757566278933,-0.7541031147780407,0.09345561967246652,1.021077692181648,0.6475655342009778,-0.05336612557811923,0.20902451367311706,-0.825487448555954,0.6659531118143404,-0.7754775735528678,-1.0505432013397247,-1.2253181542433882,0.8286465777251152,-0.5787271229804174,-0.41258135498783766,-0.3659923742366056,0.15249752247696516,0.5292098830398696,-0.293093299360837,1.413281354596645,-1.288173935984465,0.3344882764438813,-1.1944071134549779,0.3673155867528364,0.08516825322961274,-0.43651408757712035,-0.32263801308696566,-0.9330426491748511,0.9504326962761399,0.34175889508603163,-0.01828623076314546,1,1,3,4,3,1,0,1,0,1,4,0,3,0,3,2,0,5,3,5,3,5,6,5,4,4,0,7,5,3,2,5,3,2,3,3,-0.7704937519055265,0.6488846293027296,-0.3935318688428992,-0.7372924851992247,-1.0526636337539927,0.783506829862285,7.005272460113987e-05,-0.5367015973293812,-0.1560035263832534,0.4042850229067575,-1.0737800108539526,1.104868198224335,1.5541918683450517,0.9367829125423889,-0.8247379194178439,0.06807491633929266,1.3819228226013187,0.9234761057014564,0.18620359991458402,1.3919105997938581,-0.24900088833658596,-0.15173975973273207,-1.0889822174883397,0.17617239886751127,-0.7364607412543426,0.6449533423154811,-0.28528432686919813,-0.7670705343118936,-0.6117041881920049,-0.5006446936139654,0.42243423722700907,0.9380196094920569,-0.27030900456723933,2.2782189197699263,0.13713177530793194,-1.2359962206504567,-0.13990998950251787,-0.8530271998525231,0.6519703024292125,1.02209057088272,0.5497601289053167,0.9855953357452778,0.5493628623868877,-1.2017589507412747,-0.6046346125301365,-0.5811645555655924,1.7690386750879727,-1.7453524386551966,-0.15816860035111233,-0.3098674707576833,-1.2211219598180396,1.6320435398319748,-0.6555074948935598,1.149530547710805,0.030913255373270623,0.36563404674516026,-0.5664786022671524,0.6722028024739926,-0.8731731214422552,-1.5043463393214256,0.5540086794923024,-0.7219774201809462,-0.2039518818209701,1.2613953195829681,-1.3404064174766994,-0.568672122467753,-0.9145077430500497,0.05315979052647014,-1.4917105692911856,1.0120904272631694,0.8652286178432513,1.1392828602611158,-0.030744953201198487,0.907260662640948,0.10010143005762975,-1.6979004948469278,-0.3719370762601657,-0.8509818563102458,-0.27718923470388135,-0.6320964473355978,-0.967703423164103,0.4277320034839812,-0.7709424052448692,-0.48303270695836964,-0.2642568736525746,0.19655704786345263,1.7385644206639113,-0.02214749418479481,0.16863926679178098,-0.6194704631316507,-1.509457886978474,-1.439607925034817,0.35844960563896505,-0.9597788010781567,0.5513744043163513,-0.09012034368688447,-0.061808078143095344,1.0520996631228177,-0.359872539473599,-0.8627424134472843,0.3726787285184672,-1.0809363589879541,0.20776083488829902,-0.8932085565722523,1.51068886813179,0.2554916730873953,-1.256106690676513,-0.7311656360349579,-0.14168955957052298,-2.1334914546902453,0.5824998434910063,-0.9601232626724223,0.09383278678068901,-0.7498512407443979,-0.5483647969702075,-2.59912198704058,-0.7581554118740219,-0.9642505887230305,-0.48646651565519405,0.7532552909417627,0.8100705809569133,-1.2149049191856804,0.5884947600756157,-0.06834942422122278,1.5737834601926939,-0.37925431777279844,0.721820668642292,-0.546440552139515,1.6398242186141643,-0.1065868752639697,-1.129683494843921,-0.9082546357110984,0.07990391963124567,0.05053248852419623,0.32355861494818877,-0.4785279642467837,0.6136241352316801,2.169728487715747,0.8247300214744595,-0.5411548754539712,0.00022569425915402026,0.46504742528980436,0.23765756239716262,-0.265152083480527,0.12454823353257184,1.1004626792673473,0.5300822859879665,0.9193974952324906,0.7780445089578952,-1.2334029860578863,1.4047135337199865,0.4070741717237908,-0.4625425422280939,0.8811143253283685,-1.075288175399264,1.613965046757381,-0.43342010926035546,-0.22510953496032798,-0.8820813878374214,1.2086375142717347,1.069179151457867,1.6712319740069483,0.5439520008415293,1.1985666648998203,-0.9806453967973913,-0.985318640156959,-1.1856983104272967,-1.4236927868320666,1.1179996291455359,-0.22671091019588754,-0.1842882190606794,0.6555104183770273,1.4175660739114924,-0.0973794011169814,-0.34751454178830693,0.13123655881566682,0.6531055284070711,0.6892786028566456,0.4713794395090388,0.5707399711045421,0.1832172968004424,-1.5842662915047323,0.6528674700707342,0.372584417678031,0.38451447844210657,0.2616911527719815,0.13552665603765937,1.5081730697126057,-1.584068563546099,-0.3754688969928427,-1.177623496791744,2.5450938999909045,0.2391552630528592,-1.321464354720474,-0.6768036817017714,0.41308896633193537,0.7407649818880371,-1.282331779925971,-0.3402215230832134,-0.9644481638031289,1.0440339524113096,-0.2060775111449857,-1.8549834196932666,-1.0743856197890476,-0.25182980656048,-0.1596047828651715,0.23561453660840573,0.10748913284083574,0.3947957807810569,0.2775343666917645,-0.21200349207902094,-0.05807511934087078,0.22517539583316637,-1.3992860168277819,0.48014052668600954,1.294234507530709,-1.2464542722810759,-1.7296666879758538,1.378230279268687,-0.24349744809784812,1.27520951979265,-0.4967965190519063,-0.43807443336398066,0.9730799950711355,0.28955776814524803,-2.0243824828663346,-0.6152297939895904,-1.9153524294756017,0.4465548203921081,-0.5268551369211311,-0.12967432799523362,-0.550526303282236,1.2705548940873432,0.10847235583665799,-0.22187904943321143,0.8112191784570655,0.14922809154274902,-0.27989032111564616,1.64864579147588,1.2492102466331607,0.41394325625819184,1.3628170674020723,-1.0444382343250116,-0.04827862682212948,0.926198906853981,-2.2573464837369337,-0.5167516024853552,-0.34950359140153353,0.7816112022465758,0.439907555133996,0.18428469775773015,0.6804481231650243,0.3957328384724409,-1.4320054990634776,-0.30561567618245566,0.08558709914485733,-0.11923124954223,-1.7071318729682663,-0.39169528501377526,0.3833804059211487,-1.4269041425864573,0.13991614620011653,0.5247203458894586,0.8933275078717543,0.5019546383439613,-0.4760124738886948,-0.3188464471181847,0.41060980482993575,0.750920695413685,-0.48086428112780316,-0.6730339509309754,-1.0324258104490662,0.31211630306346,-0.8911275836897368,0.22023488448619505,1.4099003846844482,-1.6011797494000621,1.989364417501686,-1.2223237705365637,-0.7767887892791483,2.0474686319193727,0.2476430272332009,0.21986239113080672,1.7165916727197115,-0.35849357698698814,0.12036828874737475,1.445250915182292,0.8202476804484367,0.01229091244674203,-1.6335002060058843,-1.0949753469300214,-1.4640676418116048,-1.2438837229847206,-0.6287715381866796,1.3558465478087174,-1.1678556822717838,0.8183732167766263,-0.9445408421948998,0.6360351374293849,0.6279115761409065,-1.3571438643319194,-0.9383628538203291,-0.11279726409114335,-0.567988402590188,-0.5564920636826189,1.312551283764528,2.9603009665236053,1.115151049508241,0.5064712409642207,-2.353450834192223,-0.34471293534106184,0.42125932223569373,-0.8413469364407289,-1.0342905820854622,-0.8003300315062518,0.11876391016717451,-1.001965501536684,-0.944026599099335,0.6550223502061554,-1.0373355270104783,-1.766653373969866,0.2709118846444529,-0.37580580050594337,0.36694168973816743,-2.1731892237630945,1.3786529449070877,-2.7748419796082584,-0.14830314870261369,-0.5259378911033439,0.07658074501562433,0.40211319660491546,-1.1103951222897,-0.931366981182408,-0.5062440064931011,-0.4339169353683108,0.7971432665336994,0.4459108306352991,-0.7336791861435633,-2.0493209750415544,-0.04274353272346558,-0.7756943322028472,0.20579853914631385,1.347371013937434,0.6256360853100945,-1.1351518595762435,-0.567502421570284,-0.49527542356338605,1.0524957239557342,-0.24192125017001628,1.2107246852465887,1.9589035820001506,0.07520763673992732,0.7783140569775844,1.029422822927275,-0.7917459931428671,1.3237892296985987,-0.8306111509248623,1.4555616410686782,0.10583803569797388,-0.4527018268975092,-0.02696779214506971,-0.43263874462597623,1.2901240531975446,-0.9417451649166738,-0.2194592094143286,0.7452899010392987,-1.6228171476068078,-0.9071796177456388,-1.9464256793772883,0.0935758148617474,0.40562259612833484,0.14121808991758475,0.7870868632709587,0.5221340845731461,-1.3753751416403197,-0.7138155721430519,-0.8920588003231728,0.7642573684191251,1.064343697725876,-0.7752768927131224,-0.5613253697138326,-0.5769798085603212,0.6084842847623816,1.545584175743706,-1.381842172560073,-0.6712157878922073,-0.16605377045927996,-0.7286704375579671,-0.7689372881729591,-0.5151036470598228,1.2884334228716827,-0.713068322861391,1.0438152751015919,1.326988375287462,0.8289321987957212,0.3357116977929838,-0.4609323871210047,0.4895964093647698,0.008021004664215148,-0.7928159512323777,-0.816306868795151,-0.8167603281089517,-0.04152609913158622,-1.9357332411303863,-0.23393741465681323,1.1536941138069423,-0.240882552628947,1.1345348001146973,-1.2508444123202953,0.5092133355470149,-0.6426207134106569,-0.6211939330410644,-0.9001366032017362,0.31239628477841486,-0.32607747539763493,-2.5388960674341803,0.16170819203165368,0.7409481116777078,1.2496203263560965,0.07335724565149807,0.2735806843799523,1.9372278947415087,-0.7627862172873643,0.44582776548104425,-0.2987394057052981,1.31004250491981,-0.7986641609435539,2.653164536225848,-0.7974730164682409,-0.022680665488711015,0.1580169375503787,-0.2555495938600741,0.6476558760529468,-0.9753088122733516,-0.7092643715790772,-1.2471318356478367,-1.2761683478240164,1.9416935932141903,1.2905029462992683,-0.7016372302658435,1.0273820312397182,1.3538895703872789,-0.16867753135756453,-0.5495397784722853,-0.609285081650022,0.040570939620814116,1.0538530369272616,0.09212865932940685,-1.8755107603989238,-0.09045053509205264,-1.3132574088090836,-0.04078003874772439,0.355406685193911,0.14274400845226365,-0.45993619458986673,-0.021446311291955313,1.3809222230437652,1.0464942836911044,0.3519196880680929,-0.7135437564665565,-1.3317908318403084,-0.6972606242109022,0.6445575640604284,-1.4090060154503403,0.8058092376046919,-0.42843745447362597,-0.2682578902495761,-1.846765147541518,0.0921757079129915,0.4292475813520586,1.5065472041927552,-0.8765656377422107,-0.6111489747662401,-1.243631765098987,-0.3317930474362498,0.07291742875611996,-0.2582670510742247,-0.149470397280215,2.181791898210064,-0.9444558187687572,0.540354314626334,-1.3162613068824605,1.3201848081514815,0.1273839820167616,0.7583744109456041,0.1558775284577385,-0.30785351292821855,-1.2737177786361096,-0.6454183102845117,0.3690422540491019,-0.4117398667903521,-0.42430448662148906,1.1066638055276956,-0.04653135201644545,-0.49411870295020177,0.21160953624326484,0.18254609800819963,0.43034258568713984,-0.9851257232304573,0.011490653825911409,-0.46431281266299307,0.6649091363134879,-0.22345330728554502,-0.8748099524882106,1.175824749583442,0.06517126305553983,-0.21201267300283796,1.1456009995092198,0.255444644201098,-1.0829638252455556,1.441738073081231,1.0815049471696478,-0.4954039455394779,-1.2109572433023457,0.026184424101242304,-0.9264565651570768,1.98935442407065,-0.12318580606619357,1.8351674452091096,-1.5509955088090472,-1.9014190752531153,0.6342732728690629,-0.6502347255351681,-0.6821839858243058,-0.6937009554054843,0.6241628421055649,-1.293155208545462,0.567930424886788,0.3635529489033661,1.8332143056904768,0.6997743241636276,-0.7184363727947811,0.25026197781648946,-1.2072420714318777,-1.5133795677047188,0.5683042859409034,0.767466444190232,-0.704658603342748,1.403826532210287,-0.2391114041066647,-0.7185299538654298,-1.1570172213230816,2,2,4,5,4,1,2,0,4,1,4,3,5,2,4,0,3,0,0,4,0,5,1,4,4,4,0,5,1,5,5,3,1,4,5,2,0,4,2,1,0,3,6,4,2,5,3,6,5,4,0,5,5,4,0,5,0,3,1,1,0,5,4,1,5,4,2,4,4,2,2,2,2,6,1,2,-0.1331767410167753,0.2066567597683484,0.5084395294503377,-0.8435327668580471,-0.3178337611714699,-1.8731449241746858,0.6689933442373663,1.2668745552448526,-0.43940501467252163,-0.6224208762180131,0.3093121382502341,0.019602287291530174,0.06311158541377766,1.5353905402109838,0.9876433013049664,-0.33812636159309484,1.7413981419741034,-0.4685078219906281,1.4015371736624491,0.10570964422007634,-1.0194317257496628,0.5738647138950275,-0.5621921243067367,-0.8451395429247527,0.4545582110652207,0.3702508245997452,-0.45847914260150285,0.5071189871064582,-0.32386828422986585,1.2344944162645617,0.2897675062667981,1.7448770488948966,-0.42429591287638596,0.3921932370850196,0.7640698340220282,0.1736725448880188,1.4219348530087617,-0.49287719465662827,2.374948274000597,1.8844905800751535,-1.6300520811644899,-0.6412752972600055,-1.3733937320024088,0.4048155273715643,-0.4586750818720577,0.8495432227994703,-0.9184151622220292,0.3199021842824645,0.08410500921774647,0.06969523370035946,-2.147736183069576,1.1388058817273274,-1.5420868501310827,0.8561793213149872,-0.963898257656994,0.4735803435105305,0.47384826318722356,0.43920136695016215,-0.42510888947420056,0.48878535846776605,0.06406093188528734,3.040272092292645,0.0321218241904971,-0.47844415748071,-1.364411987390877,-0.31726221753239864,-0.7727703539191403,-0.1449613532505209,0.09768654610242553,-1.3241350331027784,0.9716087870916713,0.32765683950626784,-1.771160598545183,0.677245809017624,-2.310624849399651,-0.4261459642995203,1.2133615913032325,1.0396955982852503,0.15563600002504221,0.28062273705808466,0.6454307480124372,-1.3826603328789122,0.4421700100696779,0.23525722729594206,2.5521125509710187,-0.993338859520715,-0.46500697031628524,0.08222385880103833,0.8621193669613357,0.13804870243571662,1.0639661112583685,-0.7682320455235471,0.5520740298301506,-0.2543523736316539,-0.5499667908890036,0.8499962547579031,0.248761167466163,-1.3894555104710895,-0.2921637749681934,0.9338396881800397,0.2906909153408113,-0.06797696018984509,0.06752641653898216,-0.5857000764835044,0.6818673678905317,-0.20364675400669674,-1.6428590721826735,-1.8057202912851193,-0.9730973179504956,-0.5939011738517022,0.31666325697649406,1.2880620421547415,-0.26947584085392357,-0.741706600545323,1.1598636350600784,1.354511125073705,0.19057204639619643,0.6626083237382828,-0.5745490476218806,-0.8920288686878793,0.7065446710388824,-1.9742147574137767,0.36149402003547054,-1.5815702929965454,0.20359479363583566,-0.15532519961418417,-1.0254586436547966,0.2736060513744972,1.027324503023605,-1.6503508972576535,-2.6989911986265867,0.35827526039044205,-0.3412352525231953,-1.5379228533722704,-0.05981095694162073,-1.9926371098337423,0.2397313427850748,-0.36029325091490827,0.6888737417626449,-0.3394005620452378,-2.184936245758578,-0."
     ]
    },
    {
     "name": "stdout",
     "output_type": "stream",
     "text": [
      "696112459449084,0.9997722322458805,0.8505842817668794,-0.1931605455431569,-1.5230500159737939,0.07166442023001288,0.66715157028271,0.6780174906458952,0.6246711455161339,-0.8969699982131556,1.273733037546299,-0.3484049662887689,0.5969975543787345,1.9201749841722389,1.6271163678848766,-0.3697564592098627,0.285601899372891,0.7299939166366486,0.3352791126450335,0.5732384113566483,-0.24768109638679864,1.2023209889178381,0.47172798268352256,-1.374359386190482,1.702573883750054,-0.42370482095011197,0.6878997359091903,0.4606050928876704,-0.45920385393078544,-0.25245474061979867,-0.7785979016063354,1.5795480324367308,0.382025834205147,-0.5812863052094049,-2.0806979567203165,1.0833998641778646,2.507227966109616,0.390802945223324,-0.17149271825369608,0.6927389443816198,-0.9616161398842673,-2.6396386601633766,-0.40046563603678753,-0.15235640787773044,-0.7359145780955403,-2.679776358640585,-0.2947309312443781,1.7069651400895267,-0.2761342912363011,0.8891369338974232,-0.7846817904569537,-0.7051273077053044,-1.6797195489988734,0.32201077407123424,-0.38751721763775254,-0.07229397936514691,-0.2418152169955534,1.0585768380091845,-0.21385133673734183,0,5,4,5,4,2,0,1,3,0,1,4,1,2,0,1,3,3,3,2,1,5,2,2,1,1,2,3,4,3,3,5,5,3,5,0,4,0,5,3,1,5,5,5,1,0,2,3,5,1,1,4,1,2,2,0,1,1,1,4,2,0,4,5,0,0,3,4,4,1,2,5,4,1,1,3,1,2,1,0,4,1,4,4,5,1,3,3,2,2,2,4,4,3,1,3,5,1,0,1,2,5,2,1,3,0,5,1,4,0,2,3,5,0,4,0,2,0,0,3,0,0,4,2,2,4,0,3,3,0,6,7,4,0,7,4,5,0,5,5,3,5,1,0,2,5,6,2,0,4,7,0,2,1,7,7,5,4,3,7,1,1,5,6,1,6,6,7,1\n"
     ]
    },
    {
     "name": "stdout",
     "output_type": "stream",
     "text": [
      "0.4589839941511421,0.331485539324608,-0.4523621199561284,-0.198352994646693,-1.124631169290632,-1.0992954454966706,-1.224546383510992,0.6856527812275202,-0.4310779353255878,1.5029554061317025,1.3293959303192766,-0.2582776323215228,-1.550308856553638,0.7985726064524811,-0.01670977778868813,-0.3424353713403221,-0.8288907987828482,0.6120272437322877,0.20045917173692437,0.1321089974207306,0.6885760389551532,-0.03522736417366036,1.035416458265159,-0.5065398029958744,-0.44567805374850483,-0.7713851876089387,-0.7838144860402542,2.2556717789059935,1.944441472164089,-0.23819338785589547,0.31149090898827253,2.589098270826097,-0.5520006123860793,-1.464418352914703,0.5497224843780614,0.9802286973606824,-0.9651396449782691,0.37642455658673135,-0.770980125972413,-1.799605778025458,0.5486427868178294,-1.5270970331746851,0.7311887496758592,1.0642891520314395,-1.082517771705166,-0.6215895719238251,1.3825479556101934,0.013123085909882886,-0.318273730516497,-1.035363639611254,-0.7070718409776305,-0.8335152444792435,0.19271816641676798,1.0305283381537995,0.7667980307434623,1.4010000648553238,0.20481424495856035,-1.790826935588808,-0.8803255681535147,-0.6742987218599444,0.13827561543211883,0.32809033196610443,1.187196673956253,-0.35121720542286416,-0.6119751287741062,-1.6560557505099474,-0.7036770138013975,0.5468144254584777,-1.1590913089155321,-0.4948265830574965,0.9508486068974331,0.1837460778544841,1.0752837821857202,1.5002196007601274,0.5132971674040335,-0.5663663037892255,0.884916917619959,-0.8656218380002443,0.7147028047785923,0.33849581811262663,0.27232460645356926,2.4626963866195863,0.705144307733002,0.5973175034439345,2.5547049474617727,-0.9253827114714271,-0.42613126847607985,-1.0363401587613432,-0.11457926399094463,-0.4709846368054855,-0.2597772991677542,-0.09028894531718315,0.2611895026637115,1.4312986261213834,-0.03881827394864082,1.7922988110579645,0.877353582151035,0.07082465210185808,0.32904283849901517,-1.2980522460161277,0.48379943977057555,0.8460611575321553,0.9843635005954711,0.2956597911547824,0.32102907139387277,0.8602410682931585,-0.40074091118181415,-0.3679139694750542,1.1654121104660593,1.3388701069939815,-0.6698402169832149,0.07692732758734203,-0.14405353317082673,-0.4888090023634112,0.8612143133734457,0.5835006648875457,-1.2412958274778665,0.3344415875516176,0.7085810771735526,0.4382608587517029,0.09128625846053563,-0.14267819025358636,0.28757483242638077,-0.9696475904793902,-0.3989108246633588,-0.04613072545092258,0.08716547463293499,1.2530381084387274,-2.4991459834346323,-0.6076653220874879,-2.115785043937241,-0.12012960936976982,-0.5395316208206952,1.4684745214304817,0.8323169311460865,-0.4486544345421267,0.005354125432849335,-1.2114185343808668,0.6395680283289109,1.6346546333964316,0.346251531895069,-0.25349804300072853,-0.05918207393730099,-0.8077156496037302,-1.0384561266734027,0.43955632200485134,1.6029649862603728,-0.9623101723248668,0.08046185220323118,-0.549981842189973,-0.8438956051209607,0.806988620865719,1.886784590860827,0.7766251815053118,1.1378692911404125,-0.5123047789725821,0.6431466992047142,-0.957306994773612,0.8196644521578511,1.0671377365504096,-0.2598126139470716,0.6296031188511996,0.0075961763517840486,-1.0177762056774176,0.9226618149759807,-1.024141424864439,-0.8097761081361391,0.8183628738020651,0.049958402901973585,-0.4344479580795859,1.045630436746041,0.5807294464660389,-1.026563406391431,-2.2767160204475925,-2.1185524746032462,-0.16753759018191533,-1.3264656208061618,-1.0918823393895785,1.257373863018179,1.4870112754430556,-0.12330286300218055,-0.2788201048678577,-0.27659408271418046,-0.9967780768320026,0.16575980678692642,2.5928760852171644,-0.3719094863470093,-0.5429812667940712,-0.7609917952686778,0.31062350985273535,1.7687269319753414,-0.3401022712833267,-0.015133351748567888,-0.026270596119869753,1.1881191205614792,1.2397676642458901,1.9360419410719631,-0.8257004748516422,0.7735888579571394,-1.6924312329914768,-0.011185837273975558,0.15190795435332538,0.10575203144673281,0.34655641599650305,0.11032432746701899,0.4553760710529388,-0.9184263199605821,0.01698350996228959,-0.6291602793804728,1.2767502512591329,-0.6121732863518116,0.6609261685874954,-0.9995344573407516,0.20434735233391899,-0.2815373245413882,0.2942951894086866,0.587444824598044,2.112347525028626,-0.7364800628576537,-0.3744687309797617,-0.3972538777819607,1.1439698901341928,2,5,2,0,2,1,0,4,1,0,5,3,0,4,0,1,4,2,5,2,0,0,0,4,0,5,1,4,0,3,7,3,0,6,3,6,-0.3517334637750624,-1.9465825092051792,-0.7401714153877059,-0.8114609272531992,0.06808578184410684,-0.2968707887276804,-0.38860901530486114,-0.30830794466609607,-0.8885124147459149,1.2219434824974993,-0.8153023800210024,0.31451009046754747,0.6790467564036882,0.04055570189562935,0.22315981352417666,-0.9591294588976851,0.30483154591361405,0.14680823424707304,-0.5540291974728901,-0.21469556495125403,0.6936000256834108,2.123307143597758,0.4431789254864375,0.6040335855508617,0.07781241117728206,1.650729160288272,0.41734286979418544,1.0688365125717842,-0.9146255616537088,-1.1795728977427604,-0.19026677908606482,-0.3340011786164652,1.203986514938543,0.9381514989700214,1.3328681493003474,0.44843946940516854,1.9510287358790281,-0.6906545965211751,0.7964727829117756,-1.252798246466249,0.05414966444489899,0.8112146778609971,0.7148795474919172,-0.6915247050147951,1.1395445047257398,0.7773354008804592,-1.38715640243853,1.4158632060521166,1.9005254910416691,-0.48576937975416395,-2.4784659783274816,-2.1654156289764095,0.03801573219276078,0.1772469015562453,0.2655049738964592,1.5685975569480297,0.6183305312990487,-1.2728297893363807,0.623008616417901,0.7125986050685189,0.5465903851883711,1.7952584173591783,0.34044258718220227,-0.29028710696298266,-0.17072844602849532,0.32627475001843986,-1.0490057237073347,0.7967230811284975,-1.7976361487383588,-1.1819860902278805,0.11841395275463107,2.1005585667748425,0.32892767228300357,-0.3725254411237132,-0.21396268929343093,-1.151258425057591,1.2326831991327554,-0.015782097625286564,-0.34454707459920736,-1.8748909103680476,1.2582584847147789,-0.2911358371409783,-0.6157254041977889,-1.8115537919925073,-1.1339290267081938,-1.1311201202816556,-0.6490907125061821,-0.9068567361612891,-0.2941756848472673,-0.0802153073668027,-0.239440892331262,-3.243554529668707,-1.3710075135558668,-0.5083122693329472,2.3228644250928925,0.9948001273195458,0.8791041433690706,0.7621906729167394,1.7907193986001286,-0.70208524854693,1.9079845298321012,0.015621624375488266,-1.4277474640953711,-0.3096693139116084,-0.8353163887117792,-0.5599293564199666,0.32794657254122556,0.7363854177369482,-0.8455686959868774,1.2277111607240965,0.32989938038518785,0.1713724813361389,-0.2952235122736291,0.02658677214579824,0.5290242313491229,-1.9595061664864517,0.1333798642779111,0.0438825025927276,0.11151133770285991,0.6975564860541166,-0.49826321862282474,2.187390245229821,-0.930259014733078,1.127453459167976,-0.6753889829182622,-2.2925667998684642,-1.0743754661825997,-0.28636239122936036,-1.4552457516446209,0.16333435297505966,0.45603384871131003,1.3600417931457518,0.5000205623546677,0.8151890963177925,-1.1748078354053473,-0.5463160722126745,2.8695917368113144,-0.43654779334018773,0.2554852752443018,-1.9406277044868372,1.2481544347034637,0.9982078262870803,-0.3336337006940161,-1.4433306234680816,-0.1708969243151777,-0.46014693629943526,1.9840965620691735,-1.6080420410540932,-0.6525097220354871,-0.8216163949338205,-1.5068887023816984,1.096734731778515,0.9354526095791724,0.00742220238554125,-0.558864626296999,-0.29845527294624,0.2119901288084612,-0.6026171015867532,-1.2029175176203324,0.8899966553258067,-0.761296921911059,-1.424778194737388,-0.6231062374726846,-0.5980876878289314,1.0350799045076706,0.4804589859740119,-0.41696522651827167,-0.7393214966645771,-2.500606369283817,-0.7526747306234781,1.5592111846313754,0.22833605975271726,-1.937332694410881,-0.8387774061199814,-1.4520782165278139,0.7267899176092281,-0.9795762956481923,2.523262359279779,-1.449274059869465,-0.016139644363025788,-1.487825509321012,-0.15233199402047218,-0.6568282089472239,-0.7104361872934307,0.6182717273697212,0.19834011338094837,0.36639336602373507,-0.20856671470557472,-0.39845923740221456,-1.1499386940008711,-0.8533235776425789,-2.011354810545395,0.7204406802000188,-0.5135471526913926,-0.24086300588469686,-0.24669639094958673,-0.9946644084476254,-0.5999636997030261,-0.21879702625811834,1.311299197761674,3.49200664155741,-0.24393872139844042,-0.3638922468808593,-1.842719054022892,1.0772262041004301,0.4798167606061976,0.9014344073181932,-0.7074362085874614,0.3184955446323246,-0.0018068707567994798,-0.20998677482881056,-0.9880568279897526,-0.3160180352004096,-2.0535715804488053,0.7003132010925276,-0.0312977957999732,-2.1016283278282573,-0.6761353910560209,-0.17325432148267358,0.2429719777217738,-1.6743980120375443,-2.0449523585688887,0.07027194929550575,1.1319477851251096,1.039941756725117,1.0855610352670122,-1.347558216704236,2.000864855958953,0.7420766177355596,0.2873711187672452,0.5452157843211948,0.6452625691943674,-0.7401246015813422,0.7103147938255845,1.984582490025871,0.2494049899155799,0.8169012077032456,-0.6172635363001495,-0.3025877389310002,-1.2320890053213802,1.005007673470402,0.5100326428138799,0.6456742313798828,-1.188176510287836,1.7332947090076833,0.9527245348391361,-0.43413048784117325,-0.8714559350043993,0.16620989225556723,2.023519900518773,0.2950949653076218,1.3007585341941441,-1.4397615545844609,-0.6734848381640937,-0.41957377372154,-1.2991700747152803,1.4568947408129904,0.18319758475184048,-0.8084934504684508,-0.1347561992524067,-0.19032685963164553,0.6568076650632604,0.18840487326923794,-0.2539362377936363,-2.8514590377350664,-1.5810543175918736,2.163984210660478,0.8622411670043819,0.07694551944950942,-2.329577052683188,-0.4890438052288033,-0.38138515944610124,1.3452075449200214,-0.1546854672193946,-0.3460764850707305,-0.2641940017649458,-0.3368736909319787,-0.8123182117231167,-0.09119115398681424,0.8958120713421348,-0.13615816211392512,-0.14501831870318854,-0.2748039600064925,1.2646054877856348,0.363020138542242,0.37816266581942287,-1.9681393498600015,0.133787937189963,0.025952878565462457,0.48400892834828,-0.04130170792419531,0.9459825855023872,-2.084304793331195,-0.03473373401216707,0.08610111944818673,-0.16700087085006066,2.0286874653114344,0.34514752551052746,0.7499574240940994,-0.7906788313114296,0.3107142317335741,-0.9221447842708628,-0.5576314368069143,0.8787806093617913,-1.9542812873842905,-0.38539488624789203,1.3725830036590336,-1.9833168625217308,0.3350966170417658,-0.5080253204375348,0.008214512461158195,0.5073319057428375,-0.4659759108701985,-0.6360559451205269,-0.3955629860102822,-1.1704981075447367,-0.0355179194629085,-1.1687165359303762,-1.1204821529766338,-1.0135333301292002,-1.0728715644631361,0.6895895941613657,0.1623515598623456,0.24331834947390774,-0.9581630311188416,-0.8836002773939243,0.9294227307522201,-1.4576090442236425,-0.816380094601638,-1.6923918343528586,-1.8444533927591817,-0.0323749555963181,-1.1578933373199078,-0.7207774431980466,-1.5471071423401797,-0.6838567083174538,1.5526781838915351,0.26100068045964,0.011212905379378803,1.130739224774915,-0.7629721990367201,0.4034806202805486,-0.5205988385279681,-0.5244719814686665,-2.4396804591186076,0.7148070654050458,-1.3463299551270926,-1.1238854256358781,-1.3129280290224783,-0.31686954061511247,1.9145597083513402,-0.8575007633582064,-0.3477368471342768,-1.520603534959105,0.6929960571376899,-0.9005185115315438,0.0031912969709882973,-0.4498241541824341,-1.483450902637796,0.16833660694405617,-0.6896783544413244,0.07131908915102692,0.7189360715988229,1.9001721229723967,0.9418457701040068,-0.5236831220818513,1.4725050757595581,2.368667213811239,-1.155275893339868,0.8652743984487068,-0.6921044947670136,-0.8176543619938631,0.7924539224574096,-0.13260139928084344,-0.9061051652778609,0.7786417705404386,2.407761030203476,1.0170848109745703,0.09348815707207124,0.5610948584842361,-0.7578869727557523,-1.4960840906187423,0.513867348632013,0.26369973077283865,-1.1372379881829133,-0.9156111382163131,-0.7925170653187917,-1.2159315332799863,-0.08734442545285413,1.025966295089261,-0.7204664617562557,0.8563676833703661,-0.397448106636869,1.5661544874457116,-0.1703317133038952,0.956045056126012,1.707502570398922,-0.738676032515921,-0.17895770783718226,1.8875723131197184,-0.5788926874708273,0.8669337218386179,0.1357112697398719,-0.5714681963657818,1.0666174387433869,0.0046804542689271224,-1.3737795199384715,0.47451358099040636,-0.6872149824885443,-1.9439349256662806,1.720563486441758,-0.4180207584632623,1.5371533189087319,-0.579794943617713,1.3418821285605498,-1.1531839048625259,-1.8091380083653508,0.4510334997807108,0.24678353447265908,1.6851707097241126,0.21977095867569585,-0.8703020124419755,0.9700037180376333,1.904184962552986,0.7083806893740953,0.015593275927761633,0.7098349746954546,-1.638628649538601,1.7126222459733882,0.24976086916165274,1.3026515483624486,0.34655847976608567,-1.2622004517503898,1.4045350192167643,-0.09330298305483431,0.5449981725637121,0.830208698954756,-1.1238104433105336,2.0437106278771693,-0.2103753858034234,1.2803911760919833,-0.460504704584013,-0.27375363824621374,-1.2971609386500258,-1.3538564963633906,-0.3006619876457311,0.007204283003980022,0.860421576311309,-1.0759070108934292,-0.9128557634895501,1.1769524508824964,0.7131967338560937,-0.5176701417096591,0.22520122842958562,-0.22541196724363444,0.19771183277141985,-0.8602744543894624,-1.4724508960297307,-1.2977281064202266,0.32274170428062654,1.4174170646260515,-0.40119631280333257,-0.06927284536710046,-0.3420804182365932,-0.029225509582399542,0.8810630890788634,-0.9856087233510084,0.21145931084112454,-0.34076087296034907,0.164656068626329,2.1842895561653015,2.6079817104469925,0.13147648649109428,-0.9184003062095958,-0.38015563869074276,-0.15757202340878318,-1.684163542477208,-2.733291534862554,0.008957449764356053,0.32444513504951933,0.38095686031811016,-1.514785286860182,0.04492051542060058,-0.31769179142472775,-0.13995516811439518,-0.7475971699629448,-1.1556658063092367,0.22813048520923287,-0.7841902793999573,0.6767532203277564,0.4872578561649199,0.8065311256596103,1.1086640037055808,0.09667841782548124,1.8122098185345563,-0.07152883904099312,0.580689743876336,0.39917676400143026,0.8529590753097188,-2.0359663176830454,-0.199552815856635,0.05597001493457782,-1.607185003345114,-1.2613749216883445,-1.2200944666824456,0.2870460859900089,-0.13934394512420437,-0.4312958812642377,0.5141021748171547,-0.6384621378244622,1.2037123880750227,-0.9222086056008587,-0.6164370018572634,0.45382475966737956,-0.4780574962767976,0.7570618282848367,-1.2916291573876881,0.059388415292466835,-0.2337370244463243,-0.020929295397941992,-1.011114142660399,0.7445752405463009,-0.7566305067125904,0.06615335742160555,0.35804666477995617,1.0593198150194676,1.2695970062025865,1.2687093829599727,-0.11640249469646322,0.6649794993220042,-0.697394274622005,0.1312193058988385,-0.004712782274011077,-0.3083760347479646,-0.1273982707816412,-0.22831402106388762,-0.03305480660170777,1.2044414663555347,0.7864684200232874,0.9360957734001469,0.6562493264602409,0.03496266095433331,1,4,5,3,2,1,4,2,5,5,1,4,0,2,4,2,0,2,0,5,5,1,4,2,5,1,0,1,4,3,2,2,2,2,3,2,0,4,5,4,4,3,6,5,0,4,5,6,2,6,1,3,6,4,5,2,2,4,5,1,4,2,0,1,2,2,1,2,6,6,1,5,0,5,3,6,1.0669401821460245,-0.7027735388857398,-0.4510063987626031,1.8398156744093108,-1.3659725849894975,-0.3279139789459954,-1.5507900068364127,-1.5213188245091873,0.25136174468064953,0.5335290177161728,-0.6827656968532553,-1.4111336124876195,0.5027507162164249,-2.0680752647470304,1.7978524133523857,-0.14375015506669486,-1.0980978109014792,0.93107629928525,-1.0518271712467782,1.1043713779324233,-1.0611637708054527,-0.5386017945870117,-0.8515214424594754,-0.6927430104786083,-0.43299342632578236,-0.4751801117542667,-0.9551153610648805,0.7970649976559586,0.17735555336674833,0.36628468412776577,-1.3852638691497672,0.7073819798776512,0.5387815161681795,0.11310020157058291,-0.09361928139496181,-0.7593237164389758,-0.25270239234708963,-0.6783184247047962,-1.3749416426757335,0.5812703223054109,1.9451856489422839,0.12565813154870684,-0.5484008958732295,-0.21267320326901104,0.26783702144997734,-0.5048393552165624,-0.28336099585061475,-0.406982017380575,-1.1702347165380655,-0.5232082860848983,0.7587448587750406,0.23031203180540885,-2.133010550520694,0.7493315999108743,-0.7277176875647049,-1.8473065519239948,-0.9972040760792629,-1.159500508507169,0.1454692719509343,-0.5747519651991525,-0.11383773674065557,-0.7392597582857988,0.20628548619305076,-1.134257004931516,-0.88384890316092,0.6136445822464175,-0.23756342702291286,0.5082218407098567,-0.5036454095390618,0.2524761677252787,-0.8719017301248659,-0.8708346398758451,-1.0571953968050831,-0.6388342157606237,0.11508044551715693,0.20767755039613045,-0.9075142196373814,0.42099223090072146,0.7976628723537039,-0.06552353429422442,0.35354387479246324,0.7456033725068563,0.6044173701110144,-0.7889253333191876,-1.473816238979426,-2.1348343573658344,0.610351162351763,-1.4301388593191513,0.24020671733407675,0.6854486222223611,1.1806160746361478,-0.15448838075151392,1.0022760735908154,0.4804606202869808,-0.564896389489075,-0.3819978890061593,-0.18226527652339022,0.1885947967774741,-0.745271732256386,-0.3371140876652745,-0.10258288363219292,0.4694718110490287,0.8656178379754368,1.2819104836562836,-0.5774995296563951,0.4763956436293286,-0.40306312348199624,0.05753139023671814,-0.1095421503284684,0.6210500809440578,1.3468558601846021,1.7506266385369305,0.9940659436012566,-0.8186884160972977,-0.4318291781803711,-0.3878628000708777,0.7600598185067238,0.524506663948431,0.8625370651759853,0.4075349336389862,-0.6049678950601665,-1.058642722955219,0.19334088534306004,-0.4721850725884639,-0.4655295395986941,1.6336940117796623,-0.10399777733000491,1.9348862862775729,-0.9661817813468525,-0.25725412155424277,-0.83500766131047,0.9609024226103836,0.05858388739123993,-1.8469160613192084,-0.6899135703509648,-0.15038560506787782,1.0822101952771095,-0.8885662677331362,0"
     ]
    },
    {
     "name": "stdout",
     "output_type": "stream",
     "text": [
      ".4250013712931768,0.10997105869968593,-1.0970646442479708,-0.5424627244793816,-0.5584958217820689,-0.8010845449931737,0.18216738977018038,-1.1647028516720306,2.3102694767492546,-0.16908344121049454,-0.01673090584775379,-1.088716421398882,0.9221135516925177,0.8632478026393412,0.6475721296055104,0.671304398894288,0.08985035787169193,0.7892577958030269,-0.7056431075340672,-1.0353091350874344,-0.012307961599277044,-1.8472063635439229,-0.13705781886542,0.577040854206541,0.8072287136450758,0.6510171441844453,-1.8232509111985205,-0.7842492156175289,0.061313493284340354,0.06259571828425216,0.6059482158154277,0.9664767405514959,-0.47609347857135703,0.5312271460986994,1.9613738522365631,-1.2397399400913154,0.9850208789988928,0.5449317916458588,-1.6734279836976316,1.3410773090236645,-1.0960501432263958,-1.4402901187533774,0.8075196984251268,-1.166756120617609,0.2958675943459927,-1.887422855269511,-1.0156810498372846,-0.5801980290049525,0.32153273926950954,0.1879698675550324,-0.5502097749342094,-0.05730356718755678,-0.9380642610889434,-0.7171494505662301,0.3739740722377451,-1.1035894801012758,0.5069008983312854,-0.3220923434635322,-0.4155902557719148,0.23153239577713433,-0.9416769628403888,1.3887559978268178,1,0,3,5,3,2,0,2,1,1,4,5,3,4,5,4,4,0,4,5,3,1,0,2,5,0,0,0,3,1,1,1,0,1,0,5,2,3,2,1,3,5,3,0,4,5,4,5,2,3,4,2,5,4,3,3,4,1,2,0,5,0,3,1,3,3,5,4,1,0,4,4,3,5,4,3,1,2,1,5,3,1,4,3,1,4,3,3,4,0,0,1,5,0,0,2,1,0,1,5,5,5,0,5,2,0,1,1,4,2,2,4,0,4,3,1,2,4,2,5,0,0,3,4,4,7,0,4,1,1,0,4,3,5,0,1,5,0,6,7,7,6,0,5,6,3,5,3,5,4,3,6,0,1,4,1,4,2,3,4,3,2,3,3,3,2,3,4,7\n"
     ]
    },
    {
     "name": "stdout",
     "output_type": "stream",
     "text": [
      "0.3183500941529555,-0.10111883585206033,0.12830001451237824,1.5142225486113492,-0.4443624080609215,-0.545487231212883,1.1702537863426357,0.46212728223035365,0.12557626582447143,0.4153270784006197,0.5561792109943257,-0.23975369342608985,0.41684970971174123,-1.2559198420466928,1.2493520672345968,-0.61685431460816,-0.9510751445372847,0.1287327740898198,1.0327094606169525,-1.0646188450491296,-0.5176876840953848,1.9375461809437031,0.8025583892948539,0.10903298901002396,-0.2888683536955398,-0.9152434438573976,-1.2708509032726576,0.07816974702023805,0.22954486869103416,0.5425076200685108,1.1270169633632736,0.21434937601303525,2.0120887296420933,0.308338451216606,0.2709295605363604,2.039862248267953,-1.7771616094147509,-0.09644511461171894,0.17319199300025193,-0.14467525716057295,-0.6061119284676966,-0.4136173650725822,-0.1768461247452213,-0.7691287313407152,-0.042195959847636785,0.2709177270266051,0.27741805062153263,0.4283586984639299,-1.7514367464938363,0.3567291327825771,0.8040524129157696,-1.143672286706539,-0.738150275695656,0.8276607073713153,-0.9744720325354038,-0.581259064767736,-0.024432693017102356,0.7418808884301057,0.8413916036103506,-0.031191393480635345,0.4575432657184692,-0.19400954608770712,1.8393933422410933,0.7828209190683731,1.1470664288058783,-0.12013201129563297,0.8047803295165427,-1.409074173959154,0.2039273566027901,0.6444463844427247,-0.4400623596536274,-0.5936521582594044,-0.5917730975046502,-0.3739069624846263,-0.7190505752723902,0.6410292803725424,-0.3819472071054189,0.5191144593696903,-0.847273136200064,0.05812148127867632,1.7535414234235651,-1.0988569322807302,0.5667804870555155,-0.6717288532357172,0.30585382114104065,-0.4459515767021211,1.2973909315264829,-0.29686407632704276,-0.9891342716915015,-0.4229360579740831,-1.0704154043567928,-0.16119558590575744,-0.16922853905973195,1.7462443718244374,-1.032507651105471,-0.7954267327144057,-0.18654348891846448,-0.05758323348457768,-0.425740393305426,1.7951068183960937,-2.238117588633536,0.40960578293025046,0.183946409154852,-0.036332848146549496,0.277198595479095,-0.5256015657656459,0.5646002167124334,1.1219462679951224,0.0196364365207188,-0.34656234568125527,0.03917312111602345,-1.134857526917718,-0.7412446333723158,0.1165395079033245,1.043497919702211,-0.7437028354276798,-1.2860930926418124,0.2468140503455318,0.47918475563997437,0.3469861110684548,0.28934910931342234,-0.6681293389378475,-0.47760512727235105,-1.3166508327893656,-1.0718967111467754,-0.7046861337726655,-0.9534988324905186,0.193880757047867,-0.48899574311493493,-0.6235626069839391,-1.3564758727124375,0.3595206704595583,-0.9225599000037579,0.3936301438637504,0.2503728957708167,0.5301814466749909,-1.0643882795468338,0.618941323654455,-0.310689002680669,0.7880451488284197,0.42482770482990007,-0.6784469445448472,-1.479598152256591,-0.2691533198107295,-0.4131582011643794,0.06293255642076245,-1.0448958236709935,-0.01317022882904588,0.3449688576273198,0.7270022631752967,0.343644245682411,0.6394889325831307,0.4310783410043416,-0.6480649282968852,0.6903378634093575,1.0213360876244533,-0.13731668983244646,1.0260910073270926,-0.06558033967598527,1.2849530879557969,0.5227804472321914,-0.28955990682442473,0.08181962790082539,-0.1471618118949065,-0.1601211103727344,0.6685034093587742,0.18504172189722579,-0.5495343573746831,0.768663942961866,-1.289762846882837,-0.29989603417256344,-0.08160738024106588,0.6403120017128754,1.1432492081294712,-0.9526788509269967,0.43541750571618604,0.11568227816085992,0.5841224136774219,0.1726743475967264,0.920216221610086,-1.940433807095191,0.1979333392000029,0.6271298171119429,-0.005364698729924876,0.5849056910371301,-0.31874379495365185,-0.14766859650048364,-0.9112789973338982,0.9308277002639316,-1.026612754561861,0.06398534116547853,1.7228411883684995,-0.27782845818267377,0.322456447176861,-1.408643111647829,-0.15516944516505135,0.4825859066072056,-1.1087307396811228,-0.13660034940215368,-0.4039547387784964,0.3601970983340541,0.450355304107934,-0.19779093049698343,1.4292283139617055,-0.4672507397299295,0.41213207731816587,-0.3654368905209531,1.2384156024858612,-0.3671550049954544,-2.8040096084072674,-1.220111097220974,0.08297464023841866,1.067298413681685,0.26854822886897,-0.18257229266988265,0.44966485099089454,-0.1340278479026489,-0.9895953837052539,0.22575732877109048,0.9486594236736976,-0.9753027305647951,0.41047644040249964,5,4,2,5,2,3,1,0,0,5,5,0,5,4,2,5,6,5,1,3,3,3,6,3,3,4,3,2,7,4,6,2,6,0,0,1,0.32397695400448384,1.52002025220896,0.12082284839769579,-1.281847626548701,0.9884009007018097,-0.14255003215121506,0.30375215107799824,-0.8823291659817446,-0.27834991432072964,0.0802392575953109,0.12360804555148196,-0.727435993715703,-0.038729278285346634,-0.27682089202042814,0.05254319117725965,-0.7471931790330492,-0.09459856937926729,-2.3450638369405126,0.009413648160522323,-0.6773788916688231,0.7974252242600753,0.17722740925083955,-0.6662961422267359,-0.6010656669536009,1.0830049274321514,-0.916639552291048,-0.005213248421288095,-0.674815495878054,-0.4816409510358743,1.1161043341956636,-2.0346222143784516,0.09501836989098728,-0.15394792586798628,0.05192339397159682,-1.2422628424451148,0.002093096106790207,-0.8009942096610502,-1.0382261882183004,0.9414921719200443,-0.04110906070540842,-2.0495092407171573,0.3053168808983269,0.43934076199982974,-0.36356572335444465,-0.06377151256771729,0.2440508495720547,2.1706334049848635,0.8025531818093393,-0.499954505226008,0.7553904111147045,-1.3329163746499344,0.8265477228190128,0.1417200068019995,-0.2769076783382914,-0.5230013810200591,-0.6675183948409376,0.05775678120281492,-0.7592093031246073,0.45585550285451415,1.6093046537635054,-2.224224039212745,0.6929183543122942,0.2767493759334588,-0.09946071209943227,2.8587631725861815,-0.9616047518627222,-1.4008256774626517,0.3756797033607335,-1.252592401894219,0.9081907868799172,-1.7820950209708692,0.08215084361695588,-0.20807311485124638,-1.4443421198919375,0.4611440812356443,-0.07534371223133239,1.5817115421169905,0.2521023159905267,1.4733089551936898,0.30328455026535905,-0.2441261840882642,-0.8499615909390602,-0.38248053681600946,-0.06401643630480912,-1.0330884425733247,-0.23181682591864108,-0.7581929396150571,-1.4193073797759241,0.5712552299692203,-2.224125767759487,-1.5111715323763704,0.38990604341418783,0.1801823734371819,1.4404080936702193,1.4181951074364778,0.7013336286961881,1.4182821122561065,-1.2240074264505718,0.5234095838146353,-0.2704949213306309,-1.2975680489419548,-0.45125929693703304,-0.21961429407260077,0.22220537167318433,-1.1381758789896292,0.26643073542000006,-0.48923715928939965,-0.019936950520314346,0.13547383390919793,0.8230894030672438,1.0137368898738655,0.44382415337244224,0.7155758027289908,0.5080476753848435,-0.16086089344876642,-0.3862604156748204,-0.44665875957613865,-0.7367129315537736,0.46625429394371004,-0.8712802498632959,-0.3072741701152457,-0.7732420109901328,-0.1697908377728709,-0.13513817461700056,0.350262141154286,1.4042147507330527,2.0382911689863996,-0.8053823337244272,0.6327529928310108,0.02816232504110208,0.7103257814831031,-1.4130626990532287,-1.5875712768080725,-1.8969063833564224,1.1808946349436156,0.3467445883100487,2.9590962576715216,-0.3534141401104939,-1.04272994259556,0.6722337738147842,1.2909030084326414,1.4752283233013082,1.8381676605773065,-2.0743565413811145,0.26001094315490914,-0.024585777196471856,0.9052802209294918,-0.15355405008960066,0.3835145007196192,-0.6103524531019763,2.8078941427722484,-1.7263337824117724,0.05846996224002781,-0.22450152977858856,-1.3872208327124478,0.3950981389012307,-0.45728603755335717,-0.4328746261905556,-0.07409764580535962,0.4306089387477734,-0.6943266867575495,-0.3043866369812045,0.8185352363168895,0.21663754133416,0.230517447909104,0.5008204773211045,-0.49172713162504267,-0.6718011708681342,0.4830441268825476,-0.3322696643844753,0.09631362521051078,-2.1926268687495987,0.2646368037616017,2.2281315969325113,0.4441929120190275,0.9437724554862538,0.9296585560194544,-0.443272975261693,-1.6815038856408122,-0.6537760510944172,0.526492442578262,-0.29770837510830045,-0.6241125018893378,-1.4351265339410912,-0.19944524894545707,0.7016366005823947,0.5144102731357804,2.791791173735993,-0.7765908815882168,0.4611447920296837,2.0176823539994224,1.4019812442057757,1.070393973227349,-0.4222184948968036,-0.7527838092168642,-1.5045411308305534,0.25360154754855657,0.3970149800182239,1.1255472148611612,-0.4378747321744852,-0.5406064193873892,0.0824102444586099,1.6932215740695922,-1.0950471015037757,-0.9737010490446207,-1.0092217407307533,1.5194408730369016,-1.0002780954397048,0.45556303241740803,-0.48017784115284845,0.7545777618839764,0.2733731998659745,-1.9895794387474488,1.4684255585458454,-4.1446569736347545,-0.8482054769931338,0.8584256772212712,0.5938658359635485,-1.0421470063765912,1.476399682501785,-1.695279422092149,-0.7486441248576495,1.3247560060928876,0.33814612107735265,1.6715030895985548,-1.5082504137345356,-0.3739997608559354,0.36099674021327877,-0.7321395125770768,1.5086525834390832,0.9608971165594555,0.7351850814254487,0.007155851287330131,-0.2844865593879361,-0.13144341575359575,0.4618970890435137,1.4062378293120283,-0.5656297593379512,-0.846280297239731,-1.5406326925892466,0.0836562310025664,-0.2952148015438301,0.17410374033965556,0.06981590426993475,-0.6505369078417116,1.000369387270131,-0.20913194323042142,-0.7053956628215798,-0.7942676363113493,-0.5408937007828272,1.8250762898769104,0.5792557039194679,0.7718605625906365,-0.1305337401625798,0.13705672758604173,0.8482664603521515,-0.8671751604941577,-0.2882349059062689,-1.283506560715938,-0.7907819933879788,0.697983025899462,-0.8219822760214484,-0.1639500819641043,-2.297393866800315,-0.5802441785720396,1.689227118725794,-0.3009322558452184,0.4022760132505242,-0.2537658313040485,-0.0471228022094699,-0.04859582023785523,0.40117829687474543,1.3010936125164148,0.557201467126908,0.7961214765907038,-0.21920731332746846,-0.4268497053424673,1.40631599341287,0.48321346845913726,-1.2726884745344436,0.7734961895545378,1.062644529773807,-1.5533182329112274,-0.02757464179838292,-1.1007982844340225,-2.038840048684988,0.3607966326767486,0.6416356110584385,-1.4164663567058728,0.3373474694670751,1.144431756527256,-1.497705047793927,-0.4058769213382285,1.7363518086537146,0.6604246292012602,-0.24370815465724185,-0.7303969613744884,-1.2591405561127513,0.33175820386099963,0.6597539782248232,-0.1833941511253609,0.38654838209342524,-0.5517387383404342,0.3626201059094391,0.7669112611588823,2.474753126456883,-0.8521839296339678,-0.297448459625217,0.2579166009272433,1.0662486327321068,-2.065206170725337,0.40145976865577543,-1.7080728307516664,0.10394963623889941,0.06733543751974679,1.2334461881330792,-0.2647373991269707,1.292680716089865,-0.8091478069379618,-0.6866141957165829,-0.9052344935734451,1.3585661952931647,-0.4987640702945519,-1.534128148472258,0.7320634131757173,0.04868944905558473,-0.09740099389575302,-0.3278203202979892,-1.2461730176460881,-0.18296376755156987,0.463635542841662,-0.48130424905302654,-0.05798067345671834,0.14664342952887235,1.0437430165406374,-1.4697870267874822,0.2929197880862418,-0.6033560583325782,0.7672155138514086,-0.8791924077162367,-0.4387949866872057,-0.2693854590114313,0.1383907923615731,1.4238576996776737,0.8869020930381325,-0.2779473130318484,1.6026615966935238,-1.0313980880845075,-0.28607128152136724,-0.33223973868753676,1.570432680810666,-0.5892952048382819,-0.06977007742510397,-0.8708932430609262,-1.4704688820102803,-0.2808346811763014,-1.5306981659314485,0.1662194097607953,1.5265678312532374,0.9365855878710625,1.6768879415701636,0.44739505478030045,-0.373234649376929,-0.9985869723184239,0.5794184734884301,0.8242603544992694,0.0874261799391398,-0.7490261052714309,1.525728874304715,-0.6417797248262653,-2.077547978035793,1.5233256711085192,0.3907814301496956,0.29386887443565585,-0.3510021047899758,-0.35415553155527835,-0.05907000695196832,1.9246968937951574,-0.46876441119090806,0.28605233095861404,-0.47211613925510737,1.4207009130208357,0.21074879745821443,0.3771043662834822,-1.6298690444266335,0.9371522900455973,0.47602398550948904,0.7565870263453024,0.01031406316491227,0.4315951635308401,1.8351590698136548,1.363623876488962,2.1919788900099775,0.6848557905221304,1.303510288841623,-0.4255332108903833,1.1741734497779308,-0.7214634242587374,-0.376538950857852,0.8199429203852027,0.23293401963321045,-0.5987099336053254,0.9990715800437201,-0.739510377361256,1.019881747796337,-0.8838813222090537,-0.546958802386174,0.5545533838711186,-0.8822935805615512,-0.12416608381820073,1.1072972648397246,1.0550144283116731,0.5310230703876205,-0.18648685375120633,-0.42040559735490624,-0.5848492212387683,0.28140883675904266,1.0989269069156682,0.7964694775936237,-1.2862561040195029,-0.6342786719413595,1.1469418606350386,0.7376027862568093,-0.35941380840723053,1.2143748944357817,-0.16629859690258614,-0.5781542328339264,1.6066143248876008,2.135923051277652,0.6867115495326902,0.37075274892396703,-0.5239898885837058,1.0316961661043018,-1.4932134338507423,-1.8139365833493408,-0.4388488641244931,0.5775531175425053,0.6664617002867927,0.31081992080686094,0.110911720907786,-1.8518214663697818,1.5174259289755068,-0.17984753921017857,0.17728003857806474,0.6898370024535214,0.429537181371356,-0.7298141196898573,1.71494478875474,-0.5310931688828423,-0.511021735101522,1.9111235093524717,-0.9017806865281368,0.7166984058715247,-0.3552712484598497,-0.8296517982699477,0.36188013844515016,-1.7226896535055753,-0.43145052204040313,-0.11436983454565462,0.6491961433436142,-0.7714060798202721,-0.7607986244156124,-2.044116574000398,1.427017379433026,-1.9688116679431749,-0.15004031556320432,-0.2659077004236499,1.0876458448057165,2.4288260337396603,-1.4788990276718543,0.8997617318958477,0.4068454594284438,-0.48001874323271854,0.259116491464718,0.9579878821873127,-0.27142424584385894,-1.967772405388677,-0.054385452249940416,-0.6473563191780654,0.42293304117268465,-1.18238161785207,-2.472521716643192,1.381023353590087,1.0387562032461923,1.352173065890482,-1.6529377740240008,1.1486038804374419,-1.3200850568274811,1.4620448163836701,-0.6831864609925233,-0.8090152581406056,1.3571550116524853,0.9044956018232434,0.22898578744257175,-0.40870187714020945,-0.5425333431736143,0.1909974626472692,-0.19748223629380476,1.055882251628518,0.5881175684303983,0.07080721605462624,1.0411687244977457,0.8846225711024509,1.15736209724341,0.45478993279594854,-0.2520800673142309,-1.3956432370779734,1.913548871882458,0.5469311002608964,0.881500658613841,0.5404241519624176,0.03035288817314904,0.16433569463228082,0.5517521403806636,0.687334337052096,-0.1447959985938145,1.0452223070411049,-1.3758160207134884,0.23014211779368907,-1.2766337417866733,-0.7679388375621161,0.06099072286053006,-0.6792135053927549,-0.018593345356058565,0.637712732995226,-0.41606459641830723,-0.8149070759768746,1.2564143084786872,-1.337237816237849,1.3226631212460154,-0.19882674452368884,0.38905722421740235,-0.12405768992102786,-1.187911122009776,-1.4211449110436776,-2.3577036893837127,1.9484455331820758,0.2826592383781321,-0.8238197139586444,-0.050719657789485596,-0.6603036447653007,0.8743004757892829,4,2,2,3,5,5,0,0,2,5,5,1,0,1,5,0,3,4,0,0,2,5,0,4,0,2,3,4,4,5,5,5,2,0,0,3,2,3,5,4,3,5,2,0,4,3,3,2,4,2,2,1,6,0,2,3,0,1,2,1,2,2,0,2,0,2,5,2,0,1,2,4,5,1,4,3,0.848894288589116,-0.9568452108761819,0.2670407190973989,-0.47521030066757847,0.9397931872750463,0.45760244471017925,-0.5177866283697332,1.2770528046528604,1.5179626805508837,-0.6399147000051266,-0.1451907798930534,-0.07635730078979254,1.4955836667123337,-0.7150969505546462,-0.49969255730756557,0.4637056676544347,1.6498150174710364,1.9755059962572887,-0.38315643011368,-0.8960901654477392,-0.022691102205749762,-0.2782914613447401,0.9053942737387478,-0.3079572222992377,0.8497257783281041,0.3233897663271527,1.5990296737736163,-0.9217089411228491,-0.15992758736335222,0.5700576918208285,1.4345781085226967,-0.42660853068467397,-1.8037994995294455,-1.8242648965425687,-0.01448264380313649,-0.8172349679821878,0.7297635655225966,-1.7932244743546393,-0.03857005899857954,-0.9658515032948255,-0.39442258381976314,-0.4031246635073098,0.24129598164831728,-0.07420981948261132,-1.8712688331626341,0.14580565646528215,-1.2476130622093287,-1.8170334980248464,0.11771459103483023,0.10173833373044229,1.2231195138176103,-1.0082720035923958,-0.799500012147151,-0.7594284097307752,-0.6094707165170944,-0.3150702706342209,0.3902955478936514,0.29559149092203935,0.6810424889709276,1.4992090154949893,0.04258119513518778,-0.20710310590021652,-0.7503236466218692,0.41869351797449067,0.2440876598375357,-0.9097450509945231,0.4453290827775756,-0.26415753106001977,1.8335550867938974,1.146258753541877,-0.005944849291388944,-0.8827374364906169,1.5851269090891404,-0.05647392364304011,-0.7485686549370777,0.19941024233095647,-0.37492057828724096,0.7200212957327224,-0.7177540998191769,-0.14418014931556514,-0.6857802648008139,-0.1515645031446809,0.06116406382350816,0.08868525414559868,1.5897657607038096,0.7822446204352763,0.07865172449557596,-0.5198034171505795,0.3756259233042925,-0.7651416431656486,0.25149097416029276,-0.42281500195449884,0.6676895267716728,0.9658385602263294,0.026485270046976483,0.8837585607546712,0.772241369862638,-1.7275244445779658,0.42597053750544056,0.9354139872105047,1.1389749459159617,-1.0645607399132728,0.29685622681912294,-0.15316498619771798,0.6203308562502888,-0.3621677809501241,0.7065550598698277,0.07748537164826683,-0.8916150305589409,-0.970118653962847,0.10125938242599392,0.8949423501600178,-1.0482623990575024,-0.5812330551602849,0.4853543595805228,0.9697635837730524,0.31721587646453775,0.9206062091165403,-0.6400205958384806,-1.4130659725055899,-1.7950359598353545,-1.4527714641121245,-0.6907752061943392,-0.5788341092261929,0.9058712018139645,0.485373803667834,-0.8473575556473436,-0.5514665290322859,0.1354403520001744,1.536160744899393,-1.2573314264437316,0.8516050558108864,-0.4743551934240785,0.9836816854314884,-1.3524500352454116,0"
     ]
    },
    {
     "name": "stdout",
     "output_type": "stream",
     "text": [
      ".10124178226218172,0.034326257136780114,1.7405640551571517,0.7570705802039982,-1.761747659998207,0.9001695242882135,-1.4715086668698387,-0.8077267810235923,-0.8105066602490898,-0.7198815044230747,1.2033956356773616,-0.4110505000635255,0.0008171202260439265,-1.258326485461326,-0.21074538320418942,-1.1083233443267855,-0.9402180322909867,-0.012508125372346414,0.26580549206501236,-0.998940112649454,0.6956657423859922,-1.38564123400718,-0.06463136324055992,1.2914841936777308,0.01780885643056356,-0.6238038429705797,0.028675428280470545,0.03639941473215504,0.8612060199654037,1.0096636101025984,-0.07538259655644233,1.6756223387163722,-0.4687746681896967,0.3880021034242356,1.103890330192847,2.0022973568851126,-1.272842839845782,-2.0324823734285977,-2.251517616613549,-1.5763534287738223,0.057067825638869196,-0.5741248535481958,1.6548887604268139,-0.5458304448363461,0.23841040696556373,-0.010570513752206015,0.5496499841674554,1.2928016277408385,0.11058335881229214,0.04063547655042073,0.9234276430783263,-0.9403315955789256,1.1822430799707837,0.9960506901013789,-0.14260688824224832,-0.169304485128214,1.486142039401909,-0.17703297625179826,0.27528427526934407,-1.5182942584808043,0.14578603514158744,0.8458780479422847,1.2687915964187684,-0.9708618997893751,0.05108884927542704,5,2,2,1,1,2,4,0,0,2,5,1,4,2,2,0,1,3,4,1,2,2,5,3,1,2,1,5,0,3,5,4,1,2,0,4,1,0,0,1,1,0,2,1,1,0,0,4,4,5,0,3,4,0,0,4,1,5,4,2,0,1,2,0,4,5,3,1,3,2,0,1,3,4,4,0,1,2,4,3,2,1,5,5,4,2,3,1,0,1,0,0,5,1,3,3,0,1,3,3,0,0,0,4,0,1,0,4,1,5,4,4,1,3,5,4,2,3,2,3,0,2,5,4,1,4,6,3,3,5,0,4,5,4,3,0,6,1,4,2,5,4,5,1,3,6,0,4,5,7,5,5,5,6,5,4,4,1,2,7,3,3,0,3,6,6,0,3,5\n"
     ]
    }
   ],
   "source": [
    "!head ../MDFS_playground/C/scheduler_ver4/dummy.csv"
   ]
  },
  {
   "cell_type": "code",
   "execution_count": null,
   "metadata": {},
   "outputs": [],
   "source": []
  }
 ],
 "metadata": {
  "@webio": {
   "lastCommId": null,
   "lastKernelId": null
  },
  "kernelspec": {
   "display_name": "C++14",
   "language": "C++14",
   "name": "xeus-cling-cpp14"
  },
  "language_info": {
   "codemirror_mode": "text/x-c++src",
   "file_extension": ".cpp",
   "mimetype": "text/x-c++src",
   "name": "c++",
   "version": "-std=c++14"
  }
 },
 "nbformat": 4,
 "nbformat_minor": 2
}
