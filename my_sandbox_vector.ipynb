{
 "cells": [
  {
   "cell_type": "code",
   "execution_count": 1,
   "metadata": {},
   "outputs": [],
   "source": [
    "#include <cassert>\n",
    "#include <iostream>\n",
    "#include <string>\n",
    "#include <fstream>"
   ]
  },
  {
   "cell_type": "code",
   "execution_count": 2,
   "metadata": {},
   "outputs": [],
   "source": [
    "template <class T, class A = std::allocator<T>>\n",
    "struct Tuple : private std::vector<T, A>\n",
    "{\n",
    "  // fixed sized list\n",
    "  using Tuple::vector::vector;\n",
    "  using Tuple::vector::operator=;\n",
    "  using Tuple::vector::get_allocator;\n",
    "  using Tuple::vector::at;\n",
    "  using Tuple::vector::front;\n",
    "  using Tuple::vector::back;\n",
    "  using Tuple::vector::data;\n",
    "  using Tuple::vector::begin;\n",
    "  using Tuple::vector::cbegin;\n",
    "  using Tuple::vector::end;\n",
    "  using Tuple::vector::cend;\n",
    "  using Tuple::vector::empty;\n",
    "  using Tuple::vector::size;\n",
    "  using Tuple::vector::operator[];\n",
    "};"
   ]
  },
  {
   "cell_type": "code",
   "execution_count": 3,
   "metadata": {},
   "outputs": [],
   "source": [
    "class Indices {\n",
    "   // Abstraction for a finite sequence of indices,\n",
    "   // where each 'index' is a multi-index i.e. it \n",
    "   // is itself a `dim`-sized sequence of integers,\n",
    "   // say e.g. ((0,0), (0,1), (0,2), (1,1), ... ),\n",
    "   // for `dim=2`. The integers of a current\n",
    "   // multi-index are held in a buffer. This class\n",
    "   // serves to modify the buffer with its `next`\n",
    "   // method to simulate sequence traversal,\n",
    "   // i.e. it is a generator.\n",
    "   public:\n",
    "      // By the sequence being exhausted we mean\n",
    "      // that it has been taken beyond its last element.\n",
    "      // When the index represents the last element of\n",
    "      // the sequence, the returned value is false.\n",
    "      virtual bool is_exhausted() = 0;\n",
    "      // Connect some internal pointer to the buffer with indices.\n",
    "      virtual void use_buff(unsigned int* const) = 0;\n",
    "      // Number of indices (lenght of buffer)\n",
    "      unsigned int dim;\n",
    "      // Move the index one step forward in the sequence.\n",
    "      virtual void next() = 0; \n",
    "      // Change the index back to the first element of the sequence.\n",
    "      virtual void reset() = 0;\n",
    "      // Return a printable representation of the current index.\n",
    "      virtual std::string to_str() = 0;\n",
    "      // Traverse the sequence, printing subsequent indices.\n",
    "      void print(unsigned limit = -1) {\n",
    "         assert(index);\n",
    "         unsigned count = 0;\n",
    "         while(!is_exhausted()) {\n",
    "            if (count == limit)\n",
    "               break;\n",
    "            std::cout << to_str() << std::endl;\n",
    "            next();\n",
    "            ++count;\n",
    "         }\n",
    "         reset();\n",
    "      }\n",
    "};"
   ]
  },
  {
   "cell_type": "code",
   "execution_count": 4,
   "metadata": {},
   "outputs": [],
   "source": [
    "class IndicesTriangle : public Indices {\n",
    "   // Each index in the sequence is an increasing sequence.\n",
    "   // Notice that this subclass also implements the\n",
    "   // degenerated cases of zero- and one-element sequences,\n",
    "   // as well as the zero-dimensional sequence.\n",
    "   protected:\n",
    "      // Pointer to a buffer with actual integers.\n",
    "      unsigned int* index = NULL;\n",
    "      // Lower bound (inclusive) of all values of all indices.\n",
    "      unsigned int lower;\n",
    "      // Upper bound (noninclusive) of all values of all indices.\n",
    "      unsigned int upper;\n",
    "      // Is the index-sequence not strictly increasing;\n",
    "      // i.e. is e.g. (0, 1, 1, 2) in the sequence?\n",
    "      bool with_diag;\n",
    "      // Was the whole sequence exhausted?\n",
    "      bool exhausted;\n",
    "   public:\n",
    "      IndicesTriangle (unsigned int lower_ = 0 ,\n",
    "                       unsigned int upper_ = 0,\n",
    "                       unsigned int dim_ = 0,\n",
    "                       bool with_diag_ = true) :\n",
    "         lower(lower_),\n",
    "         upper(upper_),\n",
    "         with_diag(with_diag_),\n",
    "         exhausted(lower == upper) {\n",
    "         dim = dim_;\n",
    "         assert(upper >= lower);\n",
    "         assert(with_diag | (upper - lower >= dim));\n",
    "      }\n",
    "      bool is_exhausted() {\n",
    "         return exhausted;\n",
    "      }\n",
    "      void use_buff(unsigned int* const buff) {\n",
    "         index = buff;\n",
    "      }\n",
    "      void next() {\n",
    "         if (upper == lower) { return ;}\n",
    "         // F-style traversal\n",
    "         else if (dim > 0) {\n",
    "            bool shift_right = 1;\n",
    "            for(unsigned int position = 0; position < dim - 1; ++position) {\n",
    "               shift_right = (index[position] + 1) / (index[position + 1] + with_diag);\n",
    "               if (shift_right) {\n",
    "                  index[position] = lower + !with_diag * position;\n",
    "               } else {\n",
    "                  ++index[position];\n",
    "                  break;\n",
    "               }\n",
    "            }\n",
    "            if (shift_right) {\n",
    "               ++index[dim - 1];\n",
    "               exhausted = index[dim - 1] / upper;\n",
    "            }\n",
    "         }\n",
    "         else {\n",
    "            exhausted = true;\n",
    "         }\n",
    "      }\n",
    "      void next_() {\n",
    "         if (upper == lower) { return ;}\n",
    "         // C-style traversal\n",
    "         else if (dim > 0) {\n",
    "            unsigned int position = dim - 1;\n",
    "            bool shift_left = (index[position] + 1) / upper;\n",
    "            while (shift_left) {\n",
    "               if (position == 0) {\n",
    "                  exhausted = true;\n",
    "                  return;\n",
    "               }\n",
    "               --position;\n",
    "               shift_left = (index[position] + !with_diag) / index[position + 1];\n",
    "            }\n",
    "            ++index[position];\n",
    "            for (unsigned int i = position + 1; i < dim; ++i) {\n",
    "               index[i] = index[i - 1] + !with_diag;\n",
    "            }  \n",
    "         }\n",
    "         else {\n",
    "            exhausted = true;\n",
    "         }\n",
    "      }\n",
    "      void reset() {\n",
    "         if (upper > lower) {\n",
    "            for(unsigned int position = 0; position < dim; ++position)\n",
    "               index[position] = lower + !with_diag * position;\n",
    "            exhausted = false;\n",
    "         }\n",
    "      }\n",
    "      std::string to_str() {\n",
    "         std::stringstream ss;\n",
    "         if (dim > 0 & upper > lower) {\n",
    "            ss << \"(\";\n",
    "            for (unsigned int i = 0; i < dim - 1; ++i)\n",
    "                ss << index[i] << \", \";\n",
    "            ss << index[dim - 1] << \")\";\n",
    "         }\n",
    "         else {\n",
    "            ss << \"\";\n",
    "         }\n",
    "         return ss.str();\n",
    "      }\n",
    "};"
   ]
  },
  {
   "cell_type": "code",
   "execution_count": 5,
   "metadata": {},
   "outputs": [],
   "source": [
    "Tuple<IndicesTriangle> my_triangles(3);"
   ]
  },
  {
   "cell_type": "code",
   "execution_count": null,
   "metadata": {},
   "outputs": [],
   "source": []
  },
  {
   "cell_type": "code",
   "execution_count": 6,
   "metadata": {},
   "outputs": [],
   "source": [
    "const unsigned int dim = 5;"
   ]
  },
  {
   "cell_type": "code",
   "execution_count": 7,
   "metadata": {},
   "outputs": [],
   "source": [
    "unsigned int dummy_index[dim];"
   ]
  },
  {
   "cell_type": "code",
   "execution_count": 9,
   "metadata": {},
   "outputs": [],
   "source": [
    "my_triangles[0] = IndicesTriangle(0, 3, dim);"
   ]
  },
  {
   "cell_type": "code",
   "execution_count": 10,
   "metadata": {},
   "outputs": [],
   "source": [
    "my_triangles[0].use_buff(dummy_index)"
   ]
  },
  {
   "cell_type": "code",
   "execution_count": 11,
   "metadata": {},
   "outputs": [
    {
     "name": "stdout",
     "output_type": "stream",
     "text": [
      "(0, 0, 0, 0, 0)\n",
      "(0, 0, 0, 0, 1)\n",
      "(0, 0, 0, 1, 1)\n",
      "(0, 0, 1, 1, 1)\n",
      "(0, 1, 1, 1, 1)\n",
      "(1, 1, 1, 1, 1)\n",
      "(0, 0, 0, 0, 2)\n",
      "(0, 0, 0, 1, 2)\n",
      "(0, 0, 1, 1, 2)\n",
      "(0, 1, 1, 1, 2)\n",
      "(1, 1, 1, 1, 2)\n",
      "(0, 0, 0, 2, 2)\n",
      "(0, 0, 1, 2, 2)\n",
      "(0, 1, 1, 2, 2)\n",
      "(1, 1, 1, 2, 2)\n",
      "(0, 0, 2, 2, 2)\n",
      "(0, 1, 2, 2, 2)\n",
      "(1, 1, 2, 2, 2)\n",
      "(0, 2, 2, 2, 2)\n",
      "(1, 2, 2, 2, 2)\n",
      "(2, 2, 2, 2, 2)\n"
     ]
    }
   ],
   "source": [
    "my_triangles[0].print();"
   ]
  },
  {
   "cell_type": "code",
   "execution_count": null,
   "metadata": {},
   "outputs": [],
   "source": []
  }
 ],
 "metadata": {
  "@webio": {
   "lastCommId": null,
   "lastKernelId": null
  },
  "kernelspec": {
   "display_name": "C++11",
   "language": "C++11",
   "name": "xcpp11"
  },
  "language_info": {
   "codemirror_mode": "text/x-c++src",
   "file_extension": ".cpp",
   "mimetype": "text/x-c++src",
   "name": "c++",
   "version": "11"
  }
 },
 "nbformat": 4,
 "nbformat_minor": 4
}
